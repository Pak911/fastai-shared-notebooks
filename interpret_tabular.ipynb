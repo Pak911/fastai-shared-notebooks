{
 "cells": [
  {
   "cell_type": "markdown",
   "metadata": {},
   "source": [
    "Start with usual things as in Rossmann lesson"
   ]
  },
  {
   "cell_type": "code",
   "execution_count": 76,
   "metadata": {
    "ExecuteTime": {
     "end_time": "2019-07-18T13:26:35.723949Z",
     "start_time": "2019-07-18T13:26:35.644582Z"
    },
    "init_cell": true
   },
   "outputs": [],
   "source": [
    "%reload_ext autoreload\n",
    "%autoreload 2"
   ]
  },
  {
   "cell_type": "code",
   "execution_count": 77,
   "metadata": {
    "ExecuteTime": {
     "end_time": "2019-07-18T13:26:35.795115Z",
     "start_time": "2019-07-18T13:26:35.726291Z"
    },
    "init_cell": true
   },
   "outputs": [],
   "source": [
    "from fastai.tabular import *"
   ]
  },
  {
   "cell_type": "code",
   "execution_count": 78,
   "metadata": {
    "ExecuteTime": {
     "end_time": "2019-07-18T13:26:37.911662Z",
     "start_time": "2019-07-18T13:26:35.796884Z"
    },
    "init_cell": true
   },
   "outputs": [],
   "source": [
    "path=Path('data/')\n",
    "train_df = pd.read_pickle(path/'train_clean.zip', compression='zip')\n",
    "test_df = pd.read_pickle(path/'test_clean')"
   ]
  },
  {
   "cell_type": "code",
   "execution_count": 4,
   "metadata": {
    "ExecuteTime": {
     "end_time": "2019-07-12T16:19:54.111475Z",
     "start_time": "2019-07-12T16:19:54.056545Z"
    }
   },
   "outputs": [
    {
     "data": {
      "text/html": [
       "<div>\n",
       "<style scoped>\n",
       "    .dataframe tbody tr th:only-of-type {\n",
       "        vertical-align: middle;\n",
       "    }\n",
       "\n",
       "    .dataframe tbody tr th {\n",
       "        vertical-align: top;\n",
       "    }\n",
       "\n",
       "    .dataframe thead th {\n",
       "        text-align: right;\n",
       "    }\n",
       "</style>\n",
       "<table border=\"1\" class=\"dataframe\">\n",
       "  <thead>\n",
       "    <tr style=\"text-align: right;\">\n",
       "      <th></th>\n",
       "      <th>0</th>\n",
       "      <th>1</th>\n",
       "      <th>2</th>\n",
       "      <th>3</th>\n",
       "      <th>4</th>\n",
       "    </tr>\n",
       "  </thead>\n",
       "  <tbody>\n",
       "    <tr>\n",
       "      <th>index</th>\n",
       "      <td>0</td>\n",
       "      <td>1</td>\n",
       "      <td>2</td>\n",
       "      <td>3</td>\n",
       "      <td>4</td>\n",
       "    </tr>\n",
       "    <tr>\n",
       "      <th>Store</th>\n",
       "      <td>1</td>\n",
       "      <td>2</td>\n",
       "      <td>3</td>\n",
       "      <td>4</td>\n",
       "      <td>5</td>\n",
       "    </tr>\n",
       "    <tr>\n",
       "      <th>DayOfWeek</th>\n",
       "      <td>5</td>\n",
       "      <td>5</td>\n",
       "      <td>5</td>\n",
       "      <td>5</td>\n",
       "      <td>5</td>\n",
       "    </tr>\n",
       "    <tr>\n",
       "      <th>Date</th>\n",
       "      <td>2015-07-31 00:00:00</td>\n",
       "      <td>2015-07-31 00:00:00</td>\n",
       "      <td>2015-07-31 00:00:00</td>\n",
       "      <td>2015-07-31 00:00:00</td>\n",
       "      <td>2015-07-31 00:00:00</td>\n",
       "    </tr>\n",
       "    <tr>\n",
       "      <th>Sales</th>\n",
       "      <td>5263</td>\n",
       "      <td>6064</td>\n",
       "      <td>8314</td>\n",
       "      <td>13995</td>\n",
       "      <td>4822</td>\n",
       "    </tr>\n",
       "    <tr>\n",
       "      <th>Customers</th>\n",
       "      <td>555</td>\n",
       "      <td>625</td>\n",
       "      <td>821</td>\n",
       "      <td>1498</td>\n",
       "      <td>559</td>\n",
       "    </tr>\n",
       "    <tr>\n",
       "      <th>Open</th>\n",
       "      <td>1</td>\n",
       "      <td>1</td>\n",
       "      <td>1</td>\n",
       "      <td>1</td>\n",
       "      <td>1</td>\n",
       "    </tr>\n",
       "    <tr>\n",
       "      <th>Promo</th>\n",
       "      <td>1</td>\n",
       "      <td>1</td>\n",
       "      <td>1</td>\n",
       "      <td>1</td>\n",
       "      <td>1</td>\n",
       "    </tr>\n",
       "    <tr>\n",
       "      <th>StateHoliday</th>\n",
       "      <td>False</td>\n",
       "      <td>False</td>\n",
       "      <td>False</td>\n",
       "      <td>False</td>\n",
       "      <td>False</td>\n",
       "    </tr>\n",
       "    <tr>\n",
       "      <th>SchoolHoliday</th>\n",
       "      <td>1</td>\n",
       "      <td>1</td>\n",
       "      <td>1</td>\n",
       "      <td>1</td>\n",
       "      <td>1</td>\n",
       "    </tr>\n",
       "    <tr>\n",
       "      <th>Year</th>\n",
       "      <td>2015</td>\n",
       "      <td>2015</td>\n",
       "      <td>2015</td>\n",
       "      <td>2015</td>\n",
       "      <td>2015</td>\n",
       "    </tr>\n",
       "    <tr>\n",
       "      <th>Month</th>\n",
       "      <td>7</td>\n",
       "      <td>7</td>\n",
       "      <td>7</td>\n",
       "      <td>7</td>\n",
       "      <td>7</td>\n",
       "    </tr>\n",
       "    <tr>\n",
       "      <th>Week</th>\n",
       "      <td>31</td>\n",
       "      <td>31</td>\n",
       "      <td>31</td>\n",
       "      <td>31</td>\n",
       "      <td>31</td>\n",
       "    </tr>\n",
       "    <tr>\n",
       "      <th>Day</th>\n",
       "      <td>31</td>\n",
       "      <td>31</td>\n",
       "      <td>31</td>\n",
       "      <td>31</td>\n",
       "      <td>31</td>\n",
       "    </tr>\n",
       "    <tr>\n",
       "      <th>Dayofweek</th>\n",
       "      <td>4</td>\n",
       "      <td>4</td>\n",
       "      <td>4</td>\n",
       "      <td>4</td>\n",
       "      <td>4</td>\n",
       "    </tr>\n",
       "    <tr>\n",
       "      <th>Dayofyear</th>\n",
       "      <td>212</td>\n",
       "      <td>212</td>\n",
       "      <td>212</td>\n",
       "      <td>212</td>\n",
       "      <td>212</td>\n",
       "    </tr>\n",
       "    <tr>\n",
       "      <th>Is_month_end</th>\n",
       "      <td>True</td>\n",
       "      <td>True</td>\n",
       "      <td>True</td>\n",
       "      <td>True</td>\n",
       "      <td>True</td>\n",
       "    </tr>\n",
       "    <tr>\n",
       "      <th>Is_month_start</th>\n",
       "      <td>False</td>\n",
       "      <td>False</td>\n",
       "      <td>False</td>\n",
       "      <td>False</td>\n",
       "      <td>False</td>\n",
       "    </tr>\n",
       "    <tr>\n",
       "      <th>Is_quarter_end</th>\n",
       "      <td>False</td>\n",
       "      <td>False</td>\n",
       "      <td>False</td>\n",
       "      <td>False</td>\n",
       "      <td>False</td>\n",
       "    </tr>\n",
       "    <tr>\n",
       "      <th>Is_quarter_start</th>\n",
       "      <td>False</td>\n",
       "      <td>False</td>\n",
       "      <td>False</td>\n",
       "      <td>False</td>\n",
       "      <td>False</td>\n",
       "    </tr>\n",
       "    <tr>\n",
       "      <th>Is_year_end</th>\n",
       "      <td>False</td>\n",
       "      <td>False</td>\n",
       "      <td>False</td>\n",
       "      <td>False</td>\n",
       "      <td>False</td>\n",
       "    </tr>\n",
       "    <tr>\n",
       "      <th>Is_year_start</th>\n",
       "      <td>False</td>\n",
       "      <td>False</td>\n",
       "      <td>False</td>\n",
       "      <td>False</td>\n",
       "      <td>False</td>\n",
       "    </tr>\n",
       "    <tr>\n",
       "      <th>Elapsed</th>\n",
       "      <td>1438300800</td>\n",
       "      <td>1438300800</td>\n",
       "      <td>1438300800</td>\n",
       "      <td>1438300800</td>\n",
       "      <td>1438300800</td>\n",
       "    </tr>\n",
       "    <tr>\n",
       "      <th>StoreType</th>\n",
       "      <td>c</td>\n",
       "      <td>a</td>\n",
       "      <td>a</td>\n",
       "      <td>c</td>\n",
       "      <td>a</td>\n",
       "    </tr>\n",
       "    <tr>\n",
       "      <th>Assortment</th>\n",
       "      <td>a</td>\n",
       "      <td>a</td>\n",
       "      <td>a</td>\n",
       "      <td>c</td>\n",
       "      <td>a</td>\n",
       "    </tr>\n",
       "    <tr>\n",
       "      <th>CompetitionDistance</th>\n",
       "      <td>1270</td>\n",
       "      <td>570</td>\n",
       "      <td>14130</td>\n",
       "      <td>620</td>\n",
       "      <td>29910</td>\n",
       "    </tr>\n",
       "    <tr>\n",
       "      <th>CompetitionOpenSinceMonth</th>\n",
       "      <td>9</td>\n",
       "      <td>11</td>\n",
       "      <td>12</td>\n",
       "      <td>9</td>\n",
       "      <td>4</td>\n",
       "    </tr>\n",
       "    <tr>\n",
       "      <th>CompetitionOpenSinceYear</th>\n",
       "      <td>2008</td>\n",
       "      <td>2007</td>\n",
       "      <td>2006</td>\n",
       "      <td>2009</td>\n",
       "      <td>2015</td>\n",
       "    </tr>\n",
       "    <tr>\n",
       "      <th>Promo2</th>\n",
       "      <td>0</td>\n",
       "      <td>1</td>\n",
       "      <td>1</td>\n",
       "      <td>0</td>\n",
       "      <td>0</td>\n",
       "    </tr>\n",
       "    <tr>\n",
       "      <th>Promo2SinceWeek</th>\n",
       "      <td>1</td>\n",
       "      <td>13</td>\n",
       "      <td>14</td>\n",
       "      <td>1</td>\n",
       "      <td>1</td>\n",
       "    </tr>\n",
       "    <tr>\n",
       "      <th>...</th>\n",
       "      <td>...</td>\n",
       "      <td>...</td>\n",
       "      <td>...</td>\n",
       "      <td>...</td>\n",
       "      <td>...</td>\n",
       "    </tr>\n",
       "    <tr>\n",
       "      <th>Min_Sea_Level_PressurehPa</th>\n",
       "      <td>1015</td>\n",
       "      <td>1017</td>\n",
       "      <td>1017</td>\n",
       "      <td>1014</td>\n",
       "      <td>1016</td>\n",
       "    </tr>\n",
       "    <tr>\n",
       "      <th>Max_VisibilityKm</th>\n",
       "      <td>31</td>\n",
       "      <td>10</td>\n",
       "      <td>31</td>\n",
       "      <td>10</td>\n",
       "      <td>10</td>\n",
       "    </tr>\n",
       "    <tr>\n",
       "      <th>Mean_VisibilityKm</th>\n",
       "      <td>15</td>\n",
       "      <td>10</td>\n",
       "      <td>14</td>\n",
       "      <td>10</td>\n",
       "      <td>10</td>\n",
       "    </tr>\n",
       "    <tr>\n",
       "      <th>Min_VisibilitykM</th>\n",
       "      <td>10</td>\n",
       "      <td>10</td>\n",
       "      <td>10</td>\n",
       "      <td>10</td>\n",
       "      <td>10</td>\n",
       "    </tr>\n",
       "    <tr>\n",
       "      <th>Max_Wind_SpeedKm_h</th>\n",
       "      <td>24</td>\n",
       "      <td>14</td>\n",
       "      <td>14</td>\n",
       "      <td>23</td>\n",
       "      <td>14</td>\n",
       "    </tr>\n",
       "    <tr>\n",
       "      <th>Mean_Wind_SpeedKm_h</th>\n",
       "      <td>11</td>\n",
       "      <td>11</td>\n",
       "      <td>5</td>\n",
       "      <td>16</td>\n",
       "      <td>11</td>\n",
       "    </tr>\n",
       "    <tr>\n",
       "      <th>Max_Gust_SpeedKm_h</th>\n",
       "      <td>NaN</td>\n",
       "      <td>NaN</td>\n",
       "      <td>NaN</td>\n",
       "      <td>NaN</td>\n",
       "      <td>NaN</td>\n",
       "    </tr>\n",
       "    <tr>\n",
       "      <th>Precipitationmm</th>\n",
       "      <td>0</td>\n",
       "      <td>0</td>\n",
       "      <td>0</td>\n",
       "      <td>0</td>\n",
       "      <td>0</td>\n",
       "    </tr>\n",
       "    <tr>\n",
       "      <th>CloudCover</th>\n",
       "      <td>1</td>\n",
       "      <td>4</td>\n",
       "      <td>2</td>\n",
       "      <td>6</td>\n",
       "      <td>4</td>\n",
       "    </tr>\n",
       "    <tr>\n",
       "      <th>Events</th>\n",
       "      <td>Fog</td>\n",
       "      <td>Fog</td>\n",
       "      <td>Fog</td>\n",
       "      <td>NaN</td>\n",
       "      <td>NaN</td>\n",
       "    </tr>\n",
       "    <tr>\n",
       "      <th>WindDirDegrees</th>\n",
       "      <td>13</td>\n",
       "      <td>309</td>\n",
       "      <td>354</td>\n",
       "      <td>282</td>\n",
       "      <td>290</td>\n",
       "    </tr>\n",
       "    <tr>\n",
       "      <th>StateName</th>\n",
       "      <td>Hessen</td>\n",
       "      <td>Thueringen</td>\n",
       "      <td>NordrheinWestfalen</td>\n",
       "      <td>Berlin</td>\n",
       "      <td>Sachsen</td>\n",
       "    </tr>\n",
       "    <tr>\n",
       "      <th>CompetitionOpenSince</th>\n",
       "      <td>2008-09-15 00:00:00</td>\n",
       "      <td>2007-11-15 00:00:00</td>\n",
       "      <td>2006-12-15 00:00:00</td>\n",
       "      <td>2009-09-15 00:00:00</td>\n",
       "      <td>2015-04-15 00:00:00</td>\n",
       "    </tr>\n",
       "    <tr>\n",
       "      <th>CompetitionDaysOpen</th>\n",
       "      <td>2510</td>\n",
       "      <td>2815</td>\n",
       "      <td>3150</td>\n",
       "      <td>2145</td>\n",
       "      <td>107</td>\n",
       "    </tr>\n",
       "    <tr>\n",
       "      <th>CompetitionMonthsOpen</th>\n",
       "      <td>24</td>\n",
       "      <td>24</td>\n",
       "      <td>24</td>\n",
       "      <td>24</td>\n",
       "      <td>3</td>\n",
       "    </tr>\n",
       "    <tr>\n",
       "      <th>Promo2Since</th>\n",
       "      <td>1900-01-01 00:00:00</td>\n",
       "      <td>2010-03-29 00:00:00</td>\n",
       "      <td>2011-04-04 00:00:00</td>\n",
       "      <td>1900-01-01 00:00:00</td>\n",
       "      <td>1900-01-01 00:00:00</td>\n",
       "    </tr>\n",
       "    <tr>\n",
       "      <th>Promo2Days</th>\n",
       "      <td>0</td>\n",
       "      <td>1950</td>\n",
       "      <td>1579</td>\n",
       "      <td>0</td>\n",
       "      <td>0</td>\n",
       "    </tr>\n",
       "    <tr>\n",
       "      <th>Promo2Weeks</th>\n",
       "      <td>0</td>\n",
       "      <td>25</td>\n",
       "      <td>25</td>\n",
       "      <td>0</td>\n",
       "      <td>0</td>\n",
       "    </tr>\n",
       "    <tr>\n",
       "      <th>AfterSchoolHoliday</th>\n",
       "      <td>0</td>\n",
       "      <td>0</td>\n",
       "      <td>0</td>\n",
       "      <td>0</td>\n",
       "      <td>0</td>\n",
       "    </tr>\n",
       "    <tr>\n",
       "      <th>BeforeSchoolHoliday</th>\n",
       "      <td>0</td>\n",
       "      <td>0</td>\n",
       "      <td>0</td>\n",
       "      <td>0</td>\n",
       "      <td>0</td>\n",
       "    </tr>\n",
       "    <tr>\n",
       "      <th>AfterStateHoliday</th>\n",
       "      <td>57</td>\n",
       "      <td>67</td>\n",
       "      <td>57</td>\n",
       "      <td>67</td>\n",
       "      <td>57</td>\n",
       "    </tr>\n",
       "    <tr>\n",
       "      <th>BeforeStateHoliday</th>\n",
       "      <td>0</td>\n",
       "      <td>0</td>\n",
       "      <td>0</td>\n",
       "      <td>0</td>\n",
       "      <td>0</td>\n",
       "    </tr>\n",
       "    <tr>\n",
       "      <th>AfterPromo</th>\n",
       "      <td>0</td>\n",
       "      <td>0</td>\n",
       "      <td>0</td>\n",
       "      <td>0</td>\n",
       "      <td>0</td>\n",
       "    </tr>\n",
       "    <tr>\n",
       "      <th>BeforePromo</th>\n",
       "      <td>0</td>\n",
       "      <td>0</td>\n",
       "      <td>0</td>\n",
       "      <td>0</td>\n",
       "      <td>0</td>\n",
       "    </tr>\n",
       "    <tr>\n",
       "      <th>SchoolHoliday_bw</th>\n",
       "      <td>5</td>\n",
       "      <td>5</td>\n",
       "      <td>5</td>\n",
       "      <td>5</td>\n",
       "      <td>5</td>\n",
       "    </tr>\n",
       "    <tr>\n",
       "      <th>StateHoliday_bw</th>\n",
       "      <td>0</td>\n",
       "      <td>0</td>\n",
       "      <td>0</td>\n",
       "      <td>0</td>\n",
       "      <td>0</td>\n",
       "    </tr>\n",
       "    <tr>\n",
       "      <th>Promo_bw</th>\n",
       "      <td>5</td>\n",
       "      <td>5</td>\n",
       "      <td>5</td>\n",
       "      <td>5</td>\n",
       "      <td>5</td>\n",
       "    </tr>\n",
       "    <tr>\n",
       "      <th>SchoolHoliday_fw</th>\n",
       "      <td>1</td>\n",
       "      <td>1</td>\n",
       "      <td>1</td>\n",
       "      <td>1</td>\n",
       "      <td>1</td>\n",
       "    </tr>\n",
       "    <tr>\n",
       "      <th>StateHoliday_fw</th>\n",
       "      <td>0</td>\n",
       "      <td>0</td>\n",
       "      <td>0</td>\n",
       "      <td>0</td>\n",
       "      <td>0</td>\n",
       "    </tr>\n",
       "    <tr>\n",
       "      <th>Promo_fw</th>\n",
       "      <td>1</td>\n",
       "      <td>1</td>\n",
       "      <td>1</td>\n",
       "      <td>1</td>\n",
       "      <td>1</td>\n",
       "    </tr>\n",
       "  </tbody>\n",
       "</table>\n",
       "<p>93 rows × 5 columns</p>\n",
       "</div>"
      ],
      "text/plain": [
       "                                             0                    1  \\\n",
       "index                                        0                    1   \n",
       "Store                                        1                    2   \n",
       "DayOfWeek                                    5                    5   \n",
       "Date                       2015-07-31 00:00:00  2015-07-31 00:00:00   \n",
       "Sales                                     5263                 6064   \n",
       "Customers                                  555                  625   \n",
       "Open                                         1                    1   \n",
       "Promo                                        1                    1   \n",
       "StateHoliday                             False                False   \n",
       "SchoolHoliday                                1                    1   \n",
       "Year                                      2015                 2015   \n",
       "Month                                        7                    7   \n",
       "Week                                        31                   31   \n",
       "Day                                         31                   31   \n",
       "Dayofweek                                    4                    4   \n",
       "Dayofyear                                  212                  212   \n",
       "Is_month_end                              True                 True   \n",
       "Is_month_start                           False                False   \n",
       "Is_quarter_end                           False                False   \n",
       "Is_quarter_start                         False                False   \n",
       "Is_year_end                              False                False   \n",
       "Is_year_start                            False                False   \n",
       "Elapsed                             1438300800           1438300800   \n",
       "StoreType                                    c                    a   \n",
       "Assortment                                   a                    a   \n",
       "CompetitionDistance                       1270                  570   \n",
       "CompetitionOpenSinceMonth                    9                   11   \n",
       "CompetitionOpenSinceYear                  2008                 2007   \n",
       "Promo2                                       0                    1   \n",
       "Promo2SinceWeek                              1                   13   \n",
       "...                                        ...                  ...   \n",
       "Min_Sea_Level_PressurehPa                 1015                 1017   \n",
       "Max_VisibilityKm                            31                   10   \n",
       "Mean_VisibilityKm                           15                   10   \n",
       "Min_VisibilitykM                            10                   10   \n",
       "Max_Wind_SpeedKm_h                          24                   14   \n",
       "Mean_Wind_SpeedKm_h                         11                   11   \n",
       "Max_Gust_SpeedKm_h                         NaN                  NaN   \n",
       "Precipitationmm                              0                    0   \n",
       "CloudCover                                   1                    4   \n",
       "Events                                     Fog                  Fog   \n",
       "WindDirDegrees                              13                  309   \n",
       "StateName                               Hessen           Thueringen   \n",
       "CompetitionOpenSince       2008-09-15 00:00:00  2007-11-15 00:00:00   \n",
       "CompetitionDaysOpen                       2510                 2815   \n",
       "CompetitionMonthsOpen                       24                   24   \n",
       "Promo2Since                1900-01-01 00:00:00  2010-03-29 00:00:00   \n",
       "Promo2Days                                   0                 1950   \n",
       "Promo2Weeks                                  0                   25   \n",
       "AfterSchoolHoliday                           0                    0   \n",
       "BeforeSchoolHoliday                          0                    0   \n",
       "AfterStateHoliday                           57                   67   \n",
       "BeforeStateHoliday                           0                    0   \n",
       "AfterPromo                                   0                    0   \n",
       "BeforePromo                                  0                    0   \n",
       "SchoolHoliday_bw                             5                    5   \n",
       "StateHoliday_bw                              0                    0   \n",
       "Promo_bw                                     5                    5   \n",
       "SchoolHoliday_fw                             1                    1   \n",
       "StateHoliday_fw                              0                    0   \n",
       "Promo_fw                                     1                    1   \n",
       "\n",
       "                                             2                    3  \\\n",
       "index                                        2                    3   \n",
       "Store                                        3                    4   \n",
       "DayOfWeek                                    5                    5   \n",
       "Date                       2015-07-31 00:00:00  2015-07-31 00:00:00   \n",
       "Sales                                     8314                13995   \n",
       "Customers                                  821                 1498   \n",
       "Open                                         1                    1   \n",
       "Promo                                        1                    1   \n",
       "StateHoliday                             False                False   \n",
       "SchoolHoliday                                1                    1   \n",
       "Year                                      2015                 2015   \n",
       "Month                                        7                    7   \n",
       "Week                                        31                   31   \n",
       "Day                                         31                   31   \n",
       "Dayofweek                                    4                    4   \n",
       "Dayofyear                                  212                  212   \n",
       "Is_month_end                              True                 True   \n",
       "Is_month_start                           False                False   \n",
       "Is_quarter_end                           False                False   \n",
       "Is_quarter_start                         False                False   \n",
       "Is_year_end                              False                False   \n",
       "Is_year_start                            False                False   \n",
       "Elapsed                             1438300800           1438300800   \n",
       "StoreType                                    a                    c   \n",
       "Assortment                                   a                    c   \n",
       "CompetitionDistance                      14130                  620   \n",
       "CompetitionOpenSinceMonth                   12                    9   \n",
       "CompetitionOpenSinceYear                  2006                 2009   \n",
       "Promo2                                       1                    0   \n",
       "Promo2SinceWeek                             14                    1   \n",
       "...                                        ...                  ...   \n",
       "Min_Sea_Level_PressurehPa                 1017                 1014   \n",
       "Max_VisibilityKm                            31                   10   \n",
       "Mean_VisibilityKm                           14                   10   \n",
       "Min_VisibilitykM                            10                   10   \n",
       "Max_Wind_SpeedKm_h                          14                   23   \n",
       "Mean_Wind_SpeedKm_h                          5                   16   \n",
       "Max_Gust_SpeedKm_h                         NaN                  NaN   \n",
       "Precipitationmm                              0                    0   \n",
       "CloudCover                                   2                    6   \n",
       "Events                                     Fog                  NaN   \n",
       "WindDirDegrees                             354                  282   \n",
       "StateName                   NordrheinWestfalen               Berlin   \n",
       "CompetitionOpenSince       2006-12-15 00:00:00  2009-09-15 00:00:00   \n",
       "CompetitionDaysOpen                       3150                 2145   \n",
       "CompetitionMonthsOpen                       24                   24   \n",
       "Promo2Since                2011-04-04 00:00:00  1900-01-01 00:00:00   \n",
       "Promo2Days                                1579                    0   \n",
       "Promo2Weeks                                 25                    0   \n",
       "AfterSchoolHoliday                           0                    0   \n",
       "BeforeSchoolHoliday                          0                    0   \n",
       "AfterStateHoliday                           57                   67   \n",
       "BeforeStateHoliday                           0                    0   \n",
       "AfterPromo                                   0                    0   \n",
       "BeforePromo                                  0                    0   \n",
       "SchoolHoliday_bw                             5                    5   \n",
       "StateHoliday_bw                              0                    0   \n",
       "Promo_bw                                     5                    5   \n",
       "SchoolHoliday_fw                             1                    1   \n",
       "StateHoliday_fw                              0                    0   \n",
       "Promo_fw                                     1                    1   \n",
       "\n",
       "                                             4  \n",
       "index                                        4  \n",
       "Store                                        5  \n",
       "DayOfWeek                                    5  \n",
       "Date                       2015-07-31 00:00:00  \n",
       "Sales                                     4822  \n",
       "Customers                                  559  \n",
       "Open                                         1  \n",
       "Promo                                        1  \n",
       "StateHoliday                             False  \n",
       "SchoolHoliday                                1  \n",
       "Year                                      2015  \n",
       "Month                                        7  \n",
       "Week                                        31  \n",
       "Day                                         31  \n",
       "Dayofweek                                    4  \n",
       "Dayofyear                                  212  \n",
       "Is_month_end                              True  \n",
       "Is_month_start                           False  \n",
       "Is_quarter_end                           False  \n",
       "Is_quarter_start                         False  \n",
       "Is_year_end                              False  \n",
       "Is_year_start                            False  \n",
       "Elapsed                             1438300800  \n",
       "StoreType                                    a  \n",
       "Assortment                                   a  \n",
       "CompetitionDistance                      29910  \n",
       "CompetitionOpenSinceMonth                    4  \n",
       "CompetitionOpenSinceYear                  2015  \n",
       "Promo2                                       0  \n",
       "Promo2SinceWeek                              1  \n",
       "...                                        ...  \n",
       "Min_Sea_Level_PressurehPa                 1016  \n",
       "Max_VisibilityKm                            10  \n",
       "Mean_VisibilityKm                           10  \n",
       "Min_VisibilitykM                            10  \n",
       "Max_Wind_SpeedKm_h                          14  \n",
       "Mean_Wind_SpeedKm_h                         11  \n",
       "Max_Gust_SpeedKm_h                         NaN  \n",
       "Precipitationmm                              0  \n",
       "CloudCover                                   4  \n",
       "Events                                     NaN  \n",
       "WindDirDegrees                             290  \n",
       "StateName                              Sachsen  \n",
       "CompetitionOpenSince       2015-04-15 00:00:00  \n",
       "CompetitionDaysOpen                        107  \n",
       "CompetitionMonthsOpen                        3  \n",
       "Promo2Since                1900-01-01 00:00:00  \n",
       "Promo2Days                                   0  \n",
       "Promo2Weeks                                  0  \n",
       "AfterSchoolHoliday                           0  \n",
       "BeforeSchoolHoliday                          0  \n",
       "AfterStateHoliday                           57  \n",
       "BeforeStateHoliday                           0  \n",
       "AfterPromo                                   0  \n",
       "BeforePromo                                  0  \n",
       "SchoolHoliday_bw                             5  \n",
       "StateHoliday_bw                              0  \n",
       "Promo_bw                                     5  \n",
       "SchoolHoliday_fw                             1  \n",
       "StateHoliday_fw                              0  \n",
       "Promo_fw                                     1  \n",
       "\n",
       "[93 rows x 5 columns]"
      ]
     },
     "execution_count": 4,
     "metadata": {},
     "output_type": "execute_result"
    }
   ],
   "source": [
    "train_df.head().T"
   ]
  },
  {
   "cell_type": "code",
   "execution_count": 79,
   "metadata": {
    "ExecuteTime": {
     "end_time": "2019-07-18T13:26:37.984866Z",
     "start_time": "2019-07-18T13:26:37.914451Z"
    },
    "init_cell": true
   },
   "outputs": [
    {
     "data": {
      "text/plain": [
       "844338"
      ]
     },
     "execution_count": 79,
     "metadata": {},
     "output_type": "execute_result"
    }
   ],
   "source": [
    "n = len(train_df); n"
   ]
  },
  {
   "cell_type": "code",
   "execution_count": 6,
   "metadata": {
    "ExecuteTime": {
     "end_time": "2019-07-12T16:19:59.241107Z",
     "start_time": "2019-07-12T16:19:59.211558Z"
    }
   },
   "outputs": [
    {
     "data": {
      "text/plain": [
       "(844338, 41088)"
      ]
     },
     "execution_count": 6,
     "metadata": {},
     "output_type": "execute_result"
    }
   ],
   "source": [
    "len(train_df),len(test_df)"
   ]
  },
  {
   "cell_type": "code",
   "execution_count": 80,
   "metadata": {
    "ExecuteTime": {
     "end_time": "2019-07-18T13:26:38.058534Z",
     "start_time": "2019-07-18T13:26:37.987673Z"
    },
    "init_cell": true
   },
   "outputs": [],
   "source": [
    "procs=[FillMissing, Categorify, Normalize]"
   ]
  },
  {
   "cell_type": "code",
   "execution_count": 81,
   "metadata": {
    "ExecuteTime": {
     "end_time": "2019-07-18T13:26:38.130654Z",
     "start_time": "2019-07-18T13:26:38.060481Z"
    },
    "init_cell": true
   },
   "outputs": [],
   "source": [
    "cat_vars_tpl = ('Store', 'DayOfWeek', 'Year', 'Month', 'Day', 'StateHoliday', 'CompetitionMonthsOpen',\n",
    "    'Promo2Weeks', 'StoreType', 'Assortment', 'PromoInterval', 'CompetitionOpenSinceYear', 'Promo2SinceYear',\n",
    "    'State', 'Week', 'Events', 'Promo_fw', 'Promo_bw', 'StateHoliday_fw', 'StateHoliday_bw',\n",
    "    'SchoolHoliday_fw', 'SchoolHoliday_bw')\n",
    "\n",
    "cont_vars_tpl = ('CompetitionDistance', 'Max_TemperatureC', 'Mean_TemperatureC', 'Min_TemperatureC',\n",
    "   'Max_Humidity', 'Mean_Humidity', 'Min_Humidity', 'Max_Wind_SpeedKm_h', \n",
    "   'Mean_Wind_SpeedKm_h', 'CloudCover', 'trend', 'trend_DE',\n",
    "   'AfterStateHoliday', 'BeforeStateHoliday', 'Promo', 'SchoolHoliday')\n",
    "cat_vars = list(cat_vars_tpl)\n",
    "cont_vars = list(cont_vars_tpl)\n",
    "all_vars = cat_vars + cont_vars"
   ]
  },
  {
   "cell_type": "code",
   "execution_count": 82,
   "metadata": {
    "ExecuteTime": {
     "end_time": "2019-07-18T13:26:38.597368Z",
     "start_time": "2019-07-18T13:26:38.132394Z"
    },
    "init_cell": true
   },
   "outputs": [],
   "source": [
    "dep_var = 'Sales'\n",
    "df = train_df[cat_vars + cont_vars + [dep_var,'Date']].copy()"
   ]
  },
  {
   "cell_type": "code",
   "execution_count": 83,
   "metadata": {
    "ExecuteTime": {
     "end_time": "2019-07-18T13:26:38.706534Z",
     "start_time": "2019-07-18T13:26:38.598987Z"
    },
    "init_cell": true
   },
   "outputs": [
    {
     "data": {
      "text/plain": [
       "41395"
      ]
     },
     "execution_count": 83,
     "metadata": {},
     "output_type": "execute_result"
    }
   ],
   "source": [
    "cut = train_df['Date'][(train_df['Date'] == train_df['Date'][len(test_df)])].index.max()\n",
    "cut"
   ]
  },
  {
   "cell_type": "code",
   "execution_count": 84,
   "metadata": {
    "ExecuteTime": {
     "end_time": "2019-07-18T13:26:38.776455Z",
     "start_time": "2019-07-18T13:26:38.708095Z"
    },
    "init_cell": true
   },
   "outputs": [
    {
     "data": {
      "text/plain": [
       "range(0, 41395)"
      ]
     },
     "execution_count": 84,
     "metadata": {},
     "output_type": "execute_result"
    }
   ],
   "source": [
    "valid_idx = range(cut)\n",
    "valid_idx"
   ]
  },
  {
   "cell_type": "code",
   "execution_count": 12,
   "metadata": {
    "ExecuteTime": {
     "end_time": "2019-07-12T16:18:11.556455Z",
     "start_time": "2019-07-12T16:18:11.524407Z"
    }
   },
   "outputs": [
    {
     "data": {
      "text/plain": [
       "0     5263\n",
       "1     6064\n",
       "2     8314\n",
       "3    13995\n",
       "4     4822\n",
       "Name: Sales, dtype: int64"
      ]
     },
     "execution_count": 12,
     "metadata": {},
     "output_type": "execute_result"
    }
   ],
   "source": [
    "df[dep_var].head()"
   ]
  },
  {
   "cell_type": "code",
   "execution_count": 85,
   "metadata": {
    "ExecuteTime": {
     "end_time": "2019-07-18T13:26:38.846520Z",
     "start_time": "2019-07-18T13:26:38.777939Z"
    },
    "init_cell": true
   },
   "outputs": [],
   "source": [
    "BS = 1024"
   ]
  },
  {
   "cell_type": "code",
   "execution_count": 86,
   "metadata": {
    "ExecuteTime": {
     "end_time": "2019-07-18T13:26:42.399213Z",
     "start_time": "2019-07-18T13:26:38.848317Z"
    },
    "init_cell": true
   },
   "outputs": [],
   "source": [
    "data = (TabularList.from_df(df, path=path, cat_names=cat_vars, cont_names=cont_vars, procs=procs)\n",
    "             .split_by_idx(valid_idx)\n",
    "             .label_from_df(cols=dep_var, label_cls=FloatList, log=True)\n",
    "             .databunch(bs=BS))"
   ]
  },
  {
   "cell_type": "markdown",
   "metadata": {},
   "source": [
    "## Model"
   ]
  },
  {
   "cell_type": "code",
   "execution_count": 87,
   "metadata": {
    "ExecuteTime": {
     "end_time": "2019-07-18T13:26:42.487948Z",
     "start_time": "2019-07-18T13:26:42.401280Z"
    },
    "init_cell": true
   },
   "outputs": [],
   "source": [
    "max_log_y = np.log(np.max(train_df['Sales'])*1.2)\n",
    "y_range = torch.tensor([0, max_log_y], device=defaults.device)"
   ]
  },
  {
   "cell_type": "code",
   "execution_count": 88,
   "metadata": {
    "ExecuteTime": {
     "end_time": "2019-07-18T13:26:42.581558Z",
     "start_time": "2019-07-18T13:26:42.489448Z"
    },
    "init_cell": true
   },
   "outputs": [],
   "source": [
    "np.random.seed(1001)\n",
    "learn = tabular_learner(data, layers=[1000,500], ps=[0.001,0.01], emb_drop=0.04, \n",
    "                        y_range=y_range, metrics=exp_rmspe)"
   ]
  },
  {
   "cell_type": "code",
   "execution_count": 18,
   "metadata": {
    "ExecuteTime": {
     "end_time": "2019-07-12T15:50:33.798857Z",
     "start_time": "2019-07-12T15:50:30.388438Z"
    }
   },
   "outputs": [
    {
     "data": {
      "text/html": [],
      "text/plain": [
       "<IPython.core.display.HTML object>"
      ]
     },
     "metadata": {},
     "output_type": "display_data"
    },
    {
     "name": "stdout",
     "output_type": "stream",
     "text": [
      "LR Finder is complete, type {learner_name}.recorder.plot() to see the graph.\n"
     ]
    },
    {
     "data": {
      "image/png": "[encoded data removed]",
      "text/plain": [
       "<Figure size 432x288 with 1 Axes>"
      ]
     },
     "metadata": {
      "needs_background": "light"
     },
     "output_type": "display_data"
    }
   ],
   "source": [
    "learn.lr_find()\n",
    "learn.recorder.plot()"
   ]
  },
  {
   "cell_type": "code",
   "execution_count": 19,
   "metadata": {
    "ExecuteTime": {
     "end_time": "2019-07-12T15:52:37.076671Z",
     "start_time": "2019-07-12T15:50:40.980877Z"
    },
    "scrolled": true
   },
   "outputs": [
    {
     "data": {
      "text/html": [
       "Total time: 01:56 <p><table style='width:375px; margin-bottom:10px'>\n",
       "  <tr>\n",
       "    <th>epoch</th>\n",
       "    <th>train_loss</th>\n",
       "    <th>valid_loss</th>\n",
       "    <th>exp_rmspe</th>\n",
       "    <th>time</th>\n",
       "  </tr>\n",
       "  <tr>\n",
       "    <th>0</th>\n",
       "    <th>0.021789</th>\n",
       "    <th>0.021742</th>\n",
       "    <th>0.158502</th>\n",
       "    <th>00:19</th>\n",
       "  </tr>\n",
       "  <tr>\n",
       "    <th>1</th>\n",
       "    <th>0.017043</th>\n",
       "    <th>0.025778</th>\n",
       "    <th>0.144952</th>\n",
       "    <th>00:19</th>\n",
       "  </tr>\n",
       "  <tr>\n",
       "    <th>2</th>\n",
       "    <th>0.016100</th>\n",
       "    <th>0.031187</th>\n",
       "    <th>0.155253</th>\n",
       "    <th>00:19</th>\n",
       "  </tr>\n",
       "  <tr>\n",
       "    <th>3</th>\n",
       "    <th>0.010990</th>\n",
       "    <th>0.014121</th>\n",
       "    <th>0.124688</th>\n",
       "    <th>00:19</th>\n",
       "  </tr>\n",
       "  <tr>\n",
       "    <th>4</th>\n",
       "    <th>0.009224</th>\n",
       "    <th>0.012430</th>\n",
       "    <th>0.108825</th>\n",
       "    <th>00:19</th>\n",
       "  </tr>\n",
       "  <tr>\n",
       "    <th>5</th>\n",
       "    <th>0.007234</th>\n",
       "    <th>0.010947</th>\n",
       "    <th>0.106333</th>\n",
       "    <th>00:19</th>\n",
       "  </tr>\n",
       "</table>\n"
      ],
      "text/plain": [
       "<IPython.core.display.HTML object>"
      ]
     },
     "metadata": {},
     "output_type": "display_data"
    }
   ],
   "source": [
    "learn.fit_one_cycle(6, 1e-2, wd=0.2)"
   ]
  },
  {
   "cell_type": "code",
   "execution_count": 20,
   "metadata": {
    "ExecuteTime": {
     "end_time": "2019-07-12T15:54:33.651893Z",
     "start_time": "2019-07-12T15:52:37.078886Z"
    }
   },
   "outputs": [
    {
     "data": {
      "text/html": [
       "Total time: 01:56 <p><table style='width:375px; margin-bottom:10px'>\n",
       "  <tr>\n",
       "    <th>epoch</th>\n",
       "    <th>train_loss</th>\n",
       "    <th>valid_loss</th>\n",
       "    <th>exp_rmspe</th>\n",
       "    <th>time</th>\n",
       "  </tr>\n",
       "  <tr>\n",
       "    <th>0</th>\n",
       "    <th>0.006945</th>\n",
       "    <th>0.011081</th>\n",
       "    <th>0.106301</th>\n",
       "    <th>00:19</th>\n",
       "  </tr>\n",
       "  <tr>\n",
       "    <th>1</th>\n",
       "    <th>0.007232</th>\n",
       "    <th>0.011012</th>\n",
       "    <th>0.105335</th>\n",
       "    <th>00:19</th>\n",
       "  </tr>\n",
       "  <tr>\n",
       "    <th>2</th>\n",
       "    <th>0.007107</th>\n",
       "    <th>0.010894</th>\n",
       "    <th>0.106389</th>\n",
       "    <th>00:19</th>\n",
       "  </tr>\n",
       "  <tr>\n",
       "    <th>3</th>\n",
       "    <th>0.006746</th>\n",
       "    <th>0.010875</th>\n",
       "    <th>0.105709</th>\n",
       "    <th>00:19</th>\n",
       "  </tr>\n",
       "  <tr>\n",
       "    <th>4</th>\n",
       "    <th>0.006842</th>\n",
       "    <th>0.011061</th>\n",
       "    <th>0.105592</th>\n",
       "    <th>00:19</th>\n",
       "  </tr>\n",
       "  <tr>\n",
       "    <th>5</th>\n",
       "    <th>0.006849</th>\n",
       "    <th>0.011002</th>\n",
       "    <th>0.105663</th>\n",
       "    <th>00:19</th>\n",
       "  </tr>\n",
       "</table>\n"
      ],
      "text/plain": [
       "<IPython.core.display.HTML object>"
      ]
     },
     "metadata": {},
     "output_type": "display_data"
    }
   ],
   "source": [
    "learn.fit_one_cycle(6, 1e-4, wd=0.2)"
   ]
  },
  {
   "cell_type": "code",
   "execution_count": 21,
   "metadata": {
    "ExecuteTime": {
     "end_time": "2019-07-12T15:55:23.284059Z",
     "start_time": "2019-07-12T15:55:23.222344Z"
    }
   },
   "outputs": [],
   "source": [
    "# learn.save('lr1e5_for_interp_e1056')"
   ]
  },
  {
   "cell_type": "code",
   "execution_count": 89,
   "metadata": {
    "ExecuteTime": {
     "end_time": "2019-07-18T13:26:42.890118Z",
     "start_time": "2019-07-18T13:26:42.583218Z"
    },
    "init_cell": true
   },
   "outputs": [],
   "source": [
    "learn = learn.load('lr1e5_for_interp_e1056');"
   ]
  },
  {
   "cell_type": "markdown",
   "metadata": {
    "ExecuteTime": {
     "end_time": "2019-04-26T15:41:19.299195Z",
     "start_time": "2019-04-26T15:41:19.220918Z"
    }
   },
   "source": [
    "We don't really care that our result is a little bit worse in the 3rd decimal point. It is more than enough for our analysing the data (model)"
   ]
  },
  {
   "cell_type": "markdown",
   "metadata": {},
   "source": [
    "## RF vs NN"
   ]
  },
  {
   "cell_type": "markdown",
   "metadata": {},
   "source": [
    "Ok, here is the trick begins.  \n",
    "I want to feed Random Forest with the exact information my NN layers get. It means that I want to use embedding instead of categories itself.  \n",
    "By the way, `get_inner_repr` not only turns categorical data into embeddings output and fill NA’s in continuous data, but also Normalizes cat columns, that, strictly speaking, is not necessary for RF, but it makes no harm and is more coherent with real inner representation in NN."
   ]
  },
  {
   "cell_type": "code",
   "execution_count": 90,
   "metadata": {
    "ExecuteTime": {
     "end_time": "2019-07-18T13:26:42.962327Z",
     "start_time": "2019-07-18T13:26:42.891807Z"
    },
    "init_cell": true
   },
   "outputs": [],
   "source": [
    "def list_diff(list_1, list_2):\n",
    "    diff = set(list_1) - set(list_2)\n",
    "    return [item for item in list_1 if item in diff]"
   ]
  },
  {
   "cell_type": "code",
   "execution_count": 91,
   "metadata": {
    "ExecuteTime": {
     "end_time": "2019-07-18T13:26:43.068670Z",
     "start_time": "2019-07-18T13:26:42.963963Z"
    },
    "init_cell": true
   },
   "outputs": [],
   "source": [
    "def apply_fill_n_catf(df:DataFrame, learn:Learner)->DataFrame: \n",
    "    '''\n",
    "    Reapplies FillMissing and Categorify to given dataframe. \n",
    "    '''\n",
    "    \n",
    "    df_copy = df.copy()\n",
    "    fill, catf = None, None\n",
    "    is_alone = True if (len(df) == 1) else False\n",
    "\n",
    "    proc = learn.data.processor[0] \n",
    "    if (is_alone):\n",
    "        df_copy = df_copy.append(df_copy.iloc[0])\n",
    "    \n",
    "    for prc in proc.procs:\n",
    "        if (type(prc) == FillMissing):\n",
    "            fill = prc\n",
    "        elif (type(prc) == Categorify):\n",
    "            catf = prc\n",
    "    if (fill is not None):\n",
    "        fill.apply_test(df_copy)\n",
    "        \n",
    "    if (catf is not None):\n",
    "        catf.apply_test(df_copy)\n",
    "        for c in catf.cat_names:\n",
    "            df_copy[c] = (df_copy[c].cat.codes).astype(np.int64) + 1\n",
    "        cats = df_copy[catf.cat_names].to_numpy()\n",
    "    \n",
    "    # ugly workaround as apperently catf.apply_test doesn't work with lone row\n",
    "    if (is_alone):\n",
    "        df_copy = df_copy[:1]\n",
    "\n",
    "    return df_copy\n",
    "\n",
    "\n",
    "def apply_fill(df:DataFrame, learn:Learner)->DataFrame: \n",
    "    '''\n",
    "    Reapplies FillMissing to given dataframe. \n",
    "    '''\n",
    "    \n",
    "    df_copy = df.copy()\n",
    "    fill = None\n",
    "    is_alone = True if (len(df) == 1) else False\n",
    "\n",
    "    proc = learn.data.processor[0] \n",
    "    if (is_alone):\n",
    "        df_copy = df_copy.append(df_copy.iloc[0])\n",
    "    \n",
    "    for prc in proc.procs:\n",
    "        if (type(prc) == FillMissing):\n",
    "            fill = prc\n",
    "    if (fill is not None):\n",
    "        fill.apply_test(df_copy)\n",
    "    \n",
    "    # ugly workaround as apperently catf.apply_test doesn't work with lone row\n",
    "    if (is_alone):\n",
    "        df_copy = df_copy[:1]\n",
    "\n",
    "    return df_copy\n",
    "\n",
    "\n",
    "def get_model_real_input(df:DataFrame, learn:Learner, bs:int=None)->Tensor:\n",
    "    \n",
    "    df_copy = df.copy()\n",
    "    fill, catf, norm = None, None, None    \n",
    "    cats, conts = None, None\n",
    "    is_alone = True if (len(df) == 1) else False\n",
    "    \n",
    "\n",
    "    proc = learn.data.processor[0]  \n",
    "    if (is_alone):\n",
    "        df_copy = df_copy.append(df_copy.iloc[0])\n",
    "    \n",
    "    for prc in proc.procs:\n",
    "        if (type(prc) == FillMissing):\n",
    "            fill = prc\n",
    "        elif (type(prc) == Categorify):\n",
    "            catf = prc\n",
    "        elif (type(prc) == Normalize):\n",
    "            norm = prc\n",
    "    if (fill is not None):\n",
    "        fill.apply_test(df_copy)\n",
    "    if (catf is not None):\n",
    "        catf.apply_test(df_copy)\n",
    "        for c in catf.cat_names:\n",
    "            df_copy[c] = (df_copy[c].cat.codes).astype(np.int64) + 1\n",
    "        cats = df_copy[catf.cat_names].to_numpy()\n",
    "        \n",
    "    if (norm is not None):\n",
    "        norm.apply_test(df_copy)\n",
    "        conts = df_copy[norm.cont_names].to_numpy().astype('float32')\n",
    "    \n",
    "    # ugly workaround as apperently catf.apply_test doesn't work with lone row\n",
    "    if (is_alone):\n",
    "        xs = [torch.tensor([cats[0]], device=learn.data.device), torch.tensor([conts[0]], device=learn.data.device)]\n",
    "    else:\n",
    "        if (bs is None):\n",
    "            xs = [torch.tensor(cats, device=learn.data.device), torch.tensor(conts, device=learn.data.device)]\n",
    "        elif (bs > 0):\n",
    "            xs = [list(chunks(l=torch.tensor(cats, device=learn.data.device), n=bs)), \n",
    "                  list(chunks(l=torch.tensor(conts, device=learn.data.device), n=bs))]\n",
    "\n",
    "    return xs \n",
    "\n",
    "\n",
    "def get_cust_preds(df:DataFrame, learn:Learner, bs:int=None, parent=None)->Tensor: \n",
    "    '''\n",
    "    Using existing model to predict output (learn.model) on a new dataframe at once (learn.predict does it for \n",
    "    one row which is pretty slow). \n",
    "    ''' \n",
    "    from fastai.basic_train import _loss_func2activ\n",
    "    def turn_to_activ(learn, acts):\n",
    "        activ = _loss_func2activ(learn.loss_func)\n",
    "        if activ is not None: \n",
    "            return to_np(activ(acts))\n",
    "        else:\n",
    "            return to_np(acts)\n",
    "    \n",
    "    xs = get_model_real_input(df=df, learn=learn, bs=bs) \n",
    "    learn.model.eval();\n",
    "    if (bs is None):\n",
    "        outp = learn.model(x_cat=xs[0], x_cont=xs[1])\n",
    "        \n",
    "    elif (bs > 0):\n",
    "        res = []\n",
    "        for ca, co in zip(xs[0], xs[1]):\n",
    "            res.append(to_np(learn.model(x_cat=ca, x_cont=co)))\n",
    "        #double translation to save gpu memory\n",
    "        outp = tensor(np.concatenate(res, axis=0))\n",
    "    return turn_to_activ(learn=learn, acts=outp)    \n",
    "\n",
    "\n",
    "def convert_dep_col(df:DataFrame, dep_col:AnyStr, learn:Learner)->Tensor:\n",
    "    '''\n",
    "    Converts dataframe column, named \"depended column\", into tensor, that can later be used to compare with predictions.\n",
    "    Log will be applied if it was done in a training dataset\n",
    "    '''\n",
    "    actls = df[dep_col].T.to_numpy()[np.newaxis].T.astype('float32')\n",
    "    actls = np.log(actls) if (hasattr(learn.data, 'log') and learn.data.log) else actls\n",
    "    return torch.tensor(actls, device=learn.data.device)\n",
    "\n",
    "\n",
    "def calc_loss(func:Callable, pred:Tensor, targ:Tensor, device=None)->Rank0Tensor:\n",
    "    '''\n",
    "    Calculates error from predictions and actuals with a given metrics function\n",
    "    '''\n",
    "    if (device is None):\n",
    "        return func(pred, targ)\n",
    "    else:        \n",
    "        return func(torch.tensor(pred, device=device), targ)\n",
    "\n",
    "\n",
    "def calc_error(df:DataFrame, learn:Learner, dep_col:AnyStr, \n",
    "               func:Callable, bs:int=None)->float:\n",
    "    '''\n",
    "    Wrapping function to calculate error for new dataframe on existing learner (learn.model)\n",
    "    See following functions' docstrings for details\n",
    "    '''\n",
    "    preds = get_cust_preds(df=df, learn=learn, bs=bs)\n",
    "    actls = convert_dep_col(df, dep_col, learn)\n",
    "    error = calc_loss(func, pred=preds, targ=actls, device=learn.data.device)\n",
    "    return float(error)"
   ]
  },
  {
   "cell_type": "markdown",
   "metadata": {},
   "source": [
    "`get_cust_preds` is easely the most useful (and used) function in whole notebook  \n",
    "It just gives the prediction on a new dataset. Unfortunately there are no such function it fastai itself :(  \n",
    "There could be a lot of reasons for getting predictions on another set of data (dataframe).  \n",
    "The obvious one is when you just want to predict on a new dataset, when you want preditions themselves.\n",
    "The second group of reasons lays in the field of data exploration. What if we would like to do some feature importance or partial dependence analysis (and we do want it), in each of these cases we need an instrument to get predictions on a bunch of new (altered) dataframes.   \n",
    "Definitely we can use learn.predict(row) for each of well… row in each of dataframe, but it is a pretty long process (in fact in my setup learn.predict in for-loop for 200 rows lasts 45+ seconds, and the process of calculating error for whole dataframe consists of 10,000 rows with `get_cust_preds` take less than a second.\n"
   ]
  },
  {
   "cell_type": "code",
   "execution_count": 92,
   "metadata": {
    "ExecuteTime": {
     "end_time": "2019-07-18T13:26:43.142732Z",
     "start_time": "2019-07-18T13:26:43.070426Z"
    },
    "init_cell": true
   },
   "outputs": [],
   "source": [
    "def emb_fwrd_sim(model, x_cat:Tensor, x_cont:Tensor)->Tensor:\n",
    "    '''\n",
    "    Part that was completely taking from fastai Tabular model source :)\n",
    "    Gets inner representation of input dataframe (Catigorified, Filled and Normalized) \n",
    "    and process it with embeddings 'prelayer'. Also continuous variables are processed with BatchNorm if needed.\n",
    "    As a result output is model gets on it's layers as input (embedding in fact are not layers, but before them)\n",
    "    '''\n",
    "    if model.n_emb != 0:\n",
    "        x = [e(x_cat[:,i]) for i,e in enumerate(model.embeds)]\n",
    "        x = torch.cat(x, 1)\n",
    "        x = model.emb_drop(x)\n",
    "    if model.n_cont != 0:\n",
    "        x_cont = model.bn_cont(x_cont)\n",
    "        x = torch.cat([x, x_cont], 1) if model.n_emb != 0 else x_cont\n",
    "    return x\n",
    "\n",
    "\n",
    "def get_inner_repr(df:DataFrame, learn:Learner)->Tensor: \n",
    "    '''\n",
    "    Gets new dataframe that has categorical and continuous columns the learner war learnt with \n",
    "    (are being taken from learner automatically)\n",
    "    And outputs inner representation of these data -- what model gets after embeddings\n",
    "    Is useful for ex. to use learnt embeddings in random forest\n",
    "    This output can be directly feed to RF learner (after turning it to numpy if needed)\n",
    "    '''\n",
    "    xs = get_model_real_input(df=df, learn=learn)\n",
    "    return emb_fwrd_sim(model=learn.model, x_cat=xs[0], x_cont=xs[1])    "
   ]
  },
  {
   "cell_type": "code",
   "execution_count": 26,
   "metadata": {
    "ExecuteTime": {
     "end_time": "2019-07-12T15:56:07.965027Z",
     "start_time": "2019-07-12T15:56:07.812855Z"
    }
   },
   "outputs": [],
   "source": [
    "from sklearn.ensemble import RandomForestRegressor"
   ]
  },
  {
   "cell_type": "code",
   "execution_count": 27,
   "metadata": {
    "ExecuteTime": {
     "end_time": "2019-07-12T15:56:09.261068Z",
     "start_time": "2019-07-12T15:56:09.228663Z"
    }
   },
   "outputs": [],
   "source": [
    "ln = len(df)"
   ]
  },
  {
   "cell_type": "code",
   "execution_count": 28,
   "metadata": {
    "ExecuteTime": {
     "end_time": "2019-07-12T15:56:11.945952Z",
     "start_time": "2019-07-12T15:56:11.765084Z"
    }
   },
   "outputs": [],
   "source": [
    "train_idx = list_diff(list_1=range(ln), list_2=valid_idx)"
   ]
  },
  {
   "cell_type": "markdown",
   "metadata": {},
   "source": [
    "I'd like to keep here saparate dataframes for training and for validation"
   ]
  },
  {
   "cell_type": "code",
   "execution_count": 29,
   "metadata": {
    "ExecuteTime": {
     "end_time": "2019-07-12T15:56:16.427445Z",
     "start_time": "2019-07-12T15:56:16.189101Z"
    }
   },
   "outputs": [],
   "source": [
    "tr_df = df.iloc[train_idx]\n",
    "val_df = df.iloc[valid_idx]"
   ]
  },
  {
   "cell_type": "markdown",
   "metadata": {},
   "source": [
    "#### RF with embeddings"
   ]
  },
  {
   "cell_type": "code",
   "execution_count": 30,
   "metadata": {
    "ExecuteTime": {
     "end_time": "2019-07-12T15:56:56.186230Z",
     "start_time": "2019-07-12T15:56:52.726291Z"
    }
   },
   "outputs": [],
   "source": [
    "tr_data_inner = to_np(get_inner_repr(df=tr_df[all_vars], learn=learn))\n",
    "val_data_inner = to_np(get_inner_repr(df=val_df[all_vars], learn=learn))"
   ]
  },
  {
   "cell_type": "code",
   "execution_count": 31,
   "metadata": {
    "ExecuteTime": {
     "end_time": "2019-07-12T15:57:01.268869Z",
     "start_time": "2019-07-12T15:57:01.214386Z"
    }
   },
   "outputs": [
    {
     "data": {
      "text/plain": [
       "(802943, 802943)"
      ]
     },
     "execution_count": 31,
     "metadata": {},
     "output_type": "execute_result"
    }
   ],
   "source": [
    "X_train = tr_data_inner\n",
    "y_train = np.log(tr_df[dep_var].to_numpy())\n",
    "len(X_train), len(y_train)"
   ]
  },
  {
   "cell_type": "code",
   "execution_count": 32,
   "metadata": {
    "ExecuteTime": {
     "end_time": "2019-07-12T15:57:06.009841Z",
     "start_time": "2019-07-12T15:57:05.975287Z"
    }
   },
   "outputs": [
    {
     "data": {
      "text/plain": [
       "(41395, 41395)"
      ]
     },
     "execution_count": 32,
     "metadata": {},
     "output_type": "execute_result"
    }
   ],
   "source": [
    "X_valid = val_data_inner\n",
    "y_valid = np.log(val_df[dep_var].to_numpy())\n",
    "len(X_valid), len(y_valid)"
   ]
  },
  {
   "cell_type": "code",
   "execution_count": 33,
   "metadata": {
    "ExecuteTime": {
     "end_time": "2019-07-12T15:57:09.632192Z",
     "start_time": "2019-07-12T15:57:09.599698Z"
    }
   },
   "outputs": [],
   "source": [
    "def print_score(m, func):\n",
    "    print(f'Train error is {func(torch.tensor(m.predict(X_train)), torch.tensor(y_train))}')\n",
    "    print(f'Validation error is {func(torch.tensor(m.predict(X_valid)), torch.tensor(y_valid))}')          \n",
    "    print(f'Train score is {m.score(torch.tensor(X_train), torch.tensor(y_train))}')\n",
    "    print(f'Validation score is {m.score(torch.tensor(X_valid), torch.tensor(y_valid))}')"
   ]
  },
  {
   "cell_type": "code",
   "execution_count": 34,
   "metadata": {
    "ExecuteTime": {
     "end_time": "2019-07-12T16:05:50.268718Z",
     "start_time": "2019-07-12T15:57:27.647645Z"
    },
    "scrolled": false
   },
   "outputs": [
    {
     "name": "stdout",
     "output_type": "stream",
     "text": [
      "Train error is 0.08291124692122281\n",
      "Validation error is 0.1321343147726409\n",
      "Train score is 0.9820802425964801\n",
      "Validation score is 0.910493794758555\n"
     ]
    }
   ],
   "source": [
    "#Takes me 6 min to run\n",
    "m = RandomForestRegressor(n_estimators=40, min_samples_leaf=3, max_features=0.5, n_jobs=-1, oob_score=False)\n",
    "m.fit(X_train, y_train)\n",
    "print_score(m=m, func=exp_rmspe)"
   ]
  },
  {
   "cell_type": "markdown",
   "metadata": {},
   "source": [
    "#### Pure RF"
   ]
  },
  {
   "cell_type": "markdown",
   "metadata": {
    "ExecuteTime": {
     "end_time": "2019-04-26T15:59:34.789527Z",
     "start_time": "2019-04-26T15:59:34.711968Z"
    }
   },
   "source": [
    "First we should categorify and fill missing values for Random Forest to learn.  \n",
    "Here we can use functions we already have"
   ]
  },
  {
   "cell_type": "code",
   "execution_count": 36,
   "metadata": {
    "ExecuteTime": {
     "end_time": "2019-07-12T16:08:12.753693Z",
     "start_time": "2019-07-12T16:08:10.610317Z"
    }
   },
   "outputs": [
    {
     "data": {
      "text/plain": [
       "(802943, 802943)"
      ]
     },
     "execution_count": 36,
     "metadata": {},
     "output_type": "execute_result"
    }
   ],
   "source": [
    "X_train = apply_fill_n_catf(df=tr_df[all_vars], learn=learn).to_numpy()\n",
    "y_train = np.log(tr_df[dep_var].to_numpy())\n",
    "len(X_train), len(y_train)"
   ]
  },
  {
   "cell_type": "code",
   "execution_count": 37,
   "metadata": {
    "ExecuteTime": {
     "end_time": "2019-07-12T16:08:25.702308Z",
     "start_time": "2019-07-12T16:08:25.528720Z"
    }
   },
   "outputs": [
    {
     "data": {
      "text/plain": [
       "(41395, 41395)"
      ]
     },
     "execution_count": 37,
     "metadata": {},
     "output_type": "execute_result"
    }
   ],
   "source": [
    "X_valid = apply_fill_n_catf(df=val_df[all_vars], learn=learn).to_numpy()\n",
    "y_valid = np.log(val_df[dep_var].to_numpy())\n",
    "len(X_valid), len(y_valid)"
   ]
  },
  {
   "cell_type": "code",
   "execution_count": 38,
   "metadata": {
    "ExecuteTime": {
     "end_time": "2019-07-12T16:09:48.115232Z",
     "start_time": "2019-07-12T16:08:28.696124Z"
    }
   },
   "outputs": [
    {
     "name": "stdout",
     "output_type": "stream",
     "text": [
      "Train error is 0.09839115781230681\n",
      "Validation error is 0.14260575408420068\n",
      "Train score is 0.9708722063455018\n",
      "Validation score is 0.8928272728499641\n"
     ]
    }
   ],
   "source": [
    "m = RandomForestRegressor(n_estimators=40, min_samples_leaf=3, max_features=0.5, n_jobs=-1, oob_score=False)\n",
    "m.fit(X_train, y_train)\n",
    "print_score(m=m, func=exp_rmspe)"
   ]
  },
  {
   "cell_type": "markdown",
   "metadata": {},
   "source": [
    "As you see pure RF worked here pretty the same as with embeddings :(   \n",
    "Pure NN itself is still much better than any of RF :) "
   ]
  },
  {
   "cell_type": "markdown",
   "metadata": {},
   "source": [
    "## Feature importance (naive)"
   ]
  },
  {
   "cell_type": "markdown",
   "metadata": {
    "ExecuteTime": {
     "end_time": "2019-04-26T16:09:10.290174Z",
     "start_time": "2019-04-26T16:09:10.211889Z"
    }
   },
   "source": [
    "Ok, now we will try to understand how importatnt are the features  \n",
    "How do we do that? It's a cool trick.  \n",
    "With existing model we can simply randomize the column we want to test, and calculate what will be the new error (accuracy)  \n",
    "Now we know our base error and error with one column randomized and (you guessed it) the amount of enlarging this error shows us how important feature is."
   ]
  },
  {
   "cell_type": "code",
   "execution_count": 93,
   "metadata": {
    "ExecuteTime": {
     "end_time": "2019-07-18T13:26:43.227608Z",
     "start_time": "2019-07-18T13:26:43.146910Z"
    },
    "init_cell": true
   },
   "outputs": [],
   "source": [
    "def calc_error_mixed_col(df:DataFrame, \n",
    "                         learn:Learner, \n",
    "                         dep_col:AnyStr, \n",
    "                         sampl_col:AnyStr, \n",
    "                         func:Callable,\n",
    "                         bs:int=None,\n",
    "                         rounds=5)->float:\n",
    "    df_temp = pd.concat([df]*rounds, ignore_index=True).copy()\n",
    "    df_temp[sampl_col] = np.random.permutation(df_temp[sampl_col].values)\n",
    "    return calc_error(df=df_temp, learn=learn, dep_col=dep_col, func=func, bs=bs)\n",
    "\n",
    "\n",
    "def get_columns(learn:Learner)->tuple:\n",
    "    cats, cats_temp, conts, conts_temp = [], [], [], []\n",
    "    proc = learn.data.processor[0]       \n",
    "    for prc in proc.procs:\n",
    "        if (type(prc) == Categorify):\n",
    "            cats_temp = prc.cat_names\n",
    "        elif (type(prc) == Normalize):\n",
    "            conts = prc.cont_names\n",
    "            \n",
    "    #delete _na columns\n",
    "    conts_temp = [cont+'_na' for cont in conts]\n",
    "    for cat in cats_temp:\n",
    "        if (cat not in conts_temp):\n",
    "             cats.append(cat) \n",
    "    \n",
    "    return cats, conts\n",
    "\n",
    "\n",
    "def calc_feat_importance(df:DataFrame,\n",
    "                         learn:Learner, \n",
    "                         dep_col:AnyStr,\n",
    "                         func:Callable,\n",
    "                         bs:int=None,\n",
    "                         rounds=5)->OrderedDict:\n",
    "    \n",
    "    base_error = calc_error(df=df, learn=learn, dep_col=dep_col, func=func, bs=bs)\n",
    "    cats, conts = get_columns(learn=learn)\n",
    "    importance = {}\n",
    "    pbar = master_bar(cats+conts, total=len(cats+conts))\n",
    "    for col in pbar:\n",
    "        importance[col] = calc_error_mixed_col(df=df, learn=learn, dep_col=dep_col, \n",
    "                                               sampl_col=col, func=func, bs=bs, rounds=rounds)\n",
    "        _ = progress_bar(range(1), display=False, parent=pbar) #looks like fastprogress doesn't work without 2nd bar :(\n",
    "    for key, value in importance.items():\n",
    "        importance[key] = (value - base_error)/base_error\n",
    "    return collections.OrderedDict(sorted(importance.items(), key=lambda kv: kv[1], reverse=True))"
   ]
  },
  {
   "cell_type": "code",
   "execution_count": 94,
   "metadata": {
    "ExecuteTime": {
     "end_time": "2019-07-18T13:26:43.305848Z",
     "start_time": "2019-07-18T13:26:43.230088Z"
    },
    "init_cell": true
   },
   "outputs": [],
   "source": [
    "def ord_dic_to_df(ord_dict:OrderedDict)->DataFrame:\n",
    "    return pd.DataFrame([[k, v] for k, v in ord_dict.items()], columns=['feature', 'importance'])\n",
    "\n",
    "def plot_importance(df:DataFrame, limit=20, asc=False):\n",
    "    ax = df.sort_values(by='importance', ascending=asc)[:limit].sort_values(by='importance', ascending=not(asc)).plot.barh(x=\"feature\", y=\"importance\", sort_columns=True, figsize=(10, 10))\n",
    "    for p in ax.patches:\n",
    "        ax.annotate(f'{p.get_width():.4f}', ((p.get_width() * 1.005), p.get_y()  * 1.005))"
   ]
  },
  {
   "cell_type": "code",
   "execution_count": 73,
   "metadata": {
    "ExecuteTime": {
     "end_time": "2019-07-12T17:32:40.551190Z",
     "start_time": "2019-07-12T17:17:12.104261Z"
    }
   },
   "outputs": [
    {
     "data": {
      "text/html": [
       "Total time: 15:24 <p>"
      ],
      "text/plain": [
       "<IPython.core.display.HTML object>"
      ]
     },
     "metadata": {},
     "output_type": "display_data"
    }
   ],
   "source": [
    "#Takes me 16 min to run\n",
    "feat = calc_feat_importance(df=df,  \n",
    "                     learn=learn, \n",
    "                     dep_col=dep_var, \n",
    "                     func=exp_rmspe, \n",
    "                     bs=204800,\n",
    "                     rounds=5)"
   ]
  },
  {
   "cell_type": "code",
   "execution_count": 143,
   "metadata": {
    "ExecuteTime": {
     "end_time": "2019-07-12T18:05:21.375451Z",
     "start_time": "2019-07-12T18:05:20.975569Z"
    }
   },
   "outputs": [
    {
     "data": {
      "image/png": "[encoded data removed]",
      "text/plain": [
       "<Figure size 720x720 with 1 Axes>"
      ]
     },
     "metadata": {
      "needs_background": "light"
     },
     "output_type": "display_data"
    }
   ],
   "source": [
    "plot_importance(ord_dic_to_df(feat), asc=False)"
   ]
  },
  {
   "cell_type": "markdown",
   "metadata": {},
   "source": [
    "Wonderful, now we know it (not really) we can move on to Partial Dependence (no)"
   ]
  },
  {
   "cell_type": "markdown",
   "metadata": {},
   "source": [
    "The first point that hinted me that it is not ok to do that with NN with embeddings was the *crazy difference in importances* between features (in my other case it was even bigger)  \n",
    "I was looking at the data and could not believe how the features that must be pretty important for the case are in the bottom of this list (it was the case from field I knew a lot about)  \n",
    "And then I noticed that pretty all important features are categorical columns and visa versa\n",
    "And when I (using editable installs) shifted max embedding size to 10 (from up to 600) this gap became much less.  \n",
    "So it became pretty clear for me why embeddings (categorical columns) seem to be more valuable. Each continuous variable is presented with 1 float number. And each categorical -- with a vector of several dozens. And when we randomize categorical column, we mess with tens of columns rather with one. Which, obviously, is more harmful for accuracy\n",
    "\n",
    "What do we do?\n",
    "Will will use the next (much more computational expensive) option.  \n",
    "I sadly present you the process which involves *retraining NN* for each column (group of columns)\n",
    "\n",
    "The idea is very simple. We just throw away the column completely, retrain the NN and compare the errors"
   ]
  },
  {
   "cell_type": "markdown",
   "metadata": {},
   "source": [
    "## Retrain feature importance"
   ]
  },
  {
   "cell_type": "code",
   "execution_count": 95,
   "metadata": {
    "ExecuteTime": {
     "end_time": "2019-07-18T13:26:43.376491Z",
     "start_time": "2019-07-18T13:26:43.307541Z"
    },
    "init_cell": true
   },
   "outputs": [],
   "source": [
    "from fastai.callbacks import CSVLogger"
   ]
  },
  {
   "cell_type": "code",
   "execution_count": 96,
   "metadata": {
    "ExecuteTime": {
     "end_time": "2019-07-18T13:26:43.473321Z",
     "start_time": "2019-07-18T13:26:43.378566Z"
    },
    "init_cell": true
   },
   "outputs": [],
   "source": [
    "def clear_pbar():\n",
    "    # Just to clear the output. Yes, I know, I agree It's awfull should be refactored\n",
    "    for _ in progress_bar(range(1), parent=None, leave=False):\n",
    "        1==1    \n",
    "\n",
    "def extract_metrics_median(metrics_df:DataFrame, acc_func:Callable, bottom_X:float=0.1)->float:\n",
    "    func_name = acc_func.__name__    \n",
    "    metr = metrics_df[func_name].to_numpy()\n",
    "    subset = metr[np.argsort(metr)][-math.ceil(len(metr)*bottom_X):] if (func_name =='accuracy') else metr[np.argsort(metr)][:math.ceil(len(metr)*bottom_X)]\n",
    "    metrics = np.median(subset)\n",
    "    return float(metrics)\n",
    "    \n",
    "def calc_valid_acc(learn:Learner, func:Callable)->float:\n",
    "    metr = learn.csv_logger.read_logged_file()\n",
    "    acc = extract_metrics_median(metrics_df=metr, acc_func=func)  \n",
    "    return float(acc)\n",
    "\n",
    "def calc_acc(df:DataFrame, \n",
    "             bs:int, \n",
    "             acc_func:Callable,\n",
    "             dep_var:str,\n",
    "             to_drop_cat:tuple=(), \n",
    "             to_drop_cont:tuple=(), \n",
    "             load_learn:str=None,\n",
    "             trains:int=2, \n",
    "             cycles:int=80, \n",
    "             is_overall_mode:bool=None)->float:\n",
    "    \n",
    "    cat_vars_mod = list_diff(CAT_VARS_CONST, to_drop_cat)\n",
    "    cont_vars_mod = list_diff(CONT_VARS_CONST, to_drop_cont)\n",
    "    np.random.seed(1001)\n",
    "    data =  (TabularList.from_df(df, path=path, cat_names=cat_vars_mod, cont_names=cont_vars_mod, procs=procs)\n",
    "             .split_by_idx(VALID_IDX)\n",
    "             .label_from_df(cols=dep_var, label_cls=FloatList, log=True)\n",
    "             .databunch(bs=bs))\n",
    "    learn = tabular_learner(data, \n",
    "                            layers=LAYERS, \n",
    "                            ps=PS, \n",
    "                            emb_drop=EMB_DROP, \n",
    "                            y_range=y_range, \n",
    "                            metrics=acc_func, \n",
    "                            callback_fns=[CSVLogger])\n",
    "    if (load_learn is not None):\n",
    "        learn = learn.load(load_learn)\n",
    "    else:\n",
    "        for i in range(trains):\n",
    "            print(f\"Train {i+1} of {trains}\")\n",
    "            learn.fit_one_cycle(cycles, 3e-3, wd=0.2);\n",
    "            clear_pbar()    \n",
    "    if (is_overall_mode is None) or (is_overall_mode == False):\n",
    "        acc = calc_valid_acc(learn=learn, func=acc_func)\n",
    "    else:\n",
    "        acc = calc_error(df=df, learn=learn, dep_col=dep_var, func=acc_func, bs=bs)\n",
    "    return acc\n",
    "\n",
    "def calc_1_imp_relearn(base_error:float, \n",
    "                       df:DataFrame, \n",
    "                       bs:int, \n",
    "                       acc_func:Callable,\n",
    "                       dep_var:str, \n",
    "                       to_drop_cat:tuple=(), \n",
    "                       to_drop_cont:tuple=(), \n",
    "                       load_learn:str=None, \n",
    "                       trains:int=2, \n",
    "                       cycles:int=80, \n",
    "                       is_overall_mode:bool=None)->float:\n",
    "    error = calc_acc(df, bs, acc_func, dep_var, to_drop_cat, to_drop_cont, load_learn, \n",
    "                     trains=trains, cycles=cycles, is_overall_mode=is_overall_mode)\n",
    "    if (acc_func.__name__ == 'accuracy'):\n",
    "        base_acc, accuracy = base_error, error # Just rename for better understanding\n",
    "        importance = (base_acc - accuracy)/base_acc\n",
    "    else:\n",
    "        importance = (error - base_error)/base_error\n",
    "    return (list(to_drop_cat)+list(to_drop_cont), importance)\n",
    "\n",
    "def print_importance_res(dropped:List, importance:float):\n",
    "    print('Features '+', '.join(dropped)+' have accumulated importance of')\n",
    "    print(importance)\n",
    "    \n",
    "def calc_many_imps_relearn(base_error:float, \n",
    "                           df:DataFrame, \n",
    "                           bs:int, \n",
    "                           acc_func:Callable, \n",
    "                           dep_var:str, \n",
    "                           to_drop_cats:tuple=(), \n",
    "                           to_drop_conts:tuple=(),\n",
    "                           load_learn:str=None, \n",
    "                           trains:int=2, \n",
    "                           cycles:int=80, \n",
    "                           is_overall_mode:bool=None)->float:\n",
    "    \n",
    "    to_drop_cats = listify(to_drop_cats)\n",
    "    to_drop_conts = listify(to_drop_conts)\n",
    "    importances = {}\n",
    "    \n",
    "    i = 1\n",
    "    overall = len(list(to_drop_cats)+list(to_drop_conts))\n",
    "    for var in to_drop_cats:\n",
    "        var = listify(var)\n",
    "        print(f\"Categorical feature {i} of {len(to_drop_cats)}\")\n",
    "        imp = calc_1_imp_relearn(base_error, df, bs, acc_func, \n",
    "                                 dep_var=dep_var, to_drop_cat=var, trains=trains, \n",
    "                                 cycles=cycles, is_overall_mode=is_overall_mode)\n",
    "        key = imp[0] if isinstance(imp[0], str) else ', '.join(str(e) for e in imp[0])\n",
    "        importances[key] = imp\n",
    "        i = i + 1\n",
    "        \n",
    "    for var in to_drop_conts:\n",
    "        var = listify(var)\n",
    "        print(f\"Continuous feature {i} of {len(to_drop_conts)}\")\n",
    "        imp = calc_1_imp_relearn(base_error, df, bs, acc_func, \n",
    "                                  dep_var=dep_var, to_drop_cont=var, trains=trains, \n",
    "                                 cycles=cycles, is_overall_mode=is_overall_mode)\n",
    "        key = imp[0] if isinstance(imp[0], str) else ', '.join(str(e) for e in imp[0])\n",
    "        importances[key] = imp\n",
    "        i = i + 1\n",
    "    \n",
    "    return importances"
   ]
  },
  {
   "cell_type": "code",
   "execution_count": 97,
   "metadata": {
    "ExecuteTime": {
     "end_time": "2019-07-18T13:26:43.554840Z",
     "start_time": "2019-07-18T13:26:43.475217Z"
    },
    "init_cell": true
   },
   "outputs": [],
   "source": [
    "def calc_mean_dict(lst):\n",
    "    mean_dict = {}\n",
    "    ln = len(lst)\n",
    "    for key, value in lst[0].items():\n",
    "        mean_dict[key] = np.zeros(ln)\n",
    "    for i, row in enumerate(lst):\n",
    "        for key, value in row.items():\n",
    "            mean_dict[key][i] = value[1]\n",
    "    for key, value in mean_dict.items():\n",
    "        mean_dict[key] = np.median(value)\n",
    "            \n",
    "    return mean_dict\n",
    "\n",
    "\n",
    "def calc_many_imps_relearn_steps(base_error:float,\n",
    "                                 df:DataFrame,\n",
    "                                 bs:int,\n",
    "                                 acc_func:Callable,\n",
    "                                 dep_var:str,\n",
    "                                 to_drop_cats:tuple=(),\n",
    "                                 to_drop_conts:tuple=(),\n",
    "                                 load_learn:str=None,\n",
    "                                 trains=2,\n",
    "                                 cycles=80,\n",
    "                                 rounds=5,\n",
    "                                 is_overall_mode:bool=None)->dict:\n",
    "    '''\n",
    "    to_drop_cats and to_drop_conts:tuple can be tupple of tuples (lists of lists)\n",
    "    this means we measure every item in the first list and retrain without every item in the second one in one turn\n",
    "    (treat it as one entity)\n",
    "    '''\n",
    "    acc = []\n",
    "    for i in range(rounds):\n",
    "        print(f\"Round {i+1} of {rounds}\")\n",
    "        acc_ = calc_many_imps_relearn(base_error=base_error,\n",
    "                                      df=df,\n",
    "                                      bs=bs,\n",
    "                                      acc_func=acc_func,\n",
    "                                      dep_var=dep_var,\n",
    "                                      to_drop_cats=to_drop_cats,\n",
    "                                      to_drop_conts=to_drop_conts,\n",
    "                                      trains=trains,\n",
    "                                      cycles=cycles,\n",
    "                                      is_overall_mode=is_overall_mode)\n",
    "        acc.append(acc_)\n",
    "    imp = calc_mean_dict(acc)\n",
    "    return collections.OrderedDict(sorted(imp.items(), key=lambda kv: kv[1], reverse=True))\n",
    "\n",
    "\n",
    "def calc_base_acc_steps(df:DataFrame, \n",
    "                        bs:int, \n",
    "                        acc_func:Callable, \n",
    "                        dep_var:str,\n",
    "                        trains=2, \n",
    "                        cycles=80,\n",
    "                        rounds=5, \n",
    "                        is_overall_mode:bool=None)->float:\n",
    "    base_acc=np.empty((rounds))\n",
    "    for i in range(rounds):\n",
    "        print(f\"Round {i+1} of {rounds}\")\n",
    "        base_acc[i] = calc_acc(df=df, bs=BS, \n",
    "                               acc_func=acc_func, dep_var=dep_var, trains=trains, \n",
    "                               cycles=cycles, is_overall_mode=is_overall_mode)\n",
    "    return np.median(base_acc)"
   ]
  },
  {
   "cell_type": "markdown",
   "metadata": {},
   "source": [
    "These are the parameters used in learner creation"
   ]
  },
  {
   "cell_type": "code",
   "execution_count": 34,
   "metadata": {
    "ExecuteTime": {
     "end_time": "2019-07-17T02:09:07.726422Z",
     "start_time": "2019-07-17T02:09:07.700092Z"
    }
   },
   "outputs": [],
   "source": [
    "CAT_VARS_CONST = cat_vars_tpl\n",
    "CONT_VARS_CONST = cont_vars_tpl\n",
    "LAYERS = [1000, 500] \n",
    "PS = [0.01, 0.1]\n",
    "EMB_DROP = 0.04\n",
    "VALID_IDX = valid_idx\n",
    "is_overall_mode = True\n",
    "BS = 1024"
   ]
  },
  {
   "cell_type": "markdown",
   "metadata": {},
   "source": [
    "And these are the hyperparameters that are used in training.  \n",
    "What are they?\n",
    "`cycles` is the common thing you already know  \n",
    "`rounds` is a new one. It just sets how many times the whole process will be repeated (and then median of results is taken). \n",
    "It reduces instability of results a lot. The more, the better accuracy in feature importance you will get (now I think that 3 is not big enough, maybe 5)  \n",
    "There is also one optional parameter `trains` I've defaulted it to 2. It just means that I train NN in 2 `fit.one_cycle`-s by (in this case) 6 cycles each.  \n",
    "So it gives us overall 36 = 6(cycles)\\*2(trains)\\*3(rounds) cycles for every feature we test."
   ]
  },
  {
   "cell_type": "code",
   "execution_count": 24,
   "metadata": {
    "ExecuteTime": {
     "end_time": "2019-07-16T02:14:18.051940Z",
     "start_time": "2019-07-16T02:14:18.025093Z"
    }
   },
   "outputs": [],
   "source": [
    "rounds = 3\n",
    "acc_func = exp_rmspe\n",
    "cycles = 6"
   ]
  },
  {
   "cell_type": "code",
   "execution_count": 25,
   "metadata": {
    "ExecuteTime": {
     "end_time": "2019-07-16T02:27:19.878936Z",
     "start_time": "2019-07-16T02:14:20.176551Z"
    }
   },
   "outputs": [],
   "source": [
    "# 12 mins\n",
    "base_error = calc_base_acc_steps(df=df, bs=BS, acc_func=acc_func, dep_var=dep_var, \n",
    "                                 cycles=cycles, rounds=rounds, is_overall_mode=is_overall_mode)"
   ]
  },
  {
   "cell_type": "code",
   "execution_count": 26,
   "metadata": {
    "ExecuteTime": {
     "end_time": "2019-07-16T02:27:19.907203Z",
     "start_time": "2019-07-16T02:27:19.880986Z"
    }
   },
   "outputs": [
    {
     "data": {
      "text/plain": [
       "0.1396152377128601"
      ]
     },
     "execution_count": 26,
     "metadata": {},
     "output_type": "execute_result"
    }
   ],
   "source": [
    "base_error"
   ]
  },
  {
   "cell_type": "code",
   "execution_count": 28,
   "metadata": {
    "ExecuteTime": {
     "end_time": "2019-07-16T09:20:36.123474Z",
     "start_time": "2019-07-16T09:20:36.100055Z"
    }
   },
   "outputs": [],
   "source": [
    "each_cat = [[var] for var in cat_vars_tpl]\n",
    "each_cont = [[var] for var in cont_vars_tpl]"
   ]
  },
  {
   "cell_type": "code",
   "execution_count": 29,
   "metadata": {
    "ExecuteTime": {
     "end_time": "2019-07-16T14:11:28.948838Z",
     "start_time": "2019-07-16T09:20:39.796036Z"
    }
   },
   "outputs": [],
   "source": [
    "#Takes me 4 hours to run\n",
    "imp = calc_many_imps_relearn_steps(base_error=base_error, df=df, bs=BS, acc_func=acc_func, \n",
    "                                          dep_var=dep_var, to_drop_cats=each_cat, cycles=cycles, \n",
    "                                          rounds=rounds, is_overall_mode=is_overall_mode)"
   ]
  },
  {
   "cell_type": "code",
   "execution_count": 30,
   "metadata": {
    "ExecuteTime": {
     "end_time": "2019-07-16T14:11:28.980662Z",
     "start_time": "2019-07-16T14:11:28.950845Z"
    }
   },
   "outputs": [
    {
     "data": {
      "text/plain": [
       "OrderedDict([('Store', 0.20475440315409066),\n",
       "             ('DayOfWeek', 0.037671061815992876),\n",
       "             ('SchoolHoliday_bw', 0.035550439621662815),\n",
       "             ('Week', 0.03337421099705211),\n",
       "             ('StoreType', 0.032044779719555744),\n",
       "             ('Assortment', 0.030457915217804304),\n",
       "             ('Promo_bw', 0.02629970691889146),\n",
       "             ('State', 0.024350813604257254),\n",
       "             ('Promo2Weeks', 0.022843463095901347),\n",
       "             ('Year', 0.02277867786906767),\n",
       "             ('StateHoliday_fw', 0.022389326126910736),\n",
       "             ('StateHoliday_bw', 0.01910587848554126),\n",
       "             ('CompetitionMonthsOpen', 0.018376911270921784),\n",
       "             ('SchoolHoliday_fw', 0.01659750550194142),\n",
       "             ('Day', 0.014364069494162926),\n",
       "             ('PromoInterval', 0.013062601527095595),\n",
       "             ('StateHoliday', 0.008465411946523905),\n",
       "             ('Events', 0.00681045358197199),\n",
       "             ('Promo2SinceYear', 0.006733180922618476),\n",
       "             ('CompetitionOpenSinceYear', -0.0011763801814840193),\n",
       "             ('Promo_fw', -0.008064640073771908),\n",
       "             ('Month', -0.0109238352000444)])"
      ]
     },
     "execution_count": 30,
     "metadata": {},
     "output_type": "execute_result"
    }
   ],
   "source": [
    "imp"
   ]
  },
  {
   "cell_type": "code",
   "execution_count": 31,
   "metadata": {
    "ExecuteTime": {
     "end_time": "2019-07-16T14:11:29.019528Z",
     "start_time": "2019-07-16T14:11:28.993605Z"
    }
   },
   "outputs": [],
   "source": [
    "import pickle"
   ]
  },
  {
   "cell_type": "code",
   "execution_count": 32,
   "metadata": {
    "ExecuteTime": {
     "end_time": "2019-07-16T14:11:29.055333Z",
     "start_time": "2019-07-16T14:11:29.027435Z"
    }
   },
   "outputs": [],
   "source": [
    "f = open(path/\"ros_imp_cat.pkl\",\"wb\")\n",
    "pickle.dump(imp,f)\n",
    "f.close()"
   ]
  },
  {
   "cell_type": "code",
   "execution_count": 33,
   "metadata": {
    "ExecuteTime": {
     "end_time": "2019-07-16T14:11:29.107445Z",
     "start_time": "2019-07-16T14:11:29.058644Z"
    }
   },
   "outputs": [],
   "source": [
    "f = open(path/\"ros_imp_cat.pkl\",\"rb\")\n",
    "imp_cat = pickle.load(f)\n",
    "f.close()"
   ]
  },
  {
   "cell_type": "code",
   "execution_count": 34,
   "metadata": {
    "ExecuteTime": {
     "end_time": "2019-07-16T17:44:10.240558Z",
     "start_time": "2019-07-16T14:11:29.109288Z"
    }
   },
   "outputs": [],
   "source": [
    "#Takes me 3 hours to run\n",
    "imp = calc_many_imps_relearn_steps(base_error=base_error, df=df, bs=BS, acc_func=acc_func, \n",
    "                                          dep_var=dep_var, to_drop_conts=each_cont, cycles=cycles, \n",
    "                                          rounds=rounds, is_overall_mode=is_overall_mode)"
   ]
  },
  {
   "cell_type": "code",
   "execution_count": 35,
   "metadata": {
    "ExecuteTime": {
     "end_time": "2019-07-16T17:44:10.269980Z",
     "start_time": "2019-07-16T17:44:10.242906Z"
    }
   },
   "outputs": [
    {
     "data": {
      "text/plain": [
       "OrderedDict([('Max_Wind_SpeedKm_h', 0.04396558164752994),\n",
       "             ('trend', 0.03521872218344359),\n",
       "             ('AfterStateHoliday', 0.02979789570752512),\n",
       "             ('Max_Humidity', 0.02947204842989214),\n",
       "             ('Mean_Humidity', 0.026241645694183843),\n",
       "             ('CompetitionDistance', 0.022328169726621286),\n",
       "             ('Min_TemperatureC', 0.022030072299032383),\n",
       "             ('CloudCover', 0.02028535384260712),\n",
       "             ('trend_DE', 0.009442847049230369),\n",
       "             ('Max_TemperatureC', 0.00709008668626233),\n",
       "             ('SchoolHoliday', 0.005598212055815621),\n",
       "             ('Mean_Wind_SpeedKm_h', 0.0017093907627153014),\n",
       "             ('Min_Humidity', -0.003326032988167891),\n",
       "             ('Promo', -0.0034097094590700384),\n",
       "             ('Mean_TemperatureC', -0.013652285840532285),\n",
       "             ('BeforeStateHoliday', -0.016814701443632583)])"
      ]
     },
     "execution_count": 35,
     "metadata": {},
     "output_type": "execute_result"
    }
   ],
   "source": [
    "imp"
   ]
  },
  {
   "cell_type": "code",
   "execution_count": 36,
   "metadata": {
    "ExecuteTime": {
     "end_time": "2019-07-16T17:44:10.295188Z",
     "start_time": "2019-07-16T17:44:10.271451Z"
    }
   },
   "outputs": [],
   "source": [
    "f = open(path/\"ros_imp_cont.pkl\",\"wb\")\n",
    "pickle.dump(imp,f)\n",
    "f.close()"
   ]
  },
  {
   "cell_type": "code",
   "execution_count": 37,
   "metadata": {
    "ExecuteTime": {
     "end_time": "2019-07-16T17:44:10.320898Z",
     "start_time": "2019-07-16T17:44:10.297112Z"
    }
   },
   "outputs": [],
   "source": [
    "f = open(path/\"ros_imp_cont.pkl\",\"rb\")\n",
    "imp_cont = pickle.load(f)\n",
    "f.close()"
   ]
  },
  {
   "cell_type": "code",
   "execution_count": 38,
   "metadata": {
    "ExecuteTime": {
     "end_time": "2019-07-16T17:44:10.353628Z",
     "start_time": "2019-07-16T17:44:10.322583Z"
    }
   },
   "outputs": [
    {
     "data": {
      "text/plain": [
       "OrderedDict([('Store', 0.20475440315409066),\n",
       "             ('Max_Wind_SpeedKm_h', 0.04396558164752994),\n",
       "             ('DayOfWeek', 0.037671061815992876),\n",
       "             ('SchoolHoliday_bw', 0.035550439621662815),\n",
       "             ('trend', 0.03521872218344359),\n",
       "             ('Week', 0.03337421099705211),\n",
       "             ('StoreType', 0.032044779719555744),\n",
       "             ('Assortment', 0.030457915217804304),\n",
       "             ('AfterStateHoliday', 0.02979789570752512),\n",
       "             ('Max_Humidity', 0.02947204842989214),\n",
       "             ('Promo_bw', 0.02629970691889146),\n",
       "             ('Mean_Humidity', 0.026241645694183843),\n",
       "             ('State', 0.024350813604257254),\n",
       "             ('Promo2Weeks', 0.022843463095901347),\n",
       "             ('Year', 0.02277867786906767),\n",
       "             ('StateHoliday_fw', 0.022389326126910736),\n",
       "             ('CompetitionDistance', 0.022328169726621286),\n",
       "             ('Min_TemperatureC', 0.022030072299032383),\n",
       "             ('CloudCover', 0.02028535384260712),\n",
       "             ('StateHoliday_bw', 0.01910587848554126),\n",
       "             ('CompetitionMonthsOpen', 0.018376911270921784),\n",
       "             ('SchoolHoliday_fw', 0.01659750550194142),\n",
       "             ('Day', 0.014364069494162926),\n",
       "             ('PromoInterval', 0.013062601527095595),\n",
       "             ('trend_DE', 0.009442847049230369),\n",
       "             ('StateHoliday', 0.008465411946523905),\n",
       "             ('Max_TemperatureC', 0.00709008668626233),\n",
       "             ('Events', 0.00681045358197199),\n",
       "             ('Promo2SinceYear', 0.006733180922618476),\n",
       "             ('SchoolHoliday', 0.005598212055815621),\n",
       "             ('Mean_Wind_SpeedKm_h', 0.0017093907627153014),\n",
       "             ('CompetitionOpenSinceYear', -0.0011763801814840193),\n",
       "             ('Min_Humidity', -0.003326032988167891),\n",
       "             ('Promo', -0.0034097094590700384),\n",
       "             ('Promo_fw', -0.008064640073771908),\n",
       "             ('Month', -0.0109238352000444),\n",
       "             ('Mean_TemperatureC', -0.013652285840532285),\n",
       "             ('BeforeStateHoliday', -0.016814701443632583)])"
      ]
     },
     "execution_count": 38,
     "metadata": {},
     "output_type": "execute_result"
    }
   ],
   "source": [
    "imp_merged = {**dict(imp_cat), **dict(imp_cont)}\n",
    "imp_merged = collections.OrderedDict(sorted(imp_merged.items(), key=lambda kv: kv[1], reverse=True))\n",
    "imp_merged"
   ]
  },
  {
   "cell_type": "code",
   "execution_count": 39,
   "metadata": {
    "ExecuteTime": {
     "end_time": "2019-07-16T17:44:10.385668Z",
     "start_time": "2019-07-16T17:44:10.359590Z"
    }
   },
   "outputs": [],
   "source": [
    "f = open(path/\"ros_imp_merged.pkl\",\"wb\")\n",
    "pickle.dump(imp_merged,f)\n",
    "f.close()"
   ]
  },
  {
   "cell_type": "code",
   "execution_count": 40,
   "metadata": {
    "ExecuteTime": {
     "end_time": "2019-07-16T17:44:10.425335Z",
     "start_time": "2019-07-16T17:44:10.398948Z"
    }
   },
   "outputs": [],
   "source": [
    "f = open(path/\"ros_imp_merged.pkl\",\"rb\")\n",
    "imp_merged = pickle.load(f)\n",
    "f.close()"
   ]
  },
  {
   "cell_type": "code",
   "execution_count": 109,
   "metadata": {
    "ExecuteTime": {
     "end_time": "2019-07-16T17:47:05.121778Z",
     "start_time": "2019-07-16T17:47:04.536169Z"
    }
   },
   "outputs": [
    {
     "data": {
      "image/png": "[encoded data removed]",
      "text/plain": [
       "<Figure size 720x720 with 1 Axes>"
      ]
     },
     "metadata": {
      "needs_background": "light"
     },
     "output_type": "display_data"
    }
   ],
   "source": [
    "plot_importance(ord_dic_to_df(imp_merged), asc=False)"
   ]
  },
  {
   "cell_type": "markdown",
   "metadata": {},
   "source": [
    "----------------------------------------------------------"
   ]
  },
  {
   "cell_type": "markdown",
   "metadata": {},
   "source": [
    "Now let's try to test all columns at once with slightly shifted parameters.\n",
    "\n",
    "I will use one `train` (instead of 2) with 10 `cycles` and number of `rounds` (how many times we repeat the whole process for the sake of stability) is increased to 5 (from 3)"
   ]
  },
  {
   "cell_type": "code",
   "execution_count": 35,
   "metadata": {
    "ExecuteTime": {
     "end_time": "2019-07-18T01:53:40.513092Z",
     "start_time": "2019-07-18T01:53:40.484848Z"
    }
   },
   "outputs": [],
   "source": [
    "CAT_VARS_CONST = cat_vars_tpl\n",
    "CONT_VARS_CONST = cont_vars_tpl\n",
    "LAYERS = [1000, 500] \n",
    "PS = [0.01, 0.1]\n",
    "EMB_DROP = 0.04\n",
    "VALID_IDX = valid_idx\n",
    "is_overall_mode = True\n",
    "BS = 1024"
   ]
  },
  {
   "cell_type": "code",
   "execution_count": 36,
   "metadata": {
    "ExecuteTime": {
     "end_time": "2019-07-18T01:53:44.649848Z",
     "start_time": "2019-07-18T01:53:44.623754Z"
    }
   },
   "outputs": [],
   "source": [
    "rounds = 5\n",
    "acc_func = exp_rmspe\n",
    "cycles = 10\n",
    "trains = 1\n",
    "is_overall_mode = False"
   ]
  },
  {
   "cell_type": "code",
   "execution_count": 37,
   "metadata": {
    "ExecuteTime": {
     "end_time": "2019-07-18T01:53:45.779791Z",
     "start_time": "2019-07-18T01:53:45.751809Z"
    }
   },
   "outputs": [],
   "source": [
    "each_cat = [[var] for var in cat_vars_tpl]\n",
    "each_cont = [[var] for var in cont_vars_tpl]"
   ]
  },
  {
   "cell_type": "code",
   "execution_count": 38,
   "metadata": {
    "ExecuteTime": {
     "end_time": "2019-07-18T02:11:30.811211Z",
     "start_time": "2019-07-18T01:53:47.359712Z"
    }
   },
   "outputs": [],
   "source": [
    "# 12 mins\n",
    "base_error = calc_base_acc_steps(df=df, bs=BS, acc_func=acc_func, dep_var=dep_var, \n",
    "                                 cycles=cycles, rounds=rounds, trains=trains, is_overall_mode=is_overall_mode)"
   ]
  },
  {
   "cell_type": "code",
   "execution_count": 39,
   "metadata": {
    "ExecuteTime": {
     "end_time": "2019-07-18T02:11:30.846197Z",
     "start_time": "2019-07-18T02:11:30.815877Z"
    }
   },
   "outputs": [
    {
     "data": {
      "text/plain": [
       "0.10487300000000001"
      ]
     },
     "execution_count": 39,
     "metadata": {},
     "output_type": "execute_result"
    }
   ],
   "source": [
    "base_error"
   ]
  },
  {
   "cell_type": "code",
   "execution_count": 40,
   "metadata": {
    "ExecuteTime": {
     "end_time": "2019-07-18T13:25:21.895270Z",
     "start_time": "2019-07-18T02:11:30.847636Z"
    }
   },
   "outputs": [],
   "source": [
    "#Takes me 11 hours to run\n",
    "imp = calc_many_imps_relearn_steps(base_error=base_error, df=df, bs=BS, acc_func=acc_func, \n",
    "                                          dep_var=dep_var, to_drop_cats=each_cat, to_drop_conts=each_cont, \n",
    "                                          cycles=cycles, rounds=rounds, trains=trains, is_overall_mode=is_overall_mode)"
   ]
  },
  {
   "cell_type": "code",
   "execution_count": 41,
   "metadata": {
    "ExecuteTime": {
     "end_time": "2019-07-18T13:25:21.932564Z",
     "start_time": "2019-07-18T13:25:21.899649Z"
    }
   },
   "outputs": [
    {
     "data": {
      "text/plain": [
       "OrderedDict([('Store', 0.3876688947584219),\n",
       "             ('DayOfWeek', 0.07303119010612821),\n",
       "             ('StateHoliday_fw', 0.05619177481334562),\n",
       "             ('Year', 0.05133828535466694),\n",
       "             ('Day', 0.04550265559295527),\n",
       "             ('StateHoliday_bw', 0.030970793245163202),\n",
       "             ('Week', 0.025430759108636184),\n",
       "             ('Promo2SinceYear', 0.01951884660494115),\n",
       "             ('AfterStateHoliday', 0.015904951703489007),\n",
       "             ('Promo', 0.015685638820287333),\n",
       "             ('Month', 0.015256548396632024),\n",
       "             ('Max_Humidity', 0.013635540129489828),\n",
       "             ('trend_DE', 0.011699865551667177),\n",
       "             ('CompetitionMonthsOpen', 0.010994250188322898),\n",
       "             ('SchoolHoliday_bw', 0.010679583877642443),\n",
       "             ('Mean_TemperatureC', 0.010565159764667587),\n",
       "             ('CloudCover', 0.010250493453987132),\n",
       "             ('StateHoliday', 0.009287423836449694),\n",
       "             ('StoreType', 0.008152718049450235),\n",
       "             ('Mean_Humidity', 0.007714092283047021),\n",
       "             ('trend', 0.007370819944122852),\n",
       "             ('Events', 0.004958378228905368),\n",
       "             ('CompetitionDistance', 0.0048820954869221314),\n",
       "             ('PromoInterval', 0.004252762865561221),\n",
       "             ('Min_TemperatureC', 0.00414787409533427),\n",
       "             ('Max_TemperatureC', 0.0032706225625279725),\n",
       "             ('Max_Wind_SpeedKm_h', 0.003184804477796831),\n",
       "             ('Promo2Weeks', 0.002402906372469447),\n",
       "             ('Promo_fw', 0.0010202816740246022),\n",
       "             ('State', 0.0004767671373947011),\n",
       "             ('Assortment', -0.0006865446778484701),\n",
       "             ('CompetitionOpenSinceYear', -0.000715150706092184),\n",
       "             ('Mean_Wind_SpeedKm_h', -0.001659149638133814),\n",
       "             ('SchoolHoliday', -0.0024887244572008534),\n",
       "             ('SchoolHoliday_fw', -0.004062056010603394),\n",
       "             ('Promo_bw', -0.005606781535762485),\n",
       "             ('Min_Humidity', -0.012653399826456845),\n",
       "             ('BeforeStateHoliday', -0.017306647087429662)])"
      ]
     },
     "execution_count": 41,
     "metadata": {},
     "output_type": "execute_result"
    }
   ],
   "source": [
    "imp"
   ]
  },
  {
   "cell_type": "code",
   "execution_count": 42,
   "metadata": {
    "ExecuteTime": {
     "end_time": "2019-07-18T13:25:21.969469Z",
     "start_time": "2019-07-18T13:25:21.938431Z"
    }
   },
   "outputs": [],
   "source": [
    "f = open(path/\"ros_imp_all.pkl\",\"wb\")\n",
    "pickle.dump(imp,f)\n",
    "f.close()"
   ]
  },
  {
   "cell_type": "code",
   "execution_count": 43,
   "metadata": {
    "ExecuteTime": {
     "end_time": "2019-07-18T13:25:22.006801Z",
     "start_time": "2019-07-18T13:25:21.975577Z"
    }
   },
   "outputs": [],
   "source": [
    "f = open(path/\"ros_imp_all.pkl\",\"rb\")\n",
    "imp_all = pickle.load(f)\n",
    "f.close()"
   ]
  },
  {
   "cell_type": "code",
   "execution_count": 44,
   "metadata": {
    "ExecuteTime": {
     "end_time": "2019-07-18T13:25:22.624198Z",
     "start_time": "2019-07-18T13:25:22.008551Z"
    }
   },
   "outputs": [
    {
     "data": {
      "image/png": "[encoded data removed]",
      "text/plain": [
       "<Figure size 720x720 with 1 Axes>"
      ]
     },
     "metadata": {
      "needs_background": "light"
     },
     "output_type": "display_data"
    }
   ],
   "source": [
    "plot_importance(ord_dic_to_df(imp_all), asc=False)"
   ]
  },
  {
   "cell_type": "markdown",
   "metadata": {},
   "source": [
    "As you can see the relative values between different features are comparable (naive vs retrain). Which to choose is a trick question. On the one hand naive method is waaaaaaaay faster. On the other -- it depends what you mean on the word **importance**. \n",
    "If you would have every feature as a separate entity, not related to one another, I would expect results to be much more similar (and I would definitely recomend naive method), but in real life they hardly ever do. It real life you have a mess of interconnected (as well as created by yourself, derivative) features. And what do you really want to know? How your current model *ranks* features one to another relative to your depended variable or how much *unique* info this current feature holds. I say, it depends. I see many cases when first option will be better and many for the second one (at least the one where we try to eliminate redundant features).\n",
    "\n",
    "Also here we still can see some instability in values (between imp_merged and man imp). This is a matter of small diferences in accuracies and overall probabilistic nature of model training, which I tried to reduce with higher rounds value, but was unable to rid off completely.\n",
    "(Don't forget to recalculate base_error before that)"
   ]
  },
  {
   "cell_type": "markdown",
   "metadata": {},
   "source": [
    "One of the most interesting things here is that we should check the importance of not only one column at a time, but for a number of 'linked' columns (treat it as one entity). It is possible with these functions, but it is extremely time consuming to check all the variants with only 2 columns 'linked'"
   ]
  },
  {
   "cell_type": "markdown",
   "metadata": {},
   "source": [
    "## Partial Dependence"
   ]
  },
  {
   "cell_type": "markdown",
   "metadata": {
    "ExecuteTime": {
     "end_time": "2019-04-26T18:27:48.590881Z",
     "start_time": "2019-04-26T18:27:48.552873Z"
    }
   },
   "source": [
    "What partial dependence is?  \n",
    "In short it shows you how 'important' not the feature itself is, but how particular category affects the dependent variable.  \n",
    "For ex. we can determine what day of the month sales are the biggest.  \n",
    "It looks like we can get this info directly from data (without any model). We just make a plot Month vs Sales. But it won't be the 'clean experiment'. What we really want is to calculate category importance all other things being equal.  \n",
    "How can we do that?  \n",
    "If we have a model, we can make an experiment. Let's take all our data and set the day column to 1. Now we have a bunch of data of what will be the sales for every Store, every Year etc for this particular Day. And we can take median across all of the dataset (that will be the thing we want -- median Sales on the 1st day of the month, everything other is beeing equal). And then we repeat it for every category (from 2 to 31). Comparing these medians we can determine what category influence Sales the most (and how)."
   ]
  },
  {
   "cell_type": "code",
   "execution_count": 98,
   "metadata": {
    "ExecuteTime": {
     "end_time": "2019-07-18T13:26:43.694405Z",
     "start_time": "2019-07-18T13:26:43.556488Z"
    },
    "init_cell": true
   },
   "outputs": [],
   "source": [
    "def get_field_uniq_x_coef(df:DataFrame, field:str, coef:float)->list:\n",
    "    '''\n",
    "    This function outputs threshold to number of occurrences different variants of list of columns (fields) \n",
    "    In short if coef for ex. is 0.9, then function outputs number of occurrences for all but least 10%\n",
    "    of the least used\n",
    "    If coef is more 1.0, then 'coef' itself is used as threshold\n",
    "    ''' \n",
    "    if (coef > 1):\n",
    "        return math.ceil(coef)\n",
    "    coef = 0. if (coef < 0) else coef\n",
    "    occs = df.groupby(field).size().reset_index(name=\"Times\").sort_values(['Times'], ascending=False)\n",
    "    num = math.ceil(coef*len(occs))\n",
    "    if (num <= 0):\n",
    "        # number of occurances is now = max_occs+1 (so it will be no items with this filter)\n",
    "        return occs.iloc[0]['Times'] + 1\n",
    "    else:\n",
    "        return occs.iloc[num-1]['Times']\n",
    "\n",
    "def get_part_dep_one_list(df:DataFrame, \n",
    "                     learn:Learner, bs:int=None, fields:list=(), coef:float=1.0, to_int:bool=False, \n",
    "                     dep_name:str=None, is_sorted:bool=True)->DataFrame:\n",
    "    '''\n",
    "    Function calculate partial dependency for column in fields.\n",
    "    Fields is a list of lists of what columns we want to test. The inner items are treated as connected fields.\n",
    "    For ex. fields = [['Store','StoreType']] mean that Store and StoreType is treated as one entity \n",
    "    (it's values are substitute as a pair, not as separate values)\n",
    "    coef is useful when we don't want to deal with all the variants, but only with most common\n",
    "    '''\n",
    "    if (dep_name is None):\n",
    "        dep_name = 'dep_var'\n",
    "    fields = listify(fields)\n",
    "    df = apply_fill(df=df, learn=learn)\n",
    "    \n",
    "    field_min_occ = get_field_uniq_x_coef(df=df, field=fields, coef=coef)\n",
    "    occs = df.groupby(fields).size().reset_index(name=\"Times\").sort_values(['Times'], ascending=False)\n",
    "    occs = occs[occs['Times'] >= field_min_occ]\n",
    "    df_copy = df.merge(occs[fields]).copy()        \n",
    "    \n",
    "    frame = []\n",
    "    ln = len(occs)\n",
    "    if (ln > 0):\n",
    "        pbar = master_bar(occs.iterrows(), total=ln)\n",
    "        for _, row in pbar:\n",
    "            # We don't need to do df_copy = df.merge(occs[field]).copy() every time \n",
    "            # as every time we change the same column (set of columns)\n",
    "            record = []\n",
    "            pb = progress_bar(fields, display=False, parent=pbar)\n",
    "            for fld in pb:\n",
    "                df_copy[fld] = row[fld] \n",
    "            preds = get_cust_preds(df=df_copy, learn=learn, bs=bs)\n",
    "            preds = np.exp(np.median(preds)) if (hasattr(learn.data, 'log') and learn.data.log) else np.median(preds)\n",
    "            pred = int(preds) if to_int else preds\n",
    "            for fld in fields:\n",
    "                record.append(row[fld])\n",
    "            record.append(pred)\n",
    "            record.append(row['Times'])\n",
    "            frame.append(record)\n",
    "    out = pd.DataFrame(frame, columns=fields+[dep_name, 'times'])\n",
    "    median = out[dep_name].median()\n",
    "    out[dep_name] /= median\n",
    "    if (is_sorted == True):\n",
    "        out = out.sort_values(by=dep_name, ascending=False)\n",
    "    return out\n",
    "\n",
    "def get_cat_cols(learn:Learner,  is_wo_na=True)->List:\n",
    "    '''\n",
    "    Just outputs category fields from LabelLists object\n",
    "    '''\n",
    "    catf = None\n",
    "    result = []\n",
    "    proc = learn.data.processor[0]    \n",
    "    for prc in proc.procs:\n",
    "        if (type(prc) == Categorify):\n",
    "            catf = prc        \n",
    "    if (catf is not None):\n",
    "        result = [c for c in catf.cat_names if ((is_wo_na is not None) and (is_wo_na == True) and (c[-3:] != \"_na\"))]        \n",
    "    return result\n",
    "\n",
    "\n",
    "def get_cont_cols(learn:Learner)->List:\n",
    "    '''\n",
    "    Just outputs continuous fields from LabelLists object\n",
    "    '''\n",
    "    norm = None\n",
    "    result = []\n",
    "    proc = learn.data.processor[0]\n",
    "    \n",
    "    for prc in proc.procs:\n",
    "        if (type(prc) == Normalize):\n",
    "            norm = prc\n",
    "        \n",
    "    if (norm is not None):\n",
    "        result = norm.cont_names\n",
    "        \n",
    "    return result\n",
    "\n",
    "\n",
    "def get_part_dep(df:DataFrame, learn:Learner, bs:int=None, \n",
    "                 fields:tuple=None, coef:float=1.0, to_int:bool=False, \n",
    "                 dep_name:str=None, is_sorted:bool=True)->List:\n",
    "    '''\n",
    "    Makes a datafreme with partial dependencies for every categorical variable in df\n",
    "    '''\n",
    "    result = []\n",
    "    if (fields is None):\n",
    "        fields = get_cat_cols(learn=learn)\n",
    "    \n",
    "    for field in fields:\n",
    "        new_df = get_part_dep_one_list(df=df, learn=learn, bs=bs, fields=field, to_int=to_int, \n",
    "                                       dep_name=dep_name, coef=coef, is_sorted=is_sorted)\n",
    "        new_df['feature'] = str(field)\n",
    "        new_df = new_df.rename(index=str, columns={str(field): \"value\"})\n",
    "        result.append(new_df) \n",
    "    clear_pbar()\n",
    "    result = pd.concat(result, ignore_index=True)\n",
    "    result = result[['feature', 'value', dep_name, 'times']]\n",
    "    \n",
    "    return result\n",
    "\n",
    "part_dep_multi = partial(get_part_dep_one_list, df=df, learn=learn, bs=BS, to_int=True, dep_name=dep_var)"
   ]
  },
  {
   "cell_type": "code",
   "execution_count": 112,
   "metadata": {
    "ExecuteTime": {
     "end_time": "2019-07-16T17:56:22.026186Z",
     "start_time": "2019-07-16T17:56:21.711756Z"
    }
   },
   "outputs": [
    {
     "data": {
      "text/plain": [
       "[('Store', 1115),\n",
       " ('DayOfWeek', 7),\n",
       " ('Year', 3),\n",
       " ('Month', 12),\n",
       " ('Day', 31),\n",
       " ('StateHoliday', 2),\n",
       " ('CompetitionMonthsOpen', 25),\n",
       " ('Promo2Weeks', 26),\n",
       " ('StoreType', 4),\n",
       " ('Assortment', 3),\n",
       " ('PromoInterval', 4),\n",
       " ('CompetitionOpenSinceYear', 23),\n",
       " ('Promo2SinceYear', 8),\n",
       " ('State', 12),\n",
       " ('Week', 52),\n",
       " ('Events', 22),\n",
       " ('Promo_fw', 6),\n",
       " ('Promo_bw', 6),\n",
       " ('StateHoliday_fw', 3),\n",
       " ('StateHoliday_bw', 3),\n",
       " ('SchoolHoliday_fw', 8),\n",
       " ('SchoolHoliday_bw', 8)]"
      ]
     },
     "execution_count": 112,
     "metadata": {},
     "output_type": "execute_result"
    }
   ],
   "source": [
    "[(cat, len(df[cat].unique())) for cat in cat_vars_tpl]"
   ]
  },
  {
   "cell_type": "code",
   "execution_count": 117,
   "metadata": {
    "ExecuteTime": {
     "end_time": "2019-07-16T18:22:21.231405Z",
     "start_time": "2019-07-16T18:00:51.288557Z"
    },
    "scrolled": true
   },
   "outputs": [
    {
     "data": {
      "text/html": [
       "<div>\n",
       "<style scoped>\n",
       "    .dataframe tbody tr th:only-of-type {\n",
       "        vertical-align: middle;\n",
       "    }\n",
       "\n",
       "    .dataframe tbody tr th {\n",
       "        vertical-align: top;\n",
       "    }\n",
       "\n",
       "    .dataframe thead th {\n",
       "        text-align: right;\n",
       "    }\n",
       "</style>\n",
       "<table border=\"1\" class=\"dataframe\">\n",
       "  <thead>\n",
       "    <tr style=\"text-align: right;\">\n",
       "      <th></th>\n",
       "      <th>feature</th>\n",
       "      <th>value</th>\n",
       "      <th>Sales</th>\n",
       "      <th>times</th>\n",
       "    </tr>\n",
       "  </thead>\n",
       "  <tbody>\n",
       "    <tr>\n",
       "      <th>0</th>\n",
       "      <td>Store</td>\n",
       "      <td>262</td>\n",
       "      <td>2.003058</td>\n",
       "      <td>942.0</td>\n",
       "    </tr>\n",
       "    <tr>\n",
       "      <th>1</th>\n",
       "      <td>Store</td>\n",
       "      <td>562</td>\n",
       "      <td>1.876951</td>\n",
       "      <td>942.0</td>\n",
       "    </tr>\n",
       "    <tr>\n",
       "      <th>2</th>\n",
       "      <td>Store</td>\n",
       "      <td>733</td>\n",
       "      <td>1.509490</td>\n",
       "      <td>942.0</td>\n",
       "    </tr>\n",
       "    <tr>\n",
       "      <th>3</th>\n",
       "      <td>Store</td>\n",
       "      <td>335</td>\n",
       "      <td>1.355335</td>\n",
       "      <td>942.0</td>\n",
       "    </tr>\n",
       "    <tr>\n",
       "      <th>4</th>\n",
       "      <td>Store</td>\n",
       "      <td>259</td>\n",
       "      <td>1.184416</td>\n",
       "      <td>931.0</td>\n",
       "    </tr>\n",
       "    <tr>\n",
       "      <th>5</th>\n",
       "      <td>Store</td>\n",
       "      <td>682</td>\n",
       "      <td>1.154471</td>\n",
       "      <td>942.0</td>\n",
       "    </tr>\n",
       "    <tr>\n",
       "      <th>6</th>\n",
       "      <td>Store</td>\n",
       "      <td>769</td>\n",
       "      <td>1.102805</td>\n",
       "      <td>942.0</td>\n",
       "    </tr>\n",
       "    <tr>\n",
       "      <th>7</th>\n",
       "      <td>Store</td>\n",
       "      <td>423</td>\n",
       "      <td>1.070540</td>\n",
       "      <td>942.0</td>\n",
       "    </tr>\n",
       "    <tr>\n",
       "      <th>8</th>\n",
       "      <td>Store</td>\n",
       "      <td>1097</td>\n",
       "      <td>1.000000</td>\n",
       "      <td>942.0</td>\n",
       "    </tr>\n",
       "    <tr>\n",
       "      <th>9</th>\n",
       "      <td>Store</td>\n",
       "      <td>578</td>\n",
       "      <td>0.967208</td>\n",
       "      <td>901.0</td>\n",
       "    </tr>\n",
       "    <tr>\n",
       "      <th>10</th>\n",
       "      <td>Store</td>\n",
       "      <td>494</td>\n",
       "      <td>0.785639</td>\n",
       "      <td>942.0</td>\n",
       "    </tr>\n",
       "    <tr>\n",
       "      <th>11</th>\n",
       "      <td>Store</td>\n",
       "      <td>676</td>\n",
       "      <td>0.762864</td>\n",
       "      <td>918.0</td>\n",
       "    </tr>\n",
       "    <tr>\n",
       "      <th>12</th>\n",
       "      <td>Store</td>\n",
       "      <td>948</td>\n",
       "      <td>0.686314</td>\n",
       "      <td>927.0</td>\n",
       "    </tr>\n",
       "    <tr>\n",
       "      <th>13</th>\n",
       "      <td>Store</td>\n",
       "      <td>85</td>\n",
       "      <td>0.669232</td>\n",
       "      <td>942.0</td>\n",
       "    </tr>\n",
       "    <tr>\n",
       "      <th>14</th>\n",
       "      <td>Store</td>\n",
       "      <td>353</td>\n",
       "      <td>0.563475</td>\n",
       "      <td>930.0</td>\n",
       "    </tr>\n",
       "    <tr>\n",
       "      <th>15</th>\n",
       "      <td>Store</td>\n",
       "      <td>530</td>\n",
       "      <td>0.515289</td>\n",
       "      <td>906.0</td>\n",
       "    </tr>\n",
       "    <tr>\n",
       "      <th>16</th>\n",
       "      <td>Store</td>\n",
       "      <td>274</td>\n",
       "      <td>0.371468</td>\n",
       "      <td>932.0</td>\n",
       "    </tr>\n",
       "    <tr>\n",
       "      <th>17</th>\n",
       "      <td>DayOfWeek</td>\n",
       "      <td>1</td>\n",
       "      <td>1.035161</td>\n",
       "      <td>137557.0</td>\n",
       "    </tr>\n",
       "    <tr>\n",
       "      <th>18</th>\n",
       "      <td>DayOfWeek</td>\n",
       "      <td>5</td>\n",
       "      <td>1.020806</td>\n",
       "      <td>138633.0</td>\n",
       "    </tr>\n",
       "    <tr>\n",
       "      <th>19</th>\n",
       "      <td>DayOfWeek</td>\n",
       "      <td>2</td>\n",
       "      <td>1.008387</td>\n",
       "      <td>143955.0</td>\n",
       "    </tr>\n",
       "    <tr>\n",
       "      <th>20</th>\n",
       "      <td>DayOfWeek</td>\n",
       "      <td>4</td>\n",
       "      <td>1.000000</td>\n",
       "      <td>134626.0</td>\n",
       "    </tr>\n",
       "    <tr>\n",
       "      <th>21</th>\n",
       "      <td>DayOfWeek</td>\n",
       "      <td>3</td>\n",
       "      <td>0.996452</td>\n",
       "      <td>141922.0</td>\n",
       "    </tr>\n",
       "    <tr>\n",
       "      <th>22</th>\n",
       "      <td>DayOfWeek</td>\n",
       "      <td>6</td>\n",
       "      <td>0.970645</td>\n",
       "      <td>144052.0</td>\n",
       "    </tr>\n",
       "    <tr>\n",
       "      <th>23</th>\n",
       "      <td>DayOfWeek</td>\n",
       "      <td>7</td>\n",
       "      <td>0.953065</td>\n",
       "      <td>3593.0</td>\n",
       "    </tr>\n",
       "    <tr>\n",
       "      <th>24</th>\n",
       "      <td>Year</td>\n",
       "      <td>2014</td>\n",
       "      <td>1.000315</td>\n",
       "      <td>310385.0</td>\n",
       "    </tr>\n",
       "    <tr>\n",
       "      <th>25</th>\n",
       "      <td>Year</td>\n",
       "      <td>2015</td>\n",
       "      <td>1.000000</td>\n",
       "      <td>196029.0</td>\n",
       "    </tr>\n",
       "    <tr>\n",
       "      <th>26</th>\n",
       "      <td>Year</td>\n",
       "      <td>2013</td>\n",
       "      <td>0.991971</td>\n",
       "      <td>337924.0</td>\n",
       "    </tr>\n",
       "    <tr>\n",
       "      <th>27</th>\n",
       "      <td>Month</td>\n",
       "      <td>12</td>\n",
       "      <td>1.027994</td>\n",
       "      <td>50393.0</td>\n",
       "    </tr>\n",
       "    <tr>\n",
       "      <th>28</th>\n",
       "      <td>Month</td>\n",
       "      <td>6</td>\n",
       "      <td>1.011293</td>\n",
       "      <td>82571.0</td>\n",
       "    </tr>\n",
       "    <tr>\n",
       "      <th>29</th>\n",
       "      <td>Month</td>\n",
       "      <td>7</td>\n",
       "      <td>1.009544</td>\n",
       "      <td>85576.0</td>\n",
       "    </tr>\n",
       "    <tr>\n",
       "      <th>...</th>\n",
       "      <td>...</td>\n",
       "      <td>...</td>\n",
       "      <td>...</td>\n",
       "      <td>...</td>\n",
       "    </tr>\n",
       "    <tr>\n",
       "      <th>241</th>\n",
       "      <td>Promo_fw</td>\n",
       "      <td>1</td>\n",
       "      <td>0.993512</td>\n",
       "      <td>128126.0</td>\n",
       "    </tr>\n",
       "    <tr>\n",
       "      <th>242</th>\n",
       "      <td>Promo_fw</td>\n",
       "      <td>3</td>\n",
       "      <td>0.989027</td>\n",
       "      <td>125201.0</td>\n",
       "    </tr>\n",
       "    <tr>\n",
       "      <th>243</th>\n",
       "      <td>Promo_fw</td>\n",
       "      <td>2</td>\n",
       "      <td>0.984862</td>\n",
       "      <td>128909.0</td>\n",
       "    </tr>\n",
       "    <tr>\n",
       "      <th>244</th>\n",
       "      <td>Promo_bw</td>\n",
       "      <td>1</td>\n",
       "      <td>1.025719</td>\n",
       "      <td>124167.0</td>\n",
       "    </tr>\n",
       "    <tr>\n",
       "      <th>245</th>\n",
       "      <td>Promo_bw</td>\n",
       "      <td>5</td>\n",
       "      <td>1.018027</td>\n",
       "      <td>195384.0</td>\n",
       "    </tr>\n",
       "    <tr>\n",
       "      <th>246</th>\n",
       "      <td>Promo_bw</td>\n",
       "      <td>0</td>\n",
       "      <td>1.008894</td>\n",
       "      <td>143957.0</td>\n",
       "    </tr>\n",
       "    <tr>\n",
       "      <th>247</th>\n",
       "      <td>Promo_bw</td>\n",
       "      <td>2</td>\n",
       "      <td>0.991106</td>\n",
       "      <td>129374.0</td>\n",
       "    </tr>\n",
       "    <tr>\n",
       "      <th>248</th>\n",
       "      <td>Promo_bw</td>\n",
       "      <td>3</td>\n",
       "      <td>0.987100</td>\n",
       "      <td>130598.0</td>\n",
       "    </tr>\n",
       "    <tr>\n",
       "      <th>249</th>\n",
       "      <td>Promo_bw</td>\n",
       "      <td>4</td>\n",
       "      <td>0.987100</td>\n",
       "      <td>120858.0</td>\n",
       "    </tr>\n",
       "    <tr>\n",
       "      <th>250</th>\n",
       "      <td>StateHoliday_fw</td>\n",
       "      <td>2</td>\n",
       "      <td>1.015985</td>\n",
       "      <td>19023.0</td>\n",
       "    </tr>\n",
       "    <tr>\n",
       "      <th>251</th>\n",
       "      <td>StateHoliday_fw</td>\n",
       "      <td>1</td>\n",
       "      <td>1.000000</td>\n",
       "      <td>104923.0</td>\n",
       "    </tr>\n",
       "    <tr>\n",
       "      <th>252</th>\n",
       "      <td>StateHoliday_fw</td>\n",
       "      <td>0</td>\n",
       "      <td>0.988560</td>\n",
       "      <td>720392.0</td>\n",
       "    </tr>\n",
       "    <tr>\n",
       "      <th>253</th>\n",
       "      <td>StateHoliday_bw</td>\n",
       "      <td>2</td>\n",
       "      <td>1.028660</td>\n",
       "      <td>19359.0</td>\n",
       "    </tr>\n",
       "    <tr>\n",
       "      <th>254</th>\n",
       "      <td>StateHoliday_bw</td>\n",
       "      <td>1</td>\n",
       "      <td>1.000000</td>\n",
       "      <td>110383.0</td>\n",
       "    </tr>\n",
       "    <tr>\n",
       "      <th>255</th>\n",
       "      <td>StateHoliday_bw</td>\n",
       "      <td>0</td>\n",
       "      <td>0.976762</td>\n",
       "      <td>714596.0</td>\n",
       "    </tr>\n",
       "    <tr>\n",
       "      <th>256</th>\n",
       "      <td>SchoolHoliday_fw</td>\n",
       "      <td>3</td>\n",
       "      <td>1.007182</td>\n",
       "      <td>27223.0</td>\n",
       "    </tr>\n",
       "    <tr>\n",
       "      <th>257</th>\n",
       "      <td>SchoolHoliday_fw</td>\n",
       "      <td>2</td>\n",
       "      <td>1.004840</td>\n",
       "      <td>28490.0</td>\n",
       "    </tr>\n",
       "    <tr>\n",
       "      <th>258</th>\n",
       "      <td>SchoolHoliday_fw</td>\n",
       "      <td>1</td>\n",
       "      <td>1.002186</td>\n",
       "      <td>39540.0</td>\n",
       "    </tr>\n",
       "    <tr>\n",
       "      <th>259</th>\n",
       "      <td>SchoolHoliday_fw</td>\n",
       "      <td>4</td>\n",
       "      <td>1.000000</td>\n",
       "      <td>24244.0</td>\n",
       "    </tr>\n",
       "    <tr>\n",
       "      <th>260</th>\n",
       "      <td>SchoolHoliday_fw</td>\n",
       "      <td>5</td>\n",
       "      <td>0.992194</td>\n",
       "      <td>124992.0</td>\n",
       "    </tr>\n",
       "    <tr>\n",
       "      <th>261</th>\n",
       "      <td>SchoolHoliday_fw</td>\n",
       "      <td>7</td>\n",
       "      <td>0.990788</td>\n",
       "      <td>13683.0</td>\n",
       "    </tr>\n",
       "    <tr>\n",
       "      <th>262</th>\n",
       "      <td>SchoolHoliday_fw</td>\n",
       "      <td>0</td>\n",
       "      <td>0.989071</td>\n",
       "      <td>585396.0</td>\n",
       "    </tr>\n",
       "    <tr>\n",
       "      <th>263</th>\n",
       "      <td>SchoolHoliday_bw</td>\n",
       "      <td>4</td>\n",
       "      <td>1.004640</td>\n",
       "      <td>24908.0</td>\n",
       "    </tr>\n",
       "    <tr>\n",
       "      <th>264</th>\n",
       "      <td>SchoolHoliday_bw</td>\n",
       "      <td>1</td>\n",
       "      <td>1.004326</td>\n",
       "      <td>39920.0</td>\n",
       "    </tr>\n",
       "    <tr>\n",
       "      <th>265</th>\n",
       "      <td>SchoolHoliday_bw</td>\n",
       "      <td>0</td>\n",
       "      <td>1.001652</td>\n",
       "      <td>583273.0</td>\n",
       "    </tr>\n",
       "    <tr>\n",
       "      <th>266</th>\n",
       "      <td>SchoolHoliday_bw</td>\n",
       "      <td>2</td>\n",
       "      <td>1.000236</td>\n",
       "      <td>29564.0</td>\n",
       "    </tr>\n",
       "    <tr>\n",
       "      <th>267</th>\n",
       "      <td>SchoolHoliday_bw</td>\n",
       "      <td>3</td>\n",
       "      <td>0.999764</td>\n",
       "      <td>26900.0</td>\n",
       "    </tr>\n",
       "    <tr>\n",
       "      <th>268</th>\n",
       "      <td>SchoolHoliday_bw</td>\n",
       "      <td>6</td>\n",
       "      <td>0.987967</td>\n",
       "      <td>2507.0</td>\n",
       "    </tr>\n",
       "    <tr>\n",
       "      <th>269</th>\n",
       "      <td>SchoolHoliday_bw</td>\n",
       "      <td>5</td>\n",
       "      <td>0.984664</td>\n",
       "      <td>123831.0</td>\n",
       "    </tr>\n",
       "    <tr>\n",
       "      <th>270</th>\n",
       "      <td>SchoolHoliday_bw</td>\n",
       "      <td>7</td>\n",
       "      <td>0.982462</td>\n",
       "      <td>13435.0</td>\n",
       "    </tr>\n",
       "  </tbody>\n",
       "</table>\n",
       "<p>271 rows × 4 columns</p>\n",
       "</div>"
      ],
      "text/plain": [
       "              feature value     Sales     times\n",
       "0               Store   262  2.003058     942.0\n",
       "1               Store   562  1.876951     942.0\n",
       "2               Store   733  1.509490     942.0\n",
       "3               Store   335  1.355335     942.0\n",
       "4               Store   259  1.184416     931.0\n",
       "5               Store   682  1.154471     942.0\n",
       "6               Store   769  1.102805     942.0\n",
       "7               Store   423  1.070540     942.0\n",
       "8               Store  1097  1.000000     942.0\n",
       "9               Store   578  0.967208     901.0\n",
       "10              Store   494  0.785639     942.0\n",
       "11              Store   676  0.762864     918.0\n",
       "12              Store   948  0.686314     927.0\n",
       "13              Store    85  0.669232     942.0\n",
       "14              Store   353  0.563475     930.0\n",
       "15              Store   530  0.515289     906.0\n",
       "16              Store   274  0.371468     932.0\n",
       "17          DayOfWeek     1  1.035161  137557.0\n",
       "18          DayOfWeek     5  1.020806  138633.0\n",
       "19          DayOfWeek     2  1.008387  143955.0\n",
       "20          DayOfWeek     4  1.000000  134626.0\n",
       "21          DayOfWeek     3  0.996452  141922.0\n",
       "22          DayOfWeek     6  0.970645  144052.0\n",
       "23          DayOfWeek     7  0.953065    3593.0\n",
       "24               Year  2014  1.000315  310385.0\n",
       "25               Year  2015  1.000000  196029.0\n",
       "26               Year  2013  0.991971  337924.0\n",
       "27              Month    12  1.027994   50393.0\n",
       "28              Month     6  1.011293   82571.0\n",
       "29              Month     7  1.009544   85576.0\n",
       "..                ...   ...       ...       ...\n",
       "241          Promo_fw     1  0.993512  128126.0\n",
       "242          Promo_fw     3  0.989027  125201.0\n",
       "243          Promo_fw     2  0.984862  128909.0\n",
       "244          Promo_bw     1  1.025719  124167.0\n",
       "245          Promo_bw     5  1.018027  195384.0\n",
       "246          Promo_bw     0  1.008894  143957.0\n",
       "247          Promo_bw     2  0.991106  129374.0\n",
       "248          Promo_bw     3  0.987100  130598.0\n",
       "249          Promo_bw     4  0.987100  120858.0\n",
       "250   StateHoliday_fw     2  1.015985   19023.0\n",
       "251   StateHoliday_fw     1  1.000000  104923.0\n",
       "252   StateHoliday_fw     0  0.988560  720392.0\n",
       "253   StateHoliday_bw     2  1.028660   19359.0\n",
       "254   StateHoliday_bw     1  1.000000  110383.0\n",
       "255   StateHoliday_bw     0  0.976762  714596.0\n",
       "256  SchoolHoliday_fw     3  1.007182   27223.0\n",
       "257  SchoolHoliday_fw     2  1.004840   28490.0\n",
       "258  SchoolHoliday_fw     1  1.002186   39540.0\n",
       "259  SchoolHoliday_fw     4  1.000000   24244.0\n",
       "260  SchoolHoliday_fw     5  0.992194  124992.0\n",
       "261  SchoolHoliday_fw     7  0.990788   13683.0\n",
       "262  SchoolHoliday_fw     0  0.989071  585396.0\n",
       "263  SchoolHoliday_bw     4  1.004640   24908.0\n",
       "264  SchoolHoliday_bw     1  1.004326   39920.0\n",
       "265  SchoolHoliday_bw     0  1.001652  583273.0\n",
       "266  SchoolHoliday_bw     2  1.000236   29564.0\n",
       "267  SchoolHoliday_bw     3  0.999764   26900.0\n",
       "268  SchoolHoliday_bw     6  0.987967    2507.0\n",
       "269  SchoolHoliday_bw     5  0.984664  123831.0\n",
       "270  SchoolHoliday_bw     7  0.982462   13435.0\n",
       "\n",
       "[271 rows x 4 columns]"
      ]
     },
     "execution_count": 117,
     "metadata": {},
     "output_type": "execute_result"
    }
   ],
   "source": [
    "#Takes me 23 min to run\n",
    "prt_dep_all = get_part_dep(df=df, learn=learn, bs=BS, coef=900, \n",
    "             to_int=True, dep_name=dep_var, is_sorted=True)\n",
    "prt_dep_all"
   ]
  },
  {
   "cell_type": "code",
   "execution_count": 118,
   "metadata": {
    "ExecuteTime": {
     "end_time": "2019-07-16T18:26:07.850319Z",
     "start_time": "2019-07-16T18:26:07.761300Z"
    }
   },
   "outputs": [],
   "source": [
    "f = open(path/\"prt_dep_900.pkl\",\"wb\")\n",
    "pickle.dump(prt_dep_all,f)\n",
    "f.close()"
   ]
  },
  {
   "cell_type": "code",
   "execution_count": 119,
   "metadata": {
    "ExecuteTime": {
     "end_time": "2019-07-16T18:26:08.832935Z",
     "start_time": "2019-07-16T18:26:08.743455Z"
    }
   },
   "outputs": [],
   "source": [
    "f = open(path/\"prt_dep_900.pkl\",\"rb\")\n",
    "prt_dep_all = pickle.load(f)\n",
    "f.close()"
   ]
  },
  {
   "cell_type": "code",
   "execution_count": 120,
   "metadata": {
    "ExecuteTime": {
     "end_time": "2019-07-16T18:26:10.616217Z",
     "start_time": "2019-07-16T18:26:10.518734Z"
    },
    "scrolled": true
   },
   "outputs": [
    {
     "data": {
      "text/html": [
       "<div>\n",
       "<style scoped>\n",
       "    .dataframe tbody tr th:only-of-type {\n",
       "        vertical-align: middle;\n",
       "    }\n",
       "\n",
       "    .dataframe tbody tr th {\n",
       "        vertical-align: top;\n",
       "    }\n",
       "\n",
       "    .dataframe thead th {\n",
       "        text-align: right;\n",
       "    }\n",
       "</style>\n",
       "<table border=\"1\" class=\"dataframe\">\n",
       "  <thead>\n",
       "    <tr style=\"text-align: right;\">\n",
       "      <th></th>\n",
       "      <th>feature</th>\n",
       "      <th>value</th>\n",
       "      <th>Sales</th>\n",
       "      <th>times</th>\n",
       "    </tr>\n",
       "  </thead>\n",
       "  <tbody>\n",
       "    <tr>\n",
       "      <th>162</th>\n",
       "      <td>State</td>\n",
       "      <td>BE</td>\n",
       "      <td>1.014214</td>\n",
       "      <td>72353.0</td>\n",
       "    </tr>\n",
       "    <tr>\n",
       "      <th>163</th>\n",
       "      <td>State</td>\n",
       "      <td>SN</td>\n",
       "      <td>1.010897</td>\n",
       "      <td>58352.0</td>\n",
       "    </tr>\n",
       "    <tr>\n",
       "      <th>164</th>\n",
       "      <td>State</td>\n",
       "      <td>TH</td>\n",
       "      <td>1.009476</td>\n",
       "      <td>28136.0</td>\n",
       "    </tr>\n",
       "    <tr>\n",
       "      <th>165</th>\n",
       "      <td>State</td>\n",
       "      <td>ST</td>\n",
       "      <td>1.006475</td>\n",
       "      <td>43555.0</td>\n",
       "    </tr>\n",
       "    <tr>\n",
       "      <th>166</th>\n",
       "      <td>State</td>\n",
       "      <td>HH</td>\n",
       "      <td>1.002843</td>\n",
       "      <td>22107.0</td>\n",
       "    </tr>\n",
       "    <tr>\n",
       "      <th>167</th>\n",
       "      <td>State</td>\n",
       "      <td>HB,NI</td>\n",
       "      <td>1.001421</td>\n",
       "      <td>17404.0</td>\n",
       "    </tr>\n",
       "    <tr>\n",
       "      <th>168</th>\n",
       "      <td>State</td>\n",
       "      <td>SH</td>\n",
       "      <td>0.998579</td>\n",
       "      <td>91704.0</td>\n",
       "    </tr>\n",
       "    <tr>\n",
       "      <th>169</th>\n",
       "      <td>State</td>\n",
       "      <td>NW</td>\n",
       "      <td>0.997631</td>\n",
       "      <td>222930.0</td>\n",
       "    </tr>\n",
       "    <tr>\n",
       "      <th>170</th>\n",
       "      <td>State</td>\n",
       "      <td>BY</td>\n",
       "      <td>0.995420</td>\n",
       "      <td>111959.0</td>\n",
       "    </tr>\n",
       "    <tr>\n",
       "      <th>171</th>\n",
       "      <td>State</td>\n",
       "      <td>HE</td>\n",
       "      <td>0.994946</td>\n",
       "      <td>87730.0</td>\n",
       "    </tr>\n",
       "    <tr>\n",
       "      <th>172</th>\n",
       "      <td>State</td>\n",
       "      <td>BW</td>\n",
       "      <td>0.993367</td>\n",
       "      <td>56866.0</td>\n",
       "    </tr>\n",
       "    <tr>\n",
       "      <th>173</th>\n",
       "      <td>State</td>\n",
       "      <td>RP</td>\n",
       "      <td>0.991472</td>\n",
       "      <td>31242.0</td>\n",
       "    </tr>\n",
       "  </tbody>\n",
       "</table>\n",
       "</div>"
      ],
      "text/plain": [
       "    feature  value     Sales     times\n",
       "162   State     BE  1.014214   72353.0\n",
       "163   State     SN  1.010897   58352.0\n",
       "164   State     TH  1.009476   28136.0\n",
       "165   State     ST  1.006475   43555.0\n",
       "166   State     HH  1.002843   22107.0\n",
       "167   State  HB,NI  1.001421   17404.0\n",
       "168   State     SH  0.998579   91704.0\n",
       "169   State     NW  0.997631  222930.0\n",
       "170   State     BY  0.995420  111959.0\n",
       "171   State     HE  0.994946   87730.0\n",
       "172   State     BW  0.993367   56866.0\n",
       "173   State     RP  0.991472   31242.0"
      ]
     },
     "execution_count": 120,
     "metadata": {},
     "output_type": "execute_result"
    }
   ],
   "source": [
    "prt_dep_all.query(\"feature == 'State'\")"
   ]
  },
  {
   "cell_type": "markdown",
   "metadata": {},
   "source": [
    "This is a plot of how column 'Day' *alone* affects Sales  \n",
    "Also remember that it should be 'multiplied' to the 'importance' of this column. Here we just see how values are ordered *inside one category column*"
   ]
  },
  {
   "cell_type": "code",
   "execution_count": 121,
   "metadata": {
    "ExecuteTime": {
     "end_time": "2019-07-16T18:26:26.829284Z",
     "start_time": "2019-07-16T18:26:26.374136Z"
    },
    "scrolled": false
   },
   "outputs": [
    {
     "data": {
      "text/plain": [
       "<matplotlib.axes._subplots.AxesSubplot at 0x7ff0dcbe8278>"
      ]
     },
     "execution_count": 121,
     "metadata": {},
     "output_type": "execute_result"
    },
    {
     "data": {
      "image/png": "[encoded data removed]",
      "text/plain": [
       "<Figure size 720x360 with 1 Axes>"
      ]
     },
     "metadata": {
      "needs_background": "light"
     },
     "output_type": "display_data"
    }
   ],
   "source": [
    "prt_dep_all.query(\"feature == 'Day'\").sort_values('value').plot(x='value', y='Sales', kind='bar', figsize=(10,5))"
   ]
  },
  {
   "cell_type": "markdown",
   "metadata": {},
   "source": [
    "And this is a plot from data overall (with addition influence from others columns)"
   ]
  },
  {
   "cell_type": "code",
   "execution_count": 122,
   "metadata": {
    "ExecuteTime": {
     "end_time": "2019-07-16T18:26:36.276068Z",
     "start_time": "2019-07-16T18:26:35.255467Z"
    }
   },
   "outputs": [
    {
     "data": {
      "text/plain": [
       "<matplotlib.axes._subplots.AxesSubplot at 0x7ff0f5781860>"
      ]
     },
     "execution_count": 122,
     "metadata": {},
     "output_type": "execute_result"
    },
    {
     "data": {
      "image/png": "[encoded data removed]",
      "text/plain": [
       "<Figure size 720x360 with 1 Axes>"
      ]
     },
     "metadata": {
      "needs_background": "light"
     },
     "output_type": "display_data"
    }
   ],
   "source": [
    "df.groupby('Day').agg('median').reset_index().plot(x='Day', y='Sales', kind='bar', figsize=(10,5))"
   ]
  },
  {
   "cell_type": "markdown",
   "metadata": {},
   "source": [
    "`times` is given here as an reference to how often this particulat cagegory appears in the data. The more `times` is, the more you can be sure in result"
   ]
  },
  {
   "cell_type": "code",
   "execution_count": 123,
   "metadata": {
    "ExecuteTime": {
     "end_time": "2019-07-16T18:27:01.421796Z",
     "start_time": "2019-07-16T18:26:58.185222Z"
    },
    "scrolled": true
   },
   "outputs": [
    {
     "data": {
      "text/html": [
       "Total time: 00:02 <p>"
      ],
      "text/plain": [
       "<IPython.core.display.HTML object>"
      ]
     },
     "metadata": {},
     "output_type": "display_data"
    },
    {
     "data": {
      "text/html": [
       "<div>\n",
       "<style scoped>\n",
       "    .dataframe tbody tr th:only-of-type {\n",
       "        vertical-align: middle;\n",
       "    }\n",
       "\n",
       "    .dataframe tbody tr th {\n",
       "        vertical-align: top;\n",
       "    }\n",
       "\n",
       "    .dataframe thead th {\n",
       "        text-align: right;\n",
       "    }\n",
       "</style>\n",
       "<table border=\"1\" class=\"dataframe\">\n",
       "  <thead>\n",
       "    <tr style=\"text-align: right;\">\n",
       "      <th></th>\n",
       "      <th>Store</th>\n",
       "      <th>Sales</th>\n",
       "      <th>times</th>\n",
       "    </tr>\n",
       "  </thead>\n",
       "  <tbody>\n",
       "    <tr>\n",
       "      <th>4</th>\n",
       "      <td>262</td>\n",
       "      <td>2.003058</td>\n",
       "      <td>942</td>\n",
       "    </tr>\n",
       "    <tr>\n",
       "      <th>3</th>\n",
       "      <td>562</td>\n",
       "      <td>1.876951</td>\n",
       "      <td>942</td>\n",
       "    </tr>\n",
       "    <tr>\n",
       "      <th>5</th>\n",
       "      <td>733</td>\n",
       "      <td>1.509490</td>\n",
       "      <td>942</td>\n",
       "    </tr>\n",
       "    <tr>\n",
       "      <th>8</th>\n",
       "      <td>335</td>\n",
       "      <td>1.355335</td>\n",
       "      <td>942</td>\n",
       "    </tr>\n",
       "    <tr>\n",
       "      <th>11</th>\n",
       "      <td>259</td>\n",
       "      <td>1.184416</td>\n",
       "      <td>931</td>\n",
       "    </tr>\n",
       "    <tr>\n",
       "      <th>7</th>\n",
       "      <td>682</td>\n",
       "      <td>1.154471</td>\n",
       "      <td>942</td>\n",
       "    </tr>\n",
       "    <tr>\n",
       "      <th>0</th>\n",
       "      <td>769</td>\n",
       "      <td>1.102805</td>\n",
       "      <td>942</td>\n",
       "    </tr>\n",
       "    <tr>\n",
       "      <th>9</th>\n",
       "      <td>423</td>\n",
       "      <td>1.070540</td>\n",
       "      <td>942</td>\n",
       "    </tr>\n",
       "    <tr>\n",
       "      <th>1</th>\n",
       "      <td>1097</td>\n",
       "      <td>1.000000</td>\n",
       "      <td>942</td>\n",
       "    </tr>\n",
       "    <tr>\n",
       "      <th>16</th>\n",
       "      <td>578</td>\n",
       "      <td>0.967208</td>\n",
       "      <td>901</td>\n",
       "    </tr>\n",
       "    <tr>\n",
       "      <th>6</th>\n",
       "      <td>494</td>\n",
       "      <td>0.785639</td>\n",
       "      <td>942</td>\n",
       "    </tr>\n",
       "    <tr>\n",
       "      <th>14</th>\n",
       "      <td>676</td>\n",
       "      <td>0.762864</td>\n",
       "      <td>918</td>\n",
       "    </tr>\n",
       "    <tr>\n",
       "      <th>13</th>\n",
       "      <td>948</td>\n",
       "      <td>0.686314</td>\n",
       "      <td>927</td>\n",
       "    </tr>\n",
       "    <tr>\n",
       "      <th>2</th>\n",
       "      <td>85</td>\n",
       "      <td>0.669232</td>\n",
       "      <td>942</td>\n",
       "    </tr>\n",
       "    <tr>\n",
       "      <th>12</th>\n",
       "      <td>353</td>\n",
       "      <td>0.563475</td>\n",
       "      <td>930</td>\n",
       "    </tr>\n",
       "    <tr>\n",
       "      <th>15</th>\n",
       "      <td>530</td>\n",
       "      <td>0.515289</td>\n",
       "      <td>906</td>\n",
       "    </tr>\n",
       "    <tr>\n",
       "      <th>10</th>\n",
       "      <td>274</td>\n",
       "      <td>0.371468</td>\n",
       "      <td>932</td>\n",
       "    </tr>\n",
       "  </tbody>\n",
       "</table>\n",
       "</div>"
      ],
      "text/plain": [
       "    Store     Sales  times\n",
       "4     262  2.003058    942\n",
       "3     562  1.876951    942\n",
       "5     733  1.509490    942\n",
       "8     335  1.355335    942\n",
       "11    259  1.184416    931\n",
       "7     682  1.154471    942\n",
       "0     769  1.102805    942\n",
       "9     423  1.070540    942\n",
       "1    1097  1.000000    942\n",
       "16    578  0.967208    901\n",
       "6     494  0.785639    942\n",
       "14    676  0.762864    918\n",
       "13    948  0.686314    927\n",
       "2      85  0.669232    942\n",
       "12    353  0.563475    930\n",
       "15    530  0.515289    906\n",
       "10    274  0.371468    932"
      ]
     },
     "execution_count": 123,
     "metadata": {},
     "output_type": "execute_result"
    }
   ],
   "source": [
    "part_dep_multi(fields='Store', coef=900)"
   ]
  },
  {
   "cell_type": "code",
   "execution_count": 124,
   "metadata": {
    "ExecuteTime": {
     "end_time": "2019-07-16T18:27:30.755400Z",
     "start_time": "2019-07-16T18:27:08.328139Z"
    }
   },
   "outputs": [
    {
     "data": {
      "text/html": [
       "Total time: 00:20 <p>"
      ],
      "text/plain": [
       "<IPython.core.display.HTML object>"
      ]
     },
     "metadata": {},
     "output_type": "display_data"
    },
    {
     "data": {
      "text/html": [
       "<div>\n",
       "<style scoped>\n",
       "    .dataframe tbody tr th:only-of-type {\n",
       "        vertical-align: middle;\n",
       "    }\n",
       "\n",
       "    .dataframe tbody tr th {\n",
       "        vertical-align: top;\n",
       "    }\n",
       "\n",
       "    .dataframe thead th {\n",
       "        text-align: right;\n",
       "    }\n",
       "</style>\n",
       "<table border=\"1\" class=\"dataframe\">\n",
       "  <thead>\n",
       "    <tr style=\"text-align: right;\">\n",
       "      <th></th>\n",
       "      <th>StoreType</th>\n",
       "      <th>Sales</th>\n",
       "      <th>times</th>\n",
       "    </tr>\n",
       "  </thead>\n",
       "  <tbody>\n",
       "    <tr>\n",
       "      <th>3</th>\n",
       "      <td>b</td>\n",
       "      <td>1.032212</td>\n",
       "      <td>15560</td>\n",
       "    </tr>\n",
       "    <tr>\n",
       "      <th>2</th>\n",
       "      <td>c</td>\n",
       "      <td>1.000316</td>\n",
       "      <td>112968</td>\n",
       "    </tr>\n",
       "    <tr>\n",
       "      <th>0</th>\n",
       "      <td>a</td>\n",
       "      <td>0.999684</td>\n",
       "      <td>457042</td>\n",
       "    </tr>\n",
       "    <tr>\n",
       "      <th>1</th>\n",
       "      <td>d</td>\n",
       "      <td>0.999526</td>\n",
       "      <td>258768</td>\n",
       "    </tr>\n",
       "  </tbody>\n",
       "</table>\n",
       "</div>"
      ],
      "text/plain": [
       "  StoreType     Sales   times\n",
       "3         b  1.032212   15560\n",
       "2         c  1.000316  112968\n",
       "0         a  0.999684  457042\n",
       "1         d  0.999526  258768"
      ]
     },
     "execution_count": 124,
     "metadata": {},
     "output_type": "execute_result"
    }
   ],
   "source": [
    "part_dep_multi(fields='StoreType', coef=1)"
   ]
  },
  {
   "cell_type": "code",
   "execution_count": 125,
   "metadata": {
    "ExecuteTime": {
     "end_time": "2019-07-16T18:28:13.110185Z",
     "start_time": "2019-07-16T18:27:36.344328Z"
    }
   },
   "outputs": [
    {
     "data": {
      "text/html": [
       "Total time: 00:35 <p>"
      ],
      "text/plain": [
       "<IPython.core.display.HTML object>"
      ]
     },
     "metadata": {},
     "output_type": "display_data"
    },
    {
     "data": {
      "text/html": [
       "<div>\n",
       "<style scoped>\n",
       "    .dataframe tbody tr th:only-of-type {\n",
       "        vertical-align: middle;\n",
       "    }\n",
       "\n",
       "    .dataframe tbody tr th {\n",
       "        vertical-align: top;\n",
       "    }\n",
       "\n",
       "    .dataframe thead th {\n",
       "        text-align: right;\n",
       "    }\n",
       "</style>\n",
       "<table border=\"1\" class=\"dataframe\">\n",
       "  <thead>\n",
       "    <tr style=\"text-align: right;\">\n",
       "      <th></th>\n",
       "      <th>DayOfWeek</th>\n",
       "      <th>Sales</th>\n",
       "      <th>times</th>\n",
       "    </tr>\n",
       "  </thead>\n",
       "  <tbody>\n",
       "    <tr>\n",
       "      <th>4</th>\n",
       "      <td>1</td>\n",
       "      <td>1.035161</td>\n",
       "      <td>137557</td>\n",
       "    </tr>\n",
       "    <tr>\n",
       "      <th>3</th>\n",
       "      <td>5</td>\n",
       "      <td>1.020806</td>\n",
       "      <td>138633</td>\n",
       "    </tr>\n",
       "    <tr>\n",
       "      <th>1</th>\n",
       "      <td>2</td>\n",
       "      <td>1.008387</td>\n",
       "      <td>143955</td>\n",
       "    </tr>\n",
       "    <tr>\n",
       "      <th>5</th>\n",
       "      <td>4</td>\n",
       "      <td>1.000000</td>\n",
       "      <td>134626</td>\n",
       "    </tr>\n",
       "    <tr>\n",
       "      <th>2</th>\n",
       "      <td>3</td>\n",
       "      <td>0.996452</td>\n",
       "      <td>141922</td>\n",
       "    </tr>\n",
       "    <tr>\n",
       "      <th>0</th>\n",
       "      <td>6</td>\n",
       "      <td>0.970645</td>\n",
       "      <td>144052</td>\n",
       "    </tr>\n",
       "    <tr>\n",
       "      <th>6</th>\n",
       "      <td>7</td>\n",
       "      <td>0.953065</td>\n",
       "      <td>3593</td>\n",
       "    </tr>\n",
       "  </tbody>\n",
       "</table>\n",
       "</div>"
      ],
      "text/plain": [
       "   DayOfWeek     Sales   times\n",
       "4          1  1.035161  137557\n",
       "3          5  1.020806  138633\n",
       "1          2  1.008387  143955\n",
       "5          4  1.000000  134626\n",
       "2          3  0.996452  141922\n",
       "0          6  0.970645  144052\n",
       "6          7  0.953065    3593"
      ]
     },
     "execution_count": 125,
     "metadata": {},
     "output_type": "execute_result"
    }
   ],
   "source": [
    "part_dep_multi(fields='DayOfWeek')"
   ]
  },
  {
   "cell_type": "code",
   "execution_count": 126,
   "metadata": {
    "ExecuteTime": {
     "end_time": "2019-07-16T18:29:16.037646Z",
     "start_time": "2019-07-16T18:28:13.112059Z"
    },
    "scrolled": true
   },
   "outputs": [
    {
     "data": {
      "text/html": [
       "Total time: 01:00 <p>"
      ],
      "text/plain": [
       "<IPython.core.display.HTML object>"
      ]
     },
     "metadata": {},
     "output_type": "display_data"
    },
    {
     "data": {
      "text/html": [
       "<div>\n",
       "<style scoped>\n",
       "    .dataframe tbody tr th:only-of-type {\n",
       "        vertical-align: middle;\n",
       "    }\n",
       "\n",
       "    .dataframe tbody tr th {\n",
       "        vertical-align: top;\n",
       "    }\n",
       "\n",
       "    .dataframe thead th {\n",
       "        text-align: right;\n",
       "    }\n",
       "</style>\n",
       "<table border=\"1\" class=\"dataframe\">\n",
       "  <thead>\n",
       "    <tr style=\"text-align: right;\">\n",
       "      <th></th>\n",
       "      <th>State</th>\n",
       "      <th>Sales</th>\n",
       "      <th>times</th>\n",
       "    </tr>\n",
       "  </thead>\n",
       "  <tbody>\n",
       "    <tr>\n",
       "      <th>4</th>\n",
       "      <td>BE</td>\n",
       "      <td>1.014214</td>\n",
       "      <td>72353</td>\n",
       "    </tr>\n",
       "    <tr>\n",
       "      <th>5</th>\n",
       "      <td>SN</td>\n",
       "      <td>1.010897</td>\n",
       "      <td>58352</td>\n",
       "    </tr>\n",
       "    <tr>\n",
       "      <th>9</th>\n",
       "      <td>TH</td>\n",
       "      <td>1.009476</td>\n",
       "      <td>28136</td>\n",
       "    </tr>\n",
       "    <tr>\n",
       "      <th>7</th>\n",
       "      <td>ST</td>\n",
       "      <td>1.006475</td>\n",
       "      <td>43555</td>\n",
       "    </tr>\n",
       "    <tr>\n",
       "      <th>10</th>\n",
       "      <td>HH</td>\n",
       "      <td>1.002843</td>\n",
       "      <td>22107</td>\n",
       "    </tr>\n",
       "    <tr>\n",
       "      <th>11</th>\n",
       "      <td>HB,NI</td>\n",
       "      <td>1.001421</td>\n",
       "      <td>17404</td>\n",
       "    </tr>\n",
       "    <tr>\n",
       "      <th>2</th>\n",
       "      <td>SH</td>\n",
       "      <td>0.998579</td>\n",
       "      <td>91704</td>\n",
       "    </tr>\n",
       "    <tr>\n",
       "      <th>0</th>\n",
       "      <td>NW</td>\n",
       "      <td>0.997631</td>\n",
       "      <td>222930</td>\n",
       "    </tr>\n",
       "    <tr>\n",
       "      <th>1</th>\n",
       "      <td>BY</td>\n",
       "      <td>0.995420</td>\n",
       "      <td>111959</td>\n",
       "    </tr>\n",
       "    <tr>\n",
       "      <th>3</th>\n",
       "      <td>HE</td>\n",
       "      <td>0.994946</td>\n",
       "      <td>87730</td>\n",
       "    </tr>\n",
       "    <tr>\n",
       "      <th>6</th>\n",
       "      <td>BW</td>\n",
       "      <td>0.993367</td>\n",
       "      <td>56866</td>\n",
       "    </tr>\n",
       "    <tr>\n",
       "      <th>8</th>\n",
       "      <td>RP</td>\n",
       "      <td>0.991472</td>\n",
       "      <td>31242</td>\n",
       "    </tr>\n",
       "  </tbody>\n",
       "</table>\n",
       "</div>"
      ],
      "text/plain": [
       "    State     Sales   times\n",
       "4      BE  1.014214   72353\n",
       "5      SN  1.010897   58352\n",
       "9      TH  1.009476   28136\n",
       "7      ST  1.006475   43555\n",
       "10     HH  1.002843   22107\n",
       "11  HB,NI  1.001421   17404\n",
       "2      SH  0.998579   91704\n",
       "0      NW  0.997631  222930\n",
       "1      BY  0.995420  111959\n",
       "3      HE  0.994946   87730\n",
       "6      BW  0.993367   56866\n",
       "8      RP  0.991472   31242"
      ]
     },
     "execution_count": 126,
     "metadata": {},
     "output_type": "execute_result"
    }
   ],
   "source": [
    "part_dep_multi(fields='State')"
   ]
  },
  {
   "cell_type": "code",
   "execution_count": 127,
   "metadata": {
    "ExecuteTime": {
     "end_time": "2019-07-16T18:34:49.474742Z",
     "start_time": "2019-07-16T18:29:16.039177Z"
    },
    "scrolled": true
   },
   "outputs": [
    {
     "data": {
      "text/html": [
       "Total time: 05:32 <p>"
      ],
      "text/plain": [
       "<IPython.core.display.HTML object>"
      ]
     },
     "metadata": {},
     "output_type": "display_data"
    },
    {
     "data": {
      "text/html": [
       "<div>\n",
       "<style scoped>\n",
       "    .dataframe tbody tr th:only-of-type {\n",
       "        vertical-align: middle;\n",
       "    }\n",
       "\n",
       "    .dataframe tbody tr th {\n",
       "        vertical-align: top;\n",
       "    }\n",
       "\n",
       "    .dataframe thead th {\n",
       "        text-align: right;\n",
       "    }\n",
       "</style>\n",
       "<table border=\"1\" class=\"dataframe\">\n",
       "  <thead>\n",
       "    <tr style=\"text-align: right;\">\n",
       "      <th></th>\n",
       "      <th>Store</th>\n",
       "      <th>Sales</th>\n",
       "      <th>times</th>\n",
       "    </tr>\n",
       "  </thead>\n",
       "  <tbody>\n",
       "    <tr>\n",
       "      <th>238</th>\n",
       "      <td>817</td>\n",
       "      <td>3.200000</td>\n",
       "      <td>784</td>\n",
       "    </tr>\n",
       "    <tr>\n",
       "      <th>187</th>\n",
       "      <td>1114</td>\n",
       "      <td>3.039457</td>\n",
       "      <td>784</td>\n",
       "    </tr>\n",
       "    <tr>\n",
       "      <th>4</th>\n",
       "      <td>262</td>\n",
       "      <td>2.710977</td>\n",
       "      <td>942</td>\n",
       "    </tr>\n",
       "    <tr>\n",
       "      <th>146</th>\n",
       "      <td>513</td>\n",
       "      <td>2.639457</td>\n",
       "      <td>784</td>\n",
       "    </tr>\n",
       "    <tr>\n",
       "      <th>3</th>\n",
       "      <td>562</td>\n",
       "      <td>2.543040</td>\n",
       "      <td>942</td>\n",
       "    </tr>\n",
       "    <tr>\n",
       "      <th>218</th>\n",
       "      <td>788</td>\n",
       "      <td>2.504564</td>\n",
       "      <td>784</td>\n",
       "    </tr>\n",
       "    <tr>\n",
       "      <th>152</th>\n",
       "      <td>698</td>\n",
       "      <td>2.202641</td>\n",
       "      <td>784</td>\n",
       "    </tr>\n",
       "    <tr>\n",
       "      <th>141</th>\n",
       "      <td>523</td>\n",
       "      <td>2.198416</td>\n",
       "      <td>784</td>\n",
       "    </tr>\n",
       "    <tr>\n",
       "      <th>100</th>\n",
       "      <td>320</td>\n",
       "      <td>2.104564</td>\n",
       "      <td>784</td>\n",
       "    </tr>\n",
       "    <tr>\n",
       "      <th>42</th>\n",
       "      <td>595</td>\n",
       "      <td>2.101245</td>\n",
       "      <td>784</td>\n",
       "    </tr>\n",
       "    <tr>\n",
       "      <th>5</th>\n",
       "      <td>733</td>\n",
       "      <td>2.053414</td>\n",
       "      <td>942</td>\n",
       "    </tr>\n",
       "    <tr>\n",
       "      <th>211</th>\n",
       "      <td>1033</td>\n",
       "      <td>1.961071</td>\n",
       "      <td>784</td>\n",
       "    </tr>\n",
       "    <tr>\n",
       "      <th>133</th>\n",
       "      <td>546</td>\n",
       "      <td>1.950358</td>\n",
       "      <td>784</td>\n",
       "    </tr>\n",
       "    <tr>\n",
       "      <th>8</th>\n",
       "      <td>335</td>\n",
       "      <td>1.931648</td>\n",
       "      <td>942</td>\n",
       "    </tr>\n",
       "    <tr>\n",
       "      <th>153</th>\n",
       "      <td>768</td>\n",
       "      <td>1.861637</td>\n",
       "      <td>784</td>\n",
       "    </tr>\n",
       "    <tr>\n",
       "      <th>56</th>\n",
       "      <td>211</td>\n",
       "      <td>1.796756</td>\n",
       "      <td>784</td>\n",
       "    </tr>\n",
       "    <tr>\n",
       "      <th>93</th>\n",
       "      <td>469</td>\n",
       "      <td>1.683591</td>\n",
       "      <td>784</td>\n",
       "    </tr>\n",
       "    <tr>\n",
       "      <th>223</th>\n",
       "      <td>125</td>\n",
       "      <td>1.667899</td>\n",
       "      <td>784</td>\n",
       "    </tr>\n",
       "    <tr>\n",
       "      <th>186</th>\n",
       "      <td>1075</td>\n",
       "      <td>1.651000</td>\n",
       "      <td>784</td>\n",
       "    </tr>\n",
       "    <tr>\n",
       "      <th>103</th>\n",
       "      <td>432</td>\n",
       "      <td>1.638476</td>\n",
       "      <td>784</td>\n",
       "    </tr>\n",
       "    <tr>\n",
       "      <th>7</th>\n",
       "      <td>682</td>\n",
       "      <td>1.634855</td>\n",
       "      <td>942</td>\n",
       "    </tr>\n",
       "    <tr>\n",
       "      <th>107</th>\n",
       "      <td>416</td>\n",
       "      <td>1.586571</td>\n",
       "      <td>784</td>\n",
       "    </tr>\n",
       "    <tr>\n",
       "      <th>81</th>\n",
       "      <td>207</td>\n",
       "      <td>1.581139</td>\n",
       "      <td>784</td>\n",
       "    </tr>\n",
       "    <tr>\n",
       "      <th>11</th>\n",
       "      <td>259</td>\n",
       "      <td>1.555187</td>\n",
       "      <td>931</td>\n",
       "    </tr>\n",
       "    <tr>\n",
       "      <th>95</th>\n",
       "      <td>464</td>\n",
       "      <td>1.546284</td>\n",
       "      <td>784</td>\n",
       "    </tr>\n",
       "    <tr>\n",
       "      <th>111</th>\n",
       "      <td>389</td>\n",
       "      <td>1.501622</td>\n",
       "      <td>784</td>\n",
       "    </tr>\n",
       "    <tr>\n",
       "      <th>0</th>\n",
       "      <td>769</td>\n",
       "      <td>1.496492</td>\n",
       "      <td>942</td>\n",
       "    </tr>\n",
       "    <tr>\n",
       "      <th>60</th>\n",
       "      <td>709</td>\n",
       "      <td>1.489551</td>\n",
       "      <td>784</td>\n",
       "    </tr>\n",
       "    <tr>\n",
       "      <th>54</th>\n",
       "      <td>580</td>\n",
       "      <td>1.468729</td>\n",
       "      <td>784</td>\n",
       "    </tr>\n",
       "    <tr>\n",
       "      <th>181</th>\n",
       "      <td>104</td>\n",
       "      <td>1.458770</td>\n",
       "      <td>784</td>\n",
       "    </tr>\n",
       "    <tr>\n",
       "      <th>...</th>\n",
       "      <td>...</td>\n",
       "      <td>...</td>\n",
       "      <td>...</td>\n",
       "    </tr>\n",
       "    <tr>\n",
       "      <th>127</th>\n",
       "      <td>2</td>\n",
       "      <td>0.691060</td>\n",
       "      <td>784</td>\n",
       "    </tr>\n",
       "    <tr>\n",
       "      <th>156</th>\n",
       "      <td>988</td>\n",
       "      <td>0.690155</td>\n",
       "      <td>784</td>\n",
       "    </tr>\n",
       "    <tr>\n",
       "      <th>179</th>\n",
       "      <td>874</td>\n",
       "      <td>0.682912</td>\n",
       "      <td>784</td>\n",
       "    </tr>\n",
       "    <tr>\n",
       "      <th>163</th>\n",
       "      <td>73</td>\n",
       "      <td>0.682309</td>\n",
       "      <td>784</td>\n",
       "    </tr>\n",
       "    <tr>\n",
       "      <th>240</th>\n",
       "      <td>110</td>\n",
       "      <td>0.678989</td>\n",
       "      <td>784</td>\n",
       "    </tr>\n",
       "    <tr>\n",
       "      <th>123</th>\n",
       "      <td>569</td>\n",
       "      <td>0.678386</td>\n",
       "      <td>784</td>\n",
       "    </tr>\n",
       "    <tr>\n",
       "      <th>57</th>\n",
       "      <td>217</td>\n",
       "      <td>0.677782</td>\n",
       "      <td>784</td>\n",
       "    </tr>\n",
       "    <tr>\n",
       "      <th>104</th>\n",
       "      <td>422</td>\n",
       "      <td>0.674161</td>\n",
       "      <td>784</td>\n",
       "    </tr>\n",
       "    <tr>\n",
       "      <th>15</th>\n",
       "      <td>530</td>\n",
       "      <td>0.666918</td>\n",
       "      <td>906</td>\n",
       "    </tr>\n",
       "    <tr>\n",
       "      <th>50</th>\n",
       "      <td>237</td>\n",
       "      <td>0.666767</td>\n",
       "      <td>784</td>\n",
       "    </tr>\n",
       "    <tr>\n",
       "      <th>166</th>\n",
       "      <td>945</td>\n",
       "      <td>0.660581</td>\n",
       "      <td>784</td>\n",
       "    </tr>\n",
       "    <tr>\n",
       "      <th>151</th>\n",
       "      <td>554</td>\n",
       "      <td>0.660128</td>\n",
       "      <td>784</td>\n",
       "    </tr>\n",
       "    <tr>\n",
       "      <th>27</th>\n",
       "      <td>867</td>\n",
       "      <td>0.655903</td>\n",
       "      <td>880</td>\n",
       "    </tr>\n",
       "    <tr>\n",
       "      <th>40</th>\n",
       "      <td>596</td>\n",
       "      <td>0.648359</td>\n",
       "      <td>784</td>\n",
       "    </tr>\n",
       "    <tr>\n",
       "      <th>144</th>\n",
       "      <td>282</td>\n",
       "      <td>0.645945</td>\n",
       "      <td>784</td>\n",
       "    </tr>\n",
       "    <tr>\n",
       "      <th>58</th>\n",
       "      <td>622</td>\n",
       "      <td>0.645794</td>\n",
       "      <td>784</td>\n",
       "    </tr>\n",
       "    <tr>\n",
       "      <th>97</th>\n",
       "      <td>315</td>\n",
       "      <td>0.645492</td>\n",
       "      <td>784</td>\n",
       "    </tr>\n",
       "    <tr>\n",
       "      <th>161</th>\n",
       "      <td>958</td>\n",
       "      <td>0.625726</td>\n",
       "      <td>784</td>\n",
       "    </tr>\n",
       "    <tr>\n",
       "      <th>44</th>\n",
       "      <td>594</td>\n",
       "      <td>0.616975</td>\n",
       "      <td>784</td>\n",
       "    </tr>\n",
       "    <tr>\n",
       "      <th>205</th>\n",
       "      <td>1063</td>\n",
       "      <td>0.616069</td>\n",
       "      <td>784</td>\n",
       "    </tr>\n",
       "    <tr>\n",
       "      <th>217</th>\n",
       "      <td>811</td>\n",
       "      <td>0.605206</td>\n",
       "      <td>784</td>\n",
       "    </tr>\n",
       "    <tr>\n",
       "      <th>214</th>\n",
       "      <td>48</td>\n",
       "      <td>0.587250</td>\n",
       "      <td>784</td>\n",
       "    </tr>\n",
       "    <tr>\n",
       "      <th>134</th>\n",
       "      <td>538</td>\n",
       "      <td>0.573670</td>\n",
       "      <td>784</td>\n",
       "    </tr>\n",
       "    <tr>\n",
       "      <th>112</th>\n",
       "      <td>379</td>\n",
       "      <td>0.562505</td>\n",
       "      <td>784</td>\n",
       "    </tr>\n",
       "    <tr>\n",
       "      <th>142</th>\n",
       "      <td>520</td>\n",
       "      <td>0.554055</td>\n",
       "      <td>784</td>\n",
       "    </tr>\n",
       "    <tr>\n",
       "      <th>150</th>\n",
       "      <td>488</td>\n",
       "      <td>0.539570</td>\n",
       "      <td>784</td>\n",
       "    </tr>\n",
       "    <tr>\n",
       "      <th>28</th>\n",
       "      <td>931</td>\n",
       "      <td>0.535345</td>\n",
       "      <td>875</td>\n",
       "    </tr>\n",
       "    <tr>\n",
       "      <th>10</th>\n",
       "      <td>274</td>\n",
       "      <td>0.509996</td>\n",
       "      <td>932</td>\n",
       "    </tr>\n",
       "    <tr>\n",
       "      <th>87</th>\n",
       "      <td>558</td>\n",
       "      <td>0.482233</td>\n",
       "      <td>784</td>\n",
       "    </tr>\n",
       "    <tr>\n",
       "      <th>82</th>\n",
       "      <td>208</td>\n",
       "      <td>0.435609</td>\n",
       "      <td>784</td>\n",
       "    </tr>\n",
       "  </tbody>\n",
       "</table>\n",
       "<p>242 rows × 3 columns</p>\n",
       "</div>"
      ],
      "text/plain": [
       "     Store     Sales  times\n",
       "238    817  3.200000    784\n",
       "187   1114  3.039457    784\n",
       "4      262  2.710977    942\n",
       "146    513  2.639457    784\n",
       "3      562  2.543040    942\n",
       "218    788  2.504564    784\n",
       "152    698  2.202641    784\n",
       "141    523  2.198416    784\n",
       "100    320  2.104564    784\n",
       "42     595  2.101245    784\n",
       "5      733  2.053414    942\n",
       "211   1033  1.961071    784\n",
       "133    546  1.950358    784\n",
       "8      335  1.931648    942\n",
       "153    768  1.861637    784\n",
       "56     211  1.796756    784\n",
       "93     469  1.683591    784\n",
       "223    125  1.667899    784\n",
       "186   1075  1.651000    784\n",
       "103    432  1.638476    784\n",
       "7      682  1.634855    942\n",
       "107    416  1.586571    784\n",
       "81     207  1.581139    784\n",
       "11     259  1.555187    931\n",
       "95     464  1.546284    784\n",
       "111    389  1.501622    784\n",
       "0      769  1.496492    942\n",
       "60     709  1.489551    784\n",
       "54     580  1.468729    784\n",
       "181    104  1.458770    784\n",
       "..     ...       ...    ...\n",
       "127      2  0.691060    784\n",
       "156    988  0.690155    784\n",
       "179    874  0.682912    784\n",
       "163     73  0.682309    784\n",
       "240    110  0.678989    784\n",
       "123    569  0.678386    784\n",
       "57     217  0.677782    784\n",
       "104    422  0.674161    784\n",
       "15     530  0.666918    906\n",
       "50     237  0.666767    784\n",
       "166    945  0.660581    784\n",
       "151    554  0.660128    784\n",
       "27     867  0.655903    880\n",
       "40     596  0.648359    784\n",
       "144    282  0.645945    784\n",
       "58     622  0.645794    784\n",
       "97     315  0.645492    784\n",
       "161    958  0.625726    784\n",
       "44     594  0.616975    784\n",
       "205   1063  0.616069    784\n",
       "217    811  0.605206    784\n",
       "214     48  0.587250    784\n",
       "134    538  0.573670    784\n",
       "112    379  0.562505    784\n",
       "142    520  0.554055    784\n",
       "150    488  0.539570    784\n",
       "28     931  0.535345    875\n",
       "10     274  0.509996    932\n",
       "87     558  0.482233    784\n",
       "82     208  0.435609    784\n",
       "\n",
       "[242 rows x 3 columns]"
      ]
     },
     "execution_count": 127,
     "metadata": {},
     "output_type": "execute_result"
    }
   ],
   "source": [
    "#Takes me 6 min to run\n",
    "part_dep_multi(fields='Store', coef=0.05)"
   ]
  },
  {
   "cell_type": "markdown",
   "metadata": {},
   "source": [
    "We also can check partial importance of not only one column, but a number of 'linked' columns. That is (linked columns where the value from one column is very (or 100%) correlated with the value in another) often the case for realworld data as we make much denormalization here.  \n",
    "Even here we see that Store number 'determines' it's type and that's why we should treat it as one entity.\n",
    "Note here are not absolute values, but the relative ones. So they cannot be compared directly (even variation in number of rows will shift the median, used here as a pivotal point) "
   ]
  },
  {
   "cell_type": "code",
   "execution_count": 128,
   "metadata": {
    "ExecuteTime": {
     "end_time": "2019-07-16T18:40:25.349885Z",
     "start_time": "2019-07-16T18:34:49.477330Z"
    },
    "scrolled": true
   },
   "outputs": [
    {
     "data": {
      "text/html": [
       "Total time: 05:34 <p>"
      ],
      "text/plain": [
       "<IPython.core.display.HTML object>"
      ]
     },
     "metadata": {},
     "output_type": "display_data"
    },
    {
     "data": {
      "text/html": [
       "<div>\n",
       "<style scoped>\n",
       "    .dataframe tbody tr th:only-of-type {\n",
       "        vertical-align: middle;\n",
       "    }\n",
       "\n",
       "    .dataframe tbody tr th {\n",
       "        vertical-align: top;\n",
       "    }\n",
       "\n",
       "    .dataframe thead th {\n",
       "        text-align: right;\n",
       "    }\n",
       "</style>\n",
       "<table border=\"1\" class=\"dataframe\">\n",
       "  <thead>\n",
       "    <tr style=\"text-align: right;\">\n",
       "      <th></th>\n",
       "      <th>Store</th>\n",
       "      <th>StoreType</th>\n",
       "      <th>Sales</th>\n",
       "      <th>times</th>\n",
       "    </tr>\n",
       "  </thead>\n",
       "  <tbody>\n",
       "    <tr>\n",
       "      <th>238</th>\n",
       "      <td>817</td>\n",
       "      <td>a</td>\n",
       "      <td>3.248382</td>\n",
       "      <td>784</td>\n",
       "    </tr>\n",
       "    <tr>\n",
       "      <th>187</th>\n",
       "      <td>1114</td>\n",
       "      <td>a</td>\n",
       "      <td>3.075436</td>\n",
       "      <td>784</td>\n",
       "    </tr>\n",
       "    <tr>\n",
       "      <th>4</th>\n",
       "      <td>262</td>\n",
       "      <td>b</td>\n",
       "      <td>2.829870</td>\n",
       "      <td>942</td>\n",
       "    </tr>\n",
       "    <tr>\n",
       "      <th>3</th>\n",
       "      <td>562</td>\n",
       "      <td>b</td>\n",
       "      <td>2.705945</td>\n",
       "      <td>942</td>\n",
       "    </tr>\n",
       "    <tr>\n",
       "      <th>146</th>\n",
       "      <td>513</td>\n",
       "      <td>a</td>\n",
       "      <td>2.661490</td>\n",
       "      <td>784</td>\n",
       "    </tr>\n",
       "    <tr>\n",
       "      <th>218</th>\n",
       "      <td>788</td>\n",
       "      <td>a</td>\n",
       "      <td>2.537870</td>\n",
       "      <td>784</td>\n",
       "    </tr>\n",
       "    <tr>\n",
       "      <th>152</th>\n",
       "      <td>698</td>\n",
       "      <td>a</td>\n",
       "      <td>2.230951</td>\n",
       "      <td>784</td>\n",
       "    </tr>\n",
       "    <tr>\n",
       "      <th>141</th>\n",
       "      <td>523</td>\n",
       "      <td>c</td>\n",
       "      <td>2.189237</td>\n",
       "      <td>784</td>\n",
       "    </tr>\n",
       "    <tr>\n",
       "      <th>5</th>\n",
       "      <td>733</td>\n",
       "      <td>b</td>\n",
       "      <td>2.186953</td>\n",
       "      <td>942</td>\n",
       "    </tr>\n",
       "    <tr>\n",
       "      <th>100</th>\n",
       "      <td>320</td>\n",
       "      <td>a</td>\n",
       "      <td>2.123316</td>\n",
       "      <td>784</td>\n",
       "    </tr>\n",
       "    <tr>\n",
       "      <th>42</th>\n",
       "      <td>595</td>\n",
       "      <td>c</td>\n",
       "      <td>2.119358</td>\n",
       "      <td>784</td>\n",
       "    </tr>\n",
       "    <tr>\n",
       "      <th>8</th>\n",
       "      <td>335</td>\n",
       "      <td>b</td>\n",
       "      <td>2.065464</td>\n",
       "      <td>942</td>\n",
       "    </tr>\n",
       "    <tr>\n",
       "      <th>133</th>\n",
       "      <td>546</td>\n",
       "      <td>a</td>\n",
       "      <td>1.977620</td>\n",
       "      <td>784</td>\n",
       "    </tr>\n",
       "    <tr>\n",
       "      <th>211</th>\n",
       "      <td>1033</td>\n",
       "      <td>a</td>\n",
       "      <td>1.976707</td>\n",
       "      <td>784</td>\n",
       "    </tr>\n",
       "    <tr>\n",
       "      <th>153</th>\n",
       "      <td>768</td>\n",
       "      <td>a</td>\n",
       "      <td>1.869377</td>\n",
       "      <td>784</td>\n",
       "    </tr>\n",
       "    <tr>\n",
       "      <th>56</th>\n",
       "      <td>211</td>\n",
       "      <td>a</td>\n",
       "      <td>1.818376</td>\n",
       "      <td>784</td>\n",
       "    </tr>\n",
       "    <tr>\n",
       "      <th>7</th>\n",
       "      <td>682</td>\n",
       "      <td>b</td>\n",
       "      <td>1.738296</td>\n",
       "      <td>942</td>\n",
       "    </tr>\n",
       "    <tr>\n",
       "      <th>93</th>\n",
       "      <td>469</td>\n",
       "      <td>c</td>\n",
       "      <td>1.690949</td>\n",
       "      <td>784</td>\n",
       "    </tr>\n",
       "    <tr>\n",
       "      <th>223</th>\n",
       "      <td>125</td>\n",
       "      <td>a</td>\n",
       "      <td>1.678009</td>\n",
       "      <td>784</td>\n",
       "    </tr>\n",
       "    <tr>\n",
       "      <th>186</th>\n",
       "      <td>1075</td>\n",
       "      <td>a</td>\n",
       "      <td>1.667047</td>\n",
       "      <td>784</td>\n",
       "    </tr>\n",
       "    <tr>\n",
       "      <th>11</th>\n",
       "      <td>259</td>\n",
       "      <td>b</td>\n",
       "      <td>1.662480</td>\n",
       "      <td>931</td>\n",
       "    </tr>\n",
       "    <tr>\n",
       "      <th>103</th>\n",
       "      <td>432</td>\n",
       "      <td>a</td>\n",
       "      <td>1.661719</td>\n",
       "      <td>784</td>\n",
       "    </tr>\n",
       "    <tr>\n",
       "      <th>107</th>\n",
       "      <td>416</td>\n",
       "      <td>a</td>\n",
       "      <td>1.595646</td>\n",
       "      <td>784</td>\n",
       "    </tr>\n",
       "    <tr>\n",
       "      <th>0</th>\n",
       "      <td>769</td>\n",
       "      <td>b</td>\n",
       "      <td>1.586511</td>\n",
       "      <td>942</td>\n",
       "    </tr>\n",
       "    <tr>\n",
       "      <th>81</th>\n",
       "      <td>207</td>\n",
       "      <td>a</td>\n",
       "      <td>1.580726</td>\n",
       "      <td>784</td>\n",
       "    </tr>\n",
       "    <tr>\n",
       "      <th>95</th>\n",
       "      <td>464</td>\n",
       "      <td>c</td>\n",
       "      <td>1.527289</td>\n",
       "      <td>784</td>\n",
       "    </tr>\n",
       "    <tr>\n",
       "      <th>111</th>\n",
       "      <td>389</td>\n",
       "      <td>a</td>\n",
       "      <td>1.514349</td>\n",
       "      <td>784</td>\n",
       "    </tr>\n",
       "    <tr>\n",
       "      <th>60</th>\n",
       "      <td>709</td>\n",
       "      <td>a</td>\n",
       "      <td>1.510999</td>\n",
       "      <td>784</td>\n",
       "    </tr>\n",
       "    <tr>\n",
       "      <th>9</th>\n",
       "      <td>423</td>\n",
       "      <td>b</td>\n",
       "      <td>1.498363</td>\n",
       "      <td>942</td>\n",
       "    </tr>\n",
       "    <tr>\n",
       "      <th>54</th>\n",
       "      <td>580</td>\n",
       "      <td>a</td>\n",
       "      <td>1.470351</td>\n",
       "      <td>784</td>\n",
       "    </tr>\n",
       "    <tr>\n",
       "      <th>...</th>\n",
       "      <td>...</td>\n",
       "      <td>...</td>\n",
       "      <td>...</td>\n",
       "      <td>...</td>\n",
       "    </tr>\n",
       "    <tr>\n",
       "      <th>127</th>\n",
       "      <td>2</td>\n",
       "      <td>a</td>\n",
       "      <td>0.690416</td>\n",
       "      <td>784</td>\n",
       "    </tr>\n",
       "    <tr>\n",
       "      <th>57</th>\n",
       "      <td>217</td>\n",
       "      <td>c</td>\n",
       "      <td>0.690264</td>\n",
       "      <td>784</td>\n",
       "    </tr>\n",
       "    <tr>\n",
       "      <th>156</th>\n",
       "      <td>988</td>\n",
       "      <td>a</td>\n",
       "      <td>0.688589</td>\n",
       "      <td>784</td>\n",
       "    </tr>\n",
       "    <tr>\n",
       "      <th>163</th>\n",
       "      <td>73</td>\n",
       "      <td>a</td>\n",
       "      <td>0.686458</td>\n",
       "      <td>784</td>\n",
       "    </tr>\n",
       "    <tr>\n",
       "      <th>123</th>\n",
       "      <td>569</td>\n",
       "      <td>a</td>\n",
       "      <td>0.680977</td>\n",
       "      <td>784</td>\n",
       "    </tr>\n",
       "    <tr>\n",
       "      <th>179</th>\n",
       "      <td>874</td>\n",
       "      <td>a</td>\n",
       "      <td>0.680673</td>\n",
       "      <td>784</td>\n",
       "    </tr>\n",
       "    <tr>\n",
       "      <th>240</th>\n",
       "      <td>110</td>\n",
       "      <td>a</td>\n",
       "      <td>0.675953</td>\n",
       "      <td>784</td>\n",
       "    </tr>\n",
       "    <tr>\n",
       "      <th>15</th>\n",
       "      <td>530</td>\n",
       "      <td>a</td>\n",
       "      <td>0.670777</td>\n",
       "      <td>906</td>\n",
       "    </tr>\n",
       "    <tr>\n",
       "      <th>27</th>\n",
       "      <td>867</td>\n",
       "      <td>d</td>\n",
       "      <td>0.670168</td>\n",
       "      <td>880</td>\n",
       "    </tr>\n",
       "    <tr>\n",
       "      <th>104</th>\n",
       "      <td>422</td>\n",
       "      <td>a</td>\n",
       "      <td>0.669103</td>\n",
       "      <td>784</td>\n",
       "    </tr>\n",
       "    <tr>\n",
       "      <th>50</th>\n",
       "      <td>237</td>\n",
       "      <td>a</td>\n",
       "      <td>0.668341</td>\n",
       "      <td>784</td>\n",
       "    </tr>\n",
       "    <tr>\n",
       "      <th>151</th>\n",
       "      <td>554</td>\n",
       "      <td>c</td>\n",
       "      <td>0.663622</td>\n",
       "      <td>784</td>\n",
       "    </tr>\n",
       "    <tr>\n",
       "      <th>166</th>\n",
       "      <td>945</td>\n",
       "      <td>a</td>\n",
       "      <td>0.659055</td>\n",
       "      <td>784</td>\n",
       "    </tr>\n",
       "    <tr>\n",
       "      <th>40</th>\n",
       "      <td>596</td>\n",
       "      <td>c</td>\n",
       "      <td>0.658293</td>\n",
       "      <td>784</td>\n",
       "    </tr>\n",
       "    <tr>\n",
       "      <th>58</th>\n",
       "      <td>622</td>\n",
       "      <td>a</td>\n",
       "      <td>0.646419</td>\n",
       "      <td>784</td>\n",
       "    </tr>\n",
       "    <tr>\n",
       "      <th>97</th>\n",
       "      <td>315</td>\n",
       "      <td>a</td>\n",
       "      <td>0.645657</td>\n",
       "      <td>784</td>\n",
       "    </tr>\n",
       "    <tr>\n",
       "      <th>144</th>\n",
       "      <td>282</td>\n",
       "      <td>a</td>\n",
       "      <td>0.643983</td>\n",
       "      <td>784</td>\n",
       "    </tr>\n",
       "    <tr>\n",
       "      <th>161</th>\n",
       "      <td>958</td>\n",
       "      <td>a</td>\n",
       "      <td>0.627845</td>\n",
       "      <td>784</td>\n",
       "    </tr>\n",
       "    <tr>\n",
       "      <th>44</th>\n",
       "      <td>594</td>\n",
       "      <td>a</td>\n",
       "      <td>0.617949</td>\n",
       "      <td>784</td>\n",
       "    </tr>\n",
       "    <tr>\n",
       "      <th>205</th>\n",
       "      <td>1063</td>\n",
       "      <td>a</td>\n",
       "      <td>0.613991</td>\n",
       "      <td>784</td>\n",
       "    </tr>\n",
       "    <tr>\n",
       "      <th>217</th>\n",
       "      <td>811</td>\n",
       "      <td>a</td>\n",
       "      <td>0.601659</td>\n",
       "      <td>784</td>\n",
       "    </tr>\n",
       "    <tr>\n",
       "      <th>214</th>\n",
       "      <td>48</td>\n",
       "      <td>a</td>\n",
       "      <td>0.586892</td>\n",
       "      <td>784</td>\n",
       "    </tr>\n",
       "    <tr>\n",
       "      <th>134</th>\n",
       "      <td>538</td>\n",
       "      <td>a</td>\n",
       "      <td>0.577149</td>\n",
       "      <td>784</td>\n",
       "    </tr>\n",
       "    <tr>\n",
       "      <th>112</th>\n",
       "      <td>379</td>\n",
       "      <td>d</td>\n",
       "      <td>0.571059</td>\n",
       "      <td>784</td>\n",
       "    </tr>\n",
       "    <tr>\n",
       "      <th>142</th>\n",
       "      <td>520</td>\n",
       "      <td>a</td>\n",
       "      <td>0.554464</td>\n",
       "      <td>784</td>\n",
       "    </tr>\n",
       "    <tr>\n",
       "      <th>28</th>\n",
       "      <td>931</td>\n",
       "      <td>a</td>\n",
       "      <td>0.538175</td>\n",
       "      <td>875</td>\n",
       "    </tr>\n",
       "    <tr>\n",
       "      <th>150</th>\n",
       "      <td>488</td>\n",
       "      <td>a</td>\n",
       "      <td>0.536957</td>\n",
       "      <td>784</td>\n",
       "    </tr>\n",
       "    <tr>\n",
       "      <th>10</th>\n",
       "      <td>274</td>\n",
       "      <td>b</td>\n",
       "      <td>0.514425</td>\n",
       "      <td>932</td>\n",
       "    </tr>\n",
       "    <tr>\n",
       "      <th>87</th>\n",
       "      <td>558</td>\n",
       "      <td>a</td>\n",
       "      <td>0.479562</td>\n",
       "      <td>784</td>\n",
       "    </tr>\n",
       "    <tr>\n",
       "      <th>82</th>\n",
       "      <td>208</td>\n",
       "      <td>c</td>\n",
       "      <td>0.444698</td>\n",
       "      <td>784</td>\n",
       "    </tr>\n",
       "  </tbody>\n",
       "</table>\n",
       "<p>242 rows × 4 columns</p>\n",
       "</div>"
      ],
      "text/plain": [
       "     Store StoreType     Sales  times\n",
       "238    817         a  3.248382    784\n",
       "187   1114         a  3.075436    784\n",
       "4      262         b  2.829870    942\n",
       "3      562         b  2.705945    942\n",
       "146    513         a  2.661490    784\n",
       "218    788         a  2.537870    784\n",
       "152    698         a  2.230951    784\n",
       "141    523         c  2.189237    784\n",
       "5      733         b  2.186953    942\n",
       "100    320         a  2.123316    784\n",
       "42     595         c  2.119358    784\n",
       "8      335         b  2.065464    942\n",
       "133    546         a  1.977620    784\n",
       "211   1033         a  1.976707    784\n",
       "153    768         a  1.869377    784\n",
       "56     211         a  1.818376    784\n",
       "7      682         b  1.738296    942\n",
       "93     469         c  1.690949    784\n",
       "223    125         a  1.678009    784\n",
       "186   1075         a  1.667047    784\n",
       "11     259         b  1.662480    931\n",
       "103    432         a  1.661719    784\n",
       "107    416         a  1.595646    784\n",
       "0      769         b  1.586511    942\n",
       "81     207         a  1.580726    784\n",
       "95     464         c  1.527289    784\n",
       "111    389         a  1.514349    784\n",
       "60     709         a  1.510999    784\n",
       "9      423         b  1.498363    942\n",
       "54     580         a  1.470351    784\n",
       "..     ...       ...       ...    ...\n",
       "127      2         a  0.690416    784\n",
       "57     217         c  0.690264    784\n",
       "156    988         a  0.688589    784\n",
       "163     73         a  0.686458    784\n",
       "123    569         a  0.680977    784\n",
       "179    874         a  0.680673    784\n",
       "240    110         a  0.675953    784\n",
       "15     530         a  0.670777    906\n",
       "27     867         d  0.670168    880\n",
       "104    422         a  0.669103    784\n",
       "50     237         a  0.668341    784\n",
       "151    554         c  0.663622    784\n",
       "166    945         a  0.659055    784\n",
       "40     596         c  0.658293    784\n",
       "58     622         a  0.646419    784\n",
       "97     315         a  0.645657    784\n",
       "144    282         a  0.643983    784\n",
       "161    958         a  0.627845    784\n",
       "44     594         a  0.617949    784\n",
       "205   1063         a  0.613991    784\n",
       "217    811         a  0.601659    784\n",
       "214     48         a  0.586892    784\n",
       "134    538         a  0.577149    784\n",
       "112    379         d  0.571059    784\n",
       "142    520         a  0.554464    784\n",
       "28     931         a  0.538175    875\n",
       "150    488         a  0.536957    784\n",
       "10     274         b  0.514425    932\n",
       "87     558         a  0.479562    784\n",
       "82     208         c  0.444698    784\n",
       "\n",
       "[242 rows x 4 columns]"
      ]
     },
     "execution_count": 128,
     "metadata": {},
     "output_type": "execute_result"
    }
   ],
   "source": [
    "#Takes me 6 min to run\n",
    "part_dep_multi(fields=['Store','StoreType'], coef=0.05)"
   ]
  },
  {
   "cell_type": "code",
   "execution_count": 129,
   "metadata": {
    "ExecuteTime": {
     "end_time": "2019-07-16T18:41:46.175607Z",
     "start_time": "2019-07-16T18:40:25.352456Z"
    }
   },
   "outputs": [
    {
     "data": {
      "text/html": [
       "Total time: 01:19 <p>"
      ],
      "text/plain": [
       "<IPython.core.display.HTML object>"
      ]
     },
     "metadata": {},
     "output_type": "display_data"
    },
    {
     "data": {
      "text/html": [
       "<div>\n",
       "<style scoped>\n",
       "    .dataframe tbody tr th:only-of-type {\n",
       "        vertical-align: middle;\n",
       "    }\n",
       "\n",
       "    .dataframe tbody tr th {\n",
       "        vertical-align: top;\n",
       "    }\n",
       "\n",
       "    .dataframe thead th {\n",
       "        text-align: right;\n",
       "    }\n",
       "</style>\n",
       "<table border=\"1\" class=\"dataframe\">\n",
       "  <thead>\n",
       "    <tr style=\"text-align: right;\">\n",
       "      <th></th>\n",
       "      <th>Events</th>\n",
       "      <th>Sales</th>\n",
       "      <th>times</th>\n",
       "    </tr>\n",
       "  </thead>\n",
       "  <tbody>\n",
       "    <tr>\n",
       "      <th>19</th>\n",
       "      <td>Fog-Rain-Hail</td>\n",
       "      <td>1.018328</td>\n",
       "      <td>305</td>\n",
       "    </tr>\n",
       "    <tr>\n",
       "      <th>20</th>\n",
       "      <td>Fog-Snow-Hail</td>\n",
       "      <td>1.008690</td>\n",
       "      <td>286</td>\n",
       "    </tr>\n",
       "    <tr>\n",
       "      <th>1</th>\n",
       "      <td>Fog</td>\n",
       "      <td>1.008216</td>\n",
       "      <td>102706</td>\n",
       "    </tr>\n",
       "    <tr>\n",
       "      <th>2</th>\n",
       "      <td>Fog-Rain</td>\n",
       "      <td>1.008216</td>\n",
       "      <td>74839</td>\n",
       "    </tr>\n",
       "    <tr>\n",
       "      <th>17</th>\n",
       "      <td>Fog-Thunderstorm</td>\n",
       "      <td>1.007900</td>\n",
       "      <td>384</td>\n",
       "    </tr>\n",
       "    <tr>\n",
       "      <th>16</th>\n",
       "      <td>Fog-Rain-Snow-Hail</td>\n",
       "      <td>1.007110</td>\n",
       "      <td>397</td>\n",
       "    </tr>\n",
       "    <tr>\n",
       "      <th>0</th>\n",
       "      <td>Rain</td>\n",
       "      <td>1.004108</td>\n",
       "      <td>324320</td>\n",
       "    </tr>\n",
       "    <tr>\n",
       "      <th>14</th>\n",
       "      <td>Rain-Snow-Hail-Thunderstorm</td>\n",
       "      <td>1.002844</td>\n",
       "      <td>483</td>\n",
       "    </tr>\n",
       "    <tr>\n",
       "      <th>9</th>\n",
       "      <td>Rain-Hail</td>\n",
       "      <td>1.002528</td>\n",
       "      <td>2824</td>\n",
       "    </tr>\n",
       "    <tr>\n",
       "      <th>11</th>\n",
       "      <td>Thunderstorm</td>\n",
       "      <td>1.000632</td>\n",
       "      <td>2208</td>\n",
       "    </tr>\n",
       "    <tr>\n",
       "      <th>5</th>\n",
       "      <td>Rain-Snow</td>\n",
       "      <td>1.000000</td>\n",
       "      <td>32595</td>\n",
       "    </tr>\n",
       "    <tr>\n",
       "      <th>3</th>\n",
       "      <td>Rain-Thunderstorm</td>\n",
       "      <td>1.000000</td>\n",
       "      <td>36989</td>\n",
       "    </tr>\n",
       "    <tr>\n",
       "      <th>6</th>\n",
       "      <td>Fog-Rain-Thunderstorm</td>\n",
       "      <td>0.999368</td>\n",
       "      <td>11141</td>\n",
       "    </tr>\n",
       "    <tr>\n",
       "      <th>4</th>\n",
       "      <td>Snow</td>\n",
       "      <td>0.999052</td>\n",
       "      <td>35392</td>\n",
       "    </tr>\n",
       "    <tr>\n",
       "      <th>7</th>\n",
       "      <td>Fog-Snow</td>\n",
       "      <td>0.998736</td>\n",
       "      <td>6657</td>\n",
       "    </tr>\n",
       "    <tr>\n",
       "      <th>8</th>\n",
       "      <td>Fog-Rain-Snow</td>\n",
       "      <td>0.998104</td>\n",
       "      <td>5412</td>\n",
       "    </tr>\n",
       "    <tr>\n",
       "      <th>10</th>\n",
       "      <td>Rain-Snow-Hail</td>\n",
       "      <td>0.997630</td>\n",
       "      <td>2223</td>\n",
       "    </tr>\n",
       "    <tr>\n",
       "      <th>13</th>\n",
       "      <td>Rain-Snow-Thunderstorm</td>\n",
       "      <td>0.996524</td>\n",
       "      <td>566</td>\n",
       "    </tr>\n",
       "    <tr>\n",
       "      <th>12</th>\n",
       "      <td>Rain-Hail-Thunderstorm</td>\n",
       "      <td>0.996366</td>\n",
       "      <td>799</td>\n",
       "    </tr>\n",
       "    <tr>\n",
       "      <th>18</th>\n",
       "      <td>Snow-Hail</td>\n",
       "      <td>0.995102</td>\n",
       "      <td>335</td>\n",
       "    </tr>\n",
       "    <tr>\n",
       "      <th>15</th>\n",
       "      <td>Fog-Rain-Hail-Thunderstorm</td>\n",
       "      <td>0.994312</td>\n",
       "      <td>420</td>\n",
       "    </tr>\n",
       "  </tbody>\n",
       "</table>\n",
       "</div>"
      ],
      "text/plain": [
       "                         Events     Sales   times\n",
       "19                Fog-Rain-Hail  1.018328     305\n",
       "20                Fog-Snow-Hail  1.008690     286\n",
       "1                           Fog  1.008216  102706\n",
       "2                      Fog-Rain  1.008216   74839\n",
       "17             Fog-Thunderstorm  1.007900     384\n",
       "16           Fog-Rain-Snow-Hail  1.007110     397\n",
       "0                          Rain  1.004108  324320\n",
       "14  Rain-Snow-Hail-Thunderstorm  1.002844     483\n",
       "9                     Rain-Hail  1.002528    2824\n",
       "11                 Thunderstorm  1.000632    2208\n",
       "5                     Rain-Snow  1.000000   32595\n",
       "3             Rain-Thunderstorm  1.000000   36989\n",
       "6         Fog-Rain-Thunderstorm  0.999368   11141\n",
       "4                          Snow  0.999052   35392\n",
       "7                      Fog-Snow  0.998736    6657\n",
       "8                 Fog-Rain-Snow  0.998104    5412\n",
       "10               Rain-Snow-Hail  0.997630    2223\n",
       "13       Rain-Snow-Thunderstorm  0.996524     566\n",
       "12       Rain-Hail-Thunderstorm  0.996366     799\n",
       "18                    Snow-Hail  0.995102     335\n",
       "15   Fog-Rain-Hail-Thunderstorm  0.994312     420"
      ]
     },
     "execution_count": 129,
     "metadata": {},
     "output_type": "execute_result"
    }
   ],
   "source": [
    "part_dep_multi(fields='Events')"
   ]
  },
  {
   "cell_type": "code",
   "execution_count": 130,
   "metadata": {
    "ExecuteTime": {
     "end_time": "2019-07-16T18:43:53.725030Z",
     "start_time": "2019-07-16T18:41:46.177152Z"
    }
   },
   "outputs": [
    {
     "data": {
      "text/html": [
       "Total time: 02:05 <p>"
      ],
      "text/plain": [
       "<IPython.core.display.HTML object>"
      ]
     },
     "metadata": {},
     "output_type": "display_data"
    },
    {
     "data": {
      "text/html": [
       "<div>\n",
       "<style scoped>\n",
       "    .dataframe tbody tr th:only-of-type {\n",
       "        vertical-align: middle;\n",
       "    }\n",
       "\n",
       "    .dataframe tbody tr th {\n",
       "        vertical-align: top;\n",
       "    }\n",
       "\n",
       "    .dataframe thead th {\n",
       "        text-align: right;\n",
       "    }\n",
       "</style>\n",
       "<table border=\"1\" class=\"dataframe\">\n",
       "  <thead>\n",
       "    <tr style=\"text-align: right;\">\n",
       "      <th></th>\n",
       "      <th>CompetitionMonthsOpen</th>\n",
       "      <th>Sales</th>\n",
       "      <th>times</th>\n",
       "    </tr>\n",
       "  </thead>\n",
       "  <tbody>\n",
       "    <tr>\n",
       "      <th>1</th>\n",
       "      <td>0</td>\n",
       "      <td>1.007914</td>\n",
       "      <td>346640</td>\n",
       "    </tr>\n",
       "    <tr>\n",
       "      <th>19</th>\n",
       "      <td>19</td>\n",
       "      <td>1.006648</td>\n",
       "      <td>4645</td>\n",
       "    </tr>\n",
       "    <tr>\n",
       "      <th>24</th>\n",
       "      <td>21</td>\n",
       "      <td>1.004590</td>\n",
       "      <td>4483</td>\n",
       "    </tr>\n",
       "    <tr>\n",
       "      <th>21</th>\n",
       "      <td>20</td>\n",
       "      <td>1.004274</td>\n",
       "      <td>4577</td>\n",
       "    </tr>\n",
       "    <tr>\n",
       "      <th>0</th>\n",
       "      <td>24</td>\n",
       "      <td>1.003166</td>\n",
       "      <td>386213</td>\n",
       "    </tr>\n",
       "    <tr>\n",
       "      <th>17</th>\n",
       "      <td>15</td>\n",
       "      <td>1.002374</td>\n",
       "      <td>4674</td>\n",
       "    </tr>\n",
       "    <tr>\n",
       "      <th>12</th>\n",
       "      <td>16</td>\n",
       "      <td>1.001741</td>\n",
       "      <td>4780</td>\n",
       "    </tr>\n",
       "    <tr>\n",
       "      <th>18</th>\n",
       "      <td>22</td>\n",
       "      <td>1.001583</td>\n",
       "      <td>4664</td>\n",
       "    </tr>\n",
       "    <tr>\n",
       "      <th>20</th>\n",
       "      <td>17</td>\n",
       "      <td>1.001583</td>\n",
       "      <td>4627</td>\n",
       "    </tr>\n",
       "    <tr>\n",
       "      <th>23</th>\n",
       "      <td>23</td>\n",
       "      <td>1.001425</td>\n",
       "      <td>4489</td>\n",
       "    </tr>\n",
       "    <tr>\n",
       "      <th>16</th>\n",
       "      <td>18</td>\n",
       "      <td>1.001108</td>\n",
       "      <td>4689</td>\n",
       "    </tr>\n",
       "    <tr>\n",
       "      <th>13</th>\n",
       "      <td>13</td>\n",
       "      <td>1.000000</td>\n",
       "      <td>4749</td>\n",
       "    </tr>\n",
       "    <tr>\n",
       "      <th>14</th>\n",
       "      <td>14</td>\n",
       "      <td>1.000000</td>\n",
       "      <td>4700</td>\n",
       "    </tr>\n",
       "    <tr>\n",
       "      <th>10</th>\n",
       "      <td>12</td>\n",
       "      <td>0.999209</td>\n",
       "      <td>4889</td>\n",
       "    </tr>\n",
       "    <tr>\n",
       "      <th>9</th>\n",
       "      <td>11</td>\n",
       "      <td>0.995093</td>\n",
       "      <td>5030</td>\n",
       "    </tr>\n",
       "    <tr>\n",
       "      <th>7</th>\n",
       "      <td>10</td>\n",
       "      <td>0.994619</td>\n",
       "      <td>5129</td>\n",
       "    </tr>\n",
       "    <tr>\n",
       "      <th>6</th>\n",
       "      <td>9</td>\n",
       "      <td>0.991770</td>\n",
       "      <td>5146</td>\n",
       "    </tr>\n",
       "    <tr>\n",
       "      <th>8</th>\n",
       "      <td>8</td>\n",
       "      <td>0.991295</td>\n",
       "      <td>5126</td>\n",
       "    </tr>\n",
       "    <tr>\n",
       "      <th>2</th>\n",
       "      <td>6</td>\n",
       "      <td>0.990662</td>\n",
       "      <td>5266</td>\n",
       "    </tr>\n",
       "    <tr>\n",
       "      <th>4</th>\n",
       "      <td>7</td>\n",
       "      <td>0.989554</td>\n",
       "      <td>5258</td>\n",
       "    </tr>\n",
       "    <tr>\n",
       "      <th>3</th>\n",
       "      <td>4</td>\n",
       "      <td>0.989237</td>\n",
       "      <td>5262</td>\n",
       "    </tr>\n",
       "    <tr>\n",
       "      <th>5</th>\n",
       "      <td>5</td>\n",
       "      <td>0.988129</td>\n",
       "      <td>5185</td>\n",
       "    </tr>\n",
       "    <tr>\n",
       "      <th>11</th>\n",
       "      <td>3</td>\n",
       "      <td>0.985438</td>\n",
       "      <td>4880</td>\n",
       "    </tr>\n",
       "    <tr>\n",
       "      <th>15</th>\n",
       "      <td>2</td>\n",
       "      <td>0.982431</td>\n",
       "      <td>4696</td>\n",
       "    </tr>\n",
       "    <tr>\n",
       "      <th>22</th>\n",
       "      <td>1</td>\n",
       "      <td>0.978632</td>\n",
       "      <td>4541</td>\n",
       "    </tr>\n",
       "  </tbody>\n",
       "</table>\n",
       "</div>"
      ],
      "text/plain": [
       "    CompetitionMonthsOpen     Sales   times\n",
       "1                       0  1.007914  346640\n",
       "19                     19  1.006648    4645\n",
       "24                     21  1.004590    4483\n",
       "21                     20  1.004274    4577\n",
       "0                      24  1.003166  386213\n",
       "17                     15  1.002374    4674\n",
       "12                     16  1.001741    4780\n",
       "18                     22  1.001583    4664\n",
       "20                     17  1.001583    4627\n",
       "23                     23  1.001425    4489\n",
       "16                     18  1.001108    4689\n",
       "13                     13  1.000000    4749\n",
       "14                     14  1.000000    4700\n",
       "10                     12  0.999209    4889\n",
       "9                      11  0.995093    5030\n",
       "7                      10  0.994619    5129\n",
       "6                       9  0.991770    5146\n",
       "8                       8  0.991295    5126\n",
       "2                       6  0.990662    5266\n",
       "4                       7  0.989554    5258\n",
       "3                       4  0.989237    5262\n",
       "5                       5  0.988129    5185\n",
       "11                      3  0.985438    4880\n",
       "15                      2  0.982431    4696\n",
       "22                      1  0.978632    4541"
      ]
     },
     "execution_count": 130,
     "metadata": {},
     "output_type": "execute_result"
    }
   ],
   "source": [
    "#Takes me 2 min to run\n",
    "part_dep_multi(fields='CompetitionMonthsOpen')"
   ]
  },
  {
   "cell_type": "markdown",
   "metadata": {
    "ExecuteTime": {
     "end_time": "2019-04-26T18:53:10.616568Z",
     "start_time": "2019-04-26T18:53:10.584718Z"
    }
   },
   "source": [
    "We can look at partial dependency not only for all the data, but for a subdata with some condition.\n",
    "For ex. here we can determine PD for a day for a particular State"
   ]
  },
  {
   "cell_type": "code",
   "execution_count": 132,
   "metadata": {
    "ExecuteTime": {
     "end_time": "2019-07-16T18:44:20.726457Z",
     "start_time": "2019-07-16T18:44:07.721997Z"
    },
    "scrolled": true
   },
   "outputs": [
    {
     "data": {
      "text/html": [
       "Total time: 00:12 <p>"
      ],
      "text/plain": [
       "<IPython.core.display.HTML object>"
      ]
     },
     "metadata": {},
     "output_type": "display_data"
    },
    {
     "data": {
      "text/html": [
       "<div>\n",
       "<style scoped>\n",
       "    .dataframe tbody tr th:only-of-type {\n",
       "        vertical-align: middle;\n",
       "    }\n",
       "\n",
       "    .dataframe tbody tr th {\n",
       "        vertical-align: top;\n",
       "    }\n",
       "\n",
       "    .dataframe thead th {\n",
       "        text-align: right;\n",
       "    }\n",
       "</style>\n",
       "<table border=\"1\" class=\"dataframe\">\n",
       "  <thead>\n",
       "    <tr style=\"text-align: right;\">\n",
       "      <th></th>\n",
       "      <th>Day</th>\n",
       "      <th>Sales</th>\n",
       "      <th>times</th>\n",
       "    </tr>\n",
       "  </thead>\n",
       "  <tbody>\n",
       "    <tr>\n",
       "      <th>30</th>\n",
       "      <td>31</td>\n",
       "      <td>1.083508</td>\n",
       "      <td>1099</td>\n",
       "    </tr>\n",
       "    <tr>\n",
       "      <th>26</th>\n",
       "      <td>30</td>\n",
       "      <td>1.081416</td>\n",
       "      <td>1758</td>\n",
       "    </tr>\n",
       "    <tr>\n",
       "      <th>2</th>\n",
       "      <td>2</td>\n",
       "      <td>1.040446</td>\n",
       "      <td>1973</td>\n",
       "    </tr>\n",
       "    <tr>\n",
       "      <th>29</th>\n",
       "      <td>1</td>\n",
       "      <td>1.031381</td>\n",
       "      <td>1267</td>\n",
       "    </tr>\n",
       "    <tr>\n",
       "      <th>28</th>\n",
       "      <td>29</td>\n",
       "      <td>1.024233</td>\n",
       "      <td>1616</td>\n",
       "    </tr>\n",
       "    <tr>\n",
       "      <th>3</th>\n",
       "      <td>4</td>\n",
       "      <td>1.019351</td>\n",
       "      <td>1973</td>\n",
       "    </tr>\n",
       "    <tr>\n",
       "      <th>27</th>\n",
       "      <td>3</td>\n",
       "      <td>1.016388</td>\n",
       "      <td>1693</td>\n",
       "    </tr>\n",
       "    <tr>\n",
       "      <th>14</th>\n",
       "      <td>5</td>\n",
       "      <td>1.013075</td>\n",
       "      <td>1901</td>\n",
       "    </tr>\n",
       "    <tr>\n",
       "      <th>8</th>\n",
       "      <td>28</td>\n",
       "      <td>1.010635</td>\n",
       "      <td>1904</td>\n",
       "    </tr>\n",
       "    <tr>\n",
       "      <th>18</th>\n",
       "      <td>15</td>\n",
       "      <td>1.005753</td>\n",
       "      <td>1899</td>\n",
       "    </tr>\n",
       "    <tr>\n",
       "      <th>13</th>\n",
       "      <td>10</td>\n",
       "      <td>1.005404</td>\n",
       "      <td>1902</td>\n",
       "    </tr>\n",
       "    <tr>\n",
       "      <th>5</th>\n",
       "      <td>13</td>\n",
       "      <td>1.005056</td>\n",
       "      <td>1972</td>\n",
       "    </tr>\n",
       "    <tr>\n",
       "      <th>21</th>\n",
       "      <td>14</td>\n",
       "      <td>1.004881</td>\n",
       "      <td>1830</td>\n",
       "    </tr>\n",
       "    <tr>\n",
       "      <th>9</th>\n",
       "      <td>7</td>\n",
       "      <td>1.003835</td>\n",
       "      <td>1903</td>\n",
       "    </tr>\n",
       "    <tr>\n",
       "      <th>11</th>\n",
       "      <td>8</td>\n",
       "      <td>1.000349</td>\n",
       "      <td>1902</td>\n",
       "    </tr>\n",
       "    <tr>\n",
       "      <th>0</th>\n",
       "      <td>11</td>\n",
       "      <td>1.000000</td>\n",
       "      <td>2041</td>\n",
       "    </tr>\n",
       "    <tr>\n",
       "      <th>7</th>\n",
       "      <td>16</td>\n",
       "      <td>0.998082</td>\n",
       "      <td>1969</td>\n",
       "    </tr>\n",
       "    <tr>\n",
       "      <th>15</th>\n",
       "      <td>12</td>\n",
       "      <td>0.997559</td>\n",
       "      <td>1900</td>\n",
       "    </tr>\n",
       "    <tr>\n",
       "      <th>22</th>\n",
       "      <td>9</td>\n",
       "      <td>0.996862</td>\n",
       "      <td>1830</td>\n",
       "    </tr>\n",
       "    <tr>\n",
       "      <th>1</th>\n",
       "      <td>27</td>\n",
       "      <td>0.995816</td>\n",
       "      <td>1975</td>\n",
       "    </tr>\n",
       "    <tr>\n",
       "      <th>25</th>\n",
       "      <td>6</td>\n",
       "      <td>0.995642</td>\n",
       "      <td>1760</td>\n",
       "    </tr>\n",
       "    <tr>\n",
       "      <th>23</th>\n",
       "      <td>19</td>\n",
       "      <td>0.995467</td>\n",
       "      <td>1829</td>\n",
       "    </tr>\n",
       "    <tr>\n",
       "      <th>6</th>\n",
       "      <td>18</td>\n",
       "      <td>0.995467</td>\n",
       "      <td>1971</td>\n",
       "    </tr>\n",
       "    <tr>\n",
       "      <th>16</th>\n",
       "      <td>17</td>\n",
       "      <td>0.993724</td>\n",
       "      <td>1900</td>\n",
       "    </tr>\n",
       "    <tr>\n",
       "      <th>4</th>\n",
       "      <td>23</td>\n",
       "      <td>0.993550</td>\n",
       "      <td>1973</td>\n",
       "    </tr>\n",
       "    <tr>\n",
       "      <th>12</th>\n",
       "      <td>22</td>\n",
       "      <td>0.991283</td>\n",
       "      <td>1902</td>\n",
       "    </tr>\n",
       "    <tr>\n",
       "      <th>10</th>\n",
       "      <td>20</td>\n",
       "      <td>0.989365</td>\n",
       "      <td>1902</td>\n",
       "    </tr>\n",
       "    <tr>\n",
       "      <th>19</th>\n",
       "      <td>21</td>\n",
       "      <td>0.987796</td>\n",
       "      <td>1831</td>\n",
       "    </tr>\n",
       "    <tr>\n",
       "      <th>24</th>\n",
       "      <td>26</td>\n",
       "      <td>0.981869</td>\n",
       "      <td>1761</td>\n",
       "    </tr>\n",
       "    <tr>\n",
       "      <th>20</th>\n",
       "      <td>25</td>\n",
       "      <td>0.970014</td>\n",
       "      <td>1831</td>\n",
       "    </tr>\n",
       "    <tr>\n",
       "      <th>17</th>\n",
       "      <td>24</td>\n",
       "      <td>0.961994</td>\n",
       "      <td>1899</td>\n",
       "    </tr>\n",
       "  </tbody>\n",
       "</table>\n",
       "</div>"
      ],
      "text/plain": [
       "    Day     Sales  times\n",
       "30   31  1.083508   1099\n",
       "26   30  1.081416   1758\n",
       "2     2  1.040446   1973\n",
       "29    1  1.031381   1267\n",
       "28   29  1.024233   1616\n",
       "3     4  1.019351   1973\n",
       "27    3  1.016388   1693\n",
       "14    5  1.013075   1901\n",
       "8    28  1.010635   1904\n",
       "18   15  1.005753   1899\n",
       "13   10  1.005404   1902\n",
       "5    13  1.005056   1972\n",
       "21   14  1.004881   1830\n",
       "9     7  1.003835   1903\n",
       "11    8  1.000349   1902\n",
       "0    11  1.000000   2041\n",
       "7    16  0.998082   1969\n",
       "15   12  0.997559   1900\n",
       "22    9  0.996862   1830\n",
       "1    27  0.995816   1975\n",
       "25    6  0.995642   1760\n",
       "23   19  0.995467   1829\n",
       "6    18  0.995467   1971\n",
       "16   17  0.993724   1900\n",
       "4    23  0.993550   1973\n",
       "12   22  0.991283   1902\n",
       "10   20  0.989365   1902\n",
       "19   21  0.987796   1831\n",
       "24   26  0.981869   1761\n",
       "20   25  0.970014   1831\n",
       "17   24  0.961994   1899"
      ]
     },
     "execution_count": 132,
     "metadata": {},
     "output_type": "execute_result"
    }
   ],
   "source": [
    "get_part_dep_one_list(df=df.query(\"State == 'BW'\"), learn=learn, bs=BS,\n",
    "                to_int=True, dep_name=dep_var, fields='Day')"
   ]
  },
  {
   "cell_type": "markdown",
   "metadata": {},
   "source": [
    "## Dendrogram and correlation lists"
   ]
  },
  {
   "cell_type": "markdown",
   "metadata": {},
   "source": [
    "Here we will work not with our model, but with actual data itself. We will try to get correlations out of it, that can, potentialy, help us to get rid of some redundancy and just understand our data better. "
   ]
  },
  {
   "cell_type": "code",
   "execution_count": 99,
   "metadata": {
    "ExecuteTime": {
     "end_time": "2019-07-18T13:26:43.769079Z",
     "start_time": "2019-07-18T13:26:43.696912Z"
    },
    "init_cell": true
   },
   "outputs": [],
   "source": [
    "from scipy.cluster import hierarchy as hc"
   ]
  },
  {
   "cell_type": "markdown",
   "metadata": {
    "ExecuteTime": {
     "end_time": "2019-04-24T12:15:18.195138Z",
     "start_time": "2019-04-24T12:15:18.160961Z"
    }
   },
   "source": [
    "I use here `Cramers V` statistic to determine correlation because my experiments showed me that more simple \n",
    "(and muuuuch fast) `Spearman rank-order correlation` algorithm doesn't work well for categorical columns in many cases.  \n",
    "As an ex.: if you add another column of categorical data, but assign categorical differently (let's randomize order in category dictionary) these column should have 100% correlation, but that's not the case for `spearmanr`.  \n",
    "So I've shifted to more sophisticated analysis algorithm `Cramers V`.  \n",
    "Also it can handle NA values without manual preprocessing."
   ]
  },
  {
   "cell_type": "code",
   "execution_count": 100,
   "metadata": {
    "ExecuteTime": {
     "end_time": "2019-07-18T13:26:43.846180Z",
     "start_time": "2019-07-18T13:26:43.771863Z"
    },
    "init_cell": true
   },
   "outputs": [],
   "source": [
    "def build_correlation_matr(df:DataFrame):\n",
    "    '''\n",
    "    Build Spearman rank-order correlation matrix\n",
    "    NA in df should be fixed before pass here\n",
    "    '''\n",
    "    corr = np.round(scipy.stats.spearmanr(df).correlation, 4)\n",
    "    corr[np.isnan(corr)] = 0.0\n",
    "    np.fill_diagonal(corr, 1.0)\n",
    "    return corr\n",
    "\n",
    "def plot_dendrogram_corr(corr_matr, columns, figsize=None, leaf_font_size=16):\n",
    "    '''\n",
    "    Plots dendrogram for a given correlation matrix\n",
    "    '''\n",
    "    if (figsize is None):\n",
    "        figsize = (15, 0.02*leaf_font_size*len(df.columns))\n",
    "    corr_condensed = hc.distance.squareform(1-corr_matr)\n",
    "    z = hc.linkage(corr_condensed, method='average')\n",
    "    fig = plt.figure(figsize=figsize)\n",
    "    dendrogram = hc.dendrogram(z, labels=columns, orientation='left', leaf_font_size=leaf_font_size)\n",
    "    plt.show()\n",
    "\n",
    "def plot_dendrogram(df:DataFrame, figsize=None, leaf_font_size=16):\n",
    "    corr = build_correlation_matr(df)\n",
    "    plot_dendrogram_corr(corr_matr=corr, columns=df.columns, figsize=figsize, leaf_font_size=leaf_font_size)"
   ]
  },
  {
   "cell_type": "code",
   "execution_count": 101,
   "metadata": {
    "ExecuteTime": {
     "end_time": "2019-07-18T13:26:43.924809Z",
     "start_time": "2019-07-18T13:26:43.847981Z"
    },
    "init_cell": true
   },
   "outputs": [],
   "source": [
    "def cramers_corrected_stat(confusion_matrix):\n",
    "    \"\"\" calculate Cramers V statistic for categorial-categorial association.\n",
    "        uses correction from Bergsma and Wicher, \n",
    "        Journal of the Korean Statistical Society 42 (2013): 323-328\n",
    "    \"\"\"\n",
    "    chi2 = scipy.stats.chi2_contingency(confusion_matrix)[0]\n",
    "    if (chi2 == 0):\n",
    "        return 0.0\n",
    "    n = confusion_matrix.sum().sum()\n",
    "    phi2 = chi2/n\n",
    "    r,k = confusion_matrix.shape\n",
    "    phi2corr = max(0, phi2 - ((k-1)*(r-1))/(n-1))    \n",
    "    rcorr = r - ((r-1)**2)/(n-1)\n",
    "    kcorr = k - ((k-1)**2)/(n-1)\n",
    "    return np.sqrt(phi2corr / min( (kcorr-1), (rcorr-1)))\n",
    "\n",
    "def get_cramer_v_matr(df:DataFrame)->np.ndarray:\n",
    "    '''\n",
    "    Calculate Cramers V statistic for every pair in df's columns\n",
    "    '''\n",
    "    cols = list(df.columns)\n",
    "    corrM = np.zeros((len(cols), len(cols)))\n",
    "    pbar = master_bar(list(itertools.combinations(cols, 2)))\n",
    "    for col1, col2 in pbar:\n",
    "        _ = progress_bar(range(1), parent=pbar) #looks like fastprogress doesn't work without 2nd bar :(\n",
    "        idx1, idx2 = cols.index(col1), cols.index(col2)\n",
    "        corrM[idx1, idx2] = cramers_corrected_stat(pd.crosstab(df[col1], df[col2]))\n",
    "        corrM[idx2, idx1] = corrM[idx1, idx2]\n",
    "    np.fill_diagonal(corrM, 1.0)\n",
    "    return corrM"
   ]
  },
  {
   "cell_type": "code",
   "execution_count": 102,
   "metadata": {
    "ExecuteTime": {
     "end_time": "2019-07-18T13:26:44.003094Z",
     "start_time": "2019-07-18T13:26:43.926367Z"
    },
    "init_cell": true
   },
   "outputs": [],
   "source": [
    "def get_top_corr_df(df:DataFrame, corr_thr:float=0.8, corr_matr:array=None)->DataFrame:\n",
    "    if (corr_matr is not None):\n",
    "        corr = corr_matr\n",
    "    else:\n",
    "        corr = build_correlation_matr(df=df)\n",
    "    corr = np.where(abs(corr)<corr_thr, 0, corr)\n",
    "    idxs = []\n",
    "    for i in range(corr.shape[0]):\n",
    "        if (corr[i, :].sum() + corr[:, i].sum() > 2):\n",
    "            idxs.append(i)\n",
    "    cols = df.columns[idxs]\n",
    "    return pd.DataFrame(corr[np.ix_(idxs, idxs)], columns=cols, index=cols)\n",
    "\n",
    "def get_top_corr_dict_corrs(top_corrs:DataFrame)->OrderedDict:\n",
    "    cols = top_corrs.columns\n",
    "    top_corrs_np = top_corrs.to_numpy()\n",
    "    corr_dict = {}\n",
    "    for i in range(top_corrs_np.shape[0]):\n",
    "        for j in range(i+1, top_corrs_np.shape[0]):\n",
    "            if (top_corrs_np[i, j] > 0):\n",
    "                corr_dict[cols[i]+' vs '+cols[j]] = np.round(top_corrs_np[i, j], 3)\n",
    "    return collections.OrderedDict(sorted(corr_dict.items(), key=lambda kv: abs(kv[1]), reverse=True))    \n",
    "\n",
    "def get_top_corr_dict(df:DataFrame, corr_thr:float=0.8, corr_matr:array=None)->OrderedDict:\n",
    "    '''\n",
    "    Outputs top pairs of correlation in a given dataframe with a given correlation matrix\n",
    "    Filters output mith minimal correlation of corr_thr\n",
    "    '''\n",
    "    top_corrs = get_top_corr_df(df, corr_thr, corr_matr)\n",
    "    return get_top_corr_dict_corrs(top_corrs)"
   ]
  },
  {
   "cell_type": "code",
   "execution_count": 137,
   "metadata": {
    "ExecuteTime": {
     "end_time": "2019-07-16T18:44:34.562586Z",
     "start_time": "2019-07-16T18:44:34.475257Z"
    }
   },
   "outputs": [],
   "source": [
    "np.set_printoptions(threshold=800, suppress=True)"
   ]
  },
  {
   "cell_type": "markdown",
   "metadata": {
    "ExecuteTime": {
     "end_time": "2019-04-24T12:19:10.906311Z",
     "start_time": "2019-04-24T12:19:10.875459Z"
    }
   },
   "source": [
    "Here we calculate correlation matrix separately as it can be pretty long process.  \n",
    "And then we can use it in different views.\n",
    "Remember that time how long it will take depends not on how many data you have, but more on what is the sum of cardinalities of your categorical variables. I had a case where the was 100+ less actual data and this process took 15+ times more (20+ min), solely because how dense categories where there."
   ]
  },
  {
   "cell_type": "code",
   "execution_count": 138,
   "metadata": {
    "ExecuteTime": {
     "end_time": "2019-07-16T18:46:09.451234Z",
     "start_time": "2019-07-16T18:44:37.291326Z"
    }
   },
   "outputs": [
    {
     "data": {
      "text/html": [
       "Total time: 01:31 <p>"
      ],
      "text/plain": [
       "<IPython.core.display.HTML object>"
      ]
     },
     "metadata": {},
     "output_type": "display_data"
    }
   ],
   "source": [
    "corr_v = get_cramer_v_matr(df[all_vars])"
   ]
  },
  {
   "cell_type": "code",
   "execution_count": 139,
   "metadata": {
    "ExecuteTime": {
     "end_time": "2019-07-16T18:46:13.702452Z",
     "start_time": "2019-07-16T18:46:13.158037Z"
    },
    "scrolled": false
   },
   "outputs": [
    {
     "data": {
      "image/png": "[encoded data removed]",
      "text/plain": [
       "<Figure size 1080x921.6 with 1 Axes>"
      ]
     },
     "metadata": {
      "needs_background": "light"
     },
     "output_type": "display_data"
    }
   ],
   "source": [
    "plot_dendrogram_corr(corr_v, df[all_vars].columns)"
   ]
  },
  {
   "cell_type": "code",
   "execution_count": 140,
   "metadata": {
    "ExecuteTime": {
     "end_time": "2019-07-16T18:46:22.465294Z",
     "start_time": "2019-07-16T18:46:22.255371Z"
    },
    "scrolled": true
   },
   "outputs": [
    {
     "data": {
      "text/plain": [
       "OrderedDict([('Store vs CompetitionDistance', 1.0),\n",
       "             ('Store vs StoreType', 0.999),\n",
       "             ('Store vs Assortment', 0.999),\n",
       "             ('Store vs PromoInterval', 0.999),\n",
       "             ('Store vs CompetitionOpenSinceYear', 0.999),\n",
       "             ('Store vs Promo2SinceYear', 0.999),\n",
       "             ('Store vs State', 0.999),\n",
       "             ('Month vs Week', 0.965),\n",
       "             ('StateHoliday vs AfterStateHoliday', 0.962)])"
      ]
     },
     "execution_count": 140,
     "metadata": {},
     "output_type": "execute_result"
    }
   ],
   "source": [
    "get_top_corr_dict(df[all_vars], corr_thr=0.9, corr_matr=corr_v)"
   ]
  },
  {
   "cell_type": "markdown",
   "metadata": {},
   "source": [
    "That's an interesting case that one should use dendrogram as well as good all correlation list (or correlation matrix). You see that list tells us that Store vs PromoInterval correlate with each other very high, with is not seen on dendrogram.\n",
    "Why is that?\n",
    "Well looks like it's because Store and PromoInterval does correlate with each other extremely strongly, but pair Store+CompetitionDistance (which we can see on dendrogram) doesn't do that with PromoInterval.\n",
    "\n",
    "I think it's a very interesting edge case"
   ]
  },
  {
   "cell_type": "code",
   "execution_count": 142,
   "metadata": {
    "ExecuteTime": {
     "end_time": "2019-07-16T18:47:29.455406Z",
     "start_time": "2019-07-16T18:47:27.129622Z"
    }
   },
   "outputs": [],
   "source": [
    "df_keep = apply_fill_n_catf(df, learn=learn)"
   ]
  },
  {
   "cell_type": "markdown",
   "metadata": {},
   "source": [
    "And that what we will get if we will build dendrogram with Spearman rank-order correlation matrix.  \n",
    "As we see it doesn't treat categorical columns well"
   ]
  },
  {
   "cell_type": "code",
   "execution_count": 146,
   "metadata": {
    "ExecuteTime": {
     "end_time": "2019-07-16T18:49:29.742950Z",
     "start_time": "2019-07-16T18:49:05.147073Z"
    },
    "scrolled": false
   },
   "outputs": [
    {
     "data": {
      "image/png": "[encoded data removed]",
      "text/plain": [
       "<Figure size 1080x921.6 with 1 Axes>"
      ]
     },
     "metadata": {
      "needs_background": "light"
     },
     "output_type": "display_data"
    }
   ],
   "source": [
    "plot_dendrogram(df_keep)"
   ]
  },
  {
   "cell_type": "code",
   "execution_count": 147,
   "metadata": {
    "ExecuteTime": {
     "end_time": "2019-07-16T18:49:32.442094Z",
     "start_time": "2019-07-16T18:49:29.745117Z"
    }
   },
   "outputs": [
    {
     "data": {
      "text/plain": [
       "OrderedDict([('Max_TemperatureC vs Mean_TemperatureC', 0.972),\n",
       "             ('Month vs Week', 0.962),\n",
       "             ('Mean_TemperatureC vs Min_TemperatureC', 0.953),\n",
       "             ('Mean_Humidity vs Min_Humidity', 0.925),\n",
       "             ('PromoInterval vs Promo2SinceYear', 0.888),\n",
       "             ('Max_TemperatureC vs Min_TemperatureC', 0.862),\n",
       "             ('Max_Wind_SpeedKm_h vs Mean_Wind_SpeedKm_h', 0.805)])"
      ]
     },
     "execution_count": 147,
     "metadata": {},
     "output_type": "execute_result"
    }
   ],
   "source": [
    "get_top_corr_dict(df=df_keep[all_vars], corr_thr=0.8)"
   ]
  },
  {
   "cell_type": "markdown",
   "metadata": {},
   "source": [
    "## Features closeness and dimension reduction"
   ]
  },
  {
   "cell_type": "markdown",
   "metadata": {
    "ExecuteTime": {
     "end_time": "2019-04-26T19:01:25.438244Z",
     "start_time": "2019-04-26T19:01:25.405212Z"
    }
   },
   "source": [
    "The last thing we do is to visualize the embeddings vectors.   \n",
    "For that we should reduce it's dimension to 2 as I wasn't able to plot 10-dimensions vector on a flat screen :)"
   ]
  },
  {
   "cell_type": "code",
   "execution_count": 103,
   "metadata": {
    "ExecuteTime": {
     "end_time": "2019-07-18T13:26:44.076107Z",
     "start_time": "2019-07-18T13:26:44.004817Z"
    },
    "init_cell": true
   },
   "outputs": [],
   "source": [
    "from sklearn import manifold"
   ]
  },
  {
   "cell_type": "code",
   "execution_count": 104,
   "metadata": {
    "ExecuteTime": {
     "end_time": "2019-07-18T13:26:44.169535Z",
     "start_time": "2019-07-18T13:26:44.078343Z"
    },
    "init_cell": true
   },
   "outputs": [],
   "source": [
    "def get_classes_o_list(learn:Learner):\n",
    "    procs = learn.data.processor[0]\n",
    "    return procs.classes\n",
    "\n",
    "def get_rev_emb_idxs(learn:Learner)->dict:\n",
    "    classes_dict = get_classes_o_list(learn=learn)\n",
    "    return {c:i for i, (c, _) in enumerate(classes_dict.items()) if (c[-3:] != \"_na\")}\n",
    "    \n",
    "    \n",
    "def get_emb_outp(learn:Learner, field:str, inp:str, rev_emb_idxs:dict, classes, embs):\n",
    "    emb = embs[rev_emb_idxs[field]]\n",
    "    idx, = np.where(classes[field] == inp)\n",
    "    if (len(idx) == 1):\n",
    "        cat_idx = idx[0]\n",
    "    else:\n",
    "        cat_idx = 0\n",
    "    return emb(torch.tensor(cat_idx, device=learn.data.device))\n",
    "    \n",
    "\n",
    "def get_embs_map(learn:Learner)->OrderedDict:\n",
    "    '''\n",
    "    Output embedding vector for every item of every cafegirical column as a dictionary of dicts\n",
    "    \n",
    "    '''\n",
    "    cat_cols = get_cat_cols(learn=learn, is_wo_na=True)\n",
    "    rev_emb_idxs = get_rev_emb_idxs(learn=learn)    \n",
    "    classes = get_classes_o_list(learn=learn)\n",
    "    embs = learn.model.embeds\n",
    "    learn.model.eval();\n",
    "    result = OrderedDict()\n",
    "    \n",
    "    for cat in cat_cols:\n",
    "        cat_res = OrderedDict()\n",
    "        for val in classes[cat]:\n",
    "            cat_res[val] = get_emb_outp(learn=learn,\n",
    "                                        field=cat, inp=str(val), \n",
    "                                        rev_emb_idxs=rev_emb_idxs, \n",
    "                                        classes=classes, embs=embs)\n",
    "        result[cat] = cat_res\n",
    "        \n",
    "    return result\n",
    "\n",
    "\n",
    "def emb_map_reduce_dim(embs_map:OrderedDict, outp_dim:int=3, to_df:bool=True, method:str='pytorch', exclude:list=None):\n",
    "    '''\n",
    "    Reduces dimention of embedding map upto outp_dim\n",
    "    Can use 'pytorch' approach (pca)\n",
    "    or 'scilearn' for manifold.TSNE (longer, but not sure that it is better)\n",
    "    '''\n",
    "    exclude = listify(exclude)\n",
    "    result = OrderedDict()\n",
    "    for feat, val in emb_map.items():\n",
    "        reformat = []\n",
    "        names = []\n",
    "        for k,v in val.items():\n",
    "            reformat.append(v)\n",
    "            names.append(k)\n",
    "        reformat = torch.stack(reformat)\n",
    "        if (exclude is not None) and (feat in exclude):\n",
    "            continue\n",
    "        if (method == 'scilearn'):\n",
    "            tsne = manifold.TSNE(n_components=outp_dim, init='pca')\n",
    "            reduced = tsne.fit_transform(to_np(reformat))\n",
    "        else:\n",
    "            reduced = reformat.pca(outp_dim)\n",
    "        record = OrderedDict({k:v for k, v in zip(names, reduced)})\n",
    "        result[feat] = record\n",
    "    \n",
    "    if (to_df == True):\n",
    "        data = []\n",
    "        for feat, val in result.items():\n",
    "            for k,v in val.items():\n",
    "                dt = list(v) if (method == 'scilearn') else list(to_np(v))\n",
    "                data.append([feat] + [k]  + dt)\n",
    "        names = ['feature', 'value'] + ['axis_' + str(i) for i in range(outp_dim)] \n",
    "        result = pd.DataFrame(data, columns=names)\n",
    "    \n",
    "    return result\n",
    "\n",
    "\n",
    "def add_times_col(embs_map:DataFrame, df:DataFrame)->DataFrame:\n",
    "    '''\n",
    "    Adds to embeddings map dataframe new column with times of value's number of occurrences \n",
    "    Usefull for estimation of how accurate the value is (more time means more sure you can be)\n",
    "    '''\n",
    "    times = np.zeros(len(embs_map))\n",
    "    last_feat = ''\n",
    "    vc = None\n",
    "    for i, (f, v) in enumerate(zip(embs_map['feature'], embs_map['value'])):\n",
    "        if (f != last_feat):\n",
    "            vc = df[f].value_counts(dropna=False)\n",
    "            vc.index = vc.index.map(str)\n",
    "            last_feat = f\n",
    "        if (v != '#na#'):\n",
    "            times[i] = vc[v]\n",
    "        else:\n",
    "            times[i] = vc['nan'] if ('nan' in vc.index) else 0\n",
    "    result = embs_map.copy()\n",
    "    result['times'] = times\n",
    "    return result       "
   ]
  },
  {
   "cell_type": "code",
   "execution_count": 105,
   "metadata": {
    "ExecuteTime": {
     "end_time": "2019-07-18T13:26:44.242200Z",
     "start_time": "2019-07-18T13:26:44.171318Z"
    },
    "init_cell": true
   },
   "outputs": [],
   "source": [
    "import pickle\n",
    "# Little helpers for saving/loading variables with pickle\n",
    "def sv_var(var, name):    \n",
    "    f = open(path/f\"{name}.pkl\",\"wb\")\n",
    "    pickle.dump(var, f)\n",
    "    f.close()\n",
    "    \n",
    "def ld_var(name):\n",
    "    f = open(path/f\"{name}.pkl\",\"rb\")\n",
    "    var = pickle.load(f)\n",
    "    f.close()\n",
    "    return var"
   ]
  },
  {
   "cell_type": "code",
   "execution_count": 154,
   "metadata": {
    "ExecuteTime": {
     "end_time": "2019-07-16T18:53:23.848336Z",
     "start_time": "2019-07-16T18:53:23.594994Z"
    }
   },
   "outputs": [],
   "source": [
    "emb_map = get_embs_map(learn=learn)"
   ]
  },
  {
   "cell_type": "code",
   "execution_count": 155,
   "metadata": {
    "ExecuteTime": {
     "end_time": "2019-07-16T18:53:28.470744Z",
     "start_time": "2019-07-16T18:53:27.683346Z"
    }
   },
   "outputs": [],
   "source": [
    "redc_emb_map = emb_map_reduce_dim(embs_map=emb_map, outp_dim=2, to_df=True)"
   ]
  },
  {
   "cell_type": "code",
   "execution_count": 156,
   "metadata": {
    "ExecuteTime": {
     "end_time": "2019-07-16T18:53:32.206973Z",
     "start_time": "2019-07-16T18:53:31.633379Z"
    }
   },
   "outputs": [],
   "source": [
    "redc_emb_map = add_times_col(embs_map=redc_emb_map, df=df)"
   ]
  },
  {
   "cell_type": "code",
   "execution_count": 106,
   "metadata": {
    "ExecuteTime": {
     "end_time": "2019-07-18T13:26:44.317386Z",
     "start_time": "2019-07-18T13:26:44.244064Z"
    },
    "init_cell": true
   },
   "outputs": [],
   "source": [
    "def plot_2d_emb(emb_map:DataFrame, feature:str, top_x:int=10):\n",
    "    sub_df = emb_map.query(f\"feature == '{feature}'\").sort_values('times', ascending=False).head(top_x)\n",
    "    X = sub_df['axis_0']\n",
    "    Y = sub_df['axis_1']\n",
    "    plt.figure(figsize=(15, 8))\n",
    "    plt.scatter(X, Y)\n",
    "    for name, x, y in zip(sub_df['value'], X, Y):\n",
    "        plt.text(x, y, name, color=np.random.rand(3)*0.7, fontsize=11)\n",
    "    plt.show()"
   ]
  },
  {
   "cell_type": "markdown",
   "metadata": {},
   "source": [
    "We can see how the embeddings form a decent smooth curve from 1 to 12"
   ]
  },
  {
   "cell_type": "code",
   "execution_count": 161,
   "metadata": {
    "ExecuteTime": {
     "end_time": "2019-07-16T18:55:16.905680Z",
     "start_time": "2019-07-16T18:55:16.620170Z"
    },
    "scrolled": false
   },
   "outputs": [
    {
     "data": {
      "image/png": "[encoded data removed]",
      "text/plain": [
       "<Figure size 1080x576 with 1 Axes>"
      ]
     },
     "metadata": {
      "needs_background": "light"
     },
     "output_type": "display_data"
    }
   ],
   "source": [
    "plot_2d_emb(emb_map=redc_emb_map, feature='Month', top_x=30)"
   ]
  },
  {
   "cell_type": "code",
   "execution_count": 162,
   "metadata": {
    "ExecuteTime": {
     "end_time": "2019-07-16T18:55:34.011665Z",
     "start_time": "2019-07-16T18:55:23.444471Z"
    }
   },
   "outputs": [
    {
     "name": "stderr",
     "output_type": "stream",
     "text": [
      "/opt/conda/envs/fastai/lib/python3.6/site-packages/sklearn/decomposition/pca.py:535: RuntimeWarning: divide by zero encountered in true_divide\n",
      "  self.explained_variance_ / total_var.sum()\n",
      "/opt/conda/envs/fastai/lib/python3.6/site-packages/sklearn/decomposition/pca.py:535: RuntimeWarning: invalid value encountered in true_divide\n",
      "  self.explained_variance_ / total_var.sum()\n"
     ]
    }
   ],
   "source": [
    "redc_emb_map_scl = emb_map_reduce_dim(embs_map=emb_map, outp_dim=2, to_df=True, method='scilearn')"
   ]
  },
  {
   "cell_type": "code",
   "execution_count": 163,
   "metadata": {
    "ExecuteTime": {
     "end_time": "2019-07-16T18:55:34.579189Z",
     "start_time": "2019-07-16T18:55:34.014034Z"
    }
   },
   "outputs": [],
   "source": [
    "redc_emb_map_scl = add_times_col(embs_map=redc_emb_map_scl, df=df)"
   ]
  },
  {
   "cell_type": "markdown",
   "metadata": {},
   "source": [
    "Looks like `manifold.TSNE` is not as usefull as plain `pca`"
   ]
  },
  {
   "cell_type": "code",
   "execution_count": 164,
   "metadata": {
    "ExecuteTime": {
     "end_time": "2019-07-16T18:55:34.855177Z",
     "start_time": "2019-07-16T18:55:34.580942Z"
    }
   },
   "outputs": [
    {
     "data": {
      "image/png": "[encoded data removed]",
      "text/plain": [
       "<Figure size 1080x576 with 1 Axes>"
      ]
     },
     "metadata": {
      "needs_background": "light"
     },
     "output_type": "display_data"
    }
   ],
   "source": [
    "plot_2d_emb(emb_map=redc_emb_map_scl, feature='Month', top_x=30)"
   ]
  }
 ],
 "metadata": {
  "kernelspec": {
   "display_name": "Python 3",
   "language": "python",
   "name": "python3"
  },
  "language_info": {
   "codemirror_mode": {
    "name": "ipython",
    "version": 3
   },
   "file_extension": ".py",
   "mimetype": "text/x-python",
   "name": "python",
   "nbconvert_exporter": "python",
   "pygments_lexer": "ipython3",
   "version": "3.6.8"
  }
 },
 "nbformat": 4,
 "nbformat_minor": 2
}
