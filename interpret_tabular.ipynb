{
 "cells": [
  {
   "cell_type": "markdown",
   "metadata": {},
   "source": [
    "Start with usual things as in Rossmann lesson"
   ]
  },
  {
   "cell_type": "code",
   "execution_count": 1,
   "metadata": {
    "ExecuteTime": {
     "end_time": "2019-05-08T14:05:14.375621Z",
     "start_time": "2019-05-08T14:05:14.358245Z"
    },
    "init_cell": true
   },
   "outputs": [],
   "source": [
    "%reload_ext autoreload\n",
    "%autoreload 2"
   ]
  },
  {
   "cell_type": "code",
   "execution_count": 2,
   "metadata": {
    "ExecuteTime": {
     "end_time": "2019-05-30T12:38:46.819784Z",
     "start_time": "2019-05-30T12:38:43.262196Z"
    },
    "init_cell": true
   },
   "outputs": [],
   "source": [
    "from fastai.tabular import *"
   ]
  },
  {
   "cell_type": "code",
   "execution_count": 3,
   "metadata": {
    "ExecuteTime": {
     "end_time": "2019-05-08T14:05:21.335777Z",
     "start_time": "2019-05-08T14:05:19.313635Z"
    },
    "init_cell": true
   },
   "outputs": [],
   "source": [
    "path=Path('data/')\n",
    "train_df = pd.read_pickle(path/'train_clean.zip', compression='zip')\n",
    "test_df = pd.read_pickle(path/'test_clean')"
   ]
  },
  {
   "cell_type": "code",
   "execution_count": 4,
   "metadata": {
    "ExecuteTime": {
     "end_time": "2019-05-08T14:05:24.902797Z",
     "start_time": "2019-05-08T14:05:24.844072Z"
    }
   },
   "outputs": [
    {
     "data": {
      "text/html": [
       "<div>\n",
       "<style scoped>\n",
       "    .dataframe tbody tr th:only-of-type {\n",
       "        vertical-align: middle;\n",
       "    }\n",
       "\n",
       "    .dataframe tbody tr th {\n",
       "        vertical-align: top;\n",
       "    }\n",
       "\n",
       "    .dataframe thead th {\n",
       "        text-align: right;\n",
       "    }\n",
       "</style>\n",
       "<table border=\"1\" class=\"dataframe\">\n",
       "  <thead>\n",
       "    <tr style=\"text-align: right;\">\n",
       "      <th></th>\n",
       "      <th>0</th>\n",
       "      <th>1</th>\n",
       "      <th>2</th>\n",
       "      <th>3</th>\n",
       "      <th>4</th>\n",
       "    </tr>\n",
       "  </thead>\n",
       "  <tbody>\n",
       "    <tr>\n",
       "      <th>index</th>\n",
       "      <td>0</td>\n",
       "      <td>1</td>\n",
       "      <td>2</td>\n",
       "      <td>3</td>\n",
       "      <td>4</td>\n",
       "    </tr>\n",
       "    <tr>\n",
       "      <th>Store</th>\n",
       "      <td>1</td>\n",
       "      <td>2</td>\n",
       "      <td>3</td>\n",
       "      <td>4</td>\n",
       "      <td>5</td>\n",
       "    </tr>\n",
       "    <tr>\n",
       "      <th>DayOfWeek</th>\n",
       "      <td>5</td>\n",
       "      <td>5</td>\n",
       "      <td>5</td>\n",
       "      <td>5</td>\n",
       "      <td>5</td>\n",
       "    </tr>\n",
       "    <tr>\n",
       "      <th>Date</th>\n",
       "      <td>2015-07-31 00:00:00</td>\n",
       "      <td>2015-07-31 00:00:00</td>\n",
       "      <td>2015-07-31 00:00:00</td>\n",
       "      <td>2015-07-31 00:00:00</td>\n",
       "      <td>2015-07-31 00:00:00</td>\n",
       "    </tr>\n",
       "    <tr>\n",
       "      <th>Sales</th>\n",
       "      <td>5263</td>\n",
       "      <td>6064</td>\n",
       "      <td>8314</td>\n",
       "      <td>13995</td>\n",
       "      <td>4822</td>\n",
       "    </tr>\n",
       "    <tr>\n",
       "      <th>Customers</th>\n",
       "      <td>555</td>\n",
       "      <td>625</td>\n",
       "      <td>821</td>\n",
       "      <td>1498</td>\n",
       "      <td>559</td>\n",
       "    </tr>\n",
       "    <tr>\n",
       "      <th>Open</th>\n",
       "      <td>1</td>\n",
       "      <td>1</td>\n",
       "      <td>1</td>\n",
       "      <td>1</td>\n",
       "      <td>1</td>\n",
       "    </tr>\n",
       "    <tr>\n",
       "      <th>Promo</th>\n",
       "      <td>1</td>\n",
       "      <td>1</td>\n",
       "      <td>1</td>\n",
       "      <td>1</td>\n",
       "      <td>1</td>\n",
       "    </tr>\n",
       "    <tr>\n",
       "      <th>StateHoliday</th>\n",
       "      <td>False</td>\n",
       "      <td>False</td>\n",
       "      <td>False</td>\n",
       "      <td>False</td>\n",
       "      <td>False</td>\n",
       "    </tr>\n",
       "    <tr>\n",
       "      <th>SchoolHoliday</th>\n",
       "      <td>1</td>\n",
       "      <td>1</td>\n",
       "      <td>1</td>\n",
       "      <td>1</td>\n",
       "      <td>1</td>\n",
       "    </tr>\n",
       "    <tr>\n",
       "      <th>Year</th>\n",
       "      <td>2015</td>\n",
       "      <td>2015</td>\n",
       "      <td>2015</td>\n",
       "      <td>2015</td>\n",
       "      <td>2015</td>\n",
       "    </tr>\n",
       "    <tr>\n",
       "      <th>Month</th>\n",
       "      <td>7</td>\n",
       "      <td>7</td>\n",
       "      <td>7</td>\n",
       "      <td>7</td>\n",
       "      <td>7</td>\n",
       "    </tr>\n",
       "    <tr>\n",
       "      <th>Week</th>\n",
       "      <td>31</td>\n",
       "      <td>31</td>\n",
       "      <td>31</td>\n",
       "      <td>31</td>\n",
       "      <td>31</td>\n",
       "    </tr>\n",
       "    <tr>\n",
       "      <th>Day</th>\n",
       "      <td>31</td>\n",
       "      <td>31</td>\n",
       "      <td>31</td>\n",
       "      <td>31</td>\n",
       "      <td>31</td>\n",
       "    </tr>\n",
       "    <tr>\n",
       "      <th>Dayofweek</th>\n",
       "      <td>4</td>\n",
       "      <td>4</td>\n",
       "      <td>4</td>\n",
       "      <td>4</td>\n",
       "      <td>4</td>\n",
       "    </tr>\n",
       "    <tr>\n",
       "      <th>Dayofyear</th>\n",
       "      <td>212</td>\n",
       "      <td>212</td>\n",
       "      <td>212</td>\n",
       "      <td>212</td>\n",
       "      <td>212</td>\n",
       "    </tr>\n",
       "    <tr>\n",
       "      <th>Is_month_end</th>\n",
       "      <td>True</td>\n",
       "      <td>True</td>\n",
       "      <td>True</td>\n",
       "      <td>True</td>\n",
       "      <td>True</td>\n",
       "    </tr>\n",
       "    <tr>\n",
       "      <th>Is_month_start</th>\n",
       "      <td>False</td>\n",
       "      <td>False</td>\n",
       "      <td>False</td>\n",
       "      <td>False</td>\n",
       "      <td>False</td>\n",
       "    </tr>\n",
       "    <tr>\n",
       "      <th>Is_quarter_end</th>\n",
       "      <td>False</td>\n",
       "      <td>False</td>\n",
       "      <td>False</td>\n",
       "      <td>False</td>\n",
       "      <td>False</td>\n",
       "    </tr>\n",
       "    <tr>\n",
       "      <th>Is_quarter_start</th>\n",
       "      <td>False</td>\n",
       "      <td>False</td>\n",
       "      <td>False</td>\n",
       "      <td>False</td>\n",
       "      <td>False</td>\n",
       "    </tr>\n",
       "    <tr>\n",
       "      <th>Is_year_end</th>\n",
       "      <td>False</td>\n",
       "      <td>False</td>\n",
       "      <td>False</td>\n",
       "      <td>False</td>\n",
       "      <td>False</td>\n",
       "    </tr>\n",
       "    <tr>\n",
       "      <th>Is_year_start</th>\n",
       "      <td>False</td>\n",
       "      <td>False</td>\n",
       "      <td>False</td>\n",
       "      <td>False</td>\n",
       "      <td>False</td>\n",
       "    </tr>\n",
       "    <tr>\n",
       "      <th>Elapsed</th>\n",
       "      <td>1438300800</td>\n",
       "      <td>1438300800</td>\n",
       "      <td>1438300800</td>\n",
       "      <td>1438300800</td>\n",
       "      <td>1438300800</td>\n",
       "    </tr>\n",
       "    <tr>\n",
       "      <th>StoreType</th>\n",
       "      <td>c</td>\n",
       "      <td>a</td>\n",
       "      <td>a</td>\n",
       "      <td>c</td>\n",
       "      <td>a</td>\n",
       "    </tr>\n",
       "    <tr>\n",
       "      <th>Assortment</th>\n",
       "      <td>a</td>\n",
       "      <td>a</td>\n",
       "      <td>a</td>\n",
       "      <td>c</td>\n",
       "      <td>a</td>\n",
       "    </tr>\n",
       "    <tr>\n",
       "      <th>CompetitionDistance</th>\n",
       "      <td>1270</td>\n",
       "      <td>570</td>\n",
       "      <td>14130</td>\n",
       "      <td>620</td>\n",
       "      <td>29910</td>\n",
       "    </tr>\n",
       "    <tr>\n",
       "      <th>CompetitionOpenSinceMonth</th>\n",
       "      <td>9</td>\n",
       "      <td>11</td>\n",
       "      <td>12</td>\n",
       "      <td>9</td>\n",
       "      <td>4</td>\n",
       "    </tr>\n",
       "    <tr>\n",
       "      <th>CompetitionOpenSinceYear</th>\n",
       "      <td>2008</td>\n",
       "      <td>2007</td>\n",
       "      <td>2006</td>\n",
       "      <td>2009</td>\n",
       "      <td>2015</td>\n",
       "    </tr>\n",
       "    <tr>\n",
       "      <th>Promo2</th>\n",
       "      <td>0</td>\n",
       "      <td>1</td>\n",
       "      <td>1</td>\n",
       "      <td>0</td>\n",
       "      <td>0</td>\n",
       "    </tr>\n",
       "    <tr>\n",
       "      <th>Promo2SinceWeek</th>\n",
       "      <td>1</td>\n",
       "      <td>13</td>\n",
       "      <td>14</td>\n",
       "      <td>1</td>\n",
       "      <td>1</td>\n",
       "    </tr>\n",
       "    <tr>\n",
       "      <th>...</th>\n",
       "      <td>...</td>\n",
       "      <td>...</td>\n",
       "      <td>...</td>\n",
       "      <td>...</td>\n",
       "      <td>...</td>\n",
       "    </tr>\n",
       "    <tr>\n",
       "      <th>Min_Sea_Level_PressurehPa</th>\n",
       "      <td>1015</td>\n",
       "      <td>1017</td>\n",
       "      <td>1017</td>\n",
       "      <td>1014</td>\n",
       "      <td>1016</td>\n",
       "    </tr>\n",
       "    <tr>\n",
       "      <th>Max_VisibilityKm</th>\n",
       "      <td>31</td>\n",
       "      <td>10</td>\n",
       "      <td>31</td>\n",
       "      <td>10</td>\n",
       "      <td>10</td>\n",
       "    </tr>\n",
       "    <tr>\n",
       "      <th>Mean_VisibilityKm</th>\n",
       "      <td>15</td>\n",
       "      <td>10</td>\n",
       "      <td>14</td>\n",
       "      <td>10</td>\n",
       "      <td>10</td>\n",
       "    </tr>\n",
       "    <tr>\n",
       "      <th>Min_VisibilitykM</th>\n",
       "      <td>10</td>\n",
       "      <td>10</td>\n",
       "      <td>10</td>\n",
       "      <td>10</td>\n",
       "      <td>10</td>\n",
       "    </tr>\n",
       "    <tr>\n",
       "      <th>Max_Wind_SpeedKm_h</th>\n",
       "      <td>24</td>\n",
       "      <td>14</td>\n",
       "      <td>14</td>\n",
       "      <td>23</td>\n",
       "      <td>14</td>\n",
       "    </tr>\n",
       "    <tr>\n",
       "      <th>Mean_Wind_SpeedKm_h</th>\n",
       "      <td>11</td>\n",
       "      <td>11</td>\n",
       "      <td>5</td>\n",
       "      <td>16</td>\n",
       "      <td>11</td>\n",
       "    </tr>\n",
       "    <tr>\n",
       "      <th>Max_Gust_SpeedKm_h</th>\n",
       "      <td>NaN</td>\n",
       "      <td>NaN</td>\n",
       "      <td>NaN</td>\n",
       "      <td>NaN</td>\n",
       "      <td>NaN</td>\n",
       "    </tr>\n",
       "    <tr>\n",
       "      <th>Precipitationmm</th>\n",
       "      <td>0</td>\n",
       "      <td>0</td>\n",
       "      <td>0</td>\n",
       "      <td>0</td>\n",
       "      <td>0</td>\n",
       "    </tr>\n",
       "    <tr>\n",
       "      <th>CloudCover</th>\n",
       "      <td>1</td>\n",
       "      <td>4</td>\n",
       "      <td>2</td>\n",
       "      <td>6</td>\n",
       "      <td>4</td>\n",
       "    </tr>\n",
       "    <tr>\n",
       "      <th>Events</th>\n",
       "      <td>Fog</td>\n",
       "      <td>Fog</td>\n",
       "      <td>Fog</td>\n",
       "      <td>NaN</td>\n",
       "      <td>NaN</td>\n",
       "    </tr>\n",
       "    <tr>\n",
       "      <th>WindDirDegrees</th>\n",
       "      <td>13</td>\n",
       "      <td>309</td>\n",
       "      <td>354</td>\n",
       "      <td>282</td>\n",
       "      <td>290</td>\n",
       "    </tr>\n",
       "    <tr>\n",
       "      <th>StateName</th>\n",
       "      <td>Hessen</td>\n",
       "      <td>Thueringen</td>\n",
       "      <td>NordrheinWestfalen</td>\n",
       "      <td>Berlin</td>\n",
       "      <td>Sachsen</td>\n",
       "    </tr>\n",
       "    <tr>\n",
       "      <th>CompetitionOpenSince</th>\n",
       "      <td>2008-09-15 00:00:00</td>\n",
       "      <td>2007-11-15 00:00:00</td>\n",
       "      <td>2006-12-15 00:00:00</td>\n",
       "      <td>2009-09-15 00:00:00</td>\n",
       "      <td>2015-04-15 00:00:00</td>\n",
       "    </tr>\n",
       "    <tr>\n",
       "      <th>CompetitionDaysOpen</th>\n",
       "      <td>2510</td>\n",
       "      <td>2815</td>\n",
       "      <td>3150</td>\n",
       "      <td>2145</td>\n",
       "      <td>107</td>\n",
       "    </tr>\n",
       "    <tr>\n",
       "      <th>CompetitionMonthsOpen</th>\n",
       "      <td>24</td>\n",
       "      <td>24</td>\n",
       "      <td>24</td>\n",
       "      <td>24</td>\n",
       "      <td>3</td>\n",
       "    </tr>\n",
       "    <tr>\n",
       "      <th>Promo2Since</th>\n",
       "      <td>1900-01-01 00:00:00</td>\n",
       "      <td>2010-03-29 00:00:00</td>\n",
       "      <td>2011-04-04 00:00:00</td>\n",
       "      <td>1900-01-01 00:00:00</td>\n",
       "      <td>1900-01-01 00:00:00</td>\n",
       "    </tr>\n",
       "    <tr>\n",
       "      <th>Promo2Days</th>\n",
       "      <td>0</td>\n",
       "      <td>1950</td>\n",
       "      <td>1579</td>\n",
       "      <td>0</td>\n",
       "      <td>0</td>\n",
       "    </tr>\n",
       "    <tr>\n",
       "      <th>Promo2Weeks</th>\n",
       "      <td>0</td>\n",
       "      <td>25</td>\n",
       "      <td>25</td>\n",
       "      <td>0</td>\n",
       "      <td>0</td>\n",
       "    </tr>\n",
       "    <tr>\n",
       "      <th>AfterSchoolHoliday</th>\n",
       "      <td>0</td>\n",
       "      <td>0</td>\n",
       "      <td>0</td>\n",
       "      <td>0</td>\n",
       "      <td>0</td>\n",
       "    </tr>\n",
       "    <tr>\n",
       "      <th>BeforeSchoolHoliday</th>\n",
       "      <td>0</td>\n",
       "      <td>0</td>\n",
       "      <td>0</td>\n",
       "      <td>0</td>\n",
       "      <td>0</td>\n",
       "    </tr>\n",
       "    <tr>\n",
       "      <th>AfterStateHoliday</th>\n",
       "      <td>57</td>\n",
       "      <td>67</td>\n",
       "      <td>57</td>\n",
       "      <td>67</td>\n",
       "      <td>57</td>\n",
       "    </tr>\n",
       "    <tr>\n",
       "      <th>BeforeStateHoliday</th>\n",
       "      <td>0</td>\n",
       "      <td>0</td>\n",
       "      <td>0</td>\n",
       "      <td>0</td>\n",
       "      <td>0</td>\n",
       "    </tr>\n",
       "    <tr>\n",
       "      <th>AfterPromo</th>\n",
       "      <td>0</td>\n",
       "      <td>0</td>\n",
       "      <td>0</td>\n",
       "      <td>0</td>\n",
       "      <td>0</td>\n",
       "    </tr>\n",
       "    <tr>\n",
       "      <th>BeforePromo</th>\n",
       "      <td>0</td>\n",
       "      <td>0</td>\n",
       "      <td>0</td>\n",
       "      <td>0</td>\n",
       "      <td>0</td>\n",
       "    </tr>\n",
       "    <tr>\n",
       "      <th>SchoolHoliday_bw</th>\n",
       "      <td>5</td>\n",
       "      <td>5</td>\n",
       "      <td>5</td>\n",
       "      <td>5</td>\n",
       "      <td>5</td>\n",
       "    </tr>\n",
       "    <tr>\n",
       "      <th>StateHoliday_bw</th>\n",
       "      <td>0</td>\n",
       "      <td>0</td>\n",
       "      <td>0</td>\n",
       "      <td>0</td>\n",
       "      <td>0</td>\n",
       "    </tr>\n",
       "    <tr>\n",
       "      <th>Promo_bw</th>\n",
       "      <td>5</td>\n",
       "      <td>5</td>\n",
       "      <td>5</td>\n",
       "      <td>5</td>\n",
       "      <td>5</td>\n",
       "    </tr>\n",
       "    <tr>\n",
       "      <th>SchoolHoliday_fw</th>\n",
       "      <td>1</td>\n",
       "      <td>1</td>\n",
       "      <td>1</td>\n",
       "      <td>1</td>\n",
       "      <td>1</td>\n",
       "    </tr>\n",
       "    <tr>\n",
       "      <th>StateHoliday_fw</th>\n",
       "      <td>0</td>\n",
       "      <td>0</td>\n",
       "      <td>0</td>\n",
       "      <td>0</td>\n",
       "      <td>0</td>\n",
       "    </tr>\n",
       "    <tr>\n",
       "      <th>Promo_fw</th>\n",
       "      <td>1</td>\n",
       "      <td>1</td>\n",
       "      <td>1</td>\n",
       "      <td>1</td>\n",
       "      <td>1</td>\n",
       "    </tr>\n",
       "  </tbody>\n",
       "</table>\n",
       "<p>93 rows × 5 columns</p>\n",
       "</div>"
      ],
      "text/plain": [
       "                                             0                    1  \\\n",
       "index                                        0                    1   \n",
       "Store                                        1                    2   \n",
       "DayOfWeek                                    5                    5   \n",
       "Date                       2015-07-31 00:00:00  2015-07-31 00:00:00   \n",
       "Sales                                     5263                 6064   \n",
       "Customers                                  555                  625   \n",
       "Open                                         1                    1   \n",
       "Promo                                        1                    1   \n",
       "StateHoliday                             False                False   \n",
       "SchoolHoliday                                1                    1   \n",
       "Year                                      2015                 2015   \n",
       "Month                                        7                    7   \n",
       "Week                                        31                   31   \n",
       "Day                                         31                   31   \n",
       "Dayofweek                                    4                    4   \n",
       "Dayofyear                                  212                  212   \n",
       "Is_month_end                              True                 True   \n",
       "Is_month_start                           False                False   \n",
       "Is_quarter_end                           False                False   \n",
       "Is_quarter_start                         False                False   \n",
       "Is_year_end                              False                False   \n",
       "Is_year_start                            False                False   \n",
       "Elapsed                             1438300800           1438300800   \n",
       "StoreType                                    c                    a   \n",
       "Assortment                                   a                    a   \n",
       "CompetitionDistance                       1270                  570   \n",
       "CompetitionOpenSinceMonth                    9                   11   \n",
       "CompetitionOpenSinceYear                  2008                 2007   \n",
       "Promo2                                       0                    1   \n",
       "Promo2SinceWeek                              1                   13   \n",
       "...                                        ...                  ...   \n",
       "Min_Sea_Level_PressurehPa                 1015                 1017   \n",
       "Max_VisibilityKm                            31                   10   \n",
       "Mean_VisibilityKm                           15                   10   \n",
       "Min_VisibilitykM                            10                   10   \n",
       "Max_Wind_SpeedKm_h                          24                   14   \n",
       "Mean_Wind_SpeedKm_h                         11                   11   \n",
       "Max_Gust_SpeedKm_h                         NaN                  NaN   \n",
       "Precipitationmm                              0                    0   \n",
       "CloudCover                                   1                    4   \n",
       "Events                                     Fog                  Fog   \n",
       "WindDirDegrees                              13                  309   \n",
       "StateName                               Hessen           Thueringen   \n",
       "CompetitionOpenSince       2008-09-15 00:00:00  2007-11-15 00:00:00   \n",
       "CompetitionDaysOpen                       2510                 2815   \n",
       "CompetitionMonthsOpen                       24                   24   \n",
       "Promo2Since                1900-01-01 00:00:00  2010-03-29 00:00:00   \n",
       "Promo2Days                                   0                 1950   \n",
       "Promo2Weeks                                  0                   25   \n",
       "AfterSchoolHoliday                           0                    0   \n",
       "BeforeSchoolHoliday                          0                    0   \n",
       "AfterStateHoliday                           57                   67   \n",
       "BeforeStateHoliday                           0                    0   \n",
       "AfterPromo                                   0                    0   \n",
       "BeforePromo                                  0                    0   \n",
       "SchoolHoliday_bw                             5                    5   \n",
       "StateHoliday_bw                              0                    0   \n",
       "Promo_bw                                     5                    5   \n",
       "SchoolHoliday_fw                             1                    1   \n",
       "StateHoliday_fw                              0                    0   \n",
       "Promo_fw                                     1                    1   \n",
       "\n",
       "                                             2                    3  \\\n",
       "index                                        2                    3   \n",
       "Store                                        3                    4   \n",
       "DayOfWeek                                    5                    5   \n",
       "Date                       2015-07-31 00:00:00  2015-07-31 00:00:00   \n",
       "Sales                                     8314                13995   \n",
       "Customers                                  821                 1498   \n",
       "Open                                         1                    1   \n",
       "Promo                                        1                    1   \n",
       "StateHoliday                             False                False   \n",
       "SchoolHoliday                                1                    1   \n",
       "Year                                      2015                 2015   \n",
       "Month                                        7                    7   \n",
       "Week                                        31                   31   \n",
       "Day                                         31                   31   \n",
       "Dayofweek                                    4                    4   \n",
       "Dayofyear                                  212                  212   \n",
       "Is_month_end                              True                 True   \n",
       "Is_month_start                           False                False   \n",
       "Is_quarter_end                           False                False   \n",
       "Is_quarter_start                         False                False   \n",
       "Is_year_end                              False                False   \n",
       "Is_year_start                            False                False   \n",
       "Elapsed                             1438300800           1438300800   \n",
       "StoreType                                    a                    c   \n",
       "Assortment                                   a                    c   \n",
       "CompetitionDistance                      14130                  620   \n",
       "CompetitionOpenSinceMonth                   12                    9   \n",
       "CompetitionOpenSinceYear                  2006                 2009   \n",
       "Promo2                                       1                    0   \n",
       "Promo2SinceWeek                             14                    1   \n",
       "...                                        ...                  ...   \n",
       "Min_Sea_Level_PressurehPa                 1017                 1014   \n",
       "Max_VisibilityKm                            31                   10   \n",
       "Mean_VisibilityKm                           14                   10   \n",
       "Min_VisibilitykM                            10                   10   \n",
       "Max_Wind_SpeedKm_h                          14                   23   \n",
       "Mean_Wind_SpeedKm_h                          5                   16   \n",
       "Max_Gust_SpeedKm_h                         NaN                  NaN   \n",
       "Precipitationmm                              0                    0   \n",
       "CloudCover                                   2                    6   \n",
       "Events                                     Fog                  NaN   \n",
       "WindDirDegrees                             354                  282   \n",
       "StateName                   NordrheinWestfalen               Berlin   \n",
       "CompetitionOpenSince       2006-12-15 00:00:00  2009-09-15 00:00:00   \n",
       "CompetitionDaysOpen                       3150                 2145   \n",
       "CompetitionMonthsOpen                       24                   24   \n",
       "Promo2Since                2011-04-04 00:00:00  1900-01-01 00:00:00   \n",
       "Promo2Days                                1579                    0   \n",
       "Promo2Weeks                                 25                    0   \n",
       "AfterSchoolHoliday                           0                    0   \n",
       "BeforeSchoolHoliday                          0                    0   \n",
       "AfterStateHoliday                           57                   67   \n",
       "BeforeStateHoliday                           0                    0   \n",
       "AfterPromo                                   0                    0   \n",
       "BeforePromo                                  0                    0   \n",
       "SchoolHoliday_bw                             5                    5   \n",
       "StateHoliday_bw                              0                    0   \n",
       "Promo_bw                                     5                    5   \n",
       "SchoolHoliday_fw                             1                    1   \n",
       "StateHoliday_fw                              0                    0   \n",
       "Promo_fw                                     1                    1   \n",
       "\n",
       "                                             4  \n",
       "index                                        4  \n",
       "Store                                        5  \n",
       "DayOfWeek                                    5  \n",
       "Date                       2015-07-31 00:00:00  \n",
       "Sales                                     4822  \n",
       "Customers                                  559  \n",
       "Open                                         1  \n",
       "Promo                                        1  \n",
       "StateHoliday                             False  \n",
       "SchoolHoliday                                1  \n",
       "Year                                      2015  \n",
       "Month                                        7  \n",
       "Week                                        31  \n",
       "Day                                         31  \n",
       "Dayofweek                                    4  \n",
       "Dayofyear                                  212  \n",
       "Is_month_end                              True  \n",
       "Is_month_start                           False  \n",
       "Is_quarter_end                           False  \n",
       "Is_quarter_start                         False  \n",
       "Is_year_end                              False  \n",
       "Is_year_start                            False  \n",
       "Elapsed                             1438300800  \n",
       "StoreType                                    a  \n",
       "Assortment                                   a  \n",
       "CompetitionDistance                      29910  \n",
       "CompetitionOpenSinceMonth                    4  \n",
       "CompetitionOpenSinceYear                  2015  \n",
       "Promo2                                       0  \n",
       "Promo2SinceWeek                              1  \n",
       "...                                        ...  \n",
       "Min_Sea_Level_PressurehPa                 1016  \n",
       "Max_VisibilityKm                            10  \n",
       "Mean_VisibilityKm                           10  \n",
       "Min_VisibilitykM                            10  \n",
       "Max_Wind_SpeedKm_h                          14  \n",
       "Mean_Wind_SpeedKm_h                         11  \n",
       "Max_Gust_SpeedKm_h                         NaN  \n",
       "Precipitationmm                              0  \n",
       "CloudCover                                   4  \n",
       "Events                                     NaN  \n",
       "WindDirDegrees                             290  \n",
       "StateName                              Sachsen  \n",
       "CompetitionOpenSince       2015-04-15 00:00:00  \n",
       "CompetitionDaysOpen                        107  \n",
       "CompetitionMonthsOpen                        3  \n",
       "Promo2Since                1900-01-01 00:00:00  \n",
       "Promo2Days                                   0  \n",
       "Promo2Weeks                                  0  \n",
       "AfterSchoolHoliday                           0  \n",
       "BeforeSchoolHoliday                          0  \n",
       "AfterStateHoliday                           57  \n",
       "BeforeStateHoliday                           0  \n",
       "AfterPromo                                   0  \n",
       "BeforePromo                                  0  \n",
       "SchoolHoliday_bw                             5  \n",
       "StateHoliday_bw                              0  \n",
       "Promo_bw                                     5  \n",
       "SchoolHoliday_fw                             1  \n",
       "StateHoliday_fw                              0  \n",
       "Promo_fw                                     1  \n",
       "\n",
       "[93 rows x 5 columns]"
      ]
     },
     "execution_count": 4,
     "metadata": {},
     "output_type": "execute_result"
    }
   ],
   "source": [
    "train_df.head().T"
   ]
  },
  {
   "cell_type": "code",
   "execution_count": 4,
   "metadata": {
    "ExecuteTime": {
     "end_time": "2019-04-29T15:27:50.309287Z",
     "start_time": "2019-04-29T15:27:50.283922Z"
    },
    "init_cell": true
   },
   "outputs": [
    {
     "data": {
      "text/plain": [
       "844338"
      ]
     },
     "execution_count": 4,
     "metadata": {},
     "output_type": "execute_result"
    }
   ],
   "source": [
    "n = len(train_df); n"
   ]
  },
  {
   "cell_type": "code",
   "execution_count": 87,
   "metadata": {
    "ExecuteTime": {
     "end_time": "2019-04-25T14:10:08.162358Z",
     "start_time": "2019-04-25T14:10:08.112309Z"
    }
   },
   "outputs": [
    {
     "data": {
      "text/plain": [
       "(844338, 41088)"
      ]
     },
     "execution_count": 87,
     "metadata": {},
     "output_type": "execute_result"
    }
   ],
   "source": [
    "len(train_df),len(test_df)"
   ]
  },
  {
   "cell_type": "code",
   "execution_count": 5,
   "metadata": {
    "ExecuteTime": {
     "end_time": "2019-04-29T15:27:50.336691Z",
     "start_time": "2019-04-29T15:27:50.311917Z"
    },
    "init_cell": true
   },
   "outputs": [],
   "source": [
    "procs=[FillMissing, Categorify, Normalize]"
   ]
  },
  {
   "cell_type": "code",
   "execution_count": 6,
   "metadata": {
    "ExecuteTime": {
     "end_time": "2019-04-29T15:27:50.363112Z",
     "start_time": "2019-04-29T15:27:50.338240Z"
    },
    "init_cell": true
   },
   "outputs": [],
   "source": [
    "cat_vars_tpl = ('Store', 'DayOfWeek', 'Year', 'Month', 'Day', 'StateHoliday', 'CompetitionMonthsOpen',\n",
    "    'Promo2Weeks', 'StoreType', 'Assortment', 'PromoInterval', 'CompetitionOpenSinceYear', 'Promo2SinceYear',\n",
    "    'State', 'Week', 'Events', 'Promo_fw', 'Promo_bw', 'StateHoliday_fw', 'StateHoliday_bw',\n",
    "    'SchoolHoliday_fw', 'SchoolHoliday_bw')\n",
    "\n",
    "cont_vars_tpl = ('CompetitionDistance', 'Max_TemperatureC', 'Mean_TemperatureC', 'Min_TemperatureC',\n",
    "   'Max_Humidity', 'Mean_Humidity', 'Min_Humidity', 'Max_Wind_SpeedKm_h', \n",
    "   'Mean_Wind_SpeedKm_h', 'CloudCover', 'trend', 'trend_DE',\n",
    "   'AfterStateHoliday', 'BeforeStateHoliday', 'Promo', 'SchoolHoliday')\n",
    "cat_vars = list(cat_vars_tpl)\n",
    "cont_vars = list(cont_vars_tpl)\n",
    "all_vars = cat_vars + cont_vars"
   ]
  },
  {
   "cell_type": "code",
   "execution_count": 7,
   "metadata": {
    "ExecuteTime": {
     "end_time": "2019-04-29T15:27:50.830533Z",
     "start_time": "2019-04-29T15:27:50.364904Z"
    },
    "init_cell": true
   },
   "outputs": [],
   "source": [
    "dep_var = 'Sales'\n",
    "df = train_df[cat_vars + cont_vars + [dep_var,'Date']].copy()"
   ]
  },
  {
   "cell_type": "code",
   "execution_count": 8,
   "metadata": {
    "ExecuteTime": {
     "end_time": "2019-04-29T15:27:50.937677Z",
     "start_time": "2019-04-29T15:27:50.834588Z"
    },
    "init_cell": true
   },
   "outputs": [
    {
     "data": {
      "text/plain": [
       "41395"
      ]
     },
     "execution_count": 8,
     "metadata": {},
     "output_type": "execute_result"
    }
   ],
   "source": [
    "cut = train_df['Date'][(train_df['Date'] == train_df['Date'][len(test_df)])].index.max()\n",
    "cut"
   ]
  },
  {
   "cell_type": "code",
   "execution_count": 9,
   "metadata": {
    "ExecuteTime": {
     "end_time": "2019-04-29T15:27:50.967174Z",
     "start_time": "2019-04-29T15:27:50.941455Z"
    },
    "init_cell": true
   },
   "outputs": [
    {
     "data": {
      "text/plain": [
       "range(0, 41395)"
      ]
     },
     "execution_count": 9,
     "metadata": {},
     "output_type": "execute_result"
    }
   ],
   "source": [
    "valid_idx = range(cut)\n",
    "valid_idx"
   ]
  },
  {
   "cell_type": "code",
   "execution_count": 14,
   "metadata": {
    "ExecuteTime": {
     "end_time": "2019-04-22T19:22:17.839723Z",
     "start_time": "2019-04-22T19:22:17.807242Z"
    }
   },
   "outputs": [
    {
     "data": {
      "text/plain": [
       "0     5263\n",
       "1     6064\n",
       "2     8314\n",
       "3    13995\n",
       "4     4822\n",
       "Name: Sales, dtype: int64"
      ]
     },
     "execution_count": 14,
     "metadata": {},
     "output_type": "execute_result"
    }
   ],
   "source": [
    "df[dep_var].head()"
   ]
  },
  {
   "cell_type": "code",
   "execution_count": 10,
   "metadata": {
    "ExecuteTime": {
     "end_time": "2019-04-29T15:27:50.994378Z",
     "start_time": "2019-04-29T15:27:50.970898Z"
    },
    "init_cell": true
   },
   "outputs": [],
   "source": [
    "BS = 1024"
   ]
  },
  {
   "cell_type": "code",
   "execution_count": 11,
   "metadata": {
    "ExecuteTime": {
     "end_time": "2019-04-29T15:27:55.353473Z",
     "start_time": "2019-04-29T15:27:50.998423Z"
    },
    "init_cell": true
   },
   "outputs": [],
   "source": [
    "data_pre =  (TabularList.from_df(df, path=path, cat_names=cat_vars, cont_names=cont_vars, procs=procs)\n",
    "                   .split_by_idx(valid_idx)\n",
    "                   .label_from_df(cols=dep_var, label_cls=FloatList, log=True))\n",
    "data = data_pre.databunch(bs=BS)"
   ]
  },
  {
   "cell_type": "markdown",
   "metadata": {},
   "source": [
    "## Model"
   ]
  },
  {
   "cell_type": "code",
   "execution_count": 12,
   "metadata": {
    "ExecuteTime": {
     "end_time": "2019-04-29T15:27:58.107435Z",
     "start_time": "2019-04-29T15:27:55.355082Z"
    },
    "init_cell": true
   },
   "outputs": [],
   "source": [
    "max_log_y = np.log(np.max(train_df['Sales'])*1.2)\n",
    "y_range = torch.tensor([0, max_log_y], device=defaults.device)"
   ]
  },
  {
   "cell_type": "code",
   "execution_count": 13,
   "metadata": {
    "ExecuteTime": {
     "end_time": "2019-04-29T15:27:58.192714Z",
     "start_time": "2019-04-29T15:27:58.109570Z"
    },
    "init_cell": true
   },
   "outputs": [],
   "source": [
    "np.random.seed(1001)\n",
    "learn = tabular_learner(data, layers=[1000,500], ps=[0.001,0.01], emb_drop=0.04, \n",
    "                        y_range=y_range, metrics=exp_rmspe)"
   ]
  },
  {
   "cell_type": "code",
   "execution_count": 50,
   "metadata": {
    "ExecuteTime": {
     "end_time": "2019-04-22T18:42:22.478648Z",
     "start_time": "2019-04-22T18:42:18.648901Z"
    }
   },
   "outputs": [
    {
     "data": {
      "text/html": [],
      "text/plain": [
       "<IPython.core.display.HTML object>"
      ]
     },
     "metadata": {},
     "output_type": "display_data"
    },
    {
     "name": "stdout",
     "output_type": "stream",
     "text": [
      "LR Finder is complete, type {learner_name}.recorder.plot() to see the graph.\n"
     ]
    },
    {
     "data": {
      "image/png": "[encoded data removed]",
      "text/plain": [
       "<Figure size 432x288 with 1 Axes>"
      ]
     },
     "metadata": {
      "needs_background": "light"
     },
     "output_type": "display_data"
    }
   ],
   "source": [
    "learn.lr_find()\n",
    "learn.recorder.plot()"
   ]
  },
  {
   "cell_type": "code",
   "execution_count": 51,
   "metadata": {
    "ExecuteTime": {
     "end_time": "2019-04-22T18:44:27.140559Z",
     "start_time": "2019-04-22T18:42:24.321380Z"
    },
    "scrolled": true
   },
   "outputs": [
    {
     "data": {
      "text/html": [
       "Total time: 02:02 <p><table style='width:375px; margin-bottom:10px'>\n",
       "  <tr>\n",
       "    <th>epoch</th>\n",
       "    <th>train_loss</th>\n",
       "    <th>valid_loss</th>\n",
       "    <th>exp_rmspe</th>\n",
       "    <th>time</th>\n",
       "  </tr>\n",
       "  <tr>\n",
       "    <th>0</th>\n",
       "    <th>0.022813</th>\n",
       "    <th>0.023840</th>\n",
       "    <th>0.149339</th>\n",
       "    <th>00:20</th>\n",
       "  </tr>\n",
       "  <tr>\n",
       "    <th>1</th>\n",
       "    <th>0.020116</th>\n",
       "    <th>0.016392</th>\n",
       "    <th>0.128023</th>\n",
       "    <th>00:21</th>\n",
       "  </tr>\n",
       "  <tr>\n",
       "    <th>2</th>\n",
       "    <th>0.016061</th>\n",
       "    <th>0.014945</th>\n",
       "    <th>0.129059</th>\n",
       "    <th>00:20</th>\n",
       "  </tr>\n",
       "  <tr>\n",
       "    <th>3</th>\n",
       "    <th>0.013814</th>\n",
       "    <th>0.015923</th>\n",
       "    <th>0.120301</th>\n",
       "    <th>00:20</th>\n",
       "  </tr>\n",
       "  <tr>\n",
       "    <th>4</th>\n",
       "    <th>0.010946</th>\n",
       "    <th>0.011608</th>\n",
       "    <th>0.111478</th>\n",
       "    <th>00:21</th>\n",
       "  </tr>\n",
       "  <tr>\n",
       "    <th>5</th>\n",
       "    <th>0.009276</th>\n",
       "    <th>0.011273</th>\n",
       "    <th>0.107872</th>\n",
       "    <th>00:20</th>\n",
       "  </tr>\n",
       "</table>\n"
      ],
      "text/plain": [
       "<IPython.core.display.HTML object>"
      ]
     },
     "metadata": {},
     "output_type": "display_data"
    }
   ],
   "source": [
    "learn.fit_one_cycle(6, 1e-2, wd=0.2)"
   ]
  },
  {
   "cell_type": "code",
   "execution_count": 52,
   "metadata": {
    "ExecuteTime": {
     "end_time": "2019-04-22T18:48:31.074259Z",
     "start_time": "2019-04-22T18:46:28.354198Z"
    }
   },
   "outputs": [
    {
     "data": {
      "text/html": [
       "Total time: 02:02 <p><table style='width:375px; margin-bottom:10px'>\n",
       "  <tr>\n",
       "    <th>epoch</th>\n",
       "    <th>train_loss</th>\n",
       "    <th>valid_loss</th>\n",
       "    <th>exp_rmspe</th>\n",
       "    <th>time</th>\n",
       "  </tr>\n",
       "  <tr>\n",
       "    <th>0</th>\n",
       "    <th>0.008718</th>\n",
       "    <th>0.011150</th>\n",
       "    <th>0.107673</th>\n",
       "    <th>00:20</th>\n",
       "  </tr>\n",
       "  <tr>\n",
       "    <th>1</th>\n",
       "    <th>0.008866</th>\n",
       "    <th>0.011233</th>\n",
       "    <th>0.110091</th>\n",
       "    <th>00:20</th>\n",
       "  </tr>\n",
       "  <tr>\n",
       "    <th>2</th>\n",
       "    <th>0.008652</th>\n",
       "    <th>0.011078</th>\n",
       "    <th>0.108543</th>\n",
       "    <th>00:20</th>\n",
       "  </tr>\n",
       "  <tr>\n",
       "    <th>3</th>\n",
       "    <th>0.008632</th>\n",
       "    <th>0.011134</th>\n",
       "    <th>0.108107</th>\n",
       "    <th>00:20</th>\n",
       "  </tr>\n",
       "  <tr>\n",
       "    <th>4</th>\n",
       "    <th>0.008793</th>\n",
       "    <th>0.011124</th>\n",
       "    <th>0.107912</th>\n",
       "    <th>00:20</th>\n",
       "  </tr>\n",
       "  <tr>\n",
       "    <th>5</th>\n",
       "    <th>0.008758</th>\n",
       "    <th>0.011092</th>\n",
       "    <th>0.107849</th>\n",
       "    <th>00:20</th>\n",
       "  </tr>\n",
       "</table>\n"
      ],
      "text/plain": [
       "<IPython.core.display.HTML object>"
      ]
     },
     "metadata": {},
     "output_type": "display_data"
    }
   ],
   "source": [
    "learn.fit_one_cycle(6, 1e-4, wd=0.2)"
   ]
  },
  {
   "cell_type": "code",
   "execution_count": 53,
   "metadata": {
    "ExecuteTime": {
     "end_time": "2019-04-22T18:48:58.412942Z",
     "start_time": "2019-04-22T18:48:58.363804Z"
    }
   },
   "outputs": [],
   "source": [
    "# learn.save('lr1e5_for_interp_e1078')"
   ]
  },
  {
   "cell_type": "code",
   "execution_count": 14,
   "metadata": {
    "ExecuteTime": {
     "end_time": "2019-04-29T15:27:58.508465Z",
     "start_time": "2019-04-29T15:27:58.194945Z"
    },
    "init_cell": true
   },
   "outputs": [],
   "source": [
    "learn = learn.load('lr1e5_for_interp_e1078');"
   ]
  },
  {
   "cell_type": "markdown",
   "metadata": {
    "ExecuteTime": {
     "end_time": "2019-04-26T15:41:19.299195Z",
     "start_time": "2019-04-26T15:41:19.220918Z"
    }
   },
   "source": [
    "We don't really care that our result is a little bit worse in the 3rd decimal point. It is more than enough for our analysing the data (model)"
   ]
  },
  {
   "cell_type": "markdown",
   "metadata": {},
   "source": [
    "## RF vs NN"
   ]
  },
  {
   "cell_type": "markdown",
   "metadata": {},
   "source": [
    "Ok, here is the trick begins.  \n",
    "I want to feed Random Forest with the exact information my NN layers get. It means that I want to use embedding instead of categories itself.  \n",
    "By the way, `get_inner_repr` not only turns categorical data into embeddings output and fill NA’s in continuous data, but also Normalizes cat columns, that, strictly speaking, is not necessary for RF, but it makes no harm and is more coherent with real inner representation in NN."
   ]
  },
  {
   "cell_type": "code",
   "execution_count": 15,
   "metadata": {
    "ExecuteTime": {
     "end_time": "2019-04-29T15:27:58.536444Z",
     "start_time": "2019-04-29T15:27:58.510759Z"
    },
    "init_cell": true
   },
   "outputs": [],
   "source": [
    "def list_diff(list_1, list_2):\n",
    "    diff = set(list_1) - set(list_2)\n",
    "    return [item for item in list_1 if item in diff]"
   ]
  },
  {
   "cell_type": "code",
   "execution_count": 16,
   "metadata": {
    "ExecuteTime": {
     "end_time": "2019-04-29T15:27:58.588222Z",
     "start_time": "2019-04-29T15:27:58.538445Z"
    },
    "init_cell": true
   },
   "outputs": [],
   "source": [
    "def apply_fill_n_catf(df:DataFrame, data_prep:LabelLists)->DataFrame: \n",
    "    '''\n",
    "    Reapplies FillMissing and Categorify to given dataframe. \n",
    "    data_prep is a LabelLists object which you can get if you split standard databunch creation \n",
    "    process into two phases. First you apply all the functions  before .databunch e.g.: \n",
    "    data_prep = (TabularList.from_df(df, path=path, cat_names=cat_vars, cont_names=cont_vars, procs=procs)\n",
    "                   .split_by_idx(valid_idx)\n",
    "                   .label_from_df(cols=dep_var, label_cls=FloatList, log=True))\n",
    "    data_prep is now a valid LabelLists object\n",
    "    Then you can apply .databunch as well to get DataBunch object (that is needed for learning process itself)\n",
    "    e.g.\n",
    "    data = data_prep.databunch(bs=BS)\n",
    "    '''\n",
    "    \n",
    "    df_copy = df.copy()\n",
    "    fill, catf = None, None\n",
    "    is_alone = True if (len(df) == 1) else False\n",
    "\n",
    "    proc = data_prep.get_processors()[0][0]  \n",
    "    if (is_alone):\n",
    "        df_copy = df_copy.append(df_copy.iloc[0])\n",
    "    \n",
    "    for prc in proc.procs:\n",
    "        if (type(prc) == FillMissing):\n",
    "            fill = prc\n",
    "        elif (type(prc) == Categorify):\n",
    "            catf = prc\n",
    "    if (fill is not None):\n",
    "        fill.apply_test(df_copy)\n",
    "        \n",
    "    if (catf is not None):\n",
    "        catf.apply_test(df_copy)\n",
    "        for c in catf.cat_names:\n",
    "            df_copy[c] = (df_copy[c].cat.codes).astype(np.int64) + 1\n",
    "        cats = df_copy[catf.cat_names].to_numpy()\n",
    "    \n",
    "    # ugly workaround as apperently catf.apply_test doesn't work with lone row\n",
    "    if (is_alone):\n",
    "        df_copy = df_copy[:1]\n",
    "\n",
    "    return df_copy\n",
    "\n",
    "\n",
    "def get_model_real_input(df:DataFrame, data_prep:LabelLists, bs:int=None)->Tensor:\n",
    "    \n",
    "    df_copy = df.copy()\n",
    "    fill, catf, norm = None, None, None    \n",
    "    cats, conts = None, None\n",
    "    is_alone = True if (len(df) == 1) else False\n",
    "    \n",
    "\n",
    "    proc = data_prep.get_processors()[0][0]   \n",
    "    if (is_alone):\n",
    "        df_copy = df_copy.append(df_copy.iloc[0])\n",
    "    \n",
    "    for prc in proc.procs:\n",
    "        if (type(prc) == FillMissing):\n",
    "            fill = prc\n",
    "        elif (type(prc) == Categorify):\n",
    "            catf = prc\n",
    "        elif (type(prc) == Normalize):\n",
    "            norm = prc\n",
    "    if (fill is not None):\n",
    "        fill.apply_test(df_copy)\n",
    "    if (catf is not None):\n",
    "        catf.apply_test(df_copy)\n",
    "        for c in catf.cat_names:\n",
    "            df_copy[c] = (df_copy[c].cat.codes).astype(np.int64) + 1\n",
    "        cats = df_copy[catf.cat_names].to_numpy()\n",
    "        \n",
    "    if (norm is not None):\n",
    "        norm.apply_test(df_copy)\n",
    "        conts = df_copy[norm.cont_names].to_numpy().astype('float32')\n",
    "    \n",
    "    # ugly workaround as apperently catf.apply_test doesn't work with lone row\n",
    "    if (is_alone):\n",
    "        xs = [torch.tensor([cats[0]], device=learn.data.device), torch.tensor([conts[0]], device=learn.data.device)]\n",
    "    else:\n",
    "        if (bs is None):\n",
    "            xs = [torch.tensor(cats, device=learn.data.device), torch.tensor(conts, device=learn.data.device)]\n",
    "        elif (bs > 0):\n",
    "            xs = [list(chunks(l=torch.tensor(cats, device=learn.data.device), n=bs)), \n",
    "                  list(chunks(l=torch.tensor(conts, device=learn.data.device), n=bs))]\n",
    "\n",
    "    return xs \n",
    "\n",
    "\n",
    "def get_cust_preds(df:DataFrame, data_prep:LabelLists, learn:Learner, bs:int=None, parent=None)->Tensor: \n",
    "    '''\n",
    "    Using existing model to predict output (learn.model) on a new dataframe at once (learn.predict does it for \n",
    "    one row which is pretty slow). \n",
    "    data_prep is a LabelLists object which you can get if you split standard databunch creation \n",
    "    process into two halfs. First you apply all the functions  before .databunch e.g.: \n",
    "    data_prep = (TabularList.from_df(df, path=path, cat_names=cat_vars, cont_names=cont_vars, procs=procs)\n",
    "                   .split_by_idx(valid_idx)\n",
    "                   .label_from_df(cols=dep_var, label_cls=FloatList, log=True))\n",
    "    data_prep is now a valid LabelLists object\n",
    "    Then you can apply .databunch as well to get DataBunch object (that is needed for learning process itself)\n",
    "    e.g.\n",
    "    data = data_prep.databunch(bs=BS)\n",
    "    ''' \n",
    "    from fastai.basic_train import _loss_func2activ\n",
    "    def turn_to_activ(learn, acts):\n",
    "        activ = _loss_func2activ(learn.loss_func)\n",
    "        if activ is not None: \n",
    "            return to_np(activ(acts))\n",
    "        else:\n",
    "            return to_np(acts)\n",
    "    \n",
    "    xs = get_model_real_input(df=df, data_prep=data_prep, bs=bs) \n",
    "    learn.model.eval();\n",
    "    if (bs is None):\n",
    "        outp = learn.model(x_cat=xs[0], x_cont=xs[1])\n",
    "        \n",
    "    elif (bs > 0):\n",
    "        res = []\n",
    "        for ca, co in zip(xs[0], xs[1]):\n",
    "            res.append(learn.model(x_cat=ca, x_cont=co))\n",
    "        outp = np.concatenate(res, axis=0)\n",
    "    return turn_to_activ(learn=learn, acts=outp)    \n",
    "\n",
    "\n",
    "def convert_dep_col(df:DataFrame, dep_col:AnyStr, learn:Learner, data_prep:LabelLists)->Tensor:\n",
    "    '''\n",
    "    Converts dataframe column, named \"depended column\", into tensor, that can later be used to compare with predictions.\n",
    "    Log will be applied if it was done in a training dataset\n",
    "    '''\n",
    "    actls = df[dep_col].T.to_numpy()[np.newaxis].T.astype('float32')\n",
    "    actls = np.log(actls) if (hasattr(data_prep, 'log') and data_prep.log) else actls\n",
    "    return torch.tensor(actls, device=learn.data.device)\n",
    "\n",
    "\n",
    "def calc_loss(func:Callable, pred:Tensor, targ:Tensor, device=None)->Rank0Tensor:\n",
    "    '''\n",
    "    Calculates error from predictions and actuals with a given metrics function\n",
    "    '''\n",
    "    if (device is None):\n",
    "        return func(pred, targ)\n",
    "    else:        \n",
    "        return func(torch.tensor(pred, device=device), targ)\n",
    "\n",
    "\n",
    "def calc_error(df:DataFrame, data_prep:LabelLists, learn:Learner, dep_col:AnyStr, \n",
    "               func:Callable, bs:int=None)->float:\n",
    "    '''\n",
    "    Wrapping function to calculate error for new dataframe on existing learner (learn.model)\n",
    "    See following functions' docstrings for details\n",
    "    '''\n",
    "    preds = get_cust_preds(df=df, data_prep=data_prep, learn=learn, bs=bs)\n",
    "    actls = convert_dep_col(df, dep_col, learn, data_prep)\n",
    "    error = calc_loss(func, pred=preds, targ=actls, device=learn.data.device)\n",
    "    return float(error)"
   ]
  },
  {
   "cell_type": "markdown",
   "metadata": {},
   "source": [
    "`get_cust_preds` is easely the most useful (and used) function in whole notebook  \n",
    "It just gives the prediction on a new dataset. Unfortunately there are no such function it fastai itself :(  \n",
    "There could be a lot of reasons for getting predictions on another set of data (dataframe).  \n",
    "The obvious one is when you just want to predict on a new dataset, when you want preditions themselves.\n",
    "The second group of reasons lays in the field of data exploration. What if we would like to do some feature importance or partial dependence analysis (and we do want it), in each of these cases we need an instrument to get predictions on a bunch of new (altered) dataframes.   \n",
    "Definitely we can use learn.predict(row) for each of well… row in each of dataframe, but it is a pretty long process (in fact in my setup learn.predict in for-loop for 200 rows lasts 45+ seconds, and the process of calculating error for whole dataframe consists of 10,000 rows with `get_cust_preds` take less than a second.\n"
   ]
  },
  {
   "cell_type": "code",
   "execution_count": 17,
   "metadata": {
    "ExecuteTime": {
     "end_time": "2019-04-29T15:27:58.617360Z",
     "start_time": "2019-04-29T15:27:58.590173Z"
    },
    "init_cell": true
   },
   "outputs": [],
   "source": [
    "def emb_fwrd_sim(model, x_cat:Tensor, x_cont:Tensor)->Tensor:\n",
    "    '''\n",
    "    Part that was completely taking from fastai Tabular model source :)\n",
    "    Gets inner representation of input dataframe (Catigorified, Filled and Normalized) \n",
    "    and process it with embeddings 'prelayer'. Also continuous variables are processed with BatchNorm if needed.\n",
    "    As a result output is model gets on it's layers as input (embedding in fact are not layers, but before them)\n",
    "    '''\n",
    "    if model.n_emb != 0:\n",
    "        x = [e(x_cat[:,i]) for i,e in enumerate(model.embeds)]\n",
    "        x = torch.cat(x, 1)\n",
    "        x = model.emb_drop(x)\n",
    "    if model.n_cont != 0:\n",
    "        x_cont = model.bn_cont(x_cont)\n",
    "        x = torch.cat([x, x_cont], 1) if model.n_emb != 0 else x_cont\n",
    "    return x\n",
    "\n",
    "\n",
    "def get_inner_repr(df:DataFrame, data_prep:LabelLists, learn:Learner)->Tensor: \n",
    "    '''\n",
    "    Gets new dataframe that has categorical and continuous columns the learner war learnt with \n",
    "    (are being taken from learner automatically)\n",
    "    And outputs inner representation of these data -- what model gets after embeddings\n",
    "    Is useful for ex. to use learnt embeddings in random forest\n",
    "    This output can be directly feed to RF learner (after turning it to numpy if needed)\n",
    "    '''\n",
    "    xs = get_model_real_input(df=df, data_prep=data_prep)\n",
    "    return emb_fwrd_sim(model=learn.model, x_cat=xs[0], x_cont=xs[1])    "
   ]
  },
  {
   "cell_type": "code",
   "execution_count": 102,
   "metadata": {
    "ExecuteTime": {
     "end_time": "2019-04-26T15:54:28.300712Z",
     "start_time": "2019-04-26T15:54:28.203809Z"
    }
   },
   "outputs": [],
   "source": [
    "from sklearn.ensemble import RandomForestRegressor"
   ]
  },
  {
   "cell_type": "code",
   "execution_count": 93,
   "metadata": {
    "ExecuteTime": {
     "end_time": "2019-04-26T15:52:06.471761Z",
     "start_time": "2019-04-26T15:52:06.395617Z"
    }
   },
   "outputs": [],
   "source": [
    "ln = len(df)"
   ]
  },
  {
   "cell_type": "code",
   "execution_count": 94,
   "metadata": {
    "ExecuteTime": {
     "end_time": "2019-04-26T15:52:14.183429Z",
     "start_time": "2019-04-26T15:52:13.955504Z"
    }
   },
   "outputs": [],
   "source": [
    "train_idx = list_diff(list_1=range(ln), list_2=valid_idx)"
   ]
  },
  {
   "cell_type": "markdown",
   "metadata": {},
   "source": [
    "I'd like to keep here saparate dataframes for training and for validation"
   ]
  },
  {
   "cell_type": "code",
   "execution_count": 95,
   "metadata": {
    "ExecuteTime": {
     "end_time": "2019-04-26T15:52:18.351477Z",
     "start_time": "2019-04-26T15:52:18.075834Z"
    }
   },
   "outputs": [],
   "source": [
    "tr_df = df.iloc[train_idx]\n",
    "val_df = df.iloc[valid_idx]"
   ]
  },
  {
   "cell_type": "markdown",
   "metadata": {},
   "source": [
    "#### RF with embeddings"
   ]
  },
  {
   "cell_type": "code",
   "execution_count": 56,
   "metadata": {
    "ExecuteTime": {
     "end_time": "2019-04-22T21:31:55.952977Z",
     "start_time": "2019-04-22T21:31:51.407244Z"
    }
   },
   "outputs": [],
   "source": [
    "tr_data_inner = to_np(get_inner_repr(df=tr_df[all_vars], data_prep=data_pre, learn=learn))\n",
    "val_data_inner = to_np(get_inner_repr(df=val_df[all_vars], data_prep=data_pre, learn=learn))"
   ]
  },
  {
   "cell_type": "code",
   "execution_count": 59,
   "metadata": {
    "ExecuteTime": {
     "end_time": "2019-04-22T21:33:59.778898Z",
     "start_time": "2019-04-22T21:33:59.728629Z"
    }
   },
   "outputs": [
    {
     "data": {
      "text/plain": [
       "(802943, 802943)"
      ]
     },
     "execution_count": 59,
     "metadata": {},
     "output_type": "execute_result"
    }
   ],
   "source": [
    "X_train = tr_data_inner\n",
    "y_train = np.log(tr_df[dep_var].to_numpy())\n",
    "len(X_train), len(y_train)"
   ]
  },
  {
   "cell_type": "code",
   "execution_count": 61,
   "metadata": {
    "ExecuteTime": {
     "end_time": "2019-04-22T21:36:25.381484Z",
     "start_time": "2019-04-22T21:36:25.352224Z"
    }
   },
   "outputs": [
    {
     "data": {
      "text/plain": [
       "(41395, 41395)"
      ]
     },
     "execution_count": 61,
     "metadata": {},
     "output_type": "execute_result"
    }
   ],
   "source": [
    "X_valid = val_data_inner\n",
    "y_valid = np.log(val_df[dep_var].to_numpy())\n",
    "len(X_valid), len(y_valid)"
   ]
  },
  {
   "cell_type": "code",
   "execution_count": 110,
   "metadata": {
    "ExecuteTime": {
     "end_time": "2019-04-26T15:59:48.412257Z",
     "start_time": "2019-04-26T15:59:48.333166Z"
    }
   },
   "outputs": [],
   "source": [
    "def print_score(m, func):\n",
    "    print(f'Train error is {func(torch.tensor(m.predict(X_train)), torch.tensor(y_train))}')\n",
    "    print(f'Validation error is {func(torch.tensor(m.predict(X_valid)), torch.tensor(y_valid))}')          \n",
    "    print(f'Train score is {m.score(torch.tensor(X_train), torch.tensor(y_train))}')\n",
    "    print(f'Validation score is {m.score(torch.tensor(X_valid), torch.tensor(y_valid))}')"
   ]
  },
  {
   "cell_type": "code",
   "execution_count": 63,
   "metadata": {
    "ExecuteTime": {
     "end_time": "2019-04-22T21:43:21.864742Z",
     "start_time": "2019-04-22T21:37:15.947068Z"
    },
    "scrolled": false
   },
   "outputs": [
    {
     "name": "stdout",
     "output_type": "stream",
     "text": [
      "Train error is 0.08195727733872692\n",
      "Validation error is 0.1432177555725006\n",
      "Train score is 0.9812742247028636\n",
      "Validation score is 0.8864854717684789\n"
     ]
    }
   ],
   "source": [
    "#Takes me 6 min to run\n",
    "m = RandomForestRegressor(n_estimators=40, min_samples_leaf=3, max_features=0.5, n_jobs=-1, oob_score=False)\n",
    "m.fit(X_train, y_train)\n",
    "print_score(m=m, func=exp_rmspe)"
   ]
  },
  {
   "cell_type": "markdown",
   "metadata": {},
   "source": [
    "#### Pure RF"
   ]
  },
  {
   "cell_type": "markdown",
   "metadata": {
    "ExecuteTime": {
     "end_time": "2019-04-26T15:59:34.789527Z",
     "start_time": "2019-04-26T15:59:34.711968Z"
    }
   },
   "source": [
    "First we should categorify and fill missing values for Random Forest to learn.  \n",
    "Here we can use functions we already have"
   ]
  },
  {
   "cell_type": "code",
   "execution_count": 105,
   "metadata": {
    "ExecuteTime": {
     "end_time": "2019-04-26T15:57:10.062889Z",
     "start_time": "2019-04-26T15:57:07.752709Z"
    }
   },
   "outputs": [
    {
     "data": {
      "text/plain": [
       "(802943, 802943)"
      ]
     },
     "execution_count": 105,
     "metadata": {},
     "output_type": "execute_result"
    }
   ],
   "source": [
    "X_train = apply_fill_n_catf(df=tr_df[all_vars], data_prep=data_pre).to_numpy()\n",
    "y_train = np.log(tr_df[dep_var].to_numpy())\n",
    "len(X_train), len(y_train)"
   ]
  },
  {
   "cell_type": "code",
   "execution_count": 106,
   "metadata": {
    "ExecuteTime": {
     "end_time": "2019-04-26T15:57:12.649606Z",
     "start_time": "2019-04-26T15:57:12.412132Z"
    }
   },
   "outputs": [
    {
     "data": {
      "text/plain": [
       "(41395, 41395)"
      ]
     },
     "execution_count": 106,
     "metadata": {},
     "output_type": "execute_result"
    }
   ],
   "source": [
    "X_valid = apply_fill_n_catf(df=val_df[all_vars], data_prep=data_pre).to_numpy()\n",
    "y_valid = np.log(val_df[dep_var].to_numpy())\n",
    "len(X_valid), len(y_valid)"
   ]
  },
  {
   "cell_type": "code",
   "execution_count": 111,
   "metadata": {
    "ExecuteTime": {
     "end_time": "2019-04-26T16:01:22.557949Z",
     "start_time": "2019-04-26T16:00:00.387362Z"
    }
   },
   "outputs": [
    {
     "name": "stdout",
     "output_type": "stream",
     "text": [
      "Train error is 0.09763115220772813\n",
      "Validation error is 0.14379579832970107\n",
      "Train score is 0.9704807588238801\n",
      "Validation score is 0.8909713911290575\n"
     ]
    }
   ],
   "source": [
    "m = RandomForestRegressor(n_estimators=40, min_samples_leaf=3, max_features=0.5, n_jobs=-1, oob_score=False)\n",
    "m.fit(X_train, y_train)\n",
    "print_score(m=m, func=exp_rmspe)"
   ]
  },
  {
   "cell_type": "markdown",
   "metadata": {},
   "source": [
    "As you see pure RF worked here pretty the same as with embeddings :(   \n",
    "Pure NN itself is still much better than any of RF :) "
   ]
  },
  {
   "cell_type": "markdown",
   "metadata": {},
   "source": [
    "## Feature importance (naive)"
   ]
  },
  {
   "cell_type": "markdown",
   "metadata": {
    "ExecuteTime": {
     "end_time": "2019-04-26T16:09:10.290174Z",
     "start_time": "2019-04-26T16:09:10.211889Z"
    }
   },
   "source": [
    "Ok, now we will try to understand how importatnt are the features  \n",
    "How do we do that? It's a cool trick.  \n",
    "With existing model we can simply randomize the column we want to test, and calculate what will be the new error (accuracy)  \n",
    "Now we know our base error and error with one column randomized and (you guessed it) the amount of enlarging this error shows us how important feature is."
   ]
  },
  {
   "cell_type": "code",
   "execution_count": 18,
   "metadata": {
    "ExecuteTime": {
     "end_time": "2019-04-29T15:27:58.657653Z",
     "start_time": "2019-04-29T15:27:58.621210Z"
    },
    "init_cell": true
   },
   "outputs": [],
   "source": [
    "def calc_error_mixed_col(df:DataFrame, \n",
    "                         data_prep:LabelLists, \n",
    "                         learn:Learner, \n",
    "                         dep_col:AnyStr, \n",
    "                         sampl_col:AnyStr, \n",
    "                         func:Callable,\n",
    "                         bs:int=None,\n",
    "                         rounds=5)->float:\n",
    "    df_temp = pd.concat([df]*rounds, ignore_index=True).copy()\n",
    "    df_temp[sampl_col] = np.random.permutation(df_temp[sampl_col].values)\n",
    "    return calc_error(df=df_temp, data_prep=data_prep, learn=learn, dep_col=dep_col, func=func, bs=bs)\n",
    "\n",
    "\n",
    "def get_columns(data_prep:LabelLists)->tuple:\n",
    "    cats, cats_temp, conts, conts_temp = [], [], [], []\n",
    "    proc = data_prep.get_processors()[0][0]       \n",
    "    for prc in proc.procs:\n",
    "        if (type(prc) == Categorify):\n",
    "            cats_temp = prc.cat_names\n",
    "        elif (type(prc) == Normalize):\n",
    "            conts = prc.cont_names\n",
    "            \n",
    "    #delete _na columns\n",
    "    conts_temp = [cont+'_na' for cont in conts]\n",
    "    for cat in cats_temp:\n",
    "        if (cat not in conts_temp):\n",
    "             cats.append(cat) \n",
    "    \n",
    "    return cats, conts\n",
    "\n",
    "\n",
    "def calc_feat_importance(df:DataFrame, \n",
    "                         data_prep:LabelLists, \n",
    "                         learn:Learner, \n",
    "                         dep_col:AnyStr,\n",
    "                         func:Callable,\n",
    "                         bs:int=None,\n",
    "                         rounds=5)->OrderedDict:\n",
    "    \n",
    "    base_error = calc_error(df=df, data_prep=data_prep, learn=learn, dep_col=dep_col, func=func, bs=bs)\n",
    "    cats, conts = get_columns(data_prep)\n",
    "    importance = {}\n",
    "    pbar = master_bar(cats+conts, total=len(cats+conts))\n",
    "    for col in pbar:\n",
    "        importance[col] = calc_error_mixed_col(df=df, data_prep=data_prep, learn=learn, dep_col=dep_col, \n",
    "                                               sampl_col=col, func=func, bs=bs, rounds=rounds)\n",
    "        _ = progress_bar(range(1), display=False, parent=pbar) #looks like fastprogress doesn't work without 2nd bar :(\n",
    "    for key, value in importance.items():\n",
    "        importance[key] = (value - base_error)/base_error\n",
    "    return collections.OrderedDict(sorted(importance.items(), key=lambda kv: kv[1], reverse=True))"
   ]
  },
  {
   "cell_type": "code",
   "execution_count": 84,
   "metadata": {
    "ExecuteTime": {
     "end_time": "2019-04-23T01:50:48.020610Z",
     "start_time": "2019-04-23T01:33:54.784863Z"
    }
   },
   "outputs": [
    {
     "data": {
      "text/html": [
       "Total time: 16:48 <p>"
      ],
      "text/plain": [
       "<IPython.core.display.HTML object>"
      ]
     },
     "metadata": {},
     "output_type": "display_data"
    },
    {
     "data": {
      "text/plain": [
       "OrderedDict([('Store', 2.7752134208337362),\n",
       "             ('Promo', 0.8845676767547609),\n",
       "             ('DayOfWeek', 0.43007899025606494),\n",
       "             ('State', 0.2258095143853605),\n",
       "             ('StoreType', 0.16391973889960224),\n",
       "             ('Day', 0.15572013064943885),\n",
       "             ('CompetitionDistance', 0.1554957910318926),\n",
       "             ('Promo_fw', 0.15135729285537958),\n",
       "             ('Promo_bw', 0.11064122675124458),\n",
       "             ('Week', 0.09965946372048601),\n",
       "             ('Year', 0.09824481683400214),\n",
       "             ('Assortment', 0.053448078928612766),\n",
       "             ('Month', 0.04274113431492492),\n",
       "             ('Max_TemperatureC', 0.04184434838310871),\n",
       "             ('StateHoliday', 0.027824792190042278),\n",
       "             ('trend_DE', 0.024144801823954565),\n",
       "             ('StateHoliday_bw', 0.023991647810274526),\n",
       "             ('BeforeStateHoliday', 0.0235004098897606),\n",
       "             ('Mean_Humidity', 0.022035761319059696),\n",
       "             ('Min_Humidity', 0.021181056957357437),\n",
       "             ('Promo2SinceYear', 0.01753398754748132),\n",
       "             ('Promo2Weeks', 0.016040712058335554),\n",
       "             ('StateHoliday_fw', 0.015755874219809122),\n",
       "             ('SchoolHoliday', 0.015052892525864659),\n",
       "             ('SchoolHoliday_bw', 0.009855866328321937),\n",
       "             ('Events', 0.009751664345182619),\n",
       "             ('Min_TemperatureC', 0.008399137871724114),\n",
       "             ('PromoInterval', 0.007540998279808471),\n",
       "             ('Max_Humidity', 0.00724795405799451),\n",
       "             ('AfterStateHoliday', 0.0066627244219199366),\n",
       "             ('CompetitionMonthsOpen', 0.006365863277646661),\n",
       "             ('CloudCover', 0.005765079682550376),\n",
       "             ('trend', 0.005004462459470248),\n",
       "             ('Max_Wind_SpeedKm_h', 0.004566756876448224),\n",
       "             ('Mean_Wind_SpeedKm_h', 0.004502728002193204),\n",
       "             ('SchoolHoliday_fw', 0.0017090270311585878),\n",
       "             ('CompetitionOpenSinceYear', 0.001316361133156489),\n",
       "             ('Mean_TemperatureC', -0.0004480112736621758)])"
      ]
     },
     "execution_count": 84,
     "metadata": {},
     "output_type": "execute_result"
    }
   ],
   "source": [
    "#Takes me 16 min to run\n",
    "feat = calc_feat_importance(df=df, \n",
    "                     data_prep=data_pre, \n",
    "                     learn=learn, \n",
    "                     dep_col=dep_var, \n",
    "                     func=exp_rmspe, \n",
    "                     bs=204800,\n",
    "                     rounds=5)\n",
    "feat"
   ]
  },
  {
   "cell_type": "markdown",
   "metadata": {},
   "source": [
    "Wonderful, now we know it (not really) we can move on to Partial Dependence (no)"
   ]
  },
  {
   "cell_type": "markdown",
   "metadata": {},
   "source": [
    "The first point that hinted me that it is not ok to do that with NN with embeddings was the *crazy difference in importances* between features (in my other case it was even bigger)  \n",
    "I was looking at the data and could not believe how the features that must be pretty important for the case are in the bottom of this list (it was the case from field I knew a lot about)  \n",
    "And then I noticed that pretty all important features are categorical columns and visa versa\n",
    "And when I (using editable installs) shifted max embedding size to 10 (from up to 600) this gap became much less.  \n",
    "So it became pretty clear for me why embeddings (categorical columns) seem to be more valuable. Each continuous variable is presented with 1 float number. And each categorical -- with a vector of several dozens. And when we randomize categorical column, we mess with tens of columns rather with one. Which, obviously, is more harmful for accuracy\n",
    "\n",
    "What do we do?\n",
    "Will will use the next (much more computational expensive) option.  \n",
    "I sadly present you the process which involves *retraining NN* for each column (group of columns)\n",
    "\n",
    "The idea is very simple. We just throw away the column completely, retrain the NN and compare the errors"
   ]
  },
  {
   "cell_type": "markdown",
   "metadata": {},
   "source": [
    "## True feature importance"
   ]
  },
  {
   "cell_type": "code",
   "execution_count": 19,
   "metadata": {
    "ExecuteTime": {
     "end_time": "2019-04-29T15:27:58.682447Z",
     "start_time": "2019-04-29T15:27:58.659810Z"
    },
    "init_cell": true
   },
   "outputs": [],
   "source": [
    "from fastai.callbacks import CSVLogger"
   ]
  },
  {
   "cell_type": "code",
   "execution_count": 3,
   "metadata": {
    "ExecuteTime": {
     "end_time": "2019-05-30T12:38:52.780901Z",
     "start_time": "2019-05-30T12:38:52.748986Z"
    },
    "init_cell": true
   },
   "outputs": [],
   "source": [
    "def clear_pbar():\n",
    "    # Just to clear the output. Yes, I know, I agree It's awfull should be refactored\n",
    "    for _ in progress_bar(range(1), parent=None, leave=False):\n",
    "        1==1    \n",
    "\n",
    "def extract_metrics_median(metrics_df:DataFrame, acc_func:Callable, bottom_X:float=0.1)->float:\n",
    "    func_name = acc_func.__name__    \n",
    "    metr = metrics_df[func_name].to_numpy()\n",
    "    subset = metr[np.argsort(metr)][-math.ceil(len(metr)*bottom_X):] if (func_name =='accuracy') else metr[np.argsort(metr)][:math.ceil(len(metr)*bottom_X)]\n",
    "    metrics = np.median(subset)\n",
    "    return float(metrics)\n",
    "    \n",
    "def calc_valid_acc(learn:Learner, func:Callable)->float:\n",
    "    metr = learn.csv_logger.read_logged_file()\n",
    "    acc = extract_metrics_median(metrics_df=metr, acc_func=func)  \n",
    "    return float(acc)\n",
    "\n",
    "def calc_acc(df:DataFrame, \n",
    "             bs:int, \n",
    "             acc_func:Callable,\n",
    "             dep_var:str,\n",
    "             to_drop_cat:tuple=(), \n",
    "             to_drop_cont:tuple=(), \n",
    "             load_learn:str=None,\n",
    "             trains:int=2, \n",
    "             cycles:int=80, \n",
    "             is_overall_mode:bool=None)->float:\n",
    "    \n",
    "    cat_vars_mod = list_diff(CAT_VARS_CONST, to_drop_cat)\n",
    "    cont_vars_mod = list_diff(CONT_VARS_CONST, to_drop_cont)\n",
    "    np.random.seed(1001)\n",
    "    data_pre =  (TabularList.from_df(df, path=path, cat_names=cat_vars_mod, cont_names=cont_vars_mod, procs=procs)\n",
    "                       .split_by_idx(VALID_IDX)\n",
    "                       .label_from_df(cols=dep_var, label_cls=FloatList, log=True))\n",
    "    data = data_pre.databunch(bs=bs)\n",
    "    learn = tabular_learner(data, \n",
    "                            layers=LAYERS, \n",
    "                            ps=PS, \n",
    "                            emb_drop=EMB_DROP, \n",
    "                            y_range=y_range, \n",
    "                            metrics=acc_func, \n",
    "                            callback_fns=[CSVLogger])\n",
    "    if (load_learn is not None):\n",
    "        learn = learn.load(load_learn)\n",
    "    else:\n",
    "        for i in range(trains):\n",
    "            print(f\"Train {i+1} of {trains}\")\n",
    "            learn.fit_one_cycle(cycles, 3e-3, wd=0.2);\n",
    "            clear_pbar()    \n",
    "    if (is_overall_mode is None) or (is_overall_mode == False):\n",
    "        acc = calc_valid_acc(learn=learn, func=acc_func)\n",
    "    else:\n",
    "        acc = calc_error(df=df, data_prep=data_pre, learn=learn, dep_col=dep_var, func=acc_func, bs=bs)\n",
    "    return acc\n",
    "\n",
    "def calc_1_imp_relearn(base_error:float, \n",
    "                       df:DataFrame, \n",
    "                       bs:int, \n",
    "                       acc_func:Callable,\n",
    "                       dep_var:str, \n",
    "                       to_drop_cat:tuple=(), \n",
    "                       to_drop_cont:tuple=(), \n",
    "                       load_learn:str=None, \n",
    "                       trains:int=2, \n",
    "                       cycles:int=80, \n",
    "                       is_overall_mode:bool=None)->float:\n",
    "    error = calc_acc(df, bs, acc_func, dep_var, to_drop_cat, to_drop_cont, load_learn, \n",
    "                     trains=trains, cycles=cycles, is_overall_mode=is_overall_mode)\n",
    "    if (acc_func.__name__ == 'accuracy'):\n",
    "        base_acc, accuracy = base_error, error # Just rename for better understanding\n",
    "        importance = (base_acc - accuracy)/base_acc\n",
    "    else:\n",
    "        importance = (error - base_error)/base_error\n",
    "    return (list(to_drop_cat)+list(to_drop_cont), importance)\n",
    "\n",
    "def print_importance_res(dropped:List, importance:float):\n",
    "    print('Features '+', '.join(dropped)+' have accumulated importance of')\n",
    "    print(importance)\n",
    "    \n",
    "def calc_many_imps_relearn(base_error:float, \n",
    "                           df:DataFrame, \n",
    "                           bs:int, \n",
    "                           acc_func:Callable, \n",
    "                           dep_var:str, \n",
    "                           to_drop_cats:tuple=(), \n",
    "                           to_drop_conts:tuple=(),\n",
    "                           load_learn:str=None, \n",
    "                           trains:int=2, \n",
    "                           cycles:int=80, \n",
    "                           is_overall_mode:bool=None)->float:\n",
    "    \n",
    "    to_drop_cats = listify(to_drop_cats)\n",
    "    to_drop_conts = listify(to_drop_conts)\n",
    "    importances = {}\n",
    "    \n",
    "    i = 1\n",
    "    overall = len(list(to_drop_cats)+list(to_drop_conts))\n",
    "    for var in to_drop_cats:\n",
    "        var = listify(var)\n",
    "        print(f\"Categorical feature {i} of {len(to_drop_cats)}\")\n",
    "        imp = calc_1_imp_relearn(base_error, df, bs, acc_func, \n",
    "                                 dep_var=dep_var, to_drop_cat=var, trains=trains, \n",
    "                                 cycles=cycles, is_overall_mode=is_overall_mode)\n",
    "        key = imp[0] if isinstance(imp[0], str) else ', '.join(str(e) for e in imp[0])\n",
    "        importances[key] = imp\n",
    "        i = i + 1\n",
    "        \n",
    "    for var in to_drop_conts:\n",
    "        var = listify(var)\n",
    "        print(f\"Continuous feature {i} of {len(to_drop_conts)}\")\n",
    "        imp = calc_1_imp_relearn(base_error, df, bs, acc_func, \n",
    "                                  dep_var=dep_var, to_drop_cont=var, trains=trains, \n",
    "                                 cycles=cycles, is_overall_mode=is_overall_mode)\n",
    "        key = imp[0] if isinstance(imp[0], str) else ', '.join(str(e) for e in imp[0])\n",
    "        importances[key] = imp\n",
    "        i = i + 1\n",
    "    \n",
    "    return importances"
   ]
  },
  {
   "cell_type": "code",
   "execution_count": 31,
   "metadata": {
    "ExecuteTime": {
     "end_time": "2019-04-29T15:41:22.226654Z",
     "start_time": "2019-04-29T15:41:22.183450Z"
    },
    "init_cell": true
   },
   "outputs": [],
   "source": [
    "def calc_mean_dict(lst):\n",
    "    mean_dict = {}\n",
    "    ln = len(lst)\n",
    "    for key, value in lst[0].items():\n",
    "        mean_dict[key] = np.zeros(ln)\n",
    "    for i, row in enumerate(lst):\n",
    "        for key, value in row.items():\n",
    "            mean_dict[key][i] = value[1]\n",
    "    for key, value in mean_dict.items():\n",
    "        mean_dict[key] = np.median(value)\n",
    "            \n",
    "    return mean_dict\n",
    "\n",
    "\n",
    "def calc_many_imps_relearn_steps(base_error:float,\n",
    "                                 df:DataFrame,\n",
    "                                 bs:int,\n",
    "                                 acc_func:Callable,\n",
    "                                 dep_var:str,\n",
    "                                 to_drop_cats:tuple=(),\n",
    "                                 to_drop_conts:tuple=(),\n",
    "                                 load_learn:str=None,\n",
    "                                 trains=2,\n",
    "                                 cycles=80,\n",
    "                                 rounds=5,\n",
    "                                 is_overall_mode:bool=None)->dict:\n",
    "    '''\n",
    "    to_drop_cats and to_drop_conts:tuple can be tupple of tuples (lists of lists)\n",
    "    this means we measure every item in the first list and retrain without every item in the second one in one turn\n",
    "    (treat it as one entity)\n",
    "    '''\n",
    "    acc = []\n",
    "    for i in range(rounds):\n",
    "        print(f\"Round {i+1} of {rounds}\")\n",
    "        acc_ = calc_many_imps_relearn(base_error=base_error,\n",
    "                                      df=df,\n",
    "                                      bs=bs,\n",
    "                                      acc_func=acc_func,\n",
    "                                      dep_var=dep_var,\n",
    "                                      to_drop_cats=to_drop_cats,\n",
    "                                      to_drop_conts=to_drop_conts,\n",
    "                                      trains=trains,\n",
    "                                      cycles=cycles,\n",
    "                                      is_overall_mode=is_overall_mode)\n",
    "        acc.append(acc_)\n",
    "    imp = calc_mean_dict(acc)\n",
    "    return collections.OrderedDict(sorted(imp.items(), key=lambda kv: kv[1], reverse=True))\n",
    "\n",
    "\n",
    "def calc_base_acc_steps(df:DataFrame, \n",
    "                        bs:int, \n",
    "                        acc_func:Callable, \n",
    "                        dep_var:str,\n",
    "                        trains=2, \n",
    "                        cycles=80,\n",
    "                        rounds=5, \n",
    "                        is_overall_mode:bool=None)->float:\n",
    "    base_acc=np.empty((rounds))\n",
    "    for i in range(rounds):\n",
    "        print(f\"Round {i+1} of {rounds}\")\n",
    "        base_acc[i] = calc_acc(df=df, bs=BS, \n",
    "                               acc_func=acc_func, dep_var=dep_var, trains=trains, \n",
    "                               cycles=cycles, is_overall_mode=is_overall_mode)\n",
    "    return np.median(base_acc)"
   ]
  },
  {
   "cell_type": "markdown",
   "metadata": {},
   "source": [
    "These are the parameters used in learner creation"
   ]
  },
  {
   "cell_type": "code",
   "execution_count": 29,
   "metadata": {
    "ExecuteTime": {
     "end_time": "2019-04-26T00:37:04.318579Z",
     "start_time": "2019-04-26T00:37:04.293765Z"
    }
   },
   "outputs": [],
   "source": [
    "CAT_VARS_CONST = cat_vars_tpl\n",
    "CONT_VARS_CONST = cont_vars_tpl\n",
    "LAYERS = [1000, 500] \n",
    "PS = [0.01, 0.1]\n",
    "EMB_DROP = 0.04\n",
    "VALID_IDX = valid_idx\n",
    "is_overall_mode = True\n",
    "BS = 1024"
   ]
  },
  {
   "cell_type": "markdown",
   "metadata": {},
   "source": [
    "And these are the hyperparameters that are used in training.  \n",
    "What are they?\n",
    "`cycles` is the common thing you already know  \n",
    "`rounds` is a new one. It just sets how many times the whole process will be repeated (and then median of results is taken). \n",
    "It reduces instability of results a lot. The more, the better accuracy in feature importance you will get (now I think that 3 is not big enough, maybe 5)  \n",
    "There is also one optional parameter `trains` I've defaulted it to 2. It just means that I train NN in 2 `fit.one_cycle`-s by (in this case) 6 cycles each.  \n",
    "So it gives us overall 36 = 6(cycles)\\*2(trains)\\*3(rounds) cycles for every feature we test."
   ]
  },
  {
   "cell_type": "code",
   "execution_count": 30,
   "metadata": {
    "ExecuteTime": {
     "end_time": "2019-04-26T00:37:07.496738Z",
     "start_time": "2019-04-26T00:37:07.471930Z"
    }
   },
   "outputs": [],
   "source": [
    "rounds = 3\n",
    "acc_func = exp_rmspe\n",
    "cycles = 6"
   ]
  },
  {
   "cell_type": "code",
   "execution_count": 31,
   "metadata": {
    "ExecuteTime": {
     "end_time": "2019-04-26T00:49:44.613727Z",
     "start_time": "2019-04-26T00:37:10.119231Z"
    }
   },
   "outputs": [],
   "source": [
    "# 12 mins\n",
    "base_error = calc_base_acc_steps(df=df, bs=BS, acc_func=acc_func, dep_var=dep_var, \n",
    "                                 cycles=cycles, rounds=rounds, is_overall_mode=is_overall_mode)"
   ]
  },
  {
   "cell_type": "code",
   "execution_count": 37,
   "metadata": {
    "ExecuteTime": {
     "end_time": "2019-04-26T08:38:08.599696Z",
     "start_time": "2019-04-26T08:38:08.573311Z"
    }
   },
   "outputs": [
    {
     "data": {
      "text/plain": [
       "0.14800025522708893"
      ]
     },
     "execution_count": 37,
     "metadata": {},
     "output_type": "execute_result"
    }
   ],
   "source": [
    "base_error"
   ]
  },
  {
   "cell_type": "code",
   "execution_count": 32,
   "metadata": {
    "ExecuteTime": {
     "end_time": "2019-04-26T00:49:44.641513Z",
     "start_time": "2019-04-26T00:49:44.615655Z"
    }
   },
   "outputs": [],
   "source": [
    "each_cat = [[var] for var in cat_vars_tpl]\n",
    "each_cont = [[var] for var in cont_vars_tpl]"
   ]
  },
  {
   "cell_type": "code",
   "execution_count": 114,
   "metadata": {
    "ExecuteTime": {
     "end_time": "2019-04-26T17:04:37.144528Z",
     "start_time": "2019-04-26T17:04:37.071087Z"
    }
   },
   "outputs": [],
   "source": [
    "#Takes me 4 hours to run\n",
    "imp = calc_many_imps_relearn_steps(base_error=base_error, df=df, bs=BS, acc_func=acc_func, \n",
    "                                          dep_var=dep_var, to_drop_cats=each_cat, cycles=cycles, \n",
    "                                          rounds=rounds, is_overall_mode=is_overall_mode)"
   ]
  },
  {
   "cell_type": "code",
   "execution_count": 38,
   "metadata": {
    "ExecuteTime": {
     "end_time": "2019-04-25T06:24:58.723393Z",
     "start_time": "2019-04-25T06:24:58.696670Z"
    }
   },
   "outputs": [
    {
     "data": {
      "text/plain": [
       "OrderedDict([('Store', 0.1647998243115971),\n",
       "             ('Month', 0.04285088722337317),\n",
       "             ('State', 0.03870053444338687),\n",
       "             ('Week', 0.031876485011430054),\n",
       "             ('StoreType', 0.03168412172177492),\n",
       "             ('StateHoliday_bw', 0.02653184704373341),\n",
       "             ('Year', 0.026495619474594116),\n",
       "             ('Day', 0.02639101874679756),\n",
       "             ('Promo_fw', 0.02616161149207887),\n",
       "             ('Promo_bw', 0.02342035807737535),\n",
       "             ('Assortment', 0.02335984272948915),\n",
       "             ('Promo2Weeks', 0.022817857885267186),\n",
       "             ('StateHoliday_fw', 0.02173388819682326),\n",
       "             ('SchoolHoliday_fw', 0.021512134653894562),\n",
       "             ('SchoolHoliday_bw', 0.019208775603069116),\n",
       "             ('Events', 0.0099779909863767),\n",
       "             ('DayOfWeek', 0.009319669722946858),\n",
       "             ('PromoInterval', 0.008814320645826323),\n",
       "             ('StateHoliday', 0.0074109360520134004),\n",
       "             ('CompetitionOpenSinceYear', 0.007148872960324077),\n",
       "             ('Promo2SinceYear', 0.00016950420377568828),\n",
       "             ('CompetitionMonthsOpen', -0.0028918784627305566)])"
      ]
     },
     "execution_count": 38,
     "metadata": {},
     "output_type": "execute_result"
    }
   ],
   "source": [
    "imp"
   ]
  },
  {
   "cell_type": "code",
   "execution_count": 272,
   "metadata": {
    "ExecuteTime": {
     "end_time": "2019-04-25T16:48:59.581040Z",
     "start_time": "2019-04-25T16:48:59.538109Z"
    }
   },
   "outputs": [],
   "source": [
    "import pickle"
   ]
  },
  {
   "cell_type": "code",
   "execution_count": 39,
   "metadata": {
    "ExecuteTime": {
     "end_time": "2019-04-25T06:24:58.751580Z",
     "start_time": "2019-04-25T06:24:58.725556Z"
    }
   },
   "outputs": [],
   "source": [
    "f = open(path/\"ros_imp_cat.pkl\",\"wb\")\n",
    "pickle.dump(imp,f)\n",
    "f.close()"
   ]
  },
  {
   "cell_type": "code",
   "execution_count": 40,
   "metadata": {
    "ExecuteTime": {
     "end_time": "2019-04-25T06:24:58.776010Z",
     "start_time": "2019-04-25T06:24:58.753147Z"
    }
   },
   "outputs": [],
   "source": [
    "f = open(path/\"ros_imp_cat.pkl\",\"rb\")\n",
    "imp_cat = pickle.load(f)\n",
    "f.close()"
   ]
  },
  {
   "cell_type": "code",
   "execution_count": 41,
   "metadata": {
    "ExecuteTime": {
     "end_time": "2019-04-25T09:44:20.661291Z",
     "start_time": "2019-04-25T06:24:58.777546Z"
    }
   },
   "outputs": [],
   "source": [
    "#Takes me 3 hours to run\n",
    "imp = calc_many_imps_relearn_steps(base_error=base_error, df=df, bs=BS, acc_func=acc_func, \n",
    "                                          dep_var=dep_var, to_drop_conts=each_cont, cycles=cycles, \n",
    "                                          rounds=rounds, is_overall_mode=is_overall_mode)"
   ]
  },
  {
   "cell_type": "code",
   "execution_count": 42,
   "metadata": {
    "ExecuteTime": {
     "end_time": "2019-04-25T09:44:20.689515Z",
     "start_time": "2019-04-25T09:44:20.662997Z"
    }
   },
   "outputs": [
    {
     "data": {
      "text/plain": [
       "OrderedDict([('CompetitionDistance', 0.04865852372961906),\n",
       "             ('SchoolHoliday', 0.04661477858271014),\n",
       "             ('Max_TemperatureC', 0.03673995963126254),\n",
       "             ('trend_DE', 0.03285299658634249),\n",
       "             ('Mean_Humidity', 0.03172902349760954),\n",
       "             ('Min_Humidity', 0.029926421296830638),\n",
       "             ('Max_Wind_SpeedKm_h', 0.023433114263692007),\n",
       "             ('Promo', 0.02298817848496714),\n",
       "             ('Mean_TemperatureC', 0.01780335001944553),\n",
       "             ('CloudCover', 0.014182634095326675),\n",
       "             ('AfterStateHoliday', 0.010270668925225991),\n",
       "             ('Mean_Wind_SpeedKm_h', 0.0099141080053029),\n",
       "             ('trend', 0.00635053979588265),\n",
       "             ('Min_TemperatureC', 0.004895109961897782),\n",
       "             ('Max_Humidity', -0.0028304446694295544),\n",
       "             ('BeforeStateHoliday', -0.012495347818850316)])"
      ]
     },
     "execution_count": 42,
     "metadata": {},
     "output_type": "execute_result"
    }
   ],
   "source": [
    "imp"
   ]
  },
  {
   "cell_type": "code",
   "execution_count": 43,
   "metadata": {
    "ExecuteTime": {
     "end_time": "2019-04-25T09:44:20.718260Z",
     "start_time": "2019-04-25T09:44:20.691159Z"
    }
   },
   "outputs": [],
   "source": [
    "f = open(path/\"ros_imp_cont.pkl\",\"wb\")\n",
    "pickle.dump(imp,f)\n",
    "f.close()"
   ]
  },
  {
   "cell_type": "code",
   "execution_count": 44,
   "metadata": {
    "ExecuteTime": {
     "end_time": "2019-04-25T09:44:20.754168Z",
     "start_time": "2019-04-25T09:44:20.723963Z"
    }
   },
   "outputs": [],
   "source": [
    "f = open(path/\"ros_imp_cont.pkl\",\"rb\")\n",
    "imp_cont = pickle.load(f)\n",
    "f.close()"
   ]
  },
  {
   "cell_type": "code",
   "execution_count": 46,
   "metadata": {
    "ExecuteTime": {
     "end_time": "2019-04-25T09:44:48.862130Z",
     "start_time": "2019-04-25T09:44:48.834257Z"
    }
   },
   "outputs": [
    {
     "data": {
      "text/plain": [
       "OrderedDict([('Store', 0.1647998243115971),\n",
       "             ('CompetitionDistance', 0.04865852372961906),\n",
       "             ('SchoolHoliday', 0.04661477858271014),\n",
       "             ('Month', 0.04285088722337317),\n",
       "             ('State', 0.03870053444338687),\n",
       "             ('Max_TemperatureC', 0.03673995963126254),\n",
       "             ('trend_DE', 0.03285299658634249),\n",
       "             ('Week', 0.031876485011430054),\n",
       "             ('Mean_Humidity', 0.03172902349760954),\n",
       "             ('StoreType', 0.03168412172177492),\n",
       "             ('Min_Humidity', 0.029926421296830638),\n",
       "             ('StateHoliday_bw', 0.02653184704373341),\n",
       "             ('Year', 0.026495619474594116),\n",
       "             ('Day', 0.02639101874679756),\n",
       "             ('Promo_fw', 0.02616161149207887),\n",
       "             ('Max_Wind_SpeedKm_h', 0.023433114263692007),\n",
       "             ('Promo_bw', 0.02342035807737535),\n",
       "             ('Assortment', 0.02335984272948915),\n",
       "             ('Promo', 0.02298817848496714),\n",
       "             ('Promo2Weeks', 0.022817857885267186),\n",
       "             ('StateHoliday_fw', 0.02173388819682326),\n",
       "             ('SchoolHoliday_fw', 0.021512134653894562),\n",
       "             ('SchoolHoliday_bw', 0.019208775603069116),\n",
       "             ('Mean_TemperatureC', 0.01780335001944553),\n",
       "             ('CloudCover', 0.014182634095326675),\n",
       "             ('AfterStateHoliday', 0.010270668925225991),\n",
       "             ('Events', 0.0099779909863767),\n",
       "             ('Mean_Wind_SpeedKm_h', 0.0099141080053029),\n",
       "             ('DayOfWeek', 0.009319669722946858),\n",
       "             ('PromoInterval', 0.008814320645826323),\n",
       "             ('StateHoliday', 0.0074109360520134004),\n",
       "             ('CompetitionOpenSinceYear', 0.007148872960324077),\n",
       "             ('trend', 0.00635053979588265),\n",
       "             ('Min_TemperatureC', 0.004895109961897782),\n",
       "             ('Promo2SinceYear', 0.00016950420377568828),\n",
       "             ('Max_Humidity', -0.0028304446694295544),\n",
       "             ('CompetitionMonthsOpen', -0.0028918784627305566),\n",
       "             ('BeforeStateHoliday', -0.012495347818850316)])"
      ]
     },
     "execution_count": 46,
     "metadata": {},
     "output_type": "execute_result"
    }
   ],
   "source": [
    "imp_merged = {**dict(imp_cat), **dict(imp_cont)}\n",
    "imp_merged = collections.OrderedDict(sorted(imp_merged.items(), key=lambda kv: kv[1], reverse=True))\n",
    "imp_merged"
   ]
  },
  {
   "cell_type": "code",
   "execution_count": 47,
   "metadata": {
    "ExecuteTime": {
     "end_time": "2019-04-25T09:45:07.270717Z",
     "start_time": "2019-04-25T09:45:07.246828Z"
    }
   },
   "outputs": [],
   "source": [
    "f = open(path/\"ros_imp_merged.pkl\",\"wb\")\n",
    "pickle.dump(imp_merged,f)\n",
    "f.close()"
   ]
  },
  {
   "cell_type": "code",
   "execution_count": 48,
   "metadata": {
    "ExecuteTime": {
     "end_time": "2019-04-25T09:45:31.986258Z",
     "start_time": "2019-04-25T09:45:31.958937Z"
    }
   },
   "outputs": [],
   "source": [
    "f = open(path/\"ros_imp_merged.pkl\",\"rb\")\n",
    "imp_merged = pickle.load(f)\n",
    "f.close()"
   ]
  },
  {
   "cell_type": "markdown",
   "metadata": {},
   "source": [
    "----------------------------------------------------------"
   ]
  },
  {
   "cell_type": "markdown",
   "metadata": {},
   "source": [
    "Now let's try to test all columns at once"
   ]
  },
  {
   "cell_type": "code",
   "execution_count": 33,
   "metadata": {
    "ExecuteTime": {
     "end_time": "2019-04-26T08:38:08.486741Z",
     "start_time": "2019-04-26T00:49:44.643119Z"
    }
   },
   "outputs": [],
   "source": [
    "#Takes me 8 hours to run\n",
    "imp = calc_many_imps_relearn_steps(base_error=base_error, df=df, bs=BS, acc_func=acc_func, \n",
    "                                          dep_var=dep_var, to_drop_cats=each_cat, to_drop_conts=each_cont, \n",
    "                                          cycles=cycles, rounds=rounds, is_overall_mode=is_overall_mode)"
   ]
  },
  {
   "cell_type": "code",
   "execution_count": 34,
   "metadata": {
    "ExecuteTime": {
     "end_time": "2019-04-26T08:38:08.517119Z",
     "start_time": "2019-04-26T08:38:08.489001Z"
    }
   },
   "outputs": [
    {
     "data": {
      "text/plain": [
       "OrderedDict([('Store', 0.135575061499906),\n",
       "             ('DayOfWeek', 0.03104379735704198),\n",
       "             ('Max_TemperatureC', 0.029381313915677092),\n",
       "             ('Max_Wind_SpeedKm_h', 0.0258247753326603),\n",
       "             ('State', 0.02553913667452366),\n",
       "             ('Promo2SinceYear', 0.02393384137479487),\n",
       "             ('PromoInterval', 0.02128868845742942),\n",
       "             ('BeforeStateHoliday', 0.019680976757349807),\n",
       "             ('trend_DE', 0.018117666413716534),\n",
       "             ('CompetitionOpenSinceYear', 0.01799674571282753),\n",
       "             ('StateHoliday_bw', 0.014162119722770415),\n",
       "             ('trend', 0.013887455549560421),\n",
       "             ('CompetitionDistance', 0.013183175530644034),\n",
       "             ('Month', 0.013041816110121002),\n",
       "             ('Mean_Humidity', 0.012621966549165843),\n",
       "             ('Day', 0.010355685070139543),\n",
       "             ('StateHoliday_fw', 0.00975963965027035),\n",
       "             ('Assortment', 0.007852092939993026),\n",
       "             ('Promo_fw', 0.00765284059439824),\n",
       "             ('Week', 0.007117909966735229),\n",
       "             ('Min_Humidity', 0.00616907009564616),\n",
       "             ('CompetitionMonthsOpen', 0.004602437201530508),\n",
       "             ('Mean_Wind_SpeedKm_h', 0.004577568414586641),\n",
       "             ('Mean_TemperatureC', 0.0045005456534042195),\n",
       "             ('StoreType', 0.0039047016002309275),\n",
       "             ('StateHoliday', 0.0019588952177322706),\n",
       "             ('Promo2Weeks', 0.0018355581164924458),\n",
       "             ('SchoolHoliday_fw', 0.0006381310593126609),\n",
       "             ('CloudCover', 0.0001893853774956004),\n",
       "             ('Max_Humidity', -0.00031080949512435856),\n",
       "             ('SchoolHoliday_bw', -0.0007248194218983664),\n",
       "             ('Year', -0.0017178592827378702),\n",
       "             ('SchoolHoliday', -0.0052877887510321304),\n",
       "             ('Events', -0.005534362270163829),\n",
       "             ('AfterStateHoliday', -0.006530221264745957),\n",
       "             ('Promo', -0.012968820682856616),\n",
       "             ('Promo_bw', -0.01682720794303014),\n",
       "             ('Min_TemperatureC', -0.02596240946930915)])"
      ]
     },
     "execution_count": 34,
     "metadata": {},
     "output_type": "execute_result"
    }
   ],
   "source": [
    "imp"
   ]
  },
  {
   "cell_type": "code",
   "execution_count": 35,
   "metadata": {
    "ExecuteTime": {
     "end_time": "2019-04-26T08:38:08.545861Z",
     "start_time": "2019-04-26T08:38:08.518781Z"
    }
   },
   "outputs": [],
   "source": [
    "f = open(path/\"ros_imp_all.pkl\",\"wb\")\n",
    "pickle.dump(imp,f)\n",
    "f.close()"
   ]
  },
  {
   "cell_type": "code",
   "execution_count": 36,
   "metadata": {
    "ExecuteTime": {
     "end_time": "2019-04-26T08:38:08.571699Z",
     "start_time": "2019-04-26T08:38:08.547472Z"
    }
   },
   "outputs": [],
   "source": [
    "f = open(path/\"ros_imp_all.pkl\",\"rb\")\n",
    "imp_all = pickle.load(f)\n",
    "f.close()"
   ]
  },
  {
   "cell_type": "markdown",
   "metadata": {},
   "source": [
    "Now you can see how much less retraining method made the importance of 'Store'. It's feels much more explainable.\n",
    "\n",
    "Also here we still can see some instability in values (between imp_merged man imp), which will be less if we use higher rounds value.\n",
    "(Don't forget to recalculate base_error after that)"
   ]
  },
  {
   "cell_type": "markdown",
   "metadata": {},
   "source": [
    "One of the most interesting things here is that we should check the importance of not only one column at a time, but for a number of 'linked' columns (treat it as one entity). It is possible with these functions, but it is extremely time consuming to check all the variants with only 2 columns 'linked'"
   ]
  },
  {
   "cell_type": "markdown",
   "metadata": {},
   "source": [
    "## Partial Dependence"
   ]
  },
  {
   "cell_type": "markdown",
   "metadata": {
    "ExecuteTime": {
     "end_time": "2019-04-26T18:27:48.590881Z",
     "start_time": "2019-04-26T18:27:48.552873Z"
    }
   },
   "source": [
    "What partial dependence is?  \n",
    "In short it shows you how 'important' not the feature itself is, but how particular category affects the dependent variable.  \n",
    "For ex. we can determine what day of the month sales are the biggest.  \n",
    "It looks like we can get this info directly from data (without any model). We just make a plot Month vs Sales. But it won't be the 'clean experiment'. What we really want is to calculate category importance all other things being equal.  \n",
    "How can we do that?  \n",
    "If we have a model, we can make an experiment. Let's take all our data and set the day column to 1. Now we have a bunch of data of what will be the sales for every Store, every Year etc for this particular Day. And we can take median across all of the dataset (that will be the thing we want -- median Sales on the 1st day of the month, everything other is beeing equal). And then we repeat it for every category (from 2 to 31). Comparing these medians we can determine what category influence Sales the most (and how)."
   ]
  },
  {
   "cell_type": "code",
   "execution_count": 32,
   "metadata": {
    "ExecuteTime": {
     "end_time": "2019-04-29T15:53:49.407232Z",
     "start_time": "2019-04-29T15:53:49.351641Z"
    },
    "init_cell": true
   },
   "outputs": [],
   "source": [
    "def get_field_uniq_x_coef(df:DataFrame, field:str, coef:float)->list:\n",
    "    '''\n",
    "    This function outputs threshold to number of occurrences different variants of list of columns (fields) \n",
    "    In short if coef for ex. is 0.9, then function outputs number of occurrences for all but least 10%\n",
    "    of the least used\n",
    "    If coef is more 1.0, then 'coef' itself is used as threshold\n",
    "    ''' \n",
    "    if (coef > 1):\n",
    "        return math.ceil(coef)\n",
    "    coef = 0. if (coef < 0) else coef\n",
    "    occs = df.groupby(field).size().reset_index(name=\"Times\").sort_values(['Times'], ascending=False)\n",
    "    num = math.ceil(coef*len(occs))\n",
    "    if (num <= 0):\n",
    "        # number of occurances is now = max_occs+1 (so it will be no items with this filter)\n",
    "        return occs.iloc[0]['Times'] + 1\n",
    "    else:\n",
    "        return occs.iloc[num-1]['Times']\n",
    "\n",
    "def get_part_dep_one_list(df:DataFrame, data_prep:LabelLists, \n",
    "                     learn:Learner, bs:int=None, fields:list=(), coef:float=1.0, to_int:bool=False, \n",
    "                     dep_name:str=None, is_sorted:bool=True)->DataFrame:\n",
    "    '''\n",
    "    Function calculate partial dependency for column in fields.\n",
    "    Fields is a list of lists of what columns we want to test. The inner items are treated as connected fields.\n",
    "    For ex. fields = [['Store','StoreType']] mean that Store and StoreType is treated as one entity \n",
    "    (it's values are substitute as a pair, not as separate values)\n",
    "    coef is useful when we don't want to deal with all the variants, but only with most common\n",
    "    '''\n",
    "    if (dep_name is None):\n",
    "        dep_name = 'dep_var'\n",
    "    fields = listify(fields)\n",
    "    df = apply_fill(df=df, data_prep=data_prep)\n",
    "    \n",
    "    field_min_occ = get_field_uniq_x_coef(df=df, field=fields, coef=coef)\n",
    "    occs = df.groupby(fields).size().reset_index(name=\"Times\").sort_values(['Times'], ascending=False)\n",
    "    occs = occs[occs['Times'] >= field_min_occ]\n",
    "    df_copy = df.merge(occs[fields]).copy()        \n",
    "    \n",
    "    frame = []\n",
    "    ln = len(occs)\n",
    "    if (ln > 0):\n",
    "        pbar = master_bar(occs.iterrows(), total=ln)\n",
    "        for _, row in pbar:\n",
    "            # We don't need to do df_copy = df.merge(occs[field]).copy() every time \n",
    "            # as every time we change the same column (set of columns)\n",
    "            record = []\n",
    "            pb = progress_bar(fields, display=False, parent=pbar)\n",
    "            for fld in pb:\n",
    "                df_copy[fld] = row[fld] \n",
    "            preds = get_cust_preds(df=df_copy, data_prep=data_pre, learn=learn, bs=bs)\n",
    "            preds = np.exp(np.median(preds)) if (hasattr(data_prep, 'log') and data_prep.log) else np.median(preds)\n",
    "            pred = int(preds) if to_int else preds\n",
    "            for fld in fields:\n",
    "                record.append(row[fld])\n",
    "            record.append(pred)\n",
    "            record.append(row['Times'])\n",
    "            frame.append(record)\n",
    "    out = pd.DataFrame(frame, columns=fields+[dep_name, 'times'])\n",
    "    median = out[dep_name].median()\n",
    "    out[dep_name] /= median\n",
    "    if (is_sorted == True):\n",
    "        out = out.sort_values(by=dep_name, ascending=False)\n",
    "    return out\n",
    "\n",
    "def get_cat_cols(data_prep:LabelLists,  is_wo_na=True)->List:\n",
    "    '''\n",
    "    Just outputs category fields from LabelLists object\n",
    "    '''\n",
    "    catf = None\n",
    "    result = []\n",
    "    proc = data_prep.get_processors()[0][0]       \n",
    "    for prc in proc.procs:\n",
    "        if (type(prc) == Categorify):\n",
    "            catf = prc        \n",
    "    if (catf is not None):\n",
    "        result = [c for c in catf.cat_names if ((is_wo_na is not None) and (is_wo_na == True) and (c[-3:] != \"_na\"))]        \n",
    "    return result\n",
    "\n",
    "\n",
    "def get_cont_cols(data_prep:LabelLists)->List:\n",
    "    '''\n",
    "    Just outputs continuous fields from LabelLists object\n",
    "    '''\n",
    "    norm = None\n",
    "    result = []\n",
    "    proc = data_prep.get_processors()[0][0]   \n",
    "    \n",
    "    for prc in proc.procs:\n",
    "        if (type(prc) == Normalize):\n",
    "            norm = prc\n",
    "        \n",
    "    if (norm is not None):\n",
    "        result = norm.cont_names\n",
    "        \n",
    "    return result\n",
    "\n",
    "\n",
    "def get_part_dep(df:DataFrame, data_prep:LabelLists, learn:Learner, bs:int=None, \n",
    "                 fields:tuple=None, coef:float=1.0, to_int:bool=False, \n",
    "                 dep_name:str=None, is_sorted:bool=True)->List:\n",
    "    '''\n",
    "    Makes a datafreme with partial dependencies for every categorical variable in df\n",
    "    '''\n",
    "    result = []\n",
    "    if (fields is None):\n",
    "        fields = get_cat_cols(data_prep=data_prep)\n",
    "    \n",
    "    for field in fields:\n",
    "        new_df = get_part_dep_one_list(df=df, data_prep=data_prep, \n",
    "                                       learn=learn, bs=bs, fields=field, to_int=to_int, \n",
    "                                       dep_name=dep_name, coef=coef, is_sorted=is_sorted)\n",
    "        new_df['feature'] = str(field)\n",
    "        new_df = new_df.rename(index=str, columns={str(field): \"value\"})\n",
    "        result.append(new_df) \n",
    "    clear_pbar()\n",
    "    result = pd.concat(result, ignore_index=True)\n",
    "    result = result[['feature', 'value', dep_name, 'times']]\n",
    "    \n",
    "    return result\n",
    "\n",
    "part_dep_multi = partial(get_part_dep_one_list, df=df, data_prep=data_pre, learn=learn, bs=BS,\n",
    "                to_int=True, dep_name=dep_var)"
   ]
  },
  {
   "cell_type": "code",
   "execution_count": 96,
   "metadata": {
    "ExecuteTime": {
     "end_time": "2019-04-25T14:17:52.879097Z",
     "start_time": "2019-04-25T14:17:52.609237Z"
    }
   },
   "outputs": [
    {
     "data": {
      "text/plain": [
       "[('Store', 1115),\n",
       " ('DayOfWeek', 7),\n",
       " ('Year', 3),\n",
       " ('Month', 12),\n",
       " ('Day', 31),\n",
       " ('StateHoliday', 2),\n",
       " ('CompetitionMonthsOpen', 25),\n",
       " ('Promo2Weeks', 26),\n",
       " ('StoreType', 4),\n",
       " ('Assortment', 3),\n",
       " ('PromoInterval', 4),\n",
       " ('CompetitionOpenSinceYear', 23),\n",
       " ('Promo2SinceYear', 8),\n",
       " ('State', 12),\n",
       " ('Week', 52),\n",
       " ('Events', 22),\n",
       " ('Promo_fw', 6),\n",
       " ('Promo_bw', 6),\n",
       " ('StateHoliday_fw', 3),\n",
       " ('StateHoliday_bw', 3),\n",
       " ('SchoolHoliday_fw', 8),\n",
       " ('SchoolHoliday_bw', 8)]"
      ]
     },
     "execution_count": 96,
     "metadata": {},
     "output_type": "execute_result"
    }
   ],
   "source": [
    "[(cat, len(df[cat].unique())) for cat in cat_vars_tpl]"
   ]
  },
  {
   "cell_type": "code",
   "execution_count": 268,
   "metadata": {
    "ExecuteTime": {
     "end_time": "2019-04-25T16:46:40.944500Z",
     "start_time": "2019-04-25T16:23:31.438335Z"
    },
    "scrolled": true
   },
   "outputs": [
    {
     "data": {
      "text/html": [
       "<div>\n",
       "<style scoped>\n",
       "    .dataframe tbody tr th:only-of-type {\n",
       "        vertical-align: middle;\n",
       "    }\n",
       "\n",
       "    .dataframe tbody tr th {\n",
       "        vertical-align: top;\n",
       "    }\n",
       "\n",
       "    .dataframe thead th {\n",
       "        text-align: right;\n",
       "    }\n",
       "</style>\n",
       "<table border=\"1\" class=\"dataframe\">\n",
       "  <thead>\n",
       "    <tr style=\"text-align: right;\">\n",
       "      <th></th>\n",
       "      <th>feature</th>\n",
       "      <th>value</th>\n",
       "      <th>Sales</th>\n",
       "    </tr>\n",
       "  </thead>\n",
       "  <tbody>\n",
       "    <tr>\n",
       "      <th>0</th>\n",
       "      <td>Store</td>\n",
       "      <td>262</td>\n",
       "      <td>1.695036</td>\n",
       "    </tr>\n",
       "    <tr>\n",
       "      <th>1</th>\n",
       "      <td>Store</td>\n",
       "      <td>562</td>\n",
       "      <td>1.679361</td>\n",
       "    </tr>\n",
       "    <tr>\n",
       "      <th>2</th>\n",
       "      <td>Store</td>\n",
       "      <td>733</td>\n",
       "      <td>1.393489</td>\n",
       "    </tr>\n",
       "    <tr>\n",
       "      <th>3</th>\n",
       "      <td>Store</td>\n",
       "      <td>335</td>\n",
       "      <td>1.335410</td>\n",
       "    </tr>\n",
       "    <tr>\n",
       "      <th>4</th>\n",
       "      <td>Store</td>\n",
       "      <td>259</td>\n",
       "      <td>1.113947</td>\n",
       "    </tr>\n",
       "    <tr>\n",
       "      <th>5</th>\n",
       "      <td>Store</td>\n",
       "      <td>682</td>\n",
       "      <td>1.089731</td>\n",
       "    </tr>\n",
       "    <tr>\n",
       "      <th>6</th>\n",
       "      <td>Store</td>\n",
       "      <td>769</td>\n",
       "      <td>1.038686</td>\n",
       "    </tr>\n",
       "    <tr>\n",
       "      <th>7</th>\n",
       "      <td>Store</td>\n",
       "      <td>423</td>\n",
       "      <td>1.008039</td>\n",
       "    </tr>\n",
       "    <tr>\n",
       "      <th>8</th>\n",
       "      <td>Store</td>\n",
       "      <td>578</td>\n",
       "      <td>1.000000</td>\n",
       "    </tr>\n",
       "    <tr>\n",
       "      <th>9</th>\n",
       "      <td>Store</td>\n",
       "      <td>1097</td>\n",
       "      <td>0.919916</td>\n",
       "    </tr>\n",
       "    <tr>\n",
       "      <th>10</th>\n",
       "      <td>Store</td>\n",
       "      <td>494</td>\n",
       "      <td>0.772006</td>\n",
       "    </tr>\n",
       "    <tr>\n",
       "      <th>11</th>\n",
       "      <td>Store</td>\n",
       "      <td>676</td>\n",
       "      <td>0.701869</td>\n",
       "    </tr>\n",
       "    <tr>\n",
       "      <th>12</th>\n",
       "      <td>Store</td>\n",
       "      <td>85</td>\n",
       "      <td>0.653537</td>\n",
       "    </tr>\n",
       "    <tr>\n",
       "      <th>13</th>\n",
       "      <td>Store</td>\n",
       "      <td>948</td>\n",
       "      <td>0.643187</td>\n",
       "    </tr>\n",
       "    <tr>\n",
       "      <th>14</th>\n",
       "      <td>Store</td>\n",
       "      <td>353</td>\n",
       "      <td>0.565012</td>\n",
       "    </tr>\n",
       "    <tr>\n",
       "      <th>15</th>\n",
       "      <td>Store</td>\n",
       "      <td>530</td>\n",
       "      <td>0.469353</td>\n",
       "    </tr>\n",
       "    <tr>\n",
       "      <th>16</th>\n",
       "      <td>Store</td>\n",
       "      <td>274</td>\n",
       "      <td>0.367665</td>\n",
       "    </tr>\n",
       "    <tr>\n",
       "      <th>17</th>\n",
       "      <td>DayOfWeek</td>\n",
       "      <td>1</td>\n",
       "      <td>1.051140</td>\n",
       "    </tr>\n",
       "    <tr>\n",
       "      <th>18</th>\n",
       "      <td>DayOfWeek</td>\n",
       "      <td>5</td>\n",
       "      <td>1.030130</td>\n",
       "    </tr>\n",
       "    <tr>\n",
       "      <th>19</th>\n",
       "      <td>DayOfWeek</td>\n",
       "      <td>2</td>\n",
       "      <td>1.014169</td>\n",
       "    </tr>\n",
       "    <tr>\n",
       "      <th>20</th>\n",
       "      <td>DayOfWeek</td>\n",
       "      <td>4</td>\n",
       "      <td>1.000000</td>\n",
       "    </tr>\n",
       "    <tr>\n",
       "      <th>21</th>\n",
       "      <td>DayOfWeek</td>\n",
       "      <td>6</td>\n",
       "      <td>0.999837</td>\n",
       "    </tr>\n",
       "    <tr>\n",
       "      <th>22</th>\n",
       "      <td>DayOfWeek</td>\n",
       "      <td>3</td>\n",
       "      <td>0.995928</td>\n",
       "    </tr>\n",
       "    <tr>\n",
       "      <th>23</th>\n",
       "      <td>DayOfWeek</td>\n",
       "      <td>7</td>\n",
       "      <td>0.936482</td>\n",
       "    </tr>\n",
       "    <tr>\n",
       "      <th>24</th>\n",
       "      <td>Year</td>\n",
       "      <td>2015</td>\n",
       "      <td>1.001100</td>\n",
       "    </tr>\n",
       "    <tr>\n",
       "      <th>25</th>\n",
       "      <td>Year</td>\n",
       "      <td>2014</td>\n",
       "      <td>1.000000</td>\n",
       "    </tr>\n",
       "    <tr>\n",
       "      <th>26</th>\n",
       "      <td>Year</td>\n",
       "      <td>2013</td>\n",
       "      <td>0.993560</td>\n",
       "    </tr>\n",
       "    <tr>\n",
       "      <th>27</th>\n",
       "      <td>Month</td>\n",
       "      <td>12</td>\n",
       "      <td>1.036550</td>\n",
       "    </tr>\n",
       "    <tr>\n",
       "      <th>28</th>\n",
       "      <td>Month</td>\n",
       "      <td>11</td>\n",
       "      <td>1.011655</td>\n",
       "    </tr>\n",
       "    <tr>\n",
       "      <th>29</th>\n",
       "      <td>Month</td>\n",
       "      <td>6</td>\n",
       "      <td>1.007532</td>\n",
       "    </tr>\n",
       "    <tr>\n",
       "      <th>...</th>\n",
       "      <td>...</td>\n",
       "      <td>...</td>\n",
       "      <td>...</td>\n",
       "    </tr>\n",
       "    <tr>\n",
       "      <th>241</th>\n",
       "      <td>Promo_fw</td>\n",
       "      <td>3</td>\n",
       "      <td>0.992931</td>\n",
       "    </tr>\n",
       "    <tr>\n",
       "      <th>242</th>\n",
       "      <td>Promo_fw</td>\n",
       "      <td>1</td>\n",
       "      <td>0.983242</td>\n",
       "    </tr>\n",
       "    <tr>\n",
       "      <th>243</th>\n",
       "      <td>Promo_fw</td>\n",
       "      <td>2</td>\n",
       "      <td>0.983083</td>\n",
       "    </tr>\n",
       "    <tr>\n",
       "      <th>244</th>\n",
       "      <td>Promo_bw</td>\n",
       "      <td>1</td>\n",
       "      <td>1.007747</td>\n",
       "    </tr>\n",
       "    <tr>\n",
       "      <th>245</th>\n",
       "      <td>Promo_bw</td>\n",
       "      <td>0</td>\n",
       "      <td>1.007273</td>\n",
       "    </tr>\n",
       "    <tr>\n",
       "      <th>246</th>\n",
       "      <td>Promo_bw</td>\n",
       "      <td>5</td>\n",
       "      <td>1.005534</td>\n",
       "    </tr>\n",
       "    <tr>\n",
       "      <th>247</th>\n",
       "      <td>Promo_bw</td>\n",
       "      <td>2</td>\n",
       "      <td>0.994466</td>\n",
       "    </tr>\n",
       "    <tr>\n",
       "      <th>248</th>\n",
       "      <td>Promo_bw</td>\n",
       "      <td>3</td>\n",
       "      <td>0.981818</td>\n",
       "    </tr>\n",
       "    <tr>\n",
       "      <th>249</th>\n",
       "      <td>Promo_bw</td>\n",
       "      <td>4</td>\n",
       "      <td>0.981344</td>\n",
       "    </tr>\n",
       "    <tr>\n",
       "      <th>250</th>\n",
       "      <td>StateHoliday_fw</td>\n",
       "      <td>2</td>\n",
       "      <td>1.041038</td>\n",
       "    </tr>\n",
       "    <tr>\n",
       "      <th>251</th>\n",
       "      <td>StateHoliday_fw</td>\n",
       "      <td>1</td>\n",
       "      <td>1.000000</td>\n",
       "    </tr>\n",
       "    <tr>\n",
       "      <th>252</th>\n",
       "      <td>StateHoliday_fw</td>\n",
       "      <td>0</td>\n",
       "      <td>0.983833</td>\n",
       "    </tr>\n",
       "    <tr>\n",
       "      <th>253</th>\n",
       "      <td>StateHoliday_bw</td>\n",
       "      <td>2</td>\n",
       "      <td>1.015775</td>\n",
       "    </tr>\n",
       "    <tr>\n",
       "      <th>254</th>\n",
       "      <td>StateHoliday_bw</td>\n",
       "      <td>1</td>\n",
       "      <td>1.000000</td>\n",
       "    </tr>\n",
       "    <tr>\n",
       "      <th>255</th>\n",
       "      <td>StateHoliday_bw</td>\n",
       "      <td>0</td>\n",
       "      <td>0.978348</td>\n",
       "    </tr>\n",
       "    <tr>\n",
       "      <th>256</th>\n",
       "      <td>SchoolHoliday_fw</td>\n",
       "      <td>3</td>\n",
       "      <td>1.009357</td>\n",
       "    </tr>\n",
       "    <tr>\n",
       "      <th>257</th>\n",
       "      <td>SchoolHoliday_fw</td>\n",
       "      <td>1</td>\n",
       "      <td>1.003119</td>\n",
       "    </tr>\n",
       "    <tr>\n",
       "      <th>258</th>\n",
       "      <td>SchoolHoliday_fw</td>\n",
       "      <td>2</td>\n",
       "      <td>1.001248</td>\n",
       "    </tr>\n",
       "    <tr>\n",
       "      <th>259</th>\n",
       "      <td>SchoolHoliday_fw</td>\n",
       "      <td>4</td>\n",
       "      <td>1.000000</td>\n",
       "    </tr>\n",
       "    <tr>\n",
       "      <th>260</th>\n",
       "      <td>SchoolHoliday_fw</td>\n",
       "      <td>7</td>\n",
       "      <td>0.997037</td>\n",
       "    </tr>\n",
       "    <tr>\n",
       "      <th>261</th>\n",
       "      <td>SchoolHoliday_fw</td>\n",
       "      <td>5</td>\n",
       "      <td>0.995477</td>\n",
       "    </tr>\n",
       "    <tr>\n",
       "      <th>262</th>\n",
       "      <td>SchoolHoliday_fw</td>\n",
       "      <td>0</td>\n",
       "      <td>0.990175</td>\n",
       "    </tr>\n",
       "    <tr>\n",
       "      <th>263</th>\n",
       "      <td>SchoolHoliday_bw</td>\n",
       "      <td>1</td>\n",
       "      <td>1.007620</td>\n",
       "    </tr>\n",
       "    <tr>\n",
       "      <th>264</th>\n",
       "      <td>SchoolHoliday_bw</td>\n",
       "      <td>0</td>\n",
       "      <td>1.003221</td>\n",
       "    </tr>\n",
       "    <tr>\n",
       "      <th>265</th>\n",
       "      <td>SchoolHoliday_bw</td>\n",
       "      <td>4</td>\n",
       "      <td>1.002907</td>\n",
       "    </tr>\n",
       "    <tr>\n",
       "      <th>266</th>\n",
       "      <td>SchoolHoliday_bw</td>\n",
       "      <td>2</td>\n",
       "      <td>1.000707</td>\n",
       "    </tr>\n",
       "    <tr>\n",
       "      <th>267</th>\n",
       "      <td>SchoolHoliday_bw</td>\n",
       "      <td>3</td>\n",
       "      <td>0.999293</td>\n",
       "    </tr>\n",
       "    <tr>\n",
       "      <th>268</th>\n",
       "      <td>SchoolHoliday_bw</td>\n",
       "      <td>6</td>\n",
       "      <td>0.990337</td>\n",
       "    </tr>\n",
       "    <tr>\n",
       "      <th>269</th>\n",
       "      <td>SchoolHoliday_bw</td>\n",
       "      <td>7</td>\n",
       "      <td>0.985781</td>\n",
       "    </tr>\n",
       "    <tr>\n",
       "      <th>270</th>\n",
       "      <td>SchoolHoliday_bw</td>\n",
       "      <td>5</td>\n",
       "      <td>0.984052</td>\n",
       "    </tr>\n",
       "  </tbody>\n",
       "</table>\n",
       "<p>271 rows × 3 columns</p>\n",
       "</div>"
      ],
      "text/plain": [
       "              feature value     Sales\n",
       "0               Store   262  1.695036\n",
       "1               Store   562  1.679361\n",
       "2               Store   733  1.393489\n",
       "3               Store   335  1.335410\n",
       "4               Store   259  1.113947\n",
       "5               Store   682  1.089731\n",
       "6               Store   769  1.038686\n",
       "7               Store   423  1.008039\n",
       "8               Store   578  1.000000\n",
       "9               Store  1097  0.919916\n",
       "10              Store   494  0.772006\n",
       "11              Store   676  0.701869\n",
       "12              Store    85  0.653537\n",
       "13              Store   948  0.643187\n",
       "14              Store   353  0.565012\n",
       "15              Store   530  0.469353\n",
       "16              Store   274  0.367665\n",
       "17          DayOfWeek     1  1.051140\n",
       "18          DayOfWeek     5  1.030130\n",
       "19          DayOfWeek     2  1.014169\n",
       "20          DayOfWeek     4  1.000000\n",
       "21          DayOfWeek     6  0.999837\n",
       "22          DayOfWeek     3  0.995928\n",
       "23          DayOfWeek     7  0.936482\n",
       "24               Year  2015  1.001100\n",
       "25               Year  2014  1.000000\n",
       "26               Year  2013  0.993560\n",
       "27              Month    12  1.036550\n",
       "28              Month    11  1.011655\n",
       "29              Month     6  1.007532\n",
       "..                ...   ...       ...\n",
       "241          Promo_fw     3  0.992931\n",
       "242          Promo_fw     1  0.983242\n",
       "243          Promo_fw     2  0.983083\n",
       "244          Promo_bw     1  1.007747\n",
       "245          Promo_bw     0  1.007273\n",
       "246          Promo_bw     5  1.005534\n",
       "247          Promo_bw     2  0.994466\n",
       "248          Promo_bw     3  0.981818\n",
       "249          Promo_bw     4  0.981344\n",
       "250   StateHoliday_fw     2  1.041038\n",
       "251   StateHoliday_fw     1  1.000000\n",
       "252   StateHoliday_fw     0  0.983833\n",
       "253   StateHoliday_bw     2  1.015775\n",
       "254   StateHoliday_bw     1  1.000000\n",
       "255   StateHoliday_bw     0  0.978348\n",
       "256  SchoolHoliday_fw     3  1.009357\n",
       "257  SchoolHoliday_fw     1  1.003119\n",
       "258  SchoolHoliday_fw     2  1.001248\n",
       "259  SchoolHoliday_fw     4  1.000000\n",
       "260  SchoolHoliday_fw     7  0.997037\n",
       "261  SchoolHoliday_fw     5  0.995477\n",
       "262  SchoolHoliday_fw     0  0.990175\n",
       "263  SchoolHoliday_bw     1  1.007620\n",
       "264  SchoolHoliday_bw     0  1.003221\n",
       "265  SchoolHoliday_bw     4  1.002907\n",
       "266  SchoolHoliday_bw     2  1.000707\n",
       "267  SchoolHoliday_bw     3  0.999293\n",
       "268  SchoolHoliday_bw     6  0.990337\n",
       "269  SchoolHoliday_bw     7  0.985781\n",
       "270  SchoolHoliday_bw     5  0.984052\n",
       "\n",
       "[271 rows x 3 columns]"
      ]
     },
     "execution_count": 268,
     "metadata": {},
     "output_type": "execute_result"
    }
   ],
   "source": [
    "#Takes me 23 min to run\n",
    "prt_dep_all = get_part_dep(df=df, data_prep=data_pre, learn=learn, bs=BS, coef=900, \n",
    "             to_int=True, dep_name=dep_var, is_sorted=True)\n",
    "prt_dep_all"
   ]
  },
  {
   "cell_type": "code",
   "execution_count": 273,
   "metadata": {
    "ExecuteTime": {
     "end_time": "2019-04-25T16:48:59.679288Z",
     "start_time": "2019-04-25T16:48:59.585203Z"
    }
   },
   "outputs": [],
   "source": [
    "f = open(path/\"prt_dep_900.pkl\",\"wb\")\n",
    "pickle.dump(prt_dep_all,f)\n",
    "f.close()"
   ]
  },
  {
   "cell_type": "code",
   "execution_count": 40,
   "metadata": {
    "ExecuteTime": {
     "end_time": "2019-04-26T18:21:19.993789Z",
     "start_time": "2019-04-26T18:21:19.960383Z"
    }
   },
   "outputs": [],
   "source": [
    "f = open(path/\"prt_dep_900.pkl\",\"rb\")\n",
    "prt_dep_all = pickle.load(f)\n",
    "f.close()"
   ]
  },
  {
   "cell_type": "code",
   "execution_count": 299,
   "metadata": {
    "ExecuteTime": {
     "end_time": "2019-04-25T17:14:20.745773Z",
     "start_time": "2019-04-25T17:14:20.687088Z"
    },
    "scrolled": true
   },
   "outputs": [
    {
     "data": {
      "text/html": [
       "<div>\n",
       "<style scoped>\n",
       "    .dataframe tbody tr th:only-of-type {\n",
       "        vertical-align: middle;\n",
       "    }\n",
       "\n",
       "    .dataframe tbody tr th {\n",
       "        vertical-align: top;\n",
       "    }\n",
       "\n",
       "    .dataframe thead th {\n",
       "        text-align: right;\n",
       "    }\n",
       "</style>\n",
       "<table border=\"1\" class=\"dataframe\">\n",
       "  <thead>\n",
       "    <tr style=\"text-align: right;\">\n",
       "      <th></th>\n",
       "      <th>feature</th>\n",
       "      <th>value</th>\n",
       "      <th>Sales</th>\n",
       "    </tr>\n",
       "  </thead>\n",
       "  <tbody>\n",
       "    <tr>\n",
       "      <th>162</th>\n",
       "      <td>State</td>\n",
       "      <td>BE</td>\n",
       "      <td>1.030859</td>\n",
       "    </tr>\n",
       "    <tr>\n",
       "      <th>163</th>\n",
       "      <td>State</td>\n",
       "      <td>NW</td>\n",
       "      <td>1.010445</td>\n",
       "    </tr>\n",
       "    <tr>\n",
       "      <th>164</th>\n",
       "      <td>State</td>\n",
       "      <td>HB,NI</td>\n",
       "      <td>1.009495</td>\n",
       "    </tr>\n",
       "    <tr>\n",
       "      <th>165</th>\n",
       "      <td>State</td>\n",
       "      <td>HH</td>\n",
       "      <td>1.007121</td>\n",
       "    </tr>\n",
       "    <tr>\n",
       "      <th>166</th>\n",
       "      <td>State</td>\n",
       "      <td>SN</td>\n",
       "      <td>1.006014</td>\n",
       "    </tr>\n",
       "    <tr>\n",
       "      <th>167</th>\n",
       "      <td>State</td>\n",
       "      <td>TH</td>\n",
       "      <td>1.000791</td>\n",
       "    </tr>\n",
       "    <tr>\n",
       "      <th>168</th>\n",
       "      <td>State</td>\n",
       "      <td>BY</td>\n",
       "      <td>0.999209</td>\n",
       "    </tr>\n",
       "    <tr>\n",
       "      <th>169</th>\n",
       "      <td>State</td>\n",
       "      <td>ST</td>\n",
       "      <td>0.998892</td>\n",
       "    </tr>\n",
       "    <tr>\n",
       "      <th>170</th>\n",
       "      <td>State</td>\n",
       "      <td>SH</td>\n",
       "      <td>0.997784</td>\n",
       "    </tr>\n",
       "    <tr>\n",
       "      <th>171</th>\n",
       "      <td>State</td>\n",
       "      <td>HE</td>\n",
       "      <td>0.996044</td>\n",
       "    </tr>\n",
       "    <tr>\n",
       "      <th>172</th>\n",
       "      <td>State</td>\n",
       "      <td>RP</td>\n",
       "      <td>0.993828</td>\n",
       "    </tr>\n",
       "    <tr>\n",
       "      <th>173</th>\n",
       "      <td>State</td>\n",
       "      <td>BW</td>\n",
       "      <td>0.990821</td>\n",
       "    </tr>\n",
       "  </tbody>\n",
       "</table>\n",
       "</div>"
      ],
      "text/plain": [
       "    feature  value     Sales\n",
       "162   State     BE  1.030859\n",
       "163   State     NW  1.010445\n",
       "164   State  HB,NI  1.009495\n",
       "165   State     HH  1.007121\n",
       "166   State     SN  1.006014\n",
       "167   State     TH  1.000791\n",
       "168   State     BY  0.999209\n",
       "169   State     ST  0.998892\n",
       "170   State     SH  0.997784\n",
       "171   State     HE  0.996044\n",
       "172   State     RP  0.993828\n",
       "173   State     BW  0.990821"
      ]
     },
     "execution_count": 299,
     "metadata": {},
     "output_type": "execute_result"
    }
   ],
   "source": [
    "prt_dep_all.query(\"feature == 'State'\")"
   ]
  },
  {
   "cell_type": "markdown",
   "metadata": {},
   "source": [
    "This is a plot of how column 'Day' *alone* affects Sales  \n",
    "Also remember that it should be 'multiplied' to the 'importance' of this column. Here we just see how values are ordered *inside one category column*"
   ]
  },
  {
   "cell_type": "code",
   "execution_count": 288,
   "metadata": {
    "ExecuteTime": {
     "end_time": "2019-04-25T17:07:29.044644Z",
     "start_time": "2019-04-25T17:07:28.631671Z"
    },
    "scrolled": false
   },
   "outputs": [
    {
     "data": {
      "text/plain": [
       "<matplotlib.axes._subplots.AxesSubplot at 0x7f124f931dd8>"
      ]
     },
     "execution_count": 288,
     "metadata": {},
     "output_type": "execute_result"
    },
    {
     "data": {
      "image/png": "[encoded data removed]",
      "text/plain": [
       "<Figure size 720x360 with 1 Axes>"
      ]
     },
     "metadata": {
      "needs_background": "light"
     },
     "output_type": "display_data"
    }
   ],
   "source": [
    "prt_dep_all.query(\"feature == 'Day'\").sort_values('value').plot(x='value', y='Sales', kind='bar', figsize=(10,5))"
   ]
  },
  {
   "cell_type": "markdown",
   "metadata": {},
   "source": [
    "And this is a plot from data overall (with addition influence from others columns)"
   ]
  },
  {
   "cell_type": "code",
   "execution_count": 42,
   "metadata": {
    "ExecuteTime": {
     "end_time": "2019-04-26T18:22:39.904509Z",
     "start_time": "2019-04-26T18:22:38.977821Z"
    }
   },
   "outputs": [
    {
     "data": {
      "text/plain": [
       "<matplotlib.axes._subplots.AxesSubplot at 0x7f1ad0d5d630>"
      ]
     },
     "execution_count": 42,
     "metadata": {},
     "output_type": "execute_result"
    },
    {
     "data": {
      "image/png": "[encoded data removed]",
      "text/plain": [
       "<Figure size 720x360 with 1 Axes>"
      ]
     },
     "metadata": {
      "needs_background": "light"
     },
     "output_type": "display_data"
    }
   ],
   "source": [
    "df.groupby('Day').agg('median').reset_index().plot(x='Day', y='Sales', kind='bar', figsize=(10,5))"
   ]
  },
  {
   "cell_type": "markdown",
   "metadata": {},
   "source": [
    "`times` is given here as an reference to how often this particulat cagegory appears in the data. The more `times` is, the more you can be sure in result"
   ]
  },
  {
   "cell_type": "code",
   "execution_count": 250,
   "metadata": {
    "ExecuteTime": {
     "end_time": "2019-04-25T16:02:10.556911Z",
     "start_time": "2019-04-25T16:02:07.371486Z"
    },
    "scrolled": true
   },
   "outputs": [
    {
     "data": {
      "text/html": [
       "Total time: 00:02 <p>"
      ],
      "text/plain": [
       "<IPython.core.display.HTML object>"
      ]
     },
     "metadata": {},
     "output_type": "display_data"
    },
    {
     "data": {
      "text/html": [
       "<div>\n",
       "<style scoped>\n",
       "    .dataframe tbody tr th:only-of-type {\n",
       "        vertical-align: middle;\n",
       "    }\n",
       "\n",
       "    .dataframe tbody tr th {\n",
       "        vertical-align: top;\n",
       "    }\n",
       "\n",
       "    .dataframe thead th {\n",
       "        text-align: right;\n",
       "    }\n",
       "</style>\n",
       "<table border=\"1\" class=\"dataframe\">\n",
       "  <thead>\n",
       "    <tr style=\"text-align: right;\">\n",
       "      <th></th>\n",
       "      <th>Store</th>\n",
       "      <th>Sales</th>\n",
       "      <th>times</th>\n",
       "    </tr>\n",
       "  </thead>\n",
       "  <tbody>\n",
       "    <tr>\n",
       "      <th>4</th>\n",
       "      <td>262</td>\n",
       "      <td>1.695036</td>\n",
       "      <td>942</td>\n",
       "    </tr>\n",
       "    <tr>\n",
       "      <th>3</th>\n",
       "      <td>562</td>\n",
       "      <td>1.679361</td>\n",
       "      <td>942</td>\n",
       "    </tr>\n",
       "    <tr>\n",
       "      <th>5</th>\n",
       "      <td>733</td>\n",
       "      <td>1.393489</td>\n",
       "      <td>942</td>\n",
       "    </tr>\n",
       "    <tr>\n",
       "      <th>8</th>\n",
       "      <td>335</td>\n",
       "      <td>1.335410</td>\n",
       "      <td>942</td>\n",
       "    </tr>\n",
       "    <tr>\n",
       "      <th>11</th>\n",
       "      <td>259</td>\n",
       "      <td>1.113947</td>\n",
       "      <td>931</td>\n",
       "    </tr>\n",
       "    <tr>\n",
       "      <th>7</th>\n",
       "      <td>682</td>\n",
       "      <td>1.089731</td>\n",
       "      <td>942</td>\n",
       "    </tr>\n",
       "    <tr>\n",
       "      <th>0</th>\n",
       "      <td>769</td>\n",
       "      <td>1.038686</td>\n",
       "      <td>942</td>\n",
       "    </tr>\n",
       "    <tr>\n",
       "      <th>9</th>\n",
       "      <td>423</td>\n",
       "      <td>1.008039</td>\n",
       "      <td>942</td>\n",
       "    </tr>\n",
       "    <tr>\n",
       "      <th>16</th>\n",
       "      <td>578</td>\n",
       "      <td>1.000000</td>\n",
       "      <td>901</td>\n",
       "    </tr>\n",
       "    <tr>\n",
       "      <th>1</th>\n",
       "      <td>1097</td>\n",
       "      <td>0.919916</td>\n",
       "      <td>942</td>\n",
       "    </tr>\n",
       "    <tr>\n",
       "      <th>6</th>\n",
       "      <td>494</td>\n",
       "      <td>0.772006</td>\n",
       "      <td>942</td>\n",
       "    </tr>\n",
       "    <tr>\n",
       "      <th>14</th>\n",
       "      <td>676</td>\n",
       "      <td>0.701869</td>\n",
       "      <td>918</td>\n",
       "    </tr>\n",
       "    <tr>\n",
       "      <th>2</th>\n",
       "      <td>85</td>\n",
       "      <td>0.653537</td>\n",
       "      <td>942</td>\n",
       "    </tr>\n",
       "    <tr>\n",
       "      <th>13</th>\n",
       "      <td>948</td>\n",
       "      <td>0.643187</td>\n",
       "      <td>927</td>\n",
       "    </tr>\n",
       "    <tr>\n",
       "      <th>12</th>\n",
       "      <td>353</td>\n",
       "      <td>0.565012</td>\n",
       "      <td>930</td>\n",
       "    </tr>\n",
       "    <tr>\n",
       "      <th>15</th>\n",
       "      <td>530</td>\n",
       "      <td>0.469353</td>\n",
       "      <td>906</td>\n",
       "    </tr>\n",
       "    <tr>\n",
       "      <th>10</th>\n",
       "      <td>274</td>\n",
       "      <td>0.367665</td>\n",
       "      <td>932</td>\n",
       "    </tr>\n",
       "  </tbody>\n",
       "</table>\n",
       "</div>"
      ],
      "text/plain": [
       "    Store     Sales  times\n",
       "4     262  1.695036    942\n",
       "3     562  1.679361    942\n",
       "5     733  1.393489    942\n",
       "8     335  1.335410    942\n",
       "11    259  1.113947    931\n",
       "7     682  1.089731    942\n",
       "0     769  1.038686    942\n",
       "9     423  1.008039    942\n",
       "16    578  1.000000    901\n",
       "1    1097  0.919916    942\n",
       "6     494  0.772006    942\n",
       "14    676  0.701869    918\n",
       "2      85  0.653537    942\n",
       "13    948  0.643187    927\n",
       "12    353  0.565012    930\n",
       "15    530  0.469353    906\n",
       "10    274  0.367665    932"
      ]
     },
     "execution_count": 250,
     "metadata": {},
     "output_type": "execute_result"
    }
   ],
   "source": [
    "part_dep_multi(fields='Store', coef=900)"
   ]
  },
  {
   "cell_type": "code",
   "execution_count": 243,
   "metadata": {
    "ExecuteTime": {
     "end_time": "2019-04-25T15:56:23.846832Z",
     "start_time": "2019-04-25T15:55:59.883775Z"
    }
   },
   "outputs": [
    {
     "data": {
      "text/html": [
       "Total time: 00:22 <p>"
      ],
      "text/plain": [
       "<IPython.core.display.HTML object>"
      ]
     },
     "metadata": {},
     "output_type": "display_data"
    },
    {
     "data": {
      "text/html": [
       "<div>\n",
       "<style scoped>\n",
       "    .dataframe tbody tr th:only-of-type {\n",
       "        vertical-align: middle;\n",
       "    }\n",
       "\n",
       "    .dataframe tbody tr th {\n",
       "        vertical-align: top;\n",
       "    }\n",
       "\n",
       "    .dataframe thead th {\n",
       "        text-align: right;\n",
       "    }\n",
       "</style>\n",
       "<table border=\"1\" class=\"dataframe\">\n",
       "  <thead>\n",
       "    <tr style=\"text-align: right;\">\n",
       "      <th></th>\n",
       "      <th>StoreType</th>\n",
       "      <th>Sales</th>\n",
       "      <th>times</th>\n",
       "    </tr>\n",
       "  </thead>\n",
       "  <tbody>\n",
       "    <tr>\n",
       "      <th>3</th>\n",
       "      <td>b</td>\n",
       "      <td>1.031688</td>\n",
       "      <td>15560</td>\n",
       "    </tr>\n",
       "    <tr>\n",
       "      <th>0</th>\n",
       "      <td>a</td>\n",
       "      <td>1.000000</td>\n",
       "      <td>457042</td>\n",
       "    </tr>\n",
       "    <tr>\n",
       "      <th>2</th>\n",
       "      <td>c</td>\n",
       "      <td>1.000000</td>\n",
       "      <td>112968</td>\n",
       "    </tr>\n",
       "    <tr>\n",
       "      <th>1</th>\n",
       "      <td>d</td>\n",
       "      <td>0.999527</td>\n",
       "      <td>258768</td>\n",
       "    </tr>\n",
       "  </tbody>\n",
       "</table>\n",
       "</div>"
      ],
      "text/plain": [
       "  StoreType     Sales   times\n",
       "3         b  1.031688   15560\n",
       "0         a  1.000000  457042\n",
       "2         c  1.000000  112968\n",
       "1         d  0.999527  258768"
      ]
     },
     "execution_count": 243,
     "metadata": {},
     "output_type": "execute_result"
    }
   ],
   "source": [
    "part_dep_multi(fields='StoreType', coef=1)"
   ]
  },
  {
   "cell_type": "code",
   "execution_count": 244,
   "metadata": {
    "ExecuteTime": {
     "end_time": "2019-04-25T15:56:48.356834Z",
     "start_time": "2019-04-25T15:56:32.292977Z"
    }
   },
   "outputs": [
    {
     "data": {
      "text/html": [
       "Total time: 00:15 <p>"
      ],
      "text/plain": [
       "<IPython.core.display.HTML object>"
      ]
     },
     "metadata": {},
     "output_type": "display_data"
    },
    {
     "data": {
      "text/html": [
       "<div>\n",
       "<style scoped>\n",
       "    .dataframe tbody tr th:only-of-type {\n",
       "        vertical-align: middle;\n",
       "    }\n",
       "\n",
       "    .dataframe tbody tr th {\n",
       "        vertical-align: top;\n",
       "    }\n",
       "\n",
       "    .dataframe thead th {\n",
       "        text-align: right;\n",
       "    }\n",
       "</style>\n",
       "<table border=\"1\" class=\"dataframe\">\n",
       "  <thead>\n",
       "    <tr style=\"text-align: right;\">\n",
       "      <th></th>\n",
       "      <th>DayOfWeek</th>\n",
       "      <th>Sales</th>\n",
       "      <th>times</th>\n",
       "    </tr>\n",
       "  </thead>\n",
       "  <tbody>\n",
       "    <tr>\n",
       "      <th>3</th>\n",
       "      <td>5</td>\n",
       "      <td>1.029383</td>\n",
       "      <td>138633</td>\n",
       "    </tr>\n",
       "    <tr>\n",
       "      <th>1</th>\n",
       "      <td>2</td>\n",
       "      <td>1.005447</td>\n",
       "      <td>143955</td>\n",
       "    </tr>\n",
       "    <tr>\n",
       "      <th>0</th>\n",
       "      <td>6</td>\n",
       "      <td>0.994553</td>\n",
       "      <td>144052</td>\n",
       "    </tr>\n",
       "    <tr>\n",
       "      <th>2</th>\n",
       "      <td>3</td>\n",
       "      <td>0.988775</td>\n",
       "      <td>141922</td>\n",
       "    </tr>\n",
       "  </tbody>\n",
       "</table>\n",
       "</div>"
      ],
      "text/plain": [
       "   DayOfWeek     Sales   times\n",
       "3          5  1.029383  138633\n",
       "1          2  1.005447  143955\n",
       "0          6  0.994553  144052\n",
       "2          3  0.988775  141922"
      ]
     },
     "execution_count": 244,
     "metadata": {},
     "output_type": "execute_result"
    }
   ],
   "source": [
    "part_dep_multi(fields='DayOfWeek')"
   ]
  },
  {
   "cell_type": "code",
   "execution_count": 183,
   "metadata": {
    "ExecuteTime": {
     "end_time": "2019-04-25T15:05:43.314072Z",
     "start_time": "2019-04-25T15:04:36.006641Z"
    },
    "scrolled": true
   },
   "outputs": [
    {
     "data": {
      "text/html": [
       "<div>\n",
       "<style scoped>\n",
       "    .dataframe tbody tr th:only-of-type {\n",
       "        vertical-align: middle;\n",
       "    }\n",
       "\n",
       "    .dataframe tbody tr th {\n",
       "        vertical-align: top;\n",
       "    }\n",
       "\n",
       "    .dataframe thead th {\n",
       "        text-align: right;\n",
       "    }\n",
       "</style>\n",
       "<table border=\"1\" class=\"dataframe\">\n",
       "  <thead>\n",
       "    <tr style=\"text-align: right;\">\n",
       "      <th></th>\n",
       "      <th>State</th>\n",
       "      <th>Sales</th>\n",
       "      <th>times</th>\n",
       "    </tr>\n",
       "  </thead>\n",
       "  <tbody>\n",
       "    <tr>\n",
       "      <th>4</th>\n",
       "      <td>BE</td>\n",
       "      <td>1.034057</td>\n",
       "      <td>72353</td>\n",
       "    </tr>\n",
       "    <tr>\n",
       "      <th>11</th>\n",
       "      <td>HB,NI</td>\n",
       "      <td>1.015365</td>\n",
       "      <td>17404</td>\n",
       "    </tr>\n",
       "    <tr>\n",
       "      <th>10</th>\n",
       "      <td>HH</td>\n",
       "      <td>1.014732</td>\n",
       "      <td>22107</td>\n",
       "    </tr>\n",
       "    <tr>\n",
       "      <th>0</th>\n",
       "      <td>NW</td>\n",
       "      <td>1.011088</td>\n",
       "      <td>222930</td>\n",
       "    </tr>\n",
       "    <tr>\n",
       "      <th>1</th>\n",
       "      <td>BY</td>\n",
       "      <td>1.004277</td>\n",
       "      <td>111959</td>\n",
       "    </tr>\n",
       "    <tr>\n",
       "      <th>2</th>\n",
       "      <td>SH</td>\n",
       "      <td>1.002851</td>\n",
       "      <td>91704</td>\n",
       "    </tr>\n",
       "    <tr>\n",
       "      <th>3</th>\n",
       "      <td>HE</td>\n",
       "      <td>0.997149</td>\n",
       "      <td>87730</td>\n",
       "    </tr>\n",
       "    <tr>\n",
       "      <th>5</th>\n",
       "      <td>SN</td>\n",
       "      <td>0.996990</td>\n",
       "      <td>58352</td>\n",
       "    </tr>\n",
       "    <tr>\n",
       "      <th>6</th>\n",
       "      <td>BW</td>\n",
       "      <td>0.994931</td>\n",
       "      <td>56866</td>\n",
       "    </tr>\n",
       "    <tr>\n",
       "      <th>8</th>\n",
       "      <td>RP</td>\n",
       "      <td>0.993822</td>\n",
       "      <td>31242</td>\n",
       "    </tr>\n",
       "    <tr>\n",
       "      <th>9</th>\n",
       "      <td>TH</td>\n",
       "      <td>0.990496</td>\n",
       "      <td>28136</td>\n",
       "    </tr>\n",
       "    <tr>\n",
       "      <th>7</th>\n",
       "      <td>ST</td>\n",
       "      <td>0.987486</td>\n",
       "      <td>43555</td>\n",
       "    </tr>\n",
       "  </tbody>\n",
       "</table>\n",
       "</div>"
      ],
      "text/plain": [
       "    State     Sales   times\n",
       "4      BE  1.034057   72353\n",
       "11  HB,NI  1.015365   17404\n",
       "10     HH  1.014732   22107\n",
       "0      NW  1.011088  222930\n",
       "1      BY  1.004277  111959\n",
       "2      SH  1.002851   91704\n",
       "3      HE  0.997149   87730\n",
       "5      SN  0.996990   58352\n",
       "6      BW  0.994931   56866\n",
       "8      RP  0.993822   31242\n",
       "9      TH  0.990496   28136\n",
       "7      ST  0.987486   43555"
      ]
     },
     "execution_count": 183,
     "metadata": {},
     "output_type": "execute_result"
    }
   ],
   "source": [
    "part_dep_multi(fields='State')"
   ]
  },
  {
   "cell_type": "code",
   "execution_count": 231,
   "metadata": {
    "ExecuteTime": {
     "end_time": "2019-04-25T15:38:01.869937Z",
     "start_time": "2019-04-25T15:31:56.085115Z"
    },
    "scrolled": true
   },
   "outputs": [
    {
     "data": {
      "text/html": [
       "Total time: 06:05 <p>"
      ],
      "text/plain": [
       "<IPython.core.display.HTML object>"
      ]
     },
     "metadata": {},
     "output_type": "display_data"
    },
    {
     "data": {
      "text/html": [
       "<div>\n",
       "<style scoped>\n",
       "    .dataframe tbody tr th:only-of-type {\n",
       "        vertical-align: middle;\n",
       "    }\n",
       "\n",
       "    .dataframe tbody tr th {\n",
       "        vertical-align: top;\n",
       "    }\n",
       "\n",
       "    .dataframe thead th {\n",
       "        text-align: right;\n",
       "    }\n",
       "</style>\n",
       "<table border=\"1\" class=\"dataframe\">\n",
       "  <thead>\n",
       "    <tr style=\"text-align: right;\">\n",
       "      <th></th>\n",
       "      <th>Store</th>\n",
       "      <th>Sales</th>\n",
       "      <th>times</th>\n",
       "    </tr>\n",
       "  </thead>\n",
       "  <tbody>\n",
       "    <tr>\n",
       "      <th>238</th>\n",
       "      <td>817</td>\n",
       "      <td>2.934314</td>\n",
       "      <td>784</td>\n",
       "    </tr>\n",
       "    <tr>\n",
       "      <th>187</th>\n",
       "      <td>1114</td>\n",
       "      <td>2.676376</td>\n",
       "      <td>784</td>\n",
       "    </tr>\n",
       "    <tr>\n",
       "      <th>4</th>\n",
       "      <td>262</td>\n",
       "      <td>2.439006</td>\n",
       "      <td>942</td>\n",
       "    </tr>\n",
       "    <tr>\n",
       "      <th>146</th>\n",
       "      <td>513</td>\n",
       "      <td>2.431649</td>\n",
       "      <td>784</td>\n",
       "    </tr>\n",
       "    <tr>\n",
       "      <th>3</th>\n",
       "      <td>562</td>\n",
       "      <td>2.350124</td>\n",
       "      <td>942</td>\n",
       "    </tr>\n",
       "    <tr>\n",
       "      <th>218</th>\n",
       "      <td>788</td>\n",
       "      <td>2.349523</td>\n",
       "      <td>784</td>\n",
       "    </tr>\n",
       "    <tr>\n",
       "      <th>152</th>\n",
       "      <td>698</td>\n",
       "      <td>2.168156</td>\n",
       "      <td>784</td>\n",
       "    </tr>\n",
       "    <tr>\n",
       "      <th>100</th>\n",
       "      <td>320</td>\n",
       "      <td>2.041288</td>\n",
       "      <td>784</td>\n",
       "    </tr>\n",
       "    <tr>\n",
       "      <th>42</th>\n",
       "      <td>595</td>\n",
       "      <td>2.036484</td>\n",
       "      <td>784</td>\n",
       "    </tr>\n",
       "    <tr>\n",
       "      <th>141</th>\n",
       "      <td>523</td>\n",
       "      <td>1.989640</td>\n",
       "      <td>784</td>\n",
       "    </tr>\n",
       "    <tr>\n",
       "      <th>211</th>\n",
       "      <td>1033</td>\n",
       "      <td>1.930336</td>\n",
       "      <td>784</td>\n",
       "    </tr>\n",
       "    <tr>\n",
       "      <th>5</th>\n",
       "      <td>733</td>\n",
       "      <td>1.906614</td>\n",
       "      <td>942</td>\n",
       "    </tr>\n",
       "    <tr>\n",
       "      <th>8</th>\n",
       "      <td>335</td>\n",
       "      <td>1.890849</td>\n",
       "      <td>942</td>\n",
       "    </tr>\n",
       "    <tr>\n",
       "      <th>133</th>\n",
       "      <td>546</td>\n",
       "      <td>1.856167</td>\n",
       "      <td>784</td>\n",
       "    </tr>\n",
       "    <tr>\n",
       "      <th>153</th>\n",
       "      <td>768</td>\n",
       "      <td>1.843255</td>\n",
       "      <td>784</td>\n",
       "    </tr>\n",
       "    <tr>\n",
       "      <th>56</th>\n",
       "      <td>211</td>\n",
       "      <td>1.669694</td>\n",
       "      <td>784</td>\n",
       "    </tr>\n",
       "    <tr>\n",
       "      <th>81</th>\n",
       "      <td>207</td>\n",
       "      <td>1.644771</td>\n",
       "      <td>784</td>\n",
       "    </tr>\n",
       "    <tr>\n",
       "      <th>223</th>\n",
       "      <td>125</td>\n",
       "      <td>1.599429</td>\n",
       "      <td>784</td>\n",
       "    </tr>\n",
       "    <tr>\n",
       "      <th>93</th>\n",
       "      <td>469</td>\n",
       "      <td>1.596277</td>\n",
       "      <td>784</td>\n",
       "    </tr>\n",
       "    <tr>\n",
       "      <th>103</th>\n",
       "      <td>432</td>\n",
       "      <td>1.558592</td>\n",
       "      <td>784</td>\n",
       "    </tr>\n",
       "    <tr>\n",
       "      <th>107</th>\n",
       "      <td>416</td>\n",
       "      <td>1.532167</td>\n",
       "      <td>784</td>\n",
       "    </tr>\n",
       "    <tr>\n",
       "      <th>7</th>\n",
       "      <td>682</td>\n",
       "      <td>1.530215</td>\n",
       "      <td>942</td>\n",
       "    </tr>\n",
       "    <tr>\n",
       "      <th>46</th>\n",
       "      <td>593</td>\n",
       "      <td>1.519856</td>\n",
       "      <td>784</td>\n",
       "    </tr>\n",
       "    <tr>\n",
       "      <th>173</th>\n",
       "      <td>914</td>\n",
       "      <td>1.514451</td>\n",
       "      <td>784</td>\n",
       "    </tr>\n",
       "    <tr>\n",
       "      <th>175</th>\n",
       "      <td>911</td>\n",
       "      <td>1.502440</td>\n",
       "      <td>784</td>\n",
       "    </tr>\n",
       "    <tr>\n",
       "      <th>186</th>\n",
       "      <td>1075</td>\n",
       "      <td>1.499137</td>\n",
       "      <td>784</td>\n",
       "    </tr>\n",
       "    <tr>\n",
       "      <th>195</th>\n",
       "      <td>1101</td>\n",
       "      <td>1.496434</td>\n",
       "      <td>784</td>\n",
       "    </tr>\n",
       "    <tr>\n",
       "      <th>95</th>\n",
       "      <td>464</td>\n",
       "      <td>1.482922</td>\n",
       "      <td>784</td>\n",
       "    </tr>\n",
       "    <tr>\n",
       "      <th>111</th>\n",
       "      <td>389</td>\n",
       "      <td>1.480970</td>\n",
       "      <td>784</td>\n",
       "    </tr>\n",
       "    <tr>\n",
       "      <th>11</th>\n",
       "      <td>259</td>\n",
       "      <td>1.470760</td>\n",
       "      <td>931</td>\n",
       "    </tr>\n",
       "    <tr>\n",
       "      <th>...</th>\n",
       "      <td>...</td>\n",
       "      <td>...</td>\n",
       "      <td>...</td>\n",
       "    </tr>\n",
       "    <tr>\n",
       "      <th>225</th>\n",
       "      <td>801</td>\n",
       "      <td>0.687486</td>\n",
       "      <td>784</td>\n",
       "    </tr>\n",
       "    <tr>\n",
       "      <th>179</th>\n",
       "      <td>874</td>\n",
       "      <td>0.686885</td>\n",
       "      <td>784</td>\n",
       "    </tr>\n",
       "    <tr>\n",
       "      <th>132</th>\n",
       "      <td>549</td>\n",
       "      <td>0.683132</td>\n",
       "      <td>784</td>\n",
       "    </tr>\n",
       "    <tr>\n",
       "      <th>163</th>\n",
       "      <td>73</td>\n",
       "      <td>0.682982</td>\n",
       "      <td>784</td>\n",
       "    </tr>\n",
       "    <tr>\n",
       "      <th>57</th>\n",
       "      <td>217</td>\n",
       "      <td>0.678177</td>\n",
       "      <td>784</td>\n",
       "    </tr>\n",
       "    <tr>\n",
       "      <th>123</th>\n",
       "      <td>569</td>\n",
       "      <td>0.675024</td>\n",
       "      <td>784</td>\n",
       "    </tr>\n",
       "    <tr>\n",
       "      <th>104</th>\n",
       "      <td>422</td>\n",
       "      <td>0.668719</td>\n",
       "      <td>784</td>\n",
       "    </tr>\n",
       "    <tr>\n",
       "      <th>240</th>\n",
       "      <td>110</td>\n",
       "      <td>0.665716</td>\n",
       "      <td>784</td>\n",
       "    </tr>\n",
       "    <tr>\n",
       "      <th>50</th>\n",
       "      <td>237</td>\n",
       "      <td>0.665115</td>\n",
       "      <td>784</td>\n",
       "    </tr>\n",
       "    <tr>\n",
       "      <th>151</th>\n",
       "      <td>554</td>\n",
       "      <td>0.658359</td>\n",
       "      <td>784</td>\n",
       "    </tr>\n",
       "    <tr>\n",
       "      <th>15</th>\n",
       "      <td>530</td>\n",
       "      <td>0.655506</td>\n",
       "      <td>906</td>\n",
       "    </tr>\n",
       "    <tr>\n",
       "      <th>166</th>\n",
       "      <td>945</td>\n",
       "      <td>0.655206</td>\n",
       "      <td>784</td>\n",
       "    </tr>\n",
       "    <tr>\n",
       "      <th>27</th>\n",
       "      <td>867</td>\n",
       "      <td>0.651903</td>\n",
       "      <td>880</td>\n",
       "    </tr>\n",
       "    <tr>\n",
       "      <th>58</th>\n",
       "      <td>622</td>\n",
       "      <td>0.647099</td>\n",
       "      <td>784</td>\n",
       "    </tr>\n",
       "    <tr>\n",
       "      <th>40</th>\n",
       "      <td>596</td>\n",
       "      <td>0.646948</td>\n",
       "      <td>784</td>\n",
       "    </tr>\n",
       "    <tr>\n",
       "      <th>144</th>\n",
       "      <td>282</td>\n",
       "      <td>0.645147</td>\n",
       "      <td>784</td>\n",
       "    </tr>\n",
       "    <tr>\n",
       "      <th>97</th>\n",
       "      <td>315</td>\n",
       "      <td>0.641694</td>\n",
       "      <td>784</td>\n",
       "    </tr>\n",
       "    <tr>\n",
       "      <th>205</th>\n",
       "      <td>1063</td>\n",
       "      <td>0.618422</td>\n",
       "      <td>784</td>\n",
       "    </tr>\n",
       "    <tr>\n",
       "      <th>161</th>\n",
       "      <td>958</td>\n",
       "      <td>0.617821</td>\n",
       "      <td>784</td>\n",
       "    </tr>\n",
       "    <tr>\n",
       "      <th>44</th>\n",
       "      <td>594</td>\n",
       "      <td>0.610014</td>\n",
       "      <td>784</td>\n",
       "    </tr>\n",
       "    <tr>\n",
       "      <th>217</th>\n",
       "      <td>811</td>\n",
       "      <td>0.604309</td>\n",
       "      <td>784</td>\n",
       "    </tr>\n",
       "    <tr>\n",
       "      <th>214</th>\n",
       "      <td>48</td>\n",
       "      <td>0.593349</td>\n",
       "      <td>784</td>\n",
       "    </tr>\n",
       "    <tr>\n",
       "      <th>134</th>\n",
       "      <td>538</td>\n",
       "      <td>0.581037</td>\n",
       "      <td>784</td>\n",
       "    </tr>\n",
       "    <tr>\n",
       "      <th>112</th>\n",
       "      <td>379</td>\n",
       "      <td>0.568426</td>\n",
       "      <td>784</td>\n",
       "    </tr>\n",
       "    <tr>\n",
       "      <th>142</th>\n",
       "      <td>520</td>\n",
       "      <td>0.560468</td>\n",
       "      <td>784</td>\n",
       "    </tr>\n",
       "    <tr>\n",
       "      <th>150</th>\n",
       "      <td>488</td>\n",
       "      <td>0.540800</td>\n",
       "      <td>784</td>\n",
       "    </tr>\n",
       "    <tr>\n",
       "      <th>28</th>\n",
       "      <td>931</td>\n",
       "      <td>0.539749</td>\n",
       "      <td>875</td>\n",
       "    </tr>\n",
       "    <tr>\n",
       "      <th>10</th>\n",
       "      <td>274</td>\n",
       "      <td>0.535545</td>\n",
       "      <td>932</td>\n",
       "    </tr>\n",
       "    <tr>\n",
       "      <th>87</th>\n",
       "      <td>558</td>\n",
       "      <td>0.493807</td>\n",
       "      <td>784</td>\n",
       "    </tr>\n",
       "    <tr>\n",
       "      <th>82</th>\n",
       "      <td>208</td>\n",
       "      <td>0.455371</td>\n",
       "      <td>784</td>\n",
       "    </tr>\n",
       "  </tbody>\n",
       "</table>\n",
       "<p>242 rows × 3 columns</p>\n",
       "</div>"
      ],
      "text/plain": [
       "     Store     Sales  times\n",
       "238    817  2.934314    784\n",
       "187   1114  2.676376    784\n",
       "4      262  2.439006    942\n",
       "146    513  2.431649    784\n",
       "3      562  2.350124    942\n",
       "218    788  2.349523    784\n",
       "152    698  2.168156    784\n",
       "100    320  2.041288    784\n",
       "42     595  2.036484    784\n",
       "141    523  1.989640    784\n",
       "211   1033  1.930336    784\n",
       "5      733  1.906614    942\n",
       "8      335  1.890849    942\n",
       "133    546  1.856167    784\n",
       "153    768  1.843255    784\n",
       "56     211  1.669694    784\n",
       "81     207  1.644771    784\n",
       "223    125  1.599429    784\n",
       "93     469  1.596277    784\n",
       "103    432  1.558592    784\n",
       "107    416  1.532167    784\n",
       "7      682  1.530215    942\n",
       "46     593  1.519856    784\n",
       "173    914  1.514451    784\n",
       "175    911  1.502440    784\n",
       "186   1075  1.499137    784\n",
       "195   1101  1.496434    784\n",
       "95     464  1.482922    784\n",
       "111    389  1.480970    784\n",
       "11     259  1.470760    931\n",
       "..     ...       ...    ...\n",
       "225    801  0.687486    784\n",
       "179    874  0.686885    784\n",
       "132    549  0.683132    784\n",
       "163     73  0.682982    784\n",
       "57     217  0.678177    784\n",
       "123    569  0.675024    784\n",
       "104    422  0.668719    784\n",
       "240    110  0.665716    784\n",
       "50     237  0.665115    784\n",
       "151    554  0.658359    784\n",
       "15     530  0.655506    906\n",
       "166    945  0.655206    784\n",
       "27     867  0.651903    880\n",
       "58     622  0.647099    784\n",
       "40     596  0.646948    784\n",
       "144    282  0.645147    784\n",
       "97     315  0.641694    784\n",
       "205   1063  0.618422    784\n",
       "161    958  0.617821    784\n",
       "44     594  0.610014    784\n",
       "217    811  0.604309    784\n",
       "214     48  0.593349    784\n",
       "134    538  0.581037    784\n",
       "112    379  0.568426    784\n",
       "142    520  0.560468    784\n",
       "150    488  0.540800    784\n",
       "28     931  0.539749    875\n",
       "10     274  0.535545    932\n",
       "87     558  0.493807    784\n",
       "82     208  0.455371    784\n",
       "\n",
       "[242 rows x 3 columns]"
      ]
     },
     "execution_count": 231,
     "metadata": {},
     "output_type": "execute_result"
    }
   ],
   "source": [
    "#Takes me 6 min to run\n",
    "part_dep_multi(fields='Store', coef=0.05)"
   ]
  },
  {
   "cell_type": "markdown",
   "metadata": {},
   "source": [
    "We also can check partial importance of not only one column, but a number of 'linked' columns. That is (linked columns where the value from one column is very (or 100%) correlated with the value in another) often the case for realworld data as we make much denormalization here.  \n",
    "Even here we see that Store number 'determines' it's type and that's why we should treat it as one entity.\n",
    "Note here are not absolute values, but the relative ones. So they cannot be compared directly (even variation in number of rows will shift the median, used here as a pivotal point) "
   ]
  },
  {
   "cell_type": "code",
   "execution_count": 44,
   "metadata": {
    "ExecuteTime": {
     "end_time": "2019-04-26T18:48:24.339947Z",
     "start_time": "2019-04-26T18:42:35.050746Z"
    },
    "scrolled": true
   },
   "outputs": [
    {
     "data": {
      "text/html": [
       "Total time: 05:48 <p>"
      ],
      "text/plain": [
       "<IPython.core.display.HTML object>"
      ]
     },
     "metadata": {},
     "output_type": "display_data"
    },
    {
     "data": {
      "text/html": [
       "<div>\n",
       "<style scoped>\n",
       "    .dataframe tbody tr th:only-of-type {\n",
       "        vertical-align: middle;\n",
       "    }\n",
       "\n",
       "    .dataframe tbody tr th {\n",
       "        vertical-align: top;\n",
       "    }\n",
       "\n",
       "    .dataframe thead th {\n",
       "        text-align: right;\n",
       "    }\n",
       "</style>\n",
       "<table border=\"1\" class=\"dataframe\">\n",
       "  <thead>\n",
       "    <tr style=\"text-align: right;\">\n",
       "      <th></th>\n",
       "      <th>Store</th>\n",
       "      <th>StoreType</th>\n",
       "      <th>Sales</th>\n",
       "      <th>times</th>\n",
       "    </tr>\n",
       "  </thead>\n",
       "  <tbody>\n",
       "    <tr>\n",
       "      <th>238</th>\n",
       "      <td>817</td>\n",
       "      <td>a</td>\n",
       "      <td>3.015124</td>\n",
       "      <td>784</td>\n",
       "    </tr>\n",
       "    <tr>\n",
       "      <th>187</th>\n",
       "      <td>1114</td>\n",
       "      <td>a</td>\n",
       "      <td>2.729280</td>\n",
       "      <td>784</td>\n",
       "    </tr>\n",
       "    <tr>\n",
       "      <th>4</th>\n",
       "      <td>262</td>\n",
       "      <td>b</td>\n",
       "      <td>2.550363</td>\n",
       "      <td>942</td>\n",
       "    </tr>\n",
       "    <tr>\n",
       "      <th>3</th>\n",
       "      <td>562</td>\n",
       "      <td>b</td>\n",
       "      <td>2.534785</td>\n",
       "      <td>942</td>\n",
       "    </tr>\n",
       "    <tr>\n",
       "      <th>146</th>\n",
       "      <td>513</td>\n",
       "      <td>a</td>\n",
       "      <td>2.484422</td>\n",
       "      <td>784</td>\n",
       "    </tr>\n",
       "    <tr>\n",
       "      <th>218</th>\n",
       "      <td>788</td>\n",
       "      <td>a</td>\n",
       "      <td>2.399123</td>\n",
       "      <td>784</td>\n",
       "    </tr>\n",
       "    <tr>\n",
       "      <th>152</th>\n",
       "      <td>698</td>\n",
       "      <td>a</td>\n",
       "      <td>2.207653</td>\n",
       "      <td>784</td>\n",
       "    </tr>\n",
       "    <tr>\n",
       "      <th>8</th>\n",
       "      <td>335</td>\n",
       "      <td>b</td>\n",
       "      <td>2.085451</td>\n",
       "      <td>942</td>\n",
       "    </tr>\n",
       "    <tr>\n",
       "      <th>100</th>\n",
       "      <td>320</td>\n",
       "      <td>a</td>\n",
       "      <td>2.080309</td>\n",
       "      <td>784</td>\n",
       "    </tr>\n",
       "    <tr>\n",
       "      <th>5</th>\n",
       "      <td>733</td>\n",
       "      <td>b</td>\n",
       "      <td>2.054295</td>\n",
       "      <td>942</td>\n",
       "    </tr>\n",
       "    <tr>\n",
       "      <th>42</th>\n",
       "      <td>595</td>\n",
       "      <td>c</td>\n",
       "      <td>2.013763</td>\n",
       "      <td>784</td>\n",
       "    </tr>\n",
       "    <tr>\n",
       "      <th>141</th>\n",
       "      <td>523</td>\n",
       "      <td>c</td>\n",
       "      <td>1.980036</td>\n",
       "      <td>784</td>\n",
       "    </tr>\n",
       "    <tr>\n",
       "      <th>211</th>\n",
       "      <td>1033</td>\n",
       "      <td>a</td>\n",
       "      <td>1.953872</td>\n",
       "      <td>784</td>\n",
       "    </tr>\n",
       "    <tr>\n",
       "      <th>133</th>\n",
       "      <td>546</td>\n",
       "      <td>a</td>\n",
       "      <td>1.887931</td>\n",
       "      <td>784</td>\n",
       "    </tr>\n",
       "    <tr>\n",
       "      <th>153</th>\n",
       "      <td>768</td>\n",
       "      <td>a</td>\n",
       "      <td>1.851633</td>\n",
       "      <td>784</td>\n",
       "    </tr>\n",
       "    <tr>\n",
       "      <th>56</th>\n",
       "      <td>211</td>\n",
       "      <td>a</td>\n",
       "      <td>1.692377</td>\n",
       "      <td>784</td>\n",
       "    </tr>\n",
       "    <tr>\n",
       "      <th>7</th>\n",
       "      <td>682</td>\n",
       "      <td>b</td>\n",
       "      <td>1.669691</td>\n",
       "      <td>942</td>\n",
       "    </tr>\n",
       "    <tr>\n",
       "      <th>81</th>\n",
       "      <td>207</td>\n",
       "      <td>a</td>\n",
       "      <td>1.657743</td>\n",
       "      <td>784</td>\n",
       "    </tr>\n",
       "    <tr>\n",
       "      <th>223</th>\n",
       "      <td>125</td>\n",
       "      <td>a</td>\n",
       "      <td>1.618119</td>\n",
       "      <td>784</td>\n",
       "    </tr>\n",
       "    <tr>\n",
       "      <th>11</th>\n",
       "      <td>259</td>\n",
       "      <td>b</td>\n",
       "      <td>1.608137</td>\n",
       "      <td>931</td>\n",
       "    </tr>\n",
       "    <tr>\n",
       "      <th>93</th>\n",
       "      <td>469</td>\n",
       "      <td>c</td>\n",
       "      <td>1.598911</td>\n",
       "      <td>784</td>\n",
       "    </tr>\n",
       "    <tr>\n",
       "      <th>103</th>\n",
       "      <td>432</td>\n",
       "      <td>a</td>\n",
       "      <td>1.588173</td>\n",
       "      <td>784</td>\n",
       "    </tr>\n",
       "    <tr>\n",
       "      <th>107</th>\n",
       "      <td>416</td>\n",
       "      <td>a</td>\n",
       "      <td>1.549456</td>\n",
       "      <td>784</td>\n",
       "    </tr>\n",
       "    <tr>\n",
       "      <th>46</th>\n",
       "      <td>593</td>\n",
       "      <td>a</td>\n",
       "      <td>1.545372</td>\n",
       "      <td>784</td>\n",
       "    </tr>\n",
       "    <tr>\n",
       "      <th>186</th>\n",
       "      <td>1075</td>\n",
       "      <td>a</td>\n",
       "      <td>1.519661</td>\n",
       "      <td>784</td>\n",
       "    </tr>\n",
       "    <tr>\n",
       "      <th>175</th>\n",
       "      <td>911</td>\n",
       "      <td>a</td>\n",
       "      <td>1.514670</td>\n",
       "      <td>784</td>\n",
       "    </tr>\n",
       "    <tr>\n",
       "      <th>0</th>\n",
       "      <td>769</td>\n",
       "      <td>b</td>\n",
       "      <td>1.512704</td>\n",
       "      <td>942</td>\n",
       "    </tr>\n",
       "    <tr>\n",
       "      <th>111</th>\n",
       "      <td>389</td>\n",
       "      <td>a</td>\n",
       "      <td>1.504537</td>\n",
       "      <td>784</td>\n",
       "    </tr>\n",
       "    <tr>\n",
       "      <th>60</th>\n",
       "      <td>709</td>\n",
       "      <td>a</td>\n",
       "      <td>1.489564</td>\n",
       "      <td>784</td>\n",
       "    </tr>\n",
       "    <tr>\n",
       "      <th>95</th>\n",
       "      <td>464</td>\n",
       "      <td>c</td>\n",
       "      <td>1.471869</td>\n",
       "      <td>784</td>\n",
       "    </tr>\n",
       "    <tr>\n",
       "      <th>...</th>\n",
       "      <td>...</td>\n",
       "      <td>...</td>\n",
       "      <td>...</td>\n",
       "      <td>...</td>\n",
       "    </tr>\n",
       "    <tr>\n",
       "      <th>43</th>\n",
       "      <td>609</td>\n",
       "      <td>a</td>\n",
       "      <td>0.692529</td>\n",
       "      <td>784</td>\n",
       "    </tr>\n",
       "    <tr>\n",
       "      <th>57</th>\n",
       "      <td>217</td>\n",
       "      <td>c</td>\n",
       "      <td>0.687840</td>\n",
       "      <td>784</td>\n",
       "    </tr>\n",
       "    <tr>\n",
       "      <th>163</th>\n",
       "      <td>73</td>\n",
       "      <td>a</td>\n",
       "      <td>0.684513</td>\n",
       "      <td>784</td>\n",
       "    </tr>\n",
       "    <tr>\n",
       "      <th>179</th>\n",
       "      <td>874</td>\n",
       "      <td>a</td>\n",
       "      <td>0.681791</td>\n",
       "      <td>784</td>\n",
       "    </tr>\n",
       "    <tr>\n",
       "      <th>132</th>\n",
       "      <td>549</td>\n",
       "      <td>a</td>\n",
       "      <td>0.681488</td>\n",
       "      <td>784</td>\n",
       "    </tr>\n",
       "    <tr>\n",
       "      <th>123</th>\n",
       "      <td>569</td>\n",
       "      <td>a</td>\n",
       "      <td>0.677405</td>\n",
       "      <td>784</td>\n",
       "    </tr>\n",
       "    <tr>\n",
       "      <th>27</th>\n",
       "      <td>867</td>\n",
       "      <td>d</td>\n",
       "      <td>0.668633</td>\n",
       "      <td>880</td>\n",
       "    </tr>\n",
       "    <tr>\n",
       "      <th>240</th>\n",
       "      <td>110</td>\n",
       "      <td>a</td>\n",
       "      <td>0.666515</td>\n",
       "      <td>784</td>\n",
       "    </tr>\n",
       "    <tr>\n",
       "      <th>50</th>\n",
       "      <td>237</td>\n",
       "      <td>a</td>\n",
       "      <td>0.664398</td>\n",
       "      <td>784</td>\n",
       "    </tr>\n",
       "    <tr>\n",
       "      <th>104</th>\n",
       "      <td>422</td>\n",
       "      <td>a</td>\n",
       "      <td>0.663491</td>\n",
       "      <td>784</td>\n",
       "    </tr>\n",
       "    <tr>\n",
       "      <th>40</th>\n",
       "      <td>596</td>\n",
       "      <td>c</td>\n",
       "      <td>0.661373</td>\n",
       "      <td>784</td>\n",
       "    </tr>\n",
       "    <tr>\n",
       "      <th>151</th>\n",
       "      <td>554</td>\n",
       "      <td>c</td>\n",
       "      <td>0.657895</td>\n",
       "      <td>784</td>\n",
       "    </tr>\n",
       "    <tr>\n",
       "      <th>166</th>\n",
       "      <td>945</td>\n",
       "      <td>a</td>\n",
       "      <td>0.656080</td>\n",
       "      <td>784</td>\n",
       "    </tr>\n",
       "    <tr>\n",
       "      <th>15</th>\n",
       "      <td>530</td>\n",
       "      <td>a</td>\n",
       "      <td>0.655929</td>\n",
       "      <td>906</td>\n",
       "    </tr>\n",
       "    <tr>\n",
       "      <th>58</th>\n",
       "      <td>622</td>\n",
       "      <td>a</td>\n",
       "      <td>0.647005</td>\n",
       "      <td>784</td>\n",
       "    </tr>\n",
       "    <tr>\n",
       "      <th>144</th>\n",
       "      <td>282</td>\n",
       "      <td>a</td>\n",
       "      <td>0.643376</td>\n",
       "      <td>784</td>\n",
       "    </tr>\n",
       "    <tr>\n",
       "      <th>97</th>\n",
       "      <td>315</td>\n",
       "      <td>a</td>\n",
       "      <td>0.642922</td>\n",
       "      <td>784</td>\n",
       "    </tr>\n",
       "    <tr>\n",
       "      <th>161</th>\n",
       "      <td>958</td>\n",
       "      <td>a</td>\n",
       "      <td>0.618572</td>\n",
       "      <td>784</td>\n",
       "    </tr>\n",
       "    <tr>\n",
       "      <th>205</th>\n",
       "      <td>1063</td>\n",
       "      <td>a</td>\n",
       "      <td>0.614791</td>\n",
       "      <td>784</td>\n",
       "    </tr>\n",
       "    <tr>\n",
       "      <th>44</th>\n",
       "      <td>594</td>\n",
       "      <td>a</td>\n",
       "      <td>0.611766</td>\n",
       "      <td>784</td>\n",
       "    </tr>\n",
       "    <tr>\n",
       "      <th>217</th>\n",
       "      <td>811</td>\n",
       "      <td>a</td>\n",
       "      <td>0.601180</td>\n",
       "      <td>784</td>\n",
       "    </tr>\n",
       "    <tr>\n",
       "      <th>214</th>\n",
       "      <td>48</td>\n",
       "      <td>a</td>\n",
       "      <td>0.593013</td>\n",
       "      <td>784</td>\n",
       "    </tr>\n",
       "    <tr>\n",
       "      <th>134</th>\n",
       "      <td>538</td>\n",
       "      <td>a</td>\n",
       "      <td>0.584846</td>\n",
       "      <td>784</td>\n",
       "    </tr>\n",
       "    <tr>\n",
       "      <th>112</th>\n",
       "      <td>379</td>\n",
       "      <td>d</td>\n",
       "      <td>0.570024</td>\n",
       "      <td>784</td>\n",
       "    </tr>\n",
       "    <tr>\n",
       "      <th>142</th>\n",
       "      <td>520</td>\n",
       "      <td>a</td>\n",
       "      <td>0.562008</td>\n",
       "      <td>784</td>\n",
       "    </tr>\n",
       "    <tr>\n",
       "      <th>28</th>\n",
       "      <td>931</td>\n",
       "      <td>a</td>\n",
       "      <td>0.538113</td>\n",
       "      <td>875</td>\n",
       "    </tr>\n",
       "    <tr>\n",
       "      <th>10</th>\n",
       "      <td>274</td>\n",
       "      <td>b</td>\n",
       "      <td>0.537508</td>\n",
       "      <td>932</td>\n",
       "    </tr>\n",
       "    <tr>\n",
       "      <th>150</th>\n",
       "      <td>488</td>\n",
       "      <td>a</td>\n",
       "      <td>0.536751</td>\n",
       "      <td>784</td>\n",
       "    </tr>\n",
       "    <tr>\n",
       "      <th>87</th>\n",
       "      <td>558</td>\n",
       "      <td>a</td>\n",
       "      <td>0.488959</td>\n",
       "      <td>784</td>\n",
       "    </tr>\n",
       "    <tr>\n",
       "      <th>82</th>\n",
       "      <td>208</td>\n",
       "      <td>c</td>\n",
       "      <td>0.467635</td>\n",
       "      <td>784</td>\n",
       "    </tr>\n",
       "  </tbody>\n",
       "</table>\n",
       "<p>242 rows × 4 columns</p>\n",
       "</div>"
      ],
      "text/plain": [
       "     Store StoreType     Sales  times\n",
       "238    817         a  3.015124    784\n",
       "187   1114         a  2.729280    784\n",
       "4      262         b  2.550363    942\n",
       "3      562         b  2.534785    942\n",
       "146    513         a  2.484422    784\n",
       "218    788         a  2.399123    784\n",
       "152    698         a  2.207653    784\n",
       "8      335         b  2.085451    942\n",
       "100    320         a  2.080309    784\n",
       "5      733         b  2.054295    942\n",
       "42     595         c  2.013763    784\n",
       "141    523         c  1.980036    784\n",
       "211   1033         a  1.953872    784\n",
       "133    546         a  1.887931    784\n",
       "153    768         a  1.851633    784\n",
       "56     211         a  1.692377    784\n",
       "7      682         b  1.669691    942\n",
       "81     207         a  1.657743    784\n",
       "223    125         a  1.618119    784\n",
       "11     259         b  1.608137    931\n",
       "93     469         c  1.598911    784\n",
       "103    432         a  1.588173    784\n",
       "107    416         a  1.549456    784\n",
       "46     593         a  1.545372    784\n",
       "186   1075         a  1.519661    784\n",
       "175    911         a  1.514670    784\n",
       "0      769         b  1.512704    942\n",
       "111    389         a  1.504537    784\n",
       "60     709         a  1.489564    784\n",
       "95     464         c  1.471869    784\n",
       "..     ...       ...       ...    ...\n",
       "43     609         a  0.692529    784\n",
       "57     217         c  0.687840    784\n",
       "163     73         a  0.684513    784\n",
       "179    874         a  0.681791    784\n",
       "132    549         a  0.681488    784\n",
       "123    569         a  0.677405    784\n",
       "27     867         d  0.668633    880\n",
       "240    110         a  0.666515    784\n",
       "50     237         a  0.664398    784\n",
       "104    422         a  0.663491    784\n",
       "40     596         c  0.661373    784\n",
       "151    554         c  0.657895    784\n",
       "166    945         a  0.656080    784\n",
       "15     530         a  0.655929    906\n",
       "58     622         a  0.647005    784\n",
       "144    282         a  0.643376    784\n",
       "97     315         a  0.642922    784\n",
       "161    958         a  0.618572    784\n",
       "205   1063         a  0.614791    784\n",
       "44     594         a  0.611766    784\n",
       "217    811         a  0.601180    784\n",
       "214     48         a  0.593013    784\n",
       "134    538         a  0.584846    784\n",
       "112    379         d  0.570024    784\n",
       "142    520         a  0.562008    784\n",
       "28     931         a  0.538113    875\n",
       "10     274         b  0.537508    932\n",
       "150    488         a  0.536751    784\n",
       "87     558         a  0.488959    784\n",
       "82     208         c  0.467635    784\n",
       "\n",
       "[242 rows x 4 columns]"
      ]
     },
     "execution_count": 44,
     "metadata": {},
     "output_type": "execute_result"
    }
   ],
   "source": [
    "#Takes me 6 min to run\n",
    "part_dep_multi(fields=['Store','StoreType'], coef=0.05)"
   ]
  },
  {
   "cell_type": "code",
   "execution_count": 235,
   "metadata": {
    "ExecuteTime": {
     "end_time": "2019-04-26T14:51:30.486120Z",
     "start_time": "2019-04-26T14:50:13.786598Z"
    }
   },
   "outputs": [
    {
     "data": {
      "text/html": [
       "Total time: 01:15 <p>"
      ],
      "text/plain": [
       "<IPython.core.display.HTML object>"
      ]
     },
     "metadata": {},
     "output_type": "display_data"
    },
    {
     "data": {
      "text/html": [
       "<div>\n",
       "<style scoped>\n",
       "    .dataframe tbody tr th:only-of-type {\n",
       "        vertical-align: middle;\n",
       "    }\n",
       "\n",
       "    .dataframe tbody tr th {\n",
       "        vertical-align: top;\n",
       "    }\n",
       "\n",
       "    .dataframe thead th {\n",
       "        text-align: right;\n",
       "    }\n",
       "</style>\n",
       "<table border=\"1\" class=\"dataframe\">\n",
       "  <thead>\n",
       "    <tr style=\"text-align: right;\">\n",
       "      <th></th>\n",
       "      <th>Events</th>\n",
       "      <th>Sales</th>\n",
       "      <th>times</th>\n",
       "    </tr>\n",
       "  </thead>\n",
       "  <tbody>\n",
       "    <tr>\n",
       "      <th>16</th>\n",
       "      <td>Fog-Rain-Snow-Hail</td>\n",
       "      <td>1.008632</td>\n",
       "      <td>397</td>\n",
       "    </tr>\n",
       "    <tr>\n",
       "      <th>19</th>\n",
       "      <td>Fog-Rain-Hail</td>\n",
       "      <td>1.006277</td>\n",
       "      <td>305</td>\n",
       "    </tr>\n",
       "    <tr>\n",
       "      <th>14</th>\n",
       "      <td>Rain-Snow-Hail-Thunderstorm</td>\n",
       "      <td>1.005179</td>\n",
       "      <td>483</td>\n",
       "    </tr>\n",
       "    <tr>\n",
       "      <th>2</th>\n",
       "      <td>Fog-Rain</td>\n",
       "      <td>1.004551</td>\n",
       "      <td>74839</td>\n",
       "    </tr>\n",
       "    <tr>\n",
       "      <th>17</th>\n",
       "      <td>Fog-Thunderstorm</td>\n",
       "      <td>1.004551</td>\n",
       "      <td>384</td>\n",
       "    </tr>\n",
       "    <tr>\n",
       "      <th>1</th>\n",
       "      <td>Fog</td>\n",
       "      <td>1.004237</td>\n",
       "      <td>102706</td>\n",
       "    </tr>\n",
       "    <tr>\n",
       "      <th>11</th>\n",
       "      <td>Thunderstorm</td>\n",
       "      <td>1.003766</td>\n",
       "      <td>2208</td>\n",
       "    </tr>\n",
       "    <tr>\n",
       "      <th>9</th>\n",
       "      <td>Rain-Hail</td>\n",
       "      <td>1.001412</td>\n",
       "      <td>2824</td>\n",
       "    </tr>\n",
       "    <tr>\n",
       "      <th>7</th>\n",
       "      <td>Fog-Snow</td>\n",
       "      <td>1.001099</td>\n",
       "      <td>6657</td>\n",
       "    </tr>\n",
       "    <tr>\n",
       "      <th>10</th>\n",
       "      <td>Rain-Snow-Hail</td>\n",
       "      <td>1.000785</td>\n",
       "      <td>2223</td>\n",
       "    </tr>\n",
       "    <tr>\n",
       "      <th>18</th>\n",
       "      <td>Snow-Hail</td>\n",
       "      <td>1.000000</td>\n",
       "      <td>335</td>\n",
       "    </tr>\n",
       "    <tr>\n",
       "      <th>0</th>\n",
       "      <td>Rain</td>\n",
       "      <td>0.999843</td>\n",
       "      <td>324320</td>\n",
       "    </tr>\n",
       "    <tr>\n",
       "      <th>4</th>\n",
       "      <td>Snow</td>\n",
       "      <td>0.998431</td>\n",
       "      <td>35392</td>\n",
       "    </tr>\n",
       "    <tr>\n",
       "      <th>13</th>\n",
       "      <td>Rain-Snow-Thunderstorm</td>\n",
       "      <td>0.998117</td>\n",
       "      <td>566</td>\n",
       "    </tr>\n",
       "    <tr>\n",
       "      <th>15</th>\n",
       "      <td>Fog-Rain-Hail-Thunderstorm</td>\n",
       "      <td>0.997960</td>\n",
       "      <td>420</td>\n",
       "    </tr>\n",
       "    <tr>\n",
       "      <th>5</th>\n",
       "      <td>Rain-Snow</td>\n",
       "      <td>0.997803</td>\n",
       "      <td>32595</td>\n",
       "    </tr>\n",
       "    <tr>\n",
       "      <th>20</th>\n",
       "      <td>Fog-Snow-Hail</td>\n",
       "      <td>0.997332</td>\n",
       "      <td>286</td>\n",
       "    </tr>\n",
       "    <tr>\n",
       "      <th>12</th>\n",
       "      <td>Rain-Hail-Thunderstorm</td>\n",
       "      <td>0.996390</td>\n",
       "      <td>799</td>\n",
       "    </tr>\n",
       "    <tr>\n",
       "      <th>6</th>\n",
       "      <td>Fog-Rain-Thunderstorm</td>\n",
       "      <td>0.994978</td>\n",
       "      <td>11141</td>\n",
       "    </tr>\n",
       "    <tr>\n",
       "      <th>8</th>\n",
       "      <td>Fog-Rain-Snow</td>\n",
       "      <td>0.994821</td>\n",
       "      <td>5412</td>\n",
       "    </tr>\n",
       "    <tr>\n",
       "      <th>3</th>\n",
       "      <td>Rain-Thunderstorm</td>\n",
       "      <td>0.994664</td>\n",
       "      <td>36989</td>\n",
       "    </tr>\n",
       "  </tbody>\n",
       "</table>\n",
       "</div>"
      ],
      "text/plain": [
       "                         Events     Sales   times\n",
       "16           Fog-Rain-Snow-Hail  1.008632     397\n",
       "19                Fog-Rain-Hail  1.006277     305\n",
       "14  Rain-Snow-Hail-Thunderstorm  1.005179     483\n",
       "2                      Fog-Rain  1.004551   74839\n",
       "17             Fog-Thunderstorm  1.004551     384\n",
       "1                           Fog  1.004237  102706\n",
       "11                 Thunderstorm  1.003766    2208\n",
       "9                     Rain-Hail  1.001412    2824\n",
       "7                      Fog-Snow  1.001099    6657\n",
       "10               Rain-Snow-Hail  1.000785    2223\n",
       "18                    Snow-Hail  1.000000     335\n",
       "0                          Rain  0.999843  324320\n",
       "4                          Snow  0.998431   35392\n",
       "13       Rain-Snow-Thunderstorm  0.998117     566\n",
       "15   Fog-Rain-Hail-Thunderstorm  0.997960     420\n",
       "5                     Rain-Snow  0.997803   32595\n",
       "20                Fog-Snow-Hail  0.997332     286\n",
       "12       Rain-Hail-Thunderstorm  0.996390     799\n",
       "6         Fog-Rain-Thunderstorm  0.994978   11141\n",
       "8                 Fog-Rain-Snow  0.994821    5412\n",
       "3             Rain-Thunderstorm  0.994664   36989"
      ]
     },
     "execution_count": 235,
     "metadata": {},
     "output_type": "execute_result"
    }
   ],
   "source": [
    "part_dep_multi(fields='Events')"
   ]
  },
  {
   "cell_type": "code",
   "execution_count": 269,
   "metadata": {
    "ExecuteTime": {
     "end_time": "2019-04-25T16:48:59.400511Z",
     "start_time": "2019-04-25T16:46:40.946402Z"
    }
   },
   "outputs": [
    {
     "data": {
      "text/html": [
       "Total time: 02:16 <p>"
      ],
      "text/plain": [
       "<IPython.core.display.HTML object>"
      ]
     },
     "metadata": {},
     "output_type": "display_data"
    },
    {
     "data": {
      "text/html": [
       "<div>\n",
       "<style scoped>\n",
       "    .dataframe tbody tr th:only-of-type {\n",
       "        vertical-align: middle;\n",
       "    }\n",
       "\n",
       "    .dataframe tbody tr th {\n",
       "        vertical-align: top;\n",
       "    }\n",
       "\n",
       "    .dataframe thead th {\n",
       "        text-align: right;\n",
       "    }\n",
       "</style>\n",
       "<table border=\"1\" class=\"dataframe\">\n",
       "  <thead>\n",
       "    <tr style=\"text-align: right;\">\n",
       "      <th></th>\n",
       "      <th>CompetitionMonthsOpen</th>\n",
       "      <th>Sales</th>\n",
       "      <th>times</th>\n",
       "    </tr>\n",
       "  </thead>\n",
       "  <tbody>\n",
       "    <tr>\n",
       "      <th>1</th>\n",
       "      <td>0</td>\n",
       "      <td>1.012827</td>\n",
       "      <td>346640</td>\n",
       "    </tr>\n",
       "    <tr>\n",
       "      <th>21</th>\n",
       "      <td>20</td>\n",
       "      <td>1.009501</td>\n",
       "      <td>4577</td>\n",
       "    </tr>\n",
       "    <tr>\n",
       "      <th>24</th>\n",
       "      <td>21</td>\n",
       "      <td>1.006651</td>\n",
       "      <td>4483</td>\n",
       "    </tr>\n",
       "    <tr>\n",
       "      <th>19</th>\n",
       "      <td>19</td>\n",
       "      <td>1.005859</td>\n",
       "      <td>4645</td>\n",
       "    </tr>\n",
       "    <tr>\n",
       "      <th>16</th>\n",
       "      <td>18</td>\n",
       "      <td>1.004592</td>\n",
       "      <td>4689</td>\n",
       "    </tr>\n",
       "    <tr>\n",
       "      <th>0</th>\n",
       "      <td>24</td>\n",
       "      <td>1.004434</td>\n",
       "      <td>386213</td>\n",
       "    </tr>\n",
       "    <tr>\n",
       "      <th>17</th>\n",
       "      <td>15</td>\n",
       "      <td>1.003009</td>\n",
       "      <td>4674</td>\n",
       "    </tr>\n",
       "    <tr>\n",
       "      <th>12</th>\n",
       "      <td>16</td>\n",
       "      <td>1.002217</td>\n",
       "      <td>4780</td>\n",
       "    </tr>\n",
       "    <tr>\n",
       "      <th>23</th>\n",
       "      <td>23</td>\n",
       "      <td>1.001742</td>\n",
       "      <td>4489</td>\n",
       "    </tr>\n",
       "    <tr>\n",
       "      <th>20</th>\n",
       "      <td>17</td>\n",
       "      <td>1.001742</td>\n",
       "      <td>4627</td>\n",
       "    </tr>\n",
       "    <tr>\n",
       "      <th>18</th>\n",
       "      <td>22</td>\n",
       "      <td>1.001742</td>\n",
       "      <td>4664</td>\n",
       "    </tr>\n",
       "    <tr>\n",
       "      <th>10</th>\n",
       "      <td>12</td>\n",
       "      <td>1.000633</td>\n",
       "      <td>4889</td>\n",
       "    </tr>\n",
       "    <tr>\n",
       "      <th>13</th>\n",
       "      <td>13</td>\n",
       "      <td>1.000000</td>\n",
       "      <td>4749</td>\n",
       "    </tr>\n",
       "    <tr>\n",
       "      <th>14</th>\n",
       "      <td>14</td>\n",
       "      <td>0.999367</td>\n",
       "      <td>4700</td>\n",
       "    </tr>\n",
       "    <tr>\n",
       "      <th>9</th>\n",
       "      <td>11</td>\n",
       "      <td>0.996991</td>\n",
       "      <td>5030</td>\n",
       "    </tr>\n",
       "    <tr>\n",
       "      <th>2</th>\n",
       "      <td>6</td>\n",
       "      <td>0.994616</td>\n",
       "      <td>5266</td>\n",
       "    </tr>\n",
       "    <tr>\n",
       "      <th>8</th>\n",
       "      <td>8</td>\n",
       "      <td>0.994458</td>\n",
       "      <td>5126</td>\n",
       "    </tr>\n",
       "    <tr>\n",
       "      <th>6</th>\n",
       "      <td>9</td>\n",
       "      <td>0.993824</td>\n",
       "      <td>5146</td>\n",
       "    </tr>\n",
       "    <tr>\n",
       "      <th>7</th>\n",
       "      <td>10</td>\n",
       "      <td>0.993349</td>\n",
       "      <td>5129</td>\n",
       "    </tr>\n",
       "    <tr>\n",
       "      <th>4</th>\n",
       "      <td>7</td>\n",
       "      <td>0.992082</td>\n",
       "      <td>5258</td>\n",
       "    </tr>\n",
       "    <tr>\n",
       "      <th>11</th>\n",
       "      <td>3</td>\n",
       "      <td>0.992082</td>\n",
       "      <td>4880</td>\n",
       "    </tr>\n",
       "    <tr>\n",
       "      <th>5</th>\n",
       "      <td>5</td>\n",
       "      <td>0.991449</td>\n",
       "      <td>5185</td>\n",
       "    </tr>\n",
       "    <tr>\n",
       "      <th>3</th>\n",
       "      <td>4</td>\n",
       "      <td>0.990499</td>\n",
       "      <td>5262</td>\n",
       "    </tr>\n",
       "    <tr>\n",
       "      <th>15</th>\n",
       "      <td>2</td>\n",
       "      <td>0.986382</td>\n",
       "      <td>4696</td>\n",
       "    </tr>\n",
       "    <tr>\n",
       "      <th>22</th>\n",
       "      <td>1</td>\n",
       "      <td>0.980681</td>\n",
       "      <td>4541</td>\n",
       "    </tr>\n",
       "  </tbody>\n",
       "</table>\n",
       "</div>"
      ],
      "text/plain": [
       "    CompetitionMonthsOpen     Sales   times\n",
       "1                       0  1.012827  346640\n",
       "21                     20  1.009501    4577\n",
       "24                     21  1.006651    4483\n",
       "19                     19  1.005859    4645\n",
       "16                     18  1.004592    4689\n",
       "0                      24  1.004434  386213\n",
       "17                     15  1.003009    4674\n",
       "12                     16  1.002217    4780\n",
       "23                     23  1.001742    4489\n",
       "20                     17  1.001742    4627\n",
       "18                     22  1.001742    4664\n",
       "10                     12  1.000633    4889\n",
       "13                     13  1.000000    4749\n",
       "14                     14  0.999367    4700\n",
       "9                      11  0.996991    5030\n",
       "2                       6  0.994616    5266\n",
       "8                       8  0.994458    5126\n",
       "6                       9  0.993824    5146\n",
       "7                      10  0.993349    5129\n",
       "4                       7  0.992082    5258\n",
       "11                      3  0.992082    4880\n",
       "5                       5  0.991449    5185\n",
       "3                       4  0.990499    5262\n",
       "15                      2  0.986382    4696\n",
       "22                      1  0.980681    4541"
      ]
     },
     "execution_count": 269,
     "metadata": {},
     "output_type": "execute_result"
    }
   ],
   "source": [
    "#Takes me 2 min to run\n",
    "part_dep_multi(fields='CompetitionMonthsOpen')"
   ]
  },
  {
   "cell_type": "markdown",
   "metadata": {
    "ExecuteTime": {
     "end_time": "2019-04-26T18:53:10.616568Z",
     "start_time": "2019-04-26T18:53:10.584718Z"
    }
   },
   "source": [
    "We can look at partial dependency not only for all the data, but for a subdata with some condition.\n",
    "For ex. here we can determine PD for a day for a particular State"
   ]
  },
  {
   "cell_type": "code",
   "execution_count": 278,
   "metadata": {
    "ExecuteTime": {
     "end_time": "2019-04-25T16:57:39.391657Z",
     "start_time": "2019-04-25T16:57:25.446185Z"
    },
    "scrolled": true
   },
   "outputs": [
    {
     "data": {
      "text/html": [
       "Total time: 00:13 <p>"
      ],
      "text/plain": [
       "<IPython.core.display.HTML object>"
      ]
     },
     "metadata": {},
     "output_type": "display_data"
    },
    {
     "data": {
      "text/html": [
       "<div>\n",
       "<style scoped>\n",
       "    .dataframe tbody tr th:only-of-type {\n",
       "        vertical-align: middle;\n",
       "    }\n",
       "\n",
       "    .dataframe tbody tr th {\n",
       "        vertical-align: top;\n",
       "    }\n",
       "\n",
       "    .dataframe thead th {\n",
       "        text-align: right;\n",
       "    }\n",
       "</style>\n",
       "<table border=\"1\" class=\"dataframe\">\n",
       "  <thead>\n",
       "    <tr style=\"text-align: right;\">\n",
       "      <th></th>\n",
       "      <th>Day</th>\n",
       "      <th>Sales</th>\n",
       "      <th>times</th>\n",
       "    </tr>\n",
       "  </thead>\n",
       "  <tbody>\n",
       "    <tr>\n",
       "      <th>26</th>\n",
       "      <td>30</td>\n",
       "      <td>1.093658</td>\n",
       "      <td>1758</td>\n",
       "    </tr>\n",
       "    <tr>\n",
       "      <th>30</th>\n",
       "      <td>31</td>\n",
       "      <td>1.080278</td>\n",
       "      <td>1099</td>\n",
       "    </tr>\n",
       "    <tr>\n",
       "      <th>2</th>\n",
       "      <td>2</td>\n",
       "      <td>1.047089</td>\n",
       "      <td>1973</td>\n",
       "    </tr>\n",
       "    <tr>\n",
       "      <th>29</th>\n",
       "      <td>1</td>\n",
       "      <td>1.036664</td>\n",
       "      <td>1267</td>\n",
       "    </tr>\n",
       "    <tr>\n",
       "      <th>28</th>\n",
       "      <td>29</td>\n",
       "      <td>1.021894</td>\n",
       "      <td>1616</td>\n",
       "    </tr>\n",
       "    <tr>\n",
       "      <th>27</th>\n",
       "      <td>3</td>\n",
       "      <td>1.017897</td>\n",
       "      <td>1693</td>\n",
       "    </tr>\n",
       "    <tr>\n",
       "      <th>3</th>\n",
       "      <td>4</td>\n",
       "      <td>1.017029</td>\n",
       "      <td>1973</td>\n",
       "    </tr>\n",
       "    <tr>\n",
       "      <th>14</th>\n",
       "      <td>5</td>\n",
       "      <td>1.010947</td>\n",
       "      <td>1901</td>\n",
       "    </tr>\n",
       "    <tr>\n",
       "      <th>8</th>\n",
       "      <td>28</td>\n",
       "      <td>1.009557</td>\n",
       "      <td>1904</td>\n",
       "    </tr>\n",
       "    <tr>\n",
       "      <th>21</th>\n",
       "      <td>14</td>\n",
       "      <td>1.004865</td>\n",
       "      <td>1830</td>\n",
       "    </tr>\n",
       "    <tr>\n",
       "      <th>9</th>\n",
       "      <td>7</td>\n",
       "      <td>1.004518</td>\n",
       "      <td>1903</td>\n",
       "    </tr>\n",
       "    <tr>\n",
       "      <th>5</th>\n",
       "      <td>13</td>\n",
       "      <td>1.003997</td>\n",
       "      <td>1972</td>\n",
       "    </tr>\n",
       "    <tr>\n",
       "      <th>13</th>\n",
       "      <td>10</td>\n",
       "      <td>1.003997</td>\n",
       "      <td>1902</td>\n",
       "    </tr>\n",
       "    <tr>\n",
       "      <th>18</th>\n",
       "      <td>15</td>\n",
       "      <td>1.002606</td>\n",
       "      <td>1899</td>\n",
       "    </tr>\n",
       "    <tr>\n",
       "      <th>7</th>\n",
       "      <td>16</td>\n",
       "      <td>1.000174</td>\n",
       "      <td>1969</td>\n",
       "    </tr>\n",
       "    <tr>\n",
       "      <th>0</th>\n",
       "      <td>11</td>\n",
       "      <td>1.000000</td>\n",
       "      <td>2041</td>\n",
       "    </tr>\n",
       "    <tr>\n",
       "      <th>22</th>\n",
       "      <td>9</td>\n",
       "      <td>0.997046</td>\n",
       "      <td>1830</td>\n",
       "    </tr>\n",
       "    <tr>\n",
       "      <th>11</th>\n",
       "      <td>8</td>\n",
       "      <td>0.996177</td>\n",
       "      <td>1902</td>\n",
       "    </tr>\n",
       "    <tr>\n",
       "      <th>4</th>\n",
       "      <td>23</td>\n",
       "      <td>0.995308</td>\n",
       "      <td>1973</td>\n",
       "    </tr>\n",
       "    <tr>\n",
       "      <th>25</th>\n",
       "      <td>6</td>\n",
       "      <td>0.995135</td>\n",
       "      <td>1760</td>\n",
       "    </tr>\n",
       "    <tr>\n",
       "      <th>1</th>\n",
       "      <td>27</td>\n",
       "      <td>0.994092</td>\n",
       "      <td>1975</td>\n",
       "    </tr>\n",
       "    <tr>\n",
       "      <th>6</th>\n",
       "      <td>18</td>\n",
       "      <td>0.993571</td>\n",
       "      <td>1971</td>\n",
       "    </tr>\n",
       "    <tr>\n",
       "      <th>23</th>\n",
       "      <td>19</td>\n",
       "      <td>0.992702</td>\n",
       "      <td>1829</td>\n",
       "    </tr>\n",
       "    <tr>\n",
       "      <th>15</th>\n",
       "      <td>12</td>\n",
       "      <td>0.992702</td>\n",
       "      <td>1900</td>\n",
       "    </tr>\n",
       "    <tr>\n",
       "      <th>19</th>\n",
       "      <td>21</td>\n",
       "      <td>0.990096</td>\n",
       "      <td>1831</td>\n",
       "    </tr>\n",
       "    <tr>\n",
       "      <th>12</th>\n",
       "      <td>22</td>\n",
       "      <td>0.990096</td>\n",
       "      <td>1902</td>\n",
       "    </tr>\n",
       "    <tr>\n",
       "      <th>16</th>\n",
       "      <td>17</td>\n",
       "      <td>0.989053</td>\n",
       "      <td>1900</td>\n",
       "    </tr>\n",
       "    <tr>\n",
       "      <th>10</th>\n",
       "      <td>20</td>\n",
       "      <td>0.985404</td>\n",
       "      <td>1902</td>\n",
       "    </tr>\n",
       "    <tr>\n",
       "      <th>24</th>\n",
       "      <td>26</td>\n",
       "      <td>0.977063</td>\n",
       "      <td>1761</td>\n",
       "    </tr>\n",
       "    <tr>\n",
       "      <th>20</th>\n",
       "      <td>25</td>\n",
       "      <td>0.973414</td>\n",
       "      <td>1831</td>\n",
       "    </tr>\n",
       "    <tr>\n",
       "      <th>17</th>\n",
       "      <td>24</td>\n",
       "      <td>0.968723</td>\n",
       "      <td>1899</td>\n",
       "    </tr>\n",
       "  </tbody>\n",
       "</table>\n",
       "</div>"
      ],
      "text/plain": [
       "    Day     Sales  times\n",
       "26   30  1.093658   1758\n",
       "30   31  1.080278   1099\n",
       "2     2  1.047089   1973\n",
       "29    1  1.036664   1267\n",
       "28   29  1.021894   1616\n",
       "27    3  1.017897   1693\n",
       "3     4  1.017029   1973\n",
       "14    5  1.010947   1901\n",
       "8    28  1.009557   1904\n",
       "21   14  1.004865   1830\n",
       "9     7  1.004518   1903\n",
       "5    13  1.003997   1972\n",
       "13   10  1.003997   1902\n",
       "18   15  1.002606   1899\n",
       "7    16  1.000174   1969\n",
       "0    11  1.000000   2041\n",
       "22    9  0.997046   1830\n",
       "11    8  0.996177   1902\n",
       "4    23  0.995308   1973\n",
       "25    6  0.995135   1760\n",
       "1    27  0.994092   1975\n",
       "6    18  0.993571   1971\n",
       "23   19  0.992702   1829\n",
       "15   12  0.992702   1900\n",
       "19   21  0.990096   1831\n",
       "12   22  0.990096   1902\n",
       "16   17  0.989053   1900\n",
       "10   20  0.985404   1902\n",
       "24   26  0.977063   1761\n",
       "20   25  0.973414   1831\n",
       "17   24  0.968723   1899"
      ]
     },
     "execution_count": 278,
     "metadata": {},
     "output_type": "execute_result"
    }
   ],
   "source": [
    "get_part_dep_one_list(df=df.query(\"State == 'BW'\"), data_prep=data_pre, learn=learn, bs=BS,\n",
    "                to_int=True, dep_name=dep_var, fields='Day')"
   ]
  },
  {
   "cell_type": "markdown",
   "metadata": {},
   "source": [
    "## Dendrogram and correlation lists"
   ]
  },
  {
   "cell_type": "markdown",
   "metadata": {},
   "source": [
    "Here we will work not with our model, but with actual data itself. We will try to get correlations out of it, that can, potentialy, help us to get rid of some redundancy and just understand our data better. "
   ]
  },
  {
   "cell_type": "code",
   "execution_count": 23,
   "metadata": {
    "ExecuteTime": {
     "end_time": "2019-04-29T15:27:58.930739Z",
     "start_time": "2019-04-29T15:27:58.820707Z"
    },
    "init_cell": true
   },
   "outputs": [],
   "source": [
    "from scipy.cluster import hierarchy as hc"
   ]
  },
  {
   "cell_type": "markdown",
   "metadata": {
    "ExecuteTime": {
     "end_time": "2019-04-24T12:15:18.195138Z",
     "start_time": "2019-04-24T12:15:18.160961Z"
    }
   },
   "source": [
    "I use here `Cramers V` statistic to determine correlation because my experiments showed me that more simple \n",
    "(and muuuuch fast) `Spearman rank-order correlation` algorithm doesn't work well for categorical columns in many cases.  \n",
    "As an ex.: if you add another column of categorical data, but assign categorical differently (let's randomize order in category dictionary) these column should have 100% correlation, but that's not the case for `spearmanr`.  \n",
    "So I've shifted to more sophisticated analysis algorithm `Cramers V`.  \n",
    "Also it can handle NA values without manual preprocessing."
   ]
  },
  {
   "cell_type": "code",
   "execution_count": 24,
   "metadata": {
    "ExecuteTime": {
     "end_time": "2019-04-29T15:27:58.961197Z",
     "start_time": "2019-04-29T15:27:58.932331Z"
    },
    "init_cell": true
   },
   "outputs": [],
   "source": [
    "def build_correlation_matr(df:DataFrame):\n",
    "    '''\n",
    "    Build Spearman rank-order correlation matrix\n",
    "    NA in df should be fixed before pass here\n",
    "    '''\n",
    "    corr = np.round(scipy.stats.spearmanr(df).correlation, 4)\n",
    "    corr[np.isnan(corr)] = 0.0\n",
    "    np.fill_diagonal(corr, 1.0)\n",
    "    return corr\n",
    "\n",
    "def plot_dendrogram_corr(corr_matr, columns, figsize=None, leaf_font_size=16):\n",
    "    '''\n",
    "    Plots dendrogram for a given correlation matrix\n",
    "    '''\n",
    "    if (figsize is None):\n",
    "        figsize = (15, 0.02*leaf_font_size*len(df.columns))\n",
    "    corr_condensed = hc.distance.squareform(1-corr_matr)\n",
    "    z = hc.linkage(corr_condensed, method='average')\n",
    "    fig = plt.figure(figsize=figsize)\n",
    "    dendrogram = hc.dendrogram(z, labels=columns, orientation='left', leaf_font_size=leaf_font_size)\n",
    "    plt.show()\n",
    "\n",
    "def plot_dendrogram(df:DataFrame, data_prep:LabelLists, figsize=None, leaf_font_size=16):\n",
    "    corr = build_correlation_matr(df)\n",
    "    plot_dendrogram_corr(corr_matr=corr, columns=df.columns, figsize=figsize, leaf_font_size=leaf_font_size)"
   ]
  },
  {
   "cell_type": "code",
   "execution_count": 25,
   "metadata": {
    "ExecuteTime": {
     "end_time": "2019-04-29T15:27:58.993125Z",
     "start_time": "2019-04-29T15:27:58.963268Z"
    },
    "init_cell": true
   },
   "outputs": [],
   "source": [
    "def cramers_corrected_stat(confusion_matrix):\n",
    "    \"\"\" calculate Cramers V statistic for categorial-categorial association.\n",
    "        uses correction from Bergsma and Wicher, \n",
    "        Journal of the Korean Statistical Society 42 (2013): 323-328\n",
    "    \"\"\"\n",
    "    chi2 = scipy.stats.chi2_contingency(confusion_matrix)[0]\n",
    "    if (chi2 == 0):\n",
    "        return 0.0\n",
    "    n = confusion_matrix.sum().sum()\n",
    "    phi2 = chi2/n\n",
    "    r,k = confusion_matrix.shape\n",
    "    phi2corr = max(0, phi2 - ((k-1)*(r-1))/(n-1))    \n",
    "    rcorr = r - ((r-1)**2)/(n-1)\n",
    "    kcorr = k - ((k-1)**2)/(n-1)\n",
    "    return np.sqrt(phi2corr / min( (kcorr-1), (rcorr-1)))\n",
    "\n",
    "def get_cramer_v_matr(df:DataFrame)->np.ndarray:\n",
    "    '''\n",
    "    Calculate Cramers V statistic for every pair in df's columns\n",
    "    '''\n",
    "    cols = list(df.columns)\n",
    "    corrM = np.zeros((len(cols), len(cols)))\n",
    "    pbar = master_bar(list(itertools.combinations(cols, 2)))\n",
    "    for col1, col2 in pbar:\n",
    "        _ = progress_bar(range(1), parent=pbar) #looks like fastprogress doesn't work without 2nd bar :(\n",
    "        idx1, idx2 = cols.index(col1), cols.index(col2)\n",
    "        corrM[idx1, idx2] = cramers_corrected_stat(pd.crosstab(df[col1], df[col2]))\n",
    "        corrM[idx2, idx1] = corrM[idx1, idx2]\n",
    "    np.fill_diagonal(corrM, 1.0)\n",
    "    return corrM"
   ]
  },
  {
   "cell_type": "code",
   "execution_count": 26,
   "metadata": {
    "ExecuteTime": {
     "end_time": "2019-04-29T15:27:59.028221Z",
     "start_time": "2019-04-29T15:27:58.995059Z"
    },
    "init_cell": true
   },
   "outputs": [],
   "source": [
    "def get_top_corr_df(df:DataFrame, corr_thr:float=0.8, corr_matr:array=None)->DataFrame:\n",
    "    if (corr_matr is not None):\n",
    "        corr = corr_matr\n",
    "    else:\n",
    "        corr = build_correlation_matr(df=df)\n",
    "    corr = np.where(abs(corr)<corr_thr, 0, corr)\n",
    "    idxs = []\n",
    "    for i in range(corr.shape[0]):\n",
    "        if (corr[i, :].sum() + corr[:, i].sum() > 2):\n",
    "            idxs.append(i)\n",
    "    cols = df.columns[idxs]\n",
    "    return pd.DataFrame(corr[np.ix_(idxs, idxs)], columns=cols, index=cols)\n",
    "\n",
    "def get_top_corr_dict_corrs(top_corrs:DataFrame)->OrderedDict:\n",
    "    cols = top_corrs.columns\n",
    "    top_corrs_np = top_corrs.to_numpy()\n",
    "    corr_dict = {}\n",
    "    for i in range(top_corrs_np.shape[0]):\n",
    "        for j in range(i+1, top_corrs_np.shape[0]):\n",
    "            if (top_corrs_np[i, j] > 0):\n",
    "                corr_dict[cols[i]+' vs '+cols[j]] = np.round(top_corrs_np[i, j], 3)\n",
    "    return collections.OrderedDict(sorted(corr_dict.items(), key=lambda kv: abs(kv[1]), reverse=True))    \n",
    "\n",
    "def get_top_corr_dict(df:DataFrame, corr_thr:float=0.8, corr_matr:array=None)->OrderedDict:\n",
    "    '''\n",
    "    Outputs top pairs of correlation in a given dataframe with a given correlation matrix\n",
    "    Filters output mith minimal correlation of corr_thr\n",
    "    '''\n",
    "    top_corrs = get_top_corr_df(df, corr_thr, corr_matr)\n",
    "    return get_top_corr_dict_corrs(top_corrs)"
   ]
  },
  {
   "cell_type": "code",
   "execution_count": 27,
   "metadata": {
    "ExecuteTime": {
     "end_time": "2019-04-23T17:46:52.822061Z",
     "start_time": "2019-04-23T17:46:52.791157Z"
    }
   },
   "outputs": [],
   "source": [
    "np.set_printoptions(threshold=800, suppress=True)"
   ]
  },
  {
   "cell_type": "markdown",
   "metadata": {
    "ExecuteTime": {
     "end_time": "2019-04-24T12:19:10.906311Z",
     "start_time": "2019-04-24T12:19:10.875459Z"
    }
   },
   "source": [
    "Here we calculate correlation matrix separately as it can be pretty long process.  \n",
    "And then we can use it in different views.\n",
    "Remember that time how long it will take depends not on how many data you have, but more on what is the sum of cardinalities of your categorical variables. I had a case where the was 100+ less actual data and this process took 15+ times more (20+ min), solely because how dense categories where there."
   ]
  },
  {
   "cell_type": "code",
   "execution_count": 40,
   "metadata": {
    "ExecuteTime": {
     "end_time": "2019-04-24T14:08:19.241005Z",
     "start_time": "2019-04-24T14:06:56.316527Z"
    }
   },
   "outputs": [
    {
     "data": {
      "text/html": [
       "Total time: 01:22 <p>"
      ],
      "text/plain": [
       "<IPython.core.display.HTML object>"
      ]
     },
     "metadata": {},
     "output_type": "display_data"
    }
   ],
   "source": [
    "corr_v = get_cramer_v_matr(df[all_vars])"
   ]
  },
  {
   "cell_type": "code",
   "execution_count": 44,
   "metadata": {
    "ExecuteTime": {
     "end_time": "2019-04-24T14:27:31.789187Z",
     "start_time": "2019-04-24T14:27:31.317818Z"
    },
    "scrolled": false
   },
   "outputs": [
    {
     "data": {
      "image/png": "[encoded data removed]",
      "text/plain": [
       "<Figure size 1080x921.6 with 1 Axes>"
      ]
     },
     "metadata": {
      "needs_background": "light"
     },
     "output_type": "display_data"
    }
   ],
   "source": [
    "plot_dendrogram_corr(corr_v, df[all_vars].columns)"
   ]
  },
  {
   "cell_type": "code",
   "execution_count": 42,
   "metadata": {
    "ExecuteTime": {
     "end_time": "2019-04-24T14:08:19.835037Z",
     "start_time": "2019-04-24T14:08:19.697760Z"
    },
    "scrolled": true
   },
   "outputs": [
    {
     "data": {
      "text/plain": [
       "OrderedDict([('Store vs CompetitionDistance', 1.0),\n",
       "             ('Store vs StoreType', 0.999),\n",
       "             ('Store vs Assortment', 0.999),\n",
       "             ('Store vs PromoInterval', 0.999),\n",
       "             ('Store vs CompetitionOpenSinceYear', 0.999),\n",
       "             ('Store vs Promo2SinceYear', 0.999),\n",
       "             ('Store vs State', 0.999),\n",
       "             ('Month vs Week', 0.965),\n",
       "             ('StateHoliday vs AfterStateHoliday', 0.962)])"
      ]
     },
     "execution_count": 42,
     "metadata": {},
     "output_type": "execute_result"
    }
   ],
   "source": [
    "get_top_corr_dict(df[all_vars], corr_thr=0.9, corr_matr=corr_v)"
   ]
  },
  {
   "cell_type": "markdown",
   "metadata": {},
   "source": [
    "That's an interesting case that one should use dendrogram as well as good all correlation list (or correlation matrix). You see that list tells us that Store vs PromoInterval correlate with each other very high, with is not seen on dendrogram.\n",
    "Why is that?\n",
    "Well looks like it's because Store and PromoInterval does correlate with each other extremely strongly, but pair Store+CompetitionDistance (which we can see on dendrogram) doesn't do that with PromoInterval.\n",
    "\n",
    "I think it's a very interesting edge case"
   ]
  },
  {
   "cell_type": "code",
   "execution_count": 43,
   "metadata": {
    "ExecuteTime": {
     "end_time": "2019-04-24T14:08:21.926939Z",
     "start_time": "2019-04-24T14:08:19.837410Z"
    }
   },
   "outputs": [],
   "source": [
    "df_keep = apply_fill_n_catf(df, data_prep=data_pre)"
   ]
  },
  {
   "cell_type": "markdown",
   "metadata": {},
   "source": [
    "And that what we will get if we will build dendrogram with Spearman rank-order correlation matrix.  \n",
    "As we see it doesn't treat categorical columns well"
   ]
  },
  {
   "cell_type": "code",
   "execution_count": 45,
   "metadata": {
    "ExecuteTime": {
     "end_time": "2019-04-24T14:28:44.119818Z",
     "start_time": "2019-04-24T14:28:19.265608Z"
    },
    "scrolled": false
   },
   "outputs": [
    {
     "data": {
      "image/png": "[encoded data removed]",
      "text/plain": [
       "<Figure size 1080x921.6 with 1 Axes>"
      ]
     },
     "metadata": {
      "needs_background": "light"
     },
     "output_type": "display_data"
    }
   ],
   "source": [
    "plot_dendrogram(df_keep, data_prep=data_pre)"
   ]
  },
  {
   "cell_type": "code",
   "execution_count": 46,
   "metadata": {
    "ExecuteTime": {
     "end_time": "2019-04-24T14:29:48.411558Z",
     "start_time": "2019-04-24T14:29:46.230455Z"
    }
   },
   "outputs": [
    {
     "data": {
      "text/plain": [
       "OrderedDict([('Max_TemperatureC vs Mean_TemperatureC', 0.972),\n",
       "             ('Month vs Week', 0.962),\n",
       "             ('Mean_TemperatureC vs Min_TemperatureC', 0.953),\n",
       "             ('Mean_Humidity vs Min_Humidity', 0.925),\n",
       "             ('PromoInterval vs Promo2SinceYear', 0.888),\n",
       "             ('Max_TemperatureC vs Min_TemperatureC', 0.862),\n",
       "             ('Max_Wind_SpeedKm_h vs Mean_Wind_SpeedKm_h', 0.805)])"
      ]
     },
     "execution_count": 46,
     "metadata": {},
     "output_type": "execute_result"
    }
   ],
   "source": [
    "get_top_corr_dict(df=df_keep[all_vars], corr_thr=0.8)"
   ]
  },
  {
   "cell_type": "markdown",
   "metadata": {},
   "source": [
    "## Features closeness and dimension reduction"
   ]
  },
  {
   "cell_type": "markdown",
   "metadata": {
    "ExecuteTime": {
     "end_time": "2019-04-26T19:01:25.438244Z",
     "start_time": "2019-04-26T19:01:25.405212Z"
    }
   },
   "source": [
    "The last thing we do is to visualize the embeddings vectors.   \n",
    "For that we should reduce it's dimension to 2 as I wasn't able to plot 10-dimensions vector on a flat screen :)"
   ]
  },
  {
   "cell_type": "code",
   "execution_count": 27,
   "metadata": {
    "ExecuteTime": {
     "end_time": "2019-04-29T15:27:59.297173Z",
     "start_time": "2019-04-29T15:27:59.030332Z"
    },
    "init_cell": true
   },
   "outputs": [],
   "source": [
    "from sklearn import manifold"
   ]
  },
  {
   "cell_type": "code",
   "execution_count": 28,
   "metadata": {
    "ExecuteTime": {
     "end_time": "2019-04-29T15:27:59.346843Z",
     "start_time": "2019-04-29T15:27:59.299550Z"
    },
    "init_cell": true
   },
   "outputs": [],
   "source": [
    "def get_classes_o_list(data_prep:LabelLists):\n",
    "    procs = data_prep.get_processors()[0][0]\n",
    "    return procs.classes\n",
    "\n",
    "def get_rev_emb_idxs(data_prep:LabelLists)->dict:\n",
    "    classes_dict = get_classes_o_list(data_prep=data_prep)\n",
    "    return {c:i for i, (c, _) in enumerate(classes_dict.items()) if (c[-3:] != \"_na\")}\n",
    "    \n",
    "    \n",
    "def get_emb_outp(learn:Learner, field:str, inp:str, rev_emb_idxs:dict, classes, embs):\n",
    "    emb = embs[rev_emb_idxs[field]]\n",
    "    idx, = np.where(classes[field] == inp)\n",
    "    if (len(idx) == 1):\n",
    "        cat_idx = idx[0]\n",
    "    else:\n",
    "        cat_idx = 0\n",
    "    return emb(torch.tensor(cat_idx, device=learn.data.device))\n",
    "    \n",
    "\n",
    "def get_embs_map(data_prep:LabelLists, learn:Learner)->OrderedDict:\n",
    "    '''\n",
    "    Output embedding vector for every item of every cafegirical column as a dictionary of dicts\n",
    "    \n",
    "    '''\n",
    "    cat_cols = get_cat_cols(data_prep=data_prep, is_wo_na=True)\n",
    "    rev_emb_idxs = get_rev_emb_idxs(data_prep=data_prep)    \n",
    "    classes = get_classes_o_list(data_prep=data_prep)\n",
    "    embs = learn.model.embeds\n",
    "    learn.model.eval();\n",
    "    result = OrderedDict()\n",
    "    \n",
    "    for cat in cat_cols:\n",
    "        cat_res = OrderedDict()\n",
    "        for val in classes[cat]:\n",
    "            cat_res[val] = get_emb_outp(learn=learn,\n",
    "                                        field=cat, inp=str(val), \n",
    "                                        rev_emb_idxs=rev_emb_idxs, \n",
    "                                        classes=classes, embs=embs)\n",
    "        result[cat] = cat_res\n",
    "        \n",
    "    return result\n",
    "\n",
    "\n",
    "def emb_map_reduce_dim(embs_map:OrderedDict, outp_dim:int=3, to_df:bool=True, method:str='pytorch', exclude:list=None):\n",
    "    '''\n",
    "    Reduces dimention of embedding map upto outp_dim\n",
    "    Can use 'pytorch' approach (pca)\n",
    "    or 'scilearn' for manifold.TSNE (longer, but not sure that it is better)\n",
    "    '''\n",
    "    exclude = listify(exclude)\n",
    "    result = OrderedDict()\n",
    "    for feat, val in emb_map.items():\n",
    "        reformat = []\n",
    "        names = []\n",
    "        for k,v in val.items():\n",
    "            reformat.append(v)\n",
    "            names.append(k)\n",
    "        reformat = torch.stack(reformat)\n",
    "        if (exclude is not None) and (feat in exclude):\n",
    "            continue\n",
    "        if (method == 'scilearn'):\n",
    "            tsne = manifold.TSNE(n_components=outp_dim, init='pca')\n",
    "            reduced = tsne.fit_transform(to_np(reformat))\n",
    "        else:\n",
    "            reduced = reformat.pca(outp_dim)\n",
    "        record = OrderedDict({k:v for k, v in zip(names, reduced)})\n",
    "        result[feat] = record\n",
    "    \n",
    "    if (to_df == True):\n",
    "        data = []\n",
    "        for feat, val in result.items():\n",
    "            for k,v in val.items():\n",
    "                dt = list(v) if (method == 'scilearn') else list(to_np(v))\n",
    "                data.append([feat] + [k]  + dt)\n",
    "        names = ['feature', 'value'] + ['axis_' + str(i) for i in range(outp_dim)] \n",
    "        result = pd.DataFrame(data, columns=names)\n",
    "    \n",
    "    return result\n",
    "\n",
    "\n",
    "def add_times_col(embs_map:DataFrame, df:DataFrame)->DataFrame:\n",
    "    '''\n",
    "    Adds to embeddings map dataframe new column with times of value's number of occurrences \n",
    "    Usefull for estimation of how accurate the value is (more time means more sure you can be)\n",
    "    '''\n",
    "    times = np.zeros(len(embs_map))\n",
    "    last_feat = ''\n",
    "    vc = None\n",
    "    for i, (f, v) in enumerate(zip(embs_map['feature'], embs_map['value'])):\n",
    "        if (f != last_feat):\n",
    "            vc = df[f].value_counts(dropna=False)\n",
    "            vc.index = vc.index.map(str)\n",
    "            last_feat = f\n",
    "        if (v != '#na#'):\n",
    "            times[i] = vc[v]\n",
    "        else:\n",
    "            times[i] = vc['nan'] if ('nan' in vc.index) else 0\n",
    "    result = embs_map.copy()\n",
    "    result['times'] = times\n",
    "    return result       "
   ]
  },
  {
   "cell_type": "code",
   "execution_count": 29,
   "metadata": {
    "ExecuteTime": {
     "end_time": "2019-04-29T15:27:59.378688Z",
     "start_time": "2019-04-29T15:27:59.349076Z"
    },
    "init_cell": true
   },
   "outputs": [],
   "source": [
    "import pickle\n",
    "# Little helpers for saving/loading variables with pickle\n",
    "def sv_var(var, name):    \n",
    "    f = open(path/f\"{name}.pkl\",\"wb\")\n",
    "    pickle.dump(var, f)\n",
    "    f.close()\n",
    "    \n",
    "def ld_var(name):\n",
    "    f = open(path/f\"{name}.pkl\",\"rb\")\n",
    "    var = pickle.load(f)\n",
    "    f.close()\n",
    "    return var"
   ]
  },
  {
   "cell_type": "code",
   "execution_count": 87,
   "metadata": {
    "ExecuteTime": {
     "end_time": "2019-04-26T15:35:46.879931Z",
     "start_time": "2019-04-26T15:35:46.662946Z"
    }
   },
   "outputs": [],
   "source": [
    "emb_map = get_embs_map(data_prep=data_pre, learn=learn)"
   ]
  },
  {
   "cell_type": "code",
   "execution_count": 88,
   "metadata": {
    "ExecuteTime": {
     "end_time": "2019-04-26T15:35:50.843857Z",
     "start_time": "2019-04-26T15:35:50.270559Z"
    }
   },
   "outputs": [],
   "source": [
    "redc_emb_map = emb_map_reduce_dim(embs_map=emb_map, outp_dim=2, to_df=True)"
   ]
  },
  {
   "cell_type": "code",
   "execution_count": 89,
   "metadata": {
    "ExecuteTime": {
     "end_time": "2019-04-26T15:35:53.490782Z",
     "start_time": "2019-04-26T15:35:52.951042Z"
    }
   },
   "outputs": [],
   "source": [
    "redc_emb_map = add_times_col(embs_map=redc_emb_map, df=df)"
   ]
  },
  {
   "cell_type": "code",
   "execution_count": 30,
   "metadata": {
    "ExecuteTime": {
     "end_time": "2019-04-29T15:27:59.408521Z",
     "start_time": "2019-04-29T15:27:59.380655Z"
    },
    "init_cell": true
   },
   "outputs": [],
   "source": [
    "def plot_2d_emb(emb_map:DataFrame, feature:str, top_x:int=10):\n",
    "    sub_df = emb_map.query(f\"feature == '{feature}'\").sort_values('times', ascending=False).head(top_x)\n",
    "    X = sub_df['axis_0']\n",
    "    Y = sub_df['axis_1']\n",
    "    plt.figure(figsize=(15, 8))\n",
    "    plt.scatter(X, Y)\n",
    "    for name, x, y in zip(sub_df['value'], X, Y):\n",
    "        plt.text(x, y, name, color=np.random.rand(3)*0.7, fontsize=11)\n",
    "    plt.show()"
   ]
  },
  {
   "cell_type": "markdown",
   "metadata": {},
   "source": [
    "We can see how the embeddings form a decent smooth curve from 1 to 12"
   ]
  },
  {
   "cell_type": "code",
   "execution_count": 91,
   "metadata": {
    "ExecuteTime": {
     "end_time": "2019-04-26T15:36:07.290476Z",
     "start_time": "2019-04-26T15:36:07.013498Z"
    },
    "scrolled": false
   },
   "outputs": [
    {
     "data": {
      "image/png": "[encoded data removed]",
      "text/plain": [
       "<Figure size 1080x576 with 1 Axes>"
      ]
     },
     "metadata": {
      "needs_background": "light"
     },
     "output_type": "display_data"
    }
   ],
   "source": [
    "plot_2d_emb(emb_map=redc_emb_map, feature='Month', top_x=30)"
   ]
  },
  {
   "cell_type": "code",
   "execution_count": 229,
   "metadata": {
    "ExecuteTime": {
     "end_time": "2019-04-26T14:40:33.436655Z",
     "start_time": "2019-04-26T14:40:22.836053Z"
    }
   },
   "outputs": [
    {
     "name": "stderr",
     "output_type": "stream",
     "text": [
      "/opt/conda/envs/fastai/lib/python3.6/site-packages/sklearn/decomposition/pca.py:535: RuntimeWarning: divide by zero encountered in true_divide\n",
      "  self.explained_variance_ / total_var.sum()\n",
      "/opt/conda/envs/fastai/lib/python3.6/site-packages/sklearn/decomposition/pca.py:535: RuntimeWarning: invalid value encountered in true_divide\n",
      "  self.explained_variance_ / total_var.sum()\n"
     ]
    }
   ],
   "source": [
    "redc_emb_map_scl = emb_map_reduce_dim(embs_map=emb_map, outp_dim=2, to_df=True, method='scilearn')"
   ]
  },
  {
   "cell_type": "code",
   "execution_count": 230,
   "metadata": {
    "ExecuteTime": {
     "end_time": "2019-04-26T14:41:37.308770Z",
     "start_time": "2019-04-26T14:41:36.777034Z"
    }
   },
   "outputs": [],
   "source": [
    "redc_emb_map_scl = add_times_col(embs_map=redc_emb_map_scl, df=df)"
   ]
  },
  {
   "cell_type": "markdown",
   "metadata": {},
   "source": [
    "Looks like `manifold.TSNE` is not as usefull as plain `pca`"
   ]
  },
  {
   "cell_type": "code",
   "execution_count": 232,
   "metadata": {
    "ExecuteTime": {
     "end_time": "2019-04-26T14:41:54.595666Z",
     "start_time": "2019-04-26T14:41:54.316829Z"
    }
   },
   "outputs": [
    {
     "data": {
      "image/png": "[encoded data removed]",
      "text/plain": [
       "<Figure size 1080x576 with 1 Axes>"
      ]
     },
     "metadata": {
      "needs_background": "light"
     },
     "output_type": "display_data"
    }
   ],
   "source": [
    "plot_2d_emb(emb_map=redc_emb_map_scl, feature='Month', top_x=30)"
   ]
  }
 ],
 "metadata": {
  "kernelspec": {
   "display_name": "Python 3",
   "language": "python",
   "name": "python3"
  },
  "language_info": {
   "codemirror_mode": {
    "name": "ipython",
    "version": 3
   },
   "file_extension": ".py",
   "mimetype": "text/x-python",
   "name": "python",
   "nbconvert_exporter": "python",
   "pygments_lexer": "ipython3",
   "version": "3.6.8"
  }
 },
 "nbformat": 4,
 "nbformat_minor": 2
}
