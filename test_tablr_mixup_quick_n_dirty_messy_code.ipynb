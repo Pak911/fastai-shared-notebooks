{
 "cells": [
  {
   "cell_type": "markdown",
   "metadata": {},
   "source": [
    "### Mixup Test - proof of concept (doesn't work)"
   ]
  },
  {
   "cell_type": "markdown",
   "metadata": {},
   "source": [
    "If we split our model into 2 parts embedding + rest_of_the_model, then we can use the second part as a model and just shift the input of it (in dataloader or callback). We just pass out initial data though embeddings layer and then blend the result. That will be our inputs. I think it’s fair to call in this case the second part (rest_of_the_model) as ‘the model’ as only this part can be trained (I cannot think of the way how to train embeddings as well in a mixup). And feedforward though embeddings is now just a part of preprocessing step. Definetly, first of all we have to train your model in a normal way, as we want to produce our embeddings. Then we can use the_rest_of_the_model and retrain it or throw it away and use only embeddings (and new the_rest_of_the_model) for a mixup training."
   ]
  },
  {
   "cell_type": "code",
   "execution_count": 1,
   "metadata": {
    "ExecuteTime": {
     "end_time": "2019-08-08T22:40:50.726941Z",
     "start_time": "2019-08-08T22:40:50.712470Z"
    }
   },
   "outputs": [],
   "source": [
    "%reload_ext autoreload\n",
    "%autoreload 2"
   ]
  },
  {
   "cell_type": "code",
   "execution_count": 2,
   "metadata": {
    "ExecuteTime": {
     "end_time": "2019-08-08T22:40:52.966895Z",
     "start_time": "2019-08-08T22:40:51.645281Z"
    }
   },
   "outputs": [],
   "source": [
    "from fastai.tabular import *"
   ]
  },
  {
   "cell_type": "code",
   "execution_count": 3,
   "metadata": {
    "ExecuteTime": {
     "end_time": "2019-08-08T22:40:53.127382Z",
     "start_time": "2019-08-08T22:40:52.969777Z"
    }
   },
   "outputs": [],
   "source": [
    "from exp.nb_ import *"
   ]
  },
  {
   "cell_type": "code",
   "execution_count": 4,
   "metadata": {
    "ExecuteTime": {
     "end_time": "2019-08-08T22:40:55.252254Z",
     "start_time": "2019-08-08T22:40:53.129235Z"
    }
   },
   "outputs": [],
   "source": [
    "path=Path('data/')\n",
    "train_df = pd.read_pickle(path/'train_clean.zip', compression='zip')\n",
    "test_df = pd.read_pickle(path/'test_clean')"
   ]
  },
  {
   "cell_type": "code",
   "execution_count": 5,
   "metadata": {
    "ExecuteTime": {
     "end_time": "2019-08-08T22:40:55.281407Z",
     "start_time": "2019-08-08T22:40:55.254653Z"
    }
   },
   "outputs": [],
   "source": [
    "procs=[FillMissing, Categorify, Normalize]"
   ]
  },
  {
   "cell_type": "code",
   "execution_count": 6,
   "metadata": {
    "ExecuteTime": {
     "end_time": "2019-08-08T22:40:55.316131Z",
     "start_time": "2019-08-08T22:40:55.283465Z"
    }
   },
   "outputs": [],
   "source": [
    "cat_vars_tpl = ('Store', 'DayOfWeek', 'Year', 'Month', 'Day', 'StateHoliday', 'CompetitionMonthsOpen',\n",
    "    'Promo2Weeks', 'StoreType', 'Assortment', 'PromoInterval', 'CompetitionOpenSinceYear', 'Promo2SinceYear',\n",
    "    'State', 'Week', 'Events', 'Promo_fw', 'Promo_bw', 'StateHoliday_fw', 'StateHoliday_bw',\n",
    "    'SchoolHoliday_fw', 'SchoolHoliday_bw')\n",
    "\n",
    "cont_vars_tpl = ('CompetitionDistance', 'Max_TemperatureC', 'Mean_TemperatureC', 'Min_TemperatureC',\n",
    "   'Max_Humidity', 'Mean_Humidity', 'Min_Humidity', 'Max_Wind_SpeedKm_h', \n",
    "   'Mean_Wind_SpeedKm_h', 'CloudCover', 'trend', 'trend_DE',\n",
    "   'AfterStateHoliday', 'BeforeStateHoliday', 'Promo', 'SchoolHoliday')\n",
    "cat_vars = list(cat_vars_tpl)\n",
    "cont_vars = list(cont_vars_tpl)\n",
    "all_vars = cat_vars + cont_vars"
   ]
  },
  {
   "cell_type": "code",
   "execution_count": 7,
   "metadata": {
    "ExecuteTime": {
     "end_time": "2019-08-08T22:40:57.494560Z",
     "start_time": "2019-08-08T22:40:56.983581Z"
    }
   },
   "outputs": [],
   "source": [
    "dep_var = 'Sales'\n",
    "df = train_df[cat_vars + cont_vars + [dep_var,'Date']].copy()"
   ]
  },
  {
   "cell_type": "code",
   "execution_count": 8,
   "metadata": {
    "ExecuteTime": {
     "end_time": "2019-08-08T22:40:58.835333Z",
     "start_time": "2019-08-08T22:40:58.354100Z"
    }
   },
   "outputs": [],
   "source": [
    "#this step reduces the data as whole dataset doesn't fit into my memory after preprocessing\n",
    "np.random.seed(1001)\n",
    "coef = 0.3\n",
    "ln = len(df)\n",
    "part_idx = np.random.choice(ln, int(ln*coef), replace=False)\n",
    "df = df.iloc[part_idx]\n",
    "df.sort_values(by='Date', ascending=False, inplace=True)\n",
    "df = df.reset_index()"
   ]
  },
  {
   "cell_type": "code",
   "execution_count": 11,
   "metadata": {
    "ExecuteTime": {
     "end_time": "2019-08-08T22:42:30.120648Z",
     "start_time": "2019-08-08T22:42:30.080530Z"
    }
   },
   "outputs": [
    {
     "data": {
      "text/plain": [
       "12443"
      ]
     },
     "execution_count": 11,
     "metadata": {},
     "output_type": "execute_result"
    }
   ],
   "source": [
    "cut = df['Date'][(df['Date'] == df['Date'][int(len(test_df)*coef)])].index.max()\n",
    "cut"
   ]
  },
  {
   "cell_type": "code",
   "execution_count": 12,
   "metadata": {
    "ExecuteTime": {
     "end_time": "2019-08-08T22:42:48.932050Z",
     "start_time": "2019-08-08T22:42:48.902394Z"
    }
   },
   "outputs": [
    {
     "data": {
      "text/plain": [
       "range(0, 12443)"
      ]
     },
     "execution_count": 12,
     "metadata": {},
     "output_type": "execute_result"
    }
   ],
   "source": [
    "valid_idx = range(cut)\n",
    "valid_idx"
   ]
  },
  {
   "cell_type": "code",
   "execution_count": 13,
   "metadata": {
    "ExecuteTime": {
     "end_time": "2019-08-08T22:42:51.887831Z",
     "start_time": "2019-08-08T22:42:51.862088Z"
    }
   },
   "outputs": [],
   "source": [
    "BS = 1024"
   ]
  },
  {
   "cell_type": "code",
   "execution_count": 14,
   "metadata": {
    "ExecuteTime": {
     "end_time": "2019-08-08T22:42:54.362351Z",
     "start_time": "2019-08-08T22:42:52.853880Z"
    }
   },
   "outputs": [],
   "source": [
    "data = (TabularList.from_df(df, path=path, cat_names=cat_vars, cont_names=cont_vars, procs=procs)\n",
    "             .split_by_idx(valid_idx)\n",
    "             .label_from_df(cols=dep_var, label_cls=FloatList, log=True)\n",
    "             .databunch(bs=BS))"
   ]
  },
  {
   "cell_type": "code",
   "execution_count": 15,
   "metadata": {
    "ExecuteTime": {
     "end_time": "2019-08-08T22:42:57.955043Z",
     "start_time": "2019-08-08T22:42:55.174795Z"
    }
   },
   "outputs": [],
   "source": [
    "max_log_y = np.log(np.max(train_df['Sales'])*1.2)\n",
    "y_range = torch.tensor([0, max_log_y], device=defaults.device)"
   ]
  },
  {
   "cell_type": "code",
   "execution_count": 16,
   "metadata": {
    "ExecuteTime": {
     "end_time": "2019-08-08T22:42:59.064136Z",
     "start_time": "2019-08-08T22:42:58.926096Z"
    }
   },
   "outputs": [],
   "source": [
    "np.random.seed(1001)\n",
    "learn = tabular_learner(data, layers=[1000,500], ps=[0.001,0.01], emb_drop=0.04, \n",
    "                        y_range=y_range, metrics=exp_rmspe)"
   ]
  },
  {
   "cell_type": "code",
   "execution_count": 17,
   "metadata": {
    "ExecuteTime": {
     "end_time": "2019-08-08T22:43:40.416017Z",
     "start_time": "2019-08-08T22:43:00.904031Z"
    }
   },
   "outputs": [
    {
     "data": {
      "text/html": [
       "Total time: 00:39 <p><table style='width:375px; margin-bottom:10px'>\n",
       "  <tr>\n",
       "    <th>epoch</th>\n",
       "    <th>train_loss</th>\n",
       "    <th>valid_loss</th>\n",
       "    <th>exp_rmspe</th>\n",
       "    <th>time</th>\n",
       "  </tr>\n",
       "  <tr>\n",
       "    <th>0</th>\n",
       "    <th>0.231496</th>\n",
       "    <th>0.091658</th>\n",
       "    <th>0.375547</th>\n",
       "    <th>00:07</th>\n",
       "  </tr>\n",
       "  <tr>\n",
       "    <th>1</th>\n",
       "    <th>0.026047</th>\n",
       "    <th>0.018567</th>\n",
       "    <th>0.139769</th>\n",
       "    <th>00:06</th>\n",
       "  </tr>\n",
       "  <tr>\n",
       "    <th>2</th>\n",
       "    <th>0.018347</th>\n",
       "    <th>0.020124</th>\n",
       "    <th>0.153870</th>\n",
       "    <th>00:06</th>\n",
       "  </tr>\n",
       "  <tr>\n",
       "    <th>3</th>\n",
       "    <th>0.015385</th>\n",
       "    <th>0.022024</th>\n",
       "    <th>0.162026</th>\n",
       "    <th>00:06</th>\n",
       "  </tr>\n",
       "  <tr>\n",
       "    <th>4</th>\n",
       "    <th>0.011140</th>\n",
       "    <th>0.012428</th>\n",
       "    <th>0.113320</th>\n",
       "    <th>00:06</th>\n",
       "  </tr>\n",
       "  <tr>\n",
       "    <th>5</th>\n",
       "    <th>0.008664</th>\n",
       "    <th>0.012298</th>\n",
       "    <th>0.108537</th>\n",
       "    <th>00:06</th>\n",
       "  </tr>\n",
       "</table>\n"
      ],
      "text/plain": [
       "<IPython.core.display.HTML object>"
      ]
     },
     "metadata": {},
     "output_type": "display_data"
    }
   ],
   "source": [
    "learn.fit_one_cycle(6, 1e-2, wd=0.2)"
   ]
  },
  {
   "cell_type": "code",
   "execution_count": 18,
   "metadata": {
    "ExecuteTime": {
     "end_time": "2019-08-08T22:44:23.400878Z",
     "start_time": "2019-08-08T22:43:44.887710Z"
    }
   },
   "outputs": [
    {
     "data": {
      "text/html": [
       "Total time: 00:38 <p><table style='width:375px; margin-bottom:10px'>\n",
       "  <tr>\n",
       "    <th>epoch</th>\n",
       "    <th>train_loss</th>\n",
       "    <th>valid_loss</th>\n",
       "    <th>exp_rmspe</th>\n",
       "    <th>time</th>\n",
       "  </tr>\n",
       "  <tr>\n",
       "    <th>0</th>\n",
       "    <th>0.008030</th>\n",
       "    <th>0.012363</th>\n",
       "    <th>0.108429</th>\n",
       "    <th>00:06</th>\n",
       "  </tr>\n",
       "  <tr>\n",
       "    <th>1</th>\n",
       "    <th>0.007976</th>\n",
       "    <th>0.012201</th>\n",
       "    <th>0.108119</th>\n",
       "    <th>00:06</th>\n",
       "  </tr>\n",
       "  <tr>\n",
       "    <th>2</th>\n",
       "    <th>0.007839</th>\n",
       "    <th>0.012210</th>\n",
       "    <th>0.107686</th>\n",
       "    <th>00:06</th>\n",
       "  </tr>\n",
       "  <tr>\n",
       "    <th>3</th>\n",
       "    <th>0.007839</th>\n",
       "    <th>0.012034</th>\n",
       "    <th>0.107568</th>\n",
       "    <th>00:06</th>\n",
       "  </tr>\n",
       "  <tr>\n",
       "    <th>4</th>\n",
       "    <th>0.007604</th>\n",
       "    <th>0.012183</th>\n",
       "    <th>0.108370</th>\n",
       "    <th>00:06</th>\n",
       "  </tr>\n",
       "  <tr>\n",
       "    <th>5</th>\n",
       "    <th>0.007520</th>\n",
       "    <th>0.012203</th>\n",
       "    <th>0.108599</th>\n",
       "    <th>00:06</th>\n",
       "  </tr>\n",
       "</table>\n"
      ],
      "text/plain": [
       "<IPython.core.display.HTML object>"
      ]
     },
     "metadata": {},
     "output_type": "display_data"
    }
   ],
   "source": [
    "learn.fit_one_cycle(6, 1e-4, wd=0.2)"
   ]
  },
  {
   "cell_type": "markdown",
   "metadata": {},
   "source": [
    "### Santity test"
   ]
  },
  {
   "cell_type": "markdown",
   "metadata": {},
   "source": [
    "Here we try to separate embeddings from the model. First of all we preprocess the data (normalize, categorize and fill missing if needed) Then we take a model and feed it all our data (train and valid in separate dataframes) to embedding layers only. Then we concat these values with cont values. So now we have a bunch of floats for each row of data. This is what our NN (apart from embeddings) really gets as input. Our last step is to pretend that these floats are just a bunch of cont values and try to teach NN in a normal way (without preprocessing (!)) If we will get the similar results as in normal training, then our methon does work and we can think of a mixup."
   ]
  },
  {
   "cell_type": "markdown",
   "metadata": {},
   "source": [
    "By the way we already have a function that makes all the preprocess and outputs the 'real model input'. I've made it for Random Forrest with embedding case (RF vs NN) in https://github.com/Pak911/fastai-shared-notebooks/blob/master/interpret_tabular.ipynb"
   ]
  },
  {
   "cell_type": "code",
   "execution_count": 57,
   "metadata": {
    "ExecuteTime": {
     "end_time": "2019-08-08T22:57:43.262470Z",
     "start_time": "2019-08-08T22:57:43.183749Z"
    }
   },
   "outputs": [],
   "source": [
    "ln = len(df)\n",
    "train_idx = list_diff(list1=range(ln), list2=valid_idx)"
   ]
  },
  {
   "cell_type": "code",
   "execution_count": 58,
   "metadata": {
    "ExecuteTime": {
     "end_time": "2019-08-08T22:57:44.027688Z",
     "start_time": "2019-08-08T22:57:43.924000Z"
    }
   },
   "outputs": [],
   "source": [
    "tr_df = df.iloc[train_idx]\n",
    "val_df = df.iloc[valid_idx]"
   ]
  },
  {
   "cell_type": "code",
   "execution_count": 59,
   "metadata": {
    "ExecuteTime": {
     "end_time": "2019-08-08T22:57:58.953878Z",
     "start_time": "2019-08-08T22:57:57.487145Z"
    }
   },
   "outputs": [],
   "source": [
    "tr_data_inner = to_np(get_inner_repr(df=tr_df[all_vars], learn=learn))"
   ]
  },
  {
   "cell_type": "code",
   "execution_count": 60,
   "metadata": {
    "ExecuteTime": {
     "end_time": "2019-08-08T22:57:59.118763Z",
     "start_time": "2019-08-08T22:57:58.956303Z"
    }
   },
   "outputs": [],
   "source": [
    "val_data_inner = to_np(get_inner_repr(df=val_df[all_vars], learn=learn))"
   ]
  },
  {
   "cell_type": "code",
   "execution_count": 61,
   "metadata": {
    "ExecuteTime": {
     "end_time": "2019-08-08T22:57:59.886874Z",
     "start_time": "2019-08-08T22:57:59.845032Z"
    }
   },
   "outputs": [
    {
     "data": {
      "text/plain": [
       "(240858, 12443)"
      ]
     },
     "execution_count": 61,
     "metadata": {},
     "output_type": "execute_result"
    }
   ],
   "source": [
    "len(tr_data_inner), len(val_data_inner)"
   ]
  },
  {
   "cell_type": "code",
   "execution_count": 62,
   "metadata": {
    "ExecuteTime": {
     "end_time": "2019-08-08T22:58:04.878227Z",
     "start_time": "2019-08-08T22:58:04.839808Z"
    }
   },
   "outputs": [
    {
     "data": {
      "text/plain": [
       "array([-0.041985, -0.018466, -0.071389, -0.03445 , ..., -0.12327 ,  0.193699,  0.361726, -0.061271], dtype=float32)"
      ]
     },
     "execution_count": 62,
     "metadata": {},
     "output_type": "execute_result"
    }
   ],
   "source": [
    "tr_data_inner[0]"
   ]
  },
  {
   "cell_type": "code",
   "execution_count": 63,
   "metadata": {
    "ExecuteTime": {
     "end_time": "2019-08-08T22:58:05.967112Z",
     "start_time": "2019-08-08T22:58:05.937636Z"
    }
   },
   "outputs": [
    {
     "data": {
      "text/plain": [
       "(233, 233)"
      ]
     },
     "execution_count": 63,
     "metadata": {},
     "output_type": "execute_result"
    }
   ],
   "source": [
    "len(tr_data_inner[0]), len(val_data_inner[0])"
   ]
  },
  {
   "cell_type": "code",
   "execution_count": 64,
   "metadata": {
    "ExecuteTime": {
     "end_time": "2019-08-08T22:58:07.301877Z",
     "start_time": "2019-08-08T22:58:07.273359Z"
    }
   },
   "outputs": [],
   "source": [
    "tr_inner_df = pd.DataFrame(tr_data_inner)\n",
    "val_inner_df = pd.DataFrame(val_data_inner)"
   ]
  },
  {
   "cell_type": "code",
   "execution_count": 65,
   "metadata": {
    "ExecuteTime": {
     "end_time": "2019-08-08T22:58:08.046808Z",
     "start_time": "2019-08-08T22:58:07.964978Z"
    }
   },
   "outputs": [],
   "source": [
    "tr_inner_df[dep_var] = tr_df.reset_index()[dep_var]\n",
    "val_inner_df[dep_var] = val_df.reset_index()[dep_var]"
   ]
  },
  {
   "cell_type": "code",
   "execution_count": 66,
   "metadata": {
    "ExecuteTime": {
     "end_time": "2019-08-08T22:58:09.359024Z",
     "start_time": "2019-08-08T22:58:09.223079Z"
    }
   },
   "outputs": [],
   "source": [
    "merge_inner_df = pd.concat([tr_inner_df, val_inner_df])"
   ]
  },
  {
   "cell_type": "code",
   "execution_count": 67,
   "metadata": {
    "ExecuteTime": {
     "end_time": "2019-08-08T22:58:09.933757Z",
     "start_time": "2019-08-08T22:58:09.905949Z"
    }
   },
   "outputs": [],
   "source": [
    "inner_val_idx = range(len(tr_inner_df), len(merge_inner_df))"
   ]
  },
  {
   "cell_type": "code",
   "execution_count": 68,
   "metadata": {
    "ExecuteTime": {
     "end_time": "2019-08-08T22:58:10.698564Z",
     "start_time": "2019-08-08T22:58:10.670942Z"
    }
   },
   "outputs": [],
   "source": [
    "inner_cont_vars = list_diff(merge_inner_df.columns, [dep_var])"
   ]
  },
  {
   "cell_type": "code",
   "execution_count": 69,
   "metadata": {
    "ExecuteTime": {
     "end_time": "2019-08-08T22:58:11.914443Z",
     "start_time": "2019-08-08T22:58:11.887842Z"
    }
   },
   "outputs": [],
   "source": [
    "inner_procs=[]"
   ]
  },
  {
   "cell_type": "code",
   "execution_count": 70,
   "metadata": {
    "ExecuteTime": {
     "end_time": "2019-08-08T22:58:14.550660Z",
     "start_time": "2019-08-08T22:58:12.453987Z"
    }
   },
   "outputs": [],
   "source": [
    "inner_data = (TabularList.from_df(merge_inner_df, path=path, cat_names=[], cont_names=inner_cont_vars, procs=inner_procs)\n",
    "             .split_by_idx(inner_val_idx)\n",
    "             .label_from_df(cols=dep_var, label_cls=FloatList, log=True)\n",
    "             .databunch(bs=BS))"
   ]
  },
  {
   "cell_type": "code",
   "execution_count": 71,
   "metadata": {
    "ExecuteTime": {
     "end_time": "2019-08-08T22:58:14.666037Z",
     "start_time": "2019-08-08T22:58:14.552706Z"
    }
   },
   "outputs": [],
   "source": [
    "np.random.seed(1001)\n",
    "inner_learn = tabular_learner(inner_data, layers=[1000,500], ps=[0.001,0.01], emb_drop=0.04, \n",
    "                        y_range=y_range, metrics=exp_rmspe)"
   ]
  },
  {
   "cell_type": "code",
   "execution_count": 72,
   "metadata": {
    "ExecuteTime": {
     "end_time": "2019-08-08T22:58:56.539386Z",
     "start_time": "2019-08-08T22:58:14.667901Z"
    }
   },
   "outputs": [
    {
     "data": {
      "text/html": [
       "Total time: 00:41 <p><table style='width:375px; margin-bottom:10px'>\n",
       "  <tr>\n",
       "    <th>epoch</th>\n",
       "    <th>train_loss</th>\n",
       "    <th>valid_loss</th>\n",
       "    <th>exp_rmspe</th>\n",
       "    <th>time</th>\n",
       "  </tr>\n",
       "  <tr>\n",
       "    <th>0</th>\n",
       "    <th>0.224578</th>\n",
       "    <th>0.023641</th>\n",
       "    <th>0.158642</th>\n",
       "    <th>00:07</th>\n",
       "  </tr>\n",
       "  <tr>\n",
       "    <th>1</th>\n",
       "    <th>0.019842</th>\n",
       "    <th>0.031679</th>\n",
       "    <th>0.186901</th>\n",
       "    <th>00:06</th>\n",
       "  </tr>\n",
       "  <tr>\n",
       "    <th>2</th>\n",
       "    <th>0.014821</th>\n",
       "    <th>0.021796</th>\n",
       "    <th>0.162090</th>\n",
       "    <th>00:06</th>\n",
       "  </tr>\n",
       "  <tr>\n",
       "    <th>3</th>\n",
       "    <th>0.011455</th>\n",
       "    <th>0.013880</th>\n",
       "    <th>0.113809</th>\n",
       "    <th>00:07</th>\n",
       "  </tr>\n",
       "  <tr>\n",
       "    <th>4</th>\n",
       "    <th>0.009395</th>\n",
       "    <th>0.012489</th>\n",
       "    <th>0.108613</th>\n",
       "    <th>00:07</th>\n",
       "  </tr>\n",
       "  <tr>\n",
       "    <th>5</th>\n",
       "    <th>0.007642</th>\n",
       "    <th>0.011904</th>\n",
       "    <th>0.107223</th>\n",
       "    <th>00:07</th>\n",
       "  </tr>\n",
       "</table>\n"
      ],
      "text/plain": [
       "<IPython.core.display.HTML object>"
      ]
     },
     "metadata": {},
     "output_type": "display_data"
    }
   ],
   "source": [
    "inner_learn.fit_one_cycle(6, 1e-2, wd=0.2)"
   ]
  },
  {
   "cell_type": "code",
   "execution_count": 73,
   "metadata": {
    "ExecuteTime": {
     "end_time": "2019-08-08T22:59:36.306310Z",
     "start_time": "2019-08-08T22:58:56.542125Z"
    }
   },
   "outputs": [
    {
     "data": {
      "text/html": [
       "Total time: 00:39 <p><table style='width:375px; margin-bottom:10px'>\n",
       "  <tr>\n",
       "    <th>epoch</th>\n",
       "    <th>train_loss</th>\n",
       "    <th>valid_loss</th>\n",
       "    <th>exp_rmspe</th>\n",
       "    <th>time</th>\n",
       "  </tr>\n",
       "  <tr>\n",
       "    <th>0</th>\n",
       "    <th>0.007268</th>\n",
       "    <th>0.012054</th>\n",
       "    <th>0.106923</th>\n",
       "    <th>00:06</th>\n",
       "  </tr>\n",
       "  <tr>\n",
       "    <th>1</th>\n",
       "    <th>0.007465</th>\n",
       "    <th>0.012356</th>\n",
       "    <th>0.107672</th>\n",
       "    <th>00:06</th>\n",
       "  </tr>\n",
       "  <tr>\n",
       "    <th>2</th>\n",
       "    <th>0.007291</th>\n",
       "    <th>0.011856</th>\n",
       "    <th>0.106594</th>\n",
       "    <th>00:06</th>\n",
       "  </tr>\n",
       "  <tr>\n",
       "    <th>3</th>\n",
       "    <th>0.007155</th>\n",
       "    <th>0.012197</th>\n",
       "    <th>0.107029</th>\n",
       "    <th>00:06</th>\n",
       "  </tr>\n",
       "  <tr>\n",
       "    <th>4</th>\n",
       "    <th>0.006992</th>\n",
       "    <th>0.012017</th>\n",
       "    <th>0.106820</th>\n",
       "    <th>00:07</th>\n",
       "  </tr>\n",
       "  <tr>\n",
       "    <th>5</th>\n",
       "    <th>0.006967</th>\n",
       "    <th>0.012135</th>\n",
       "    <th>0.106943</th>\n",
       "    <th>00:06</th>\n",
       "  </tr>\n",
       "</table>\n"
      ],
      "text/plain": [
       "<IPython.core.display.HTML object>"
      ]
     },
     "metadata": {},
     "output_type": "display_data"
    }
   ],
   "source": [
    "inner_learn.fit_one_cycle(6, 1e-4, wd=0.2)"
   ]
  },
  {
   "cell_type": "markdown",
   "metadata": {},
   "source": [
    "So now we see that this method produce pretty the same result.\n",
    "\n",
    "Let's try to incorporate mixup here"
   ]
  },
  {
   "cell_type": "markdown",
   "metadata": {},
   "source": [
    "### Mixup"
   ]
  },
  {
   "cell_type": "markdown",
   "metadata": {},
   "source": [
    "And here we just add some interpolation in data (and depended valiable as we have regression here)"
   ]
  },
  {
   "cell_type": "code",
   "execution_count": 74,
   "metadata": {
    "ExecuteTime": {
     "end_time": "2019-08-08T22:59:36.340253Z",
     "start_time": "2019-08-08T22:59:36.309182Z"
    }
   },
   "outputs": [],
   "source": [
    "alpha = 0.2"
   ]
  },
  {
   "cell_type": "code",
   "execution_count": 75,
   "metadata": {
    "ExecuteTime": {
     "end_time": "2019-08-08T22:59:36.373120Z",
     "start_time": "2019-08-08T22:59:36.343066Z"
    }
   },
   "outputs": [],
   "source": [
    "def interp(var1, var2, alpha):\n",
    "    lam = np.random.beta(alpha, alpha)\n",
    "    return lam*var1 + (1.-lam)*var2"
   ]
  },
  {
   "cell_type": "code",
   "execution_count": 76,
   "metadata": {
    "ExecuteTime": {
     "end_time": "2019-08-08T22:59:36.400959Z",
     "start_time": "2019-08-08T22:59:36.374779Z"
    }
   },
   "outputs": [
    {
     "data": {
      "text/plain": [
       "range(240858, 253301)"
      ]
     },
     "execution_count": 76,
     "metadata": {},
     "output_type": "execute_result"
    }
   ],
   "source": [
    "inner_val_idx"
   ]
  },
  {
   "cell_type": "code",
   "execution_count": 77,
   "metadata": {
    "ExecuteTime": {
     "end_time": "2019-08-08T22:59:36.488045Z",
     "start_time": "2019-08-08T22:59:36.402398Z"
    }
   },
   "outputs": [],
   "source": [
    "inner_tr_idx = list_diff(list1=range(len(merge_inner_df)), list2=inner_val_idx)"
   ]
  },
  {
   "cell_type": "code",
   "execution_count": 78,
   "metadata": {
    "ExecuteTime": {
     "end_time": "2019-08-08T22:59:37.252769Z",
     "start_time": "2019-08-08T22:59:36.489737Z"
    }
   },
   "outputs": [],
   "source": [
    "np_merge_df = merge_inner_df.iloc[inner_tr_idx].to_numpy()"
   ]
  },
  {
   "cell_type": "code",
   "execution_count": 79,
   "metadata": {
    "ExecuteTime": {
     "end_time": "2019-08-08T22:59:37.279645Z",
     "start_time": "2019-08-08T22:59:37.254797Z"
    }
   },
   "outputs": [],
   "source": [
    "augmented = []"
   ]
  },
  {
   "cell_type": "code",
   "execution_count": 80,
   "metadata": {
    "ExecuteTime": {
     "end_time": "2019-08-08T22:59:43.325030Z",
     "start_time": "2019-08-08T22:59:37.281214Z"
    }
   },
   "outputs": [],
   "source": [
    "for _ in range(6):\n",
    "    shfld = np_merge_df.copy()\n",
    "    np.random.shuffle(shfld)\n",
    "    augmented.append(pd.DataFrame(interp(shfld, np_merge_df, alpha)))"
   ]
  },
  {
   "cell_type": "code",
   "execution_count": 83,
   "metadata": {
    "ExecuteTime": {
     "end_time": "2019-08-08T23:00:40.489800Z",
     "start_time": "2019-08-08T23:00:40.460802Z"
    }
   },
   "outputs": [],
   "source": [
    "del np_merge_df; del shfld"
   ]
  },
  {
   "cell_type": "code",
   "execution_count": 84,
   "metadata": {
    "ExecuteTime": {
     "end_time": "2019-08-08T23:00:48.173024Z",
     "start_time": "2019-08-08T23:00:47.478772Z"
    }
   },
   "outputs": [],
   "source": [
    "augmented = pd.concat(augmented)"
   ]
  },
  {
   "cell_type": "code",
   "execution_count": 85,
   "metadata": {
    "ExecuteTime": {
     "end_time": "2019-08-08T23:00:54.078941Z",
     "start_time": "2019-08-08T23:00:49.094286Z"
    }
   },
   "outputs": [],
   "source": [
    "augmented.rename(columns={augmented.columns[-1]:dep_var}, inplace = True)"
   ]
  },
  {
   "cell_type": "code",
   "execution_count": 86,
   "metadata": {
    "ExecuteTime": {
     "end_time": "2019-08-08T23:00:54.109139Z",
     "start_time": "2019-08-08T23:00:54.080985Z"
    }
   },
   "outputs": [
    {
     "data": {
      "text/plain": [
       "1445148"
      ]
     },
     "execution_count": 86,
     "metadata": {},
     "output_type": "execute_result"
    }
   ],
   "source": [
    "len(augmented)"
   ]
  },
  {
   "cell_type": "code",
   "execution_count": 87,
   "metadata": {
    "ExecuteTime": {
     "end_time": "2019-08-08T23:00:56.035243Z",
     "start_time": "2019-08-08T23:00:55.310475Z"
    }
   },
   "outputs": [],
   "source": [
    "merge_inner_df = pd.concat([augmented, val_inner_df])"
   ]
  },
  {
   "cell_type": "code",
   "execution_count": 88,
   "metadata": {
    "ExecuteTime": {
     "end_time": "2019-08-08T23:00:57.658692Z",
     "start_time": "2019-08-08T23:00:57.629383Z"
    }
   },
   "outputs": [],
   "source": [
    "inner_val_idx = range(len(augmented), len(merge_inner_df))"
   ]
  },
  {
   "cell_type": "code",
   "execution_count": 89,
   "metadata": {
    "ExecuteTime": {
     "end_time": "2019-08-08T23:01:00.166661Z",
     "start_time": "2019-08-08T23:01:00.052413Z"
    }
   },
   "outputs": [],
   "source": [
    "del augmented"
   ]
  },
  {
   "cell_type": "code",
   "execution_count": 90,
   "metadata": {
    "ExecuteTime": {
     "end_time": "2019-08-08T23:01:03.510495Z",
     "start_time": "2019-08-08T23:01:03.478078Z"
    }
   },
   "outputs": [],
   "source": [
    "inner_cont_vars = list_diff(merge_inner_df.columns, [dep_var])"
   ]
  },
  {
   "cell_type": "code",
   "execution_count": 91,
   "metadata": {
    "ExecuteTime": {
     "end_time": "2019-08-08T23:01:26.734526Z",
     "start_time": "2019-08-08T23:01:06.150737Z"
    }
   },
   "outputs": [],
   "source": [
    "inner_data = (TabularList.from_df(merge_inner_df, path=path, cat_names=[], cont_names=inner_cont_vars, procs=inner_procs)\n",
    "             .split_by_idx(inner_val_idx)\n",
    "             .label_from_df(cols=dep_var, label_cls=FloatList, log=True)\n",
    "             .databunch(bs=BS))"
   ]
  },
  {
   "cell_type": "code",
   "execution_count": 92,
   "metadata": {
    "ExecuteTime": {
     "end_time": "2019-08-08T23:01:32.282150Z",
     "start_time": "2019-08-08T23:01:31.918102Z"
    }
   },
   "outputs": [],
   "source": [
    "np.random.seed(1001)\n",
    "inner_learn = tabular_learner(inner_data, layers=[1000,500], ps=[0.001,0.01], emb_drop=0.04, \n",
    "                        y_range=y_range, metrics=exp_rmspe)"
   ]
  },
  {
   "cell_type": "code",
   "execution_count": 93,
   "metadata": {
    "ExecuteTime": {
     "end_time": "2019-08-08T23:05:08.028289Z",
     "start_time": "2019-08-08T23:01:40.010934Z"
    }
   },
   "outputs": [
    {
     "data": {
      "text/html": [
       "Total time: 03:27 <p><table style='width:375px; margin-bottom:10px'>\n",
       "  <tr>\n",
       "    <th>epoch</th>\n",
       "    <th>train_loss</th>\n",
       "    <th>valid_loss</th>\n",
       "    <th>exp_rmspe</th>\n",
       "    <th>time</th>\n",
       "  </tr>\n",
       "  <tr>\n",
       "    <th>0</th>\n",
       "    <th>0.013896</th>\n",
       "    <th>0.017968</th>\n",
       "    <th>0.141169</th>\n",
       "    <th>00:34</th>\n",
       "  </tr>\n",
       "  <tr>\n",
       "    <th>1</th>\n",
       "    <th>0.012299</th>\n",
       "    <th>0.015937</th>\n",
       "    <th>0.120862</th>\n",
       "    <th>00:35</th>\n",
       "  </tr>\n",
       "  <tr>\n",
       "    <th>2</th>\n",
       "    <th>0.010756</th>\n",
       "    <th>0.015844</th>\n",
       "    <th>0.127601</th>\n",
       "    <th>00:35</th>\n",
       "  </tr>\n",
       "  <tr>\n",
       "    <th>3</th>\n",
       "    <th>0.009529</th>\n",
       "    <th>0.013752</th>\n",
       "    <th>0.114903</th>\n",
       "    <th>00:34</th>\n",
       "  </tr>\n",
       "  <tr>\n",
       "    <th>4</th>\n",
       "    <th>0.006879</th>\n",
       "    <th>0.011683</th>\n",
       "    <th>0.109530</th>\n",
       "    <th>00:34</th>\n",
       "  </tr>\n",
       "  <tr>\n",
       "    <th>5</th>\n",
       "    <th>0.005538</th>\n",
       "    <th>0.011651</th>\n",
       "    <th>0.107221</th>\n",
       "    <th>00:34</th>\n",
       "  </tr>\n",
       "</table>\n"
      ],
      "text/plain": [
       "<IPython.core.display.HTML object>"
      ]
     },
     "metadata": {},
     "output_type": "display_data"
    }
   ],
   "source": [
    "inner_learn.fit_one_cycle(6, 1e-2, wd=0.2)"
   ]
  },
  {
   "cell_type": "code",
   "execution_count": 94,
   "metadata": {
    "ExecuteTime": {
     "end_time": "2019-08-08T23:08:40.335039Z",
     "start_time": "2019-08-08T23:05:08.030842Z"
    }
   },
   "outputs": [
    {
     "data": {
      "text/html": [
       "Total time: 03:32 <p><table style='width:375px; margin-bottom:10px'>\n",
       "  <tr>\n",
       "    <th>epoch</th>\n",
       "    <th>train_loss</th>\n",
       "    <th>valid_loss</th>\n",
       "    <th>exp_rmspe</th>\n",
       "    <th>time</th>\n",
       "  </tr>\n",
       "  <tr>\n",
       "    <th>0</th>\n",
       "    <th>0.005624</th>\n",
       "    <th>0.011775</th>\n",
       "    <th>0.108276</th>\n",
       "    <th>00:33</th>\n",
       "  </tr>\n",
       "  <tr>\n",
       "    <th>1</th>\n",
       "    <th>0.005547</th>\n",
       "    <th>0.011859</th>\n",
       "    <th>0.108505</th>\n",
       "    <th>00:38</th>\n",
       "  </tr>\n",
       "  <tr>\n",
       "    <th>2</th>\n",
       "    <th>0.005325</th>\n",
       "    <th>0.012078</th>\n",
       "    <th>0.108924</th>\n",
       "    <th>00:34</th>\n",
       "  </tr>\n",
       "  <tr>\n",
       "    <th>3</th>\n",
       "    <th>0.005032</th>\n",
       "    <th>0.012131</th>\n",
       "    <th>0.110331</th>\n",
       "    <th>00:34</th>\n",
       "  </tr>\n",
       "  <tr>\n",
       "    <th>4</th>\n",
       "    <th>0.005008</th>\n",
       "    <th>0.012284</th>\n",
       "    <th>0.110623</th>\n",
       "    <th>00:35</th>\n",
       "  </tr>\n",
       "  <tr>\n",
       "    <th>5</th>\n",
       "    <th>0.004999</th>\n",
       "    <th>0.012265</th>\n",
       "    <th>0.110361</th>\n",
       "    <th>00:34</th>\n",
       "  </tr>\n",
       "</table>\n"
      ],
      "text/plain": [
       "<IPython.core.display.HTML object>"
      ]
     },
     "metadata": {},
     "output_type": "display_data"
    }
   ],
   "source": [
    "inner_learn.fit_one_cycle(6, 1e-4, wd=0.2)"
   ]
  },
  {
   "cell_type": "markdown",
   "metadata": {},
   "source": [
    "So here we don't see any improvments in terms of validation error :("
   ]
  }
 ],
 "metadata": {
  "kernelspec": {
   "display_name": "Python [conda env:fastai] *",
   "language": "python",
   "name": "conda-env-fastai-py"
  },
  "language_info": {
   "codemirror_mode": {
    "name": "ipython",
    "version": 3
   },
   "file_extension": ".py",
   "mimetype": "text/x-python",
   "name": "python",
   "nbconvert_exporter": "python",
   "pygments_lexer": "ipython3",
   "version": "3.6.8"
  }
 },
 "nbformat": 4,
 "nbformat_minor": 2
}
